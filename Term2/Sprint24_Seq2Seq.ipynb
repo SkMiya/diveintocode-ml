{
  "nbformat": 4,
  "nbformat_minor": 0,
  "metadata": {
    "colab": {
      "name": "Sprint24_Seq2Seq.ipynb",
      "provenance": [],
      "collapsed_sections": []
    },
    "kernelspec": {
      "name": "python3",
      "display_name": "Python 3"
    },
    "accelerator": "GPU"
  },
  "cells": [
    {
      "cell_type": "markdown",
      "metadata": {
        "id": "NJNxVYv0gtn5",
        "colab_type": "text"
      },
      "source": [
        "# Sprint24 Seq2Seq\n",
        "# 1.このSprintについて\n",
        "### Sprintの目的\n",
        "系列データに関する応用例を学ぶ\n",
        "### どのように学ぶか\n",
        "公開されているコードを元に学んでいきます。\n",
        "\n",
        "# 2.機械翻訳\n",
        "系列データに関する手法の基本的な活用例としては機械翻訳があります。これは系列データを入力し、系列データを出力する**Sequence to Sequence**の手法によって行えます。\n",
        "\n",
        "# 【問題1】機械翻訳の実行とコードリーディング\n",
        "Keras公式のサンプルコードで、短い英語からフランス語への変換を行うものが公開されています。これを動かしてください。\n",
        "\n",
        "keras/lstm_seq2seq.py ：　https://github.com/keras-team/keras/blob/master/examples/lstm_seq2seq.py\n",
        "\n",
        "その上でこのサンプルコードの各部分がどういった役割かを読み取り、まとめてください。以下のようにどこからどこの行が何をしているかを記述してください。\n",
        "\n",
        "### （例）\n",
        "\n",
        "* 51から55行目 : ライブラリのimport\n",
        "* 57から62行目 : ハイパーパラメータの設定\n",
        "### 《文字単位のトークン化》\n",
        "この実装ではテキストのベクトル化の際に、単語ではなく文字ごとを1つのトークンとして扱っています。                        \n",
        "scikit-learnでBoWを計算するCountVectorizerの場合では、デフォルトの引数は**analyzer=’word’**で単語を扱いますが、**char**や**char_wb**とすることで**文字を扱えるように**なります。                        \n",
        "charとchar_wbの2種類の方法があり、**char_wbを指定した場合、n_gramが単語内からのみ作成**されます。逆に**charは単語の区切りが関係なくn_gramが作成**されます。This movie is very good.というテキストを3-gramでカウントする時、charではs mやe iといった単語をまたぐ数え方もしますが、char_wbではこれらを見ません。                            \n",
        "https://scikit-learn.org/stable/modules/generated/sklearn.feature_extraction.text.CountVectorizer.html"
      ]
    },
    {
      "cell_type": "code",
      "metadata": {
        "id": "GvT_L2ZNTKDq",
        "colab_type": "code",
        "outputId": "fa09ee40-899c-452c-a231-3326921456e4",
        "colab": {
          "base_uri": "https://localhost:8080/",
          "height": 34
        }
      },
      "source": [
        "pwd"
      ],
      "execution_count": 0,
      "outputs": [
        {
          "output_type": "execute_result",
          "data": {
            "text/plain": [
              "'/content/pytorch-tutorial/tutorials/03-advanced/image_captioning'"
            ]
          },
          "metadata": {
            "tags": []
          },
          "execution_count": 29
        }
      ]
    },
    {
      "cell_type": "code",
      "metadata": {
        "id": "8JQd-p7fAEp6",
        "colab_type": "code",
        "outputId": "60839416-d059-41d5-f134-f5a5882c9aa5",
        "colab": {
          "base_uri": "https://localhost:8080/",
          "height": 34
        }
      },
      "source": [
        "%cd /content/"
      ],
      "execution_count": 0,
      "outputs": [
        {
          "output_type": "stream",
          "text": [
            "/content\n"
          ],
          "name": "stdout"
        }
      ]
    },
    {
      "cell_type": "code",
      "metadata": {
        "id": "duyl4svyAR4y",
        "colab_type": "code",
        "outputId": "5553e3e7-de91-4abc-d1e0-5989c9aa5996",
        "colab": {
          "base_uri": "https://localhost:8080/",
          "height": 122
        }
      },
      "source": [
        "from google.colab import drive\n",
        "drive.mount('/content/drive')"
      ],
      "execution_count": 10,
      "outputs": [
        {
          "output_type": "stream",
          "text": [
            "Go to this URL in a browser: https://accounts.google.com/o/oauth2/auth?client_id=947318989803-6bn6qk8qdgf4n4g3pfee6491hc0brc4i.apps.googleusercontent.com&redirect_uri=urn%3Aietf%3Awg%3Aoauth%3A2.0%3Aoob&scope=email%20https%3A%2F%2Fwww.googleapis.com%2Fauth%2Fdocs.test%20https%3A%2F%2Fwww.googleapis.com%2Fauth%2Fdrive%20https%3A%2F%2Fwww.googleapis.com%2Fauth%2Fdrive.photos.readonly%20https%3A%2F%2Fwww.googleapis.com%2Fauth%2Fpeopleapi.readonly&response_type=code\n",
            "\n",
            "Enter your authorization code:\n",
            "··········\n",
            "Mounted at /content/drive\n"
          ],
          "name": "stdout"
        }
      ]
    },
    {
      "cell_type": "code",
      "metadata": {
        "id": "kdWwRVTzYSkj",
        "colab_type": "code",
        "outputId": "b450abd5-9057-4a84-f14e-ac42713f495e",
        "colab": {
          "base_uri": "https://localhost:8080/",
          "height": 204
        }
      },
      "source": [
        "#データをダウンロード\n",
        "!wget http://www.manythings.org/anki/fra-eng.zip"
      ],
      "execution_count": 0,
      "outputs": [
        {
          "output_type": "stream",
          "text": [
            "--2019-10-03 06:50:34--  http://www.manythings.org/anki/fra-eng.zip\n",
            "Resolving www.manythings.org (www.manythings.org)... 104.24.109.196, 104.24.108.196, 2606:4700:30::6818:6dc4, ...\n",
            "Connecting to www.manythings.org (www.manythings.org)|104.24.109.196|:80... connected.\n",
            "HTTP request sent, awaiting response... 200 OK\n",
            "Length: 3476836 (3.3M) [application/zip]\n",
            "Saving to: ‘fra-eng.zip’\n",
            "\n",
            "fra-eng.zip         100%[===================>]   3.32M  6.50MB/s    in 0.5s    \n",
            "\n",
            "2019-10-03 06:50:35 (6.50 MB/s) - ‘fra-eng.zip’ saved [3476836/3476836]\n",
            "\n"
          ],
          "name": "stdout"
        }
      ]
    },
    {
      "cell_type": "code",
      "metadata": {
        "id": "kUR4sAbNYqll",
        "colab_type": "code",
        "outputId": "16156f2c-c0b6-40c4-e443-c65f969230e5",
        "colab": {
          "base_uri": "https://localhost:8080/",
          "height": 68
        }
      },
      "source": [
        "#zipファイルを解凍\n",
        "!unzip fra-eng.zip"
      ],
      "execution_count": 0,
      "outputs": [
        {
          "output_type": "stream",
          "text": [
            "Archive:  fra-eng.zip\n",
            "  inflating: _about.txt              \n",
            "  inflating: fra.txt                 \n"
          ],
          "name": "stdout"
        }
      ]
    },
    {
      "cell_type": "markdown",
      "metadata": {
        "id": "0zLR8SB8sZQJ",
        "colab_type": "text"
      },
      "source": [
        "* 34-38 : 必要なモジュールのインポート\n",
        "* 41-46 : バッチサイズやエポック数など，ハイパーパラメータを定義．\n",
        "* 49-52 : 読み込んだ文章を単語ごとに入れる空のリストを作成．charactersは重複なしで．\n",
        "* 54-68 : ファイルの読み込み．\"\\t\"を「開始シーケンス」文字として使用する．「終了シーケンス」として\"\\n\"を使う\n",
        "* 70-75 : 読み込んだ単語リストをソート．\n",
        "* 112-116 : エンコーダ部分をLSTMで構築．encoder_outputsは破棄し，状態のみを保持しておく．\n",
        "* 118-126 : デコーダー部分をLSTMとDence（全結合層）で構築．全結合層で元のシーケンスに戻る．戻り値はpredictで使う\n",
        "* 128-139 : encoder_input_dataとdecoder_input_dataをdecoder_target_dataに変換するモデルを定義し，コンパイル，学習．モデルは保存する\n",
        "* 148- : 予測"
      ]
    },
    {
      "cell_type": "code",
      "metadata": {
        "colab_type": "code",
        "id": "fo3004Xstxq0",
        "outputId": "2a009cc0-629b-4d14-afdd-0e9f26b9f625",
        "colab": {
          "base_uri": "https://localhost:8080/",
          "height": 1000
        }
      },
      "source": [
        "'''\n",
        "このスクリプトは，短い英語の文章を短いフランス語の文章に翻訳する\n",
        "**アルゴリズムの概要**\n",
        "-ドメインからの入力シーケンス（英語の文章など）から始めます\n",
        "    および別のドメインからの対応するターゲット配列\n",
        "    （例：フランス語の文章）。\n",
        "-エンコーダーLSTMは入力シーケンスを2つの状態ベクトルに変換します\n",
        "    （最後のLSTM状態を保持し、出力を破棄します）。\n",
        "-デコーダーLSTMは、ターゲットシーケンスを\n",
        "    同じシーケンスですが、将来的には1つのタイムステップでオフセットされます。\n",
        "    このコンテキストでの「教師強制」と呼ばれるトレーニングプロセス。\n",
        "    エンコーダーからの状態ベクトルを初期状態として使用します。\n",
        "    事実上、デコーダは「targets [t + 1 ...]」を生成することを学習します\n",
        "    入力シーケンスに条件付けられた `targets [... t]`が与えられます。\n",
        "-推論モードでは、未知の入力シーケンスをデコードする場合、次のことを行います。\n",
        "    -入力シーケンスを状態ベクトルにエンコードする\n",
        "    -サイズ1のターゲットシーケンスから開始する\n",
        "        （シーケンスの開始文字のみ）\n",
        "    -状態ベクトルと1文字のターゲットシーケンスをフィードする\n",
        "        次の文字の予測を作成するためにデコーダに\n",
        "    -これらの予測を使用して次のキャラクターをサンプリングします\n",
        "        （単にargmaxを使用します）。\n",
        "    -サンプリングされた文字をターゲットシーケンスに追加する\n",
        "    -シーケンス終了文字を生成するまで、または\n",
        "        文字数制限に達しました。\n",
        "**データのダウンロード**\n",
        "[英語からフランス語への文のペア。]（http://www.manythings.org/anki/fra-eng.zip）\n",
        "[たくさんのきちんとした文のペアのデータセット。]（http://www.manythings.org/anki/）\n",
        "**参考資料**\n",
        "-[ニューラルネットワークを使用したシーケンス学習のシーケンス]（https://arxiv.org/abs/1409.3215）\n",
        "-[次を使用したフレーズ表現の学習　統計的機械翻訳のためのRNNエンコーダーデコーダー]（https://arxiv.org/abs/1406.1078）\n",
        "'' '\n",
        "'''\n",
        "# 必要なモジュールをインポート\n",
        "from __future__ import print_function\n",
        "from keras.models import Model\n",
        "from keras.layers import Input, LSTM, Dense\n",
        "import numpy as np\n",
        "\n",
        "#\n",
        "batch_size = 64  # Batch size for training.\n",
        "epochs = 20  # Number of epochs to train for.\n",
        "latent_dim = 256  # encodingスペースの潜在次元\n",
        "num_samples = 5000  # トレーニングするサンプルの数\n",
        "#ディスク上のデータtxtファイルへのパス。\n",
        "data_path = './fra.txt'\n",
        "\n",
        "\n",
        "input_texts = []\n",
        "target_texts = []\n",
        "input_characters = set()\n",
        "target_characters = set()\n",
        "\n",
        "with open(data_path, 'r', encoding='utf-8') as f:#読み込み専用でファイルを開く\n",
        "    lines = f.read().split('\\n')#改行ごとに読み込む\n",
        "for line in lines[: min(num_samples, len(lines) - 1)]:\n",
        "    input_text, target_text = line.split('\\t')\n",
        "    # \"tab\" を「開始シーケンス」文字として使用する\n",
        "    # ターゲットと\"end sequence\"として\"\\n\"を使う\n",
        "    target_text = '\\t' + target_text + '\\n'\n",
        "    input_texts.append(input_text)\n",
        "    target_texts.append(target_text)\n",
        "    for char in input_text:\n",
        "        if char not in input_characters:\n",
        "            input_characters.add(char)\n",
        "    for char in target_text:\n",
        "        if char not in target_characters:\n",
        "            target_characters.add(char)\n",
        "\n",
        "input_characters = sorted(list(input_characters))\n",
        "target_characters = sorted(list(target_characters))\n",
        "num_encoder_tokens = len(input_characters)\n",
        "num_decoder_tokens = len(target_characters)\n",
        "max_encoder_seq_length = max([len(txt) for txt in input_texts])\n",
        "max_decoder_seq_length = max([len(txt) for txt in target_texts])\n",
        "\n",
        "print('Number of samples:', len(input_texts))\n",
        "print('Number of unique input tokens:', num_encoder_tokens)\n",
        "print('Number of unique output tokens:', num_decoder_tokens)\n",
        "print('Max sequence length for inputs:', max_encoder_seq_length)\n",
        "print('Max sequence length for outputs:', max_decoder_seq_length)\n",
        "\n",
        "input_token_index = dict(\n",
        "    [(char, i) for i, char in enumerate(input_characters)])\n",
        "target_token_index = dict(\n",
        "    [(char, i) for i, char in enumerate(target_characters)])\n",
        "\n",
        "encoder_input_data = np.zeros(\n",
        "    (len(input_texts), max_encoder_seq_length, num_encoder_tokens),\n",
        "    dtype='float32')\n",
        "decoder_input_data = np.zeros(\n",
        "    (len(input_texts), max_decoder_seq_length, num_decoder_tokens),\n",
        "    dtype='float32')\n",
        "decoder_target_data = np.zeros(\n",
        "    (len(input_texts), max_decoder_seq_length, num_decoder_tokens),\n",
        "    dtype='float32')\n",
        "\n",
        "for i, (input_text, target_text) in enumerate(zip(input_texts, target_texts)):\n",
        "    for t, char in enumerate(input_text):\n",
        "        encoder_input_data[i, t, input_token_index[char]] = 1.\n",
        "    encoder_input_data[i, t + 1:, input_token_index[' ']] = 1.\n",
        "    for t, char in enumerate(target_text):\n",
        "        # decoder_target_data(フランス語)はdecoder_input_data（英語）より1タイムステップだけ進んでいる\n",
        "        # ↑開始シーケンスが入っているから\n",
        "        decoder_input_data[i, t, target_token_index[char]] = 1.\n",
        "        if t > 0:\n",
        "            # decode_target_dataは1タイムステップだけ進んでおり、開始文字は含まれません。\n",
        "            decoder_target_data[i, t - 1, target_token_index[char]] = 1.\n",
        "    decoder_input_data[i, t + 1:, target_token_index[' ']] = 1.\n",
        "    decoder_target_data[i, t:, target_token_index[' ']] = 1.\n",
        "# 入力シーケンスを定義して処理します。\n",
        "encoder_inputs = Input(shape=(None, num_encoder_tokens))\n",
        "encoder = LSTM(latent_dim, return_state=True)\n",
        "encoder_outputs, state_h, state_c = encoder(encoder_inputs)\n",
        "# 「encoder_outputs」を破棄し、状態のみを保持します。\n",
        "encoder_states = [state_h, state_c]\n",
        "\n",
        "# Set up the decoder, using `encoder_states` as initial state.\n",
        "decoder_inputs = Input(shape=(None, num_decoder_tokens))\n",
        "# 完全な出力シーケンスを返すようにデコーダを設定し、内部状態も返すようにします。\n",
        "#トレーニングモデルでは戻り状態を使用しませんが、推論では使用します。\n",
        "decoder_lstm = LSTM(latent_dim, return_sequences=True, return_state=True)\n",
        "decoder_outputs, _, _ = decoder_lstm(decoder_inputs,\n",
        "                                     initial_state=encoder_states)\n",
        "decoder_dense = Dense(num_decoder_tokens, activation='softmax')\n",
        "decoder_outputs = decoder_dense(decoder_outputs)\n",
        "\n",
        "#「encoder_input_data」と「decoder_input_data」を「decoder_target_data」に変換するモデルを定義する\n",
        "model = Model([encoder_inputs, decoder_inputs], decoder_outputs)\n",
        "\n",
        "# Run training\n",
        "model.compile(optimizer='rmsprop', loss='categorical_crossentropy',\n",
        "              metrics=['accuracy'])\n",
        "model.fit([encoder_input_data, decoder_input_data], decoder_target_data,\n",
        "          batch_size=batch_size,\n",
        "          epochs=epochs,\n",
        "          validation_split=0.2)\n",
        "# Save model\n",
        "model.save('s2s.h5')\n",
        "\n",
        "# 次：推論モード（サンプリング）。\n",
        "# ドリルは次のとおりです。\n",
        "# 1）入力をエンコードし、初期デコーダー状態を取得\n",
        "# 2）この初期状態と「シーケンスの開始」トークンをターゲットとしてデコーダーの1ステップを実行します。\n",
        "# 出力は次のターゲットトークンになります\n",
        "# 3）現在のターゲットトークンと現在の状態で繰り返します\n",
        "\n",
        "# サンプリングモデルの定義\n",
        "encoder_model = Model(encoder_inputs, encoder_states)\n",
        "\n",
        "decoder_state_input_h = Input(shape=(latent_dim,))\n",
        "decoder_state_input_c = Input(shape=(latent_dim,))\n",
        "decoder_states_inputs = [decoder_state_input_h, decoder_state_input_c]\n",
        "decoder_outputs, state_h, state_c = decoder_lstm(\n",
        "    decoder_inputs, initial_state=decoder_states_inputs)\n",
        "decoder_states = [state_h, state_c]\n",
        "decoder_outputs = decoder_dense(decoder_outputs)\n",
        "decoder_model = Model(\n",
        "    [decoder_inputs] + decoder_states_inputs,\n",
        "    [decoder_outputs] + decoder_states)\n",
        "\n",
        "#シーケンスをデコードして読みやすいものに戻すための逆ルックアップトークンインデックス。\n",
        "reverse_input_char_index = dict(\n",
        "    (i, char) for char, i in input_token_index.items())\n",
        "reverse_target_char_index = dict(\n",
        "    (i, char) for char, i in target_token_index.items())\n",
        "\n",
        "\n",
        "def decode_sequence(input_seq):\n",
        "    # Encode the input as state vectors.\n",
        "    states_value = encoder_model.predict(input_seq)\n",
        "\n",
        "    # Generate empty target sequence of length 1.\n",
        "    target_seq = np.zeros((1, 1, num_decoder_tokens))\n",
        "    # Populate the first character of target sequence with the start character.\n",
        "    target_seq[0, 0, target_token_index['\\t']] = 1.\n",
        "\n",
        "    # Sampling loop for a batch of sequences\n",
        "    # (to simplify, here we assume a batch of size 1).\n",
        "    stop_condition = False\n",
        "    decoded_sentence = ''\n",
        "    while not stop_condition:\n",
        "        output_tokens, h, c = decoder_model.predict(\n",
        "            [target_seq] + states_value)\n",
        "\n",
        "        # Sample a token\n",
        "        sampled_token_index = np.argmax(output_tokens[0, -1, :])\n",
        "        sampled_char = reverse_target_char_index[sampled_token_index]\n",
        "        decoded_sentence += sampled_char\n",
        "\n",
        "        # Exit condition: either hit max length\n",
        "        # or find stop character.\n",
        "        if (sampled_char == '\\n' or\n",
        "           len(decoded_sentence) > max_decoder_seq_length):\n",
        "            stop_condition = True\n",
        "\n",
        "        # Update the target sequence (of length 1).\n",
        "        target_seq = np.zeros((1, 1, num_decoder_tokens))\n",
        "        target_seq[0, 0, sampled_token_index] = 1.\n",
        "\n",
        "        # Update states\n",
        "        states_value = [h, c]\n",
        "\n",
        "    return decoded_sentence\n",
        "\n",
        "\n",
        "for seq_index in range(100):\n",
        "    # Take one sequence (part of the training set)\n",
        "    # for trying out decoding.\n",
        "    input_seq = encoder_input_data[seq_index: seq_index + 1]\n",
        "    decoded_sentence = decode_sequence(input_seq)\n",
        "    print('-')\n",
        "    print('Input sentence:', input_texts[seq_index])\n",
        "    print('Decoded sentence:', decoded_sentence)"
      ],
      "execution_count": 0,
      "outputs": [
        {
          "output_type": "stream",
          "text": [
            "Number of samples: 5000\n",
            "Number of unique input tokens: 67\n",
            "Number of unique output tokens: 88\n",
            "Max sequence length for inputs: 14\n",
            "Max sequence length for outputs: 59\n",
            "Train on 4000 samples, validate on 1000 samples\n",
            "Epoch 1/20\n",
            "4000/4000 [==============================] - 32s 8ms/step - loss: 1.3044 - acc: 0.7316 - val_loss: 1.1259 - val_acc: 0.7175\n",
            "Epoch 2/20\n",
            "4000/4000 [==============================] - 30s 8ms/step - loss: 0.9499 - acc: 0.7532 - val_loss: 0.9953 - val_acc: 0.7292\n",
            "Epoch 3/20\n",
            "4000/4000 [==============================] - 30s 8ms/step - loss: 0.8450 - acc: 0.7721 - val_loss: 1.0987 - val_acc: 0.7403\n",
            "Epoch 4/20\n",
            "4000/4000 [==============================] - 30s 8ms/step - loss: 0.7406 - acc: 0.8025 - val_loss: 0.7978 - val_acc: 0.7773\n",
            "Epoch 5/20\n",
            "4000/4000 [==============================] - 30s 8ms/step - loss: 0.6545 - acc: 0.8179 - val_loss: 0.7587 - val_acc: 0.7853\n",
            "Epoch 6/20\n",
            "4000/4000 [==============================] - 30s 8ms/step - loss: 0.5943 - acc: 0.8306 - val_loss: 0.6934 - val_acc: 0.7980\n",
            "Epoch 7/20\n",
            "4000/4000 [==============================] - 30s 7ms/step - loss: 0.5568 - acc: 0.8379 - val_loss: 0.6372 - val_acc: 0.8123\n",
            "Epoch 8/20\n",
            "4000/4000 [==============================] - 30s 8ms/step - loss: 0.5270 - acc: 0.8458 - val_loss: 0.6222 - val_acc: 0.8155\n",
            "Epoch 9/20\n",
            "4000/4000 [==============================] - 30s 8ms/step - loss: 0.5030 - acc: 0.8523 - val_loss: 0.5985 - val_acc: 0.8220\n",
            "Epoch 10/20\n",
            "4000/4000 [==============================] - 30s 8ms/step - loss: 0.4810 - acc: 0.8592 - val_loss: 0.5875 - val_acc: 0.8276\n",
            "Epoch 11/20\n",
            "4000/4000 [==============================] - 31s 8ms/step - loss: 0.4635 - acc: 0.8634 - val_loss: 0.5731 - val_acc: 0.8257\n",
            "Epoch 12/20\n",
            "4000/4000 [==============================] - 30s 8ms/step - loss: 0.4455 - acc: 0.8685 - val_loss: 0.5537 - val_acc: 0.8366\n",
            "Epoch 13/20\n",
            "4000/4000 [==============================] - 30s 8ms/step - loss: 0.4303 - acc: 0.8726 - val_loss: 0.5395 - val_acc: 0.8419\n",
            "Epoch 14/20\n",
            "4000/4000 [==============================] - 30s 8ms/step - loss: 0.4171 - acc: 0.8762 - val_loss: 0.5396 - val_acc: 0.8422\n",
            "Epoch 15/20\n",
            "4000/4000 [==============================] - 31s 8ms/step - loss: 0.4036 - acc: 0.8805 - val_loss: 0.5278 - val_acc: 0.8436\n",
            "Epoch 16/20\n",
            "4000/4000 [==============================] - 31s 8ms/step - loss: 0.3906 - acc: 0.8841 - val_loss: 0.5102 - val_acc: 0.8496\n",
            "Epoch 17/20\n",
            "4000/4000 [==============================] - 30s 8ms/step - loss: 0.3787 - acc: 0.8876 - val_loss: 0.5078 - val_acc: 0.8505\n",
            "Epoch 18/20\n",
            "4000/4000 [==============================] - 30s 8ms/step - loss: 0.3678 - acc: 0.8910 - val_loss: 0.5031 - val_acc: 0.8524\n",
            "Epoch 19/20\n",
            "4000/4000 [==============================] - 30s 8ms/step - loss: 0.3569 - acc: 0.8934 - val_loss: 0.5003 - val_acc: 0.8549\n",
            "Epoch 20/20\n",
            "4000/4000 [==============================] - 30s 8ms/step - loss: 0.3469 - acc: 0.8962 - val_loss: 0.4937 - val_acc: 0.8571\n",
            "-\n",
            "Input sentence: Go.\n",
            "Decoded sentence: Atrapez !\n",
            "\n",
            "-\n",
            "Input sentence: Hi.\n",
            "Decoded sentence: Attendez-le.\n",
            "\n",
            "-\n",
            "Input sentence: Hi.\n",
            "Decoded sentence: Attendez-le.\n",
            "\n",
            "-\n",
            "Input sentence: Run!\n",
            "Decoded sentence: Atrapez !\n",
            "\n",
            "-\n",
            "Input sentence: Run!\n",
            "Decoded sentence: Atrapez !\n",
            "\n",
            "-\n",
            "Input sentence: Who?\n",
            "Decoded sentence: Quile je fout !\n",
            "\n",
            "-\n",
            "Input sentence: Wow!\n",
            "Decoded sentence: Atrendez-le.\n",
            "\n",
            "-\n",
            "Input sentence: Fire!\n",
            "Decoded sentence: Atrrdez !\n",
            "\n",
            "-\n",
            "Input sentence: Help!\n",
            "Decoded sentence: Atrendez !\n",
            "\n",
            "-\n",
            "Input sentence: Jump.\n",
            "Decoded sentence: Atrrêtez !\n",
            "\n",
            "-\n",
            "Input sentence: Stop!\n",
            "Decoded sentence: Arrêtez !\n",
            "\n",
            "-\n",
            "Input sentence: Stop!\n",
            "Decoded sentence: Arrêtez !\n",
            "\n",
            "-\n",
            "Input sentence: Stop!\n",
            "Decoded sentence: Arrêtez !\n",
            "\n",
            "-\n",
            "Input sentence: Wait!\n",
            "Decoded sentence: Atrendez-le.\n",
            "\n",
            "-\n",
            "Input sentence: Wait!\n",
            "Decoded sentence: Atrendez-le.\n",
            "\n",
            "-\n",
            "Input sentence: Go on.\n",
            "Decoded sentence: Allez !\n",
            "\n",
            "-\n",
            "Input sentence: Go on.\n",
            "Decoded sentence: Allez !\n",
            "\n",
            "-\n",
            "Input sentence: Go on.\n",
            "Decoded sentence: Allez !\n",
            "\n",
            "-\n",
            "Input sentence: Hello!\n",
            "Decoded sentence: Suillez-vous !\n",
            "\n",
            "-\n",
            "Input sentence: Hello!\n",
            "Decoded sentence: Suillez-vous !\n",
            "\n",
            "-\n",
            "Input sentence: I see.\n",
            "Decoded sentence: Je le prouve.\n",
            "\n",
            "-\n",
            "Input sentence: I try.\n",
            "Decoded sentence: Je le prouve.\n",
            "\n",
            "-\n",
            "Input sentence: I won!\n",
            "Decoded sentence: Je le prouve.\n",
            "\n",
            "-\n",
            "Input sentence: I won!\n",
            "Decoded sentence: Je le prouve.\n",
            "\n",
            "-\n",
            "Input sentence: I won.\n",
            "Decoded sentence: Je le prouve.\n",
            "\n",
            "-\n",
            "Input sentence: Oh no!\n",
            "Decoded sentence: Atrandez-le.\n",
            "\n",
            "-\n",
            "Input sentence: Attack!\n",
            "Decoded sentence: Attrapez !\n",
            "\n",
            "-\n",
            "Input sentence: Attack!\n",
            "Decoded sentence: Attrapez !\n",
            "\n",
            "-\n",
            "Input sentence: Cheers!\n",
            "Decoded sentence: Atrendez !\n",
            "\n",
            "-\n",
            "Input sentence: Cheers!\n",
            "Decoded sentence: Atrendez !\n",
            "\n",
            "-\n",
            "Input sentence: Cheers!\n",
            "Decoded sentence: Atrendez !\n",
            "\n",
            "-\n",
            "Input sentence: Cheers!\n",
            "Decoded sentence: Atrendez !\n",
            "\n",
            "-\n",
            "Input sentence: Get up.\n",
            "Decoded sentence: Sois !\n",
            "\n",
            "-\n",
            "Input sentence: Go now.\n",
            "Decoded sentence: Allez !\n",
            "\n",
            "-\n",
            "Input sentence: Go now.\n",
            "Decoded sentence: Allez !\n",
            "\n",
            "-\n",
            "Input sentence: Go now.\n",
            "Decoded sentence: Allez !\n",
            "\n",
            "-\n",
            "Input sentence: Got it!\n",
            "Decoded sentence: Allez !\n",
            "\n",
            "-\n",
            "Input sentence: Got it!\n",
            "Decoded sentence: Allez !\n",
            "\n",
            "-\n",
            "Input sentence: Got it?\n",
            "Decoded sentence: Arrêtez !\n",
            "\n",
            "-\n",
            "Input sentence: Got it?\n",
            "Decoded sentence: Arrêtez !\n",
            "\n",
            "-\n",
            "Input sentence: Got it?\n",
            "Decoded sentence: Arrêtez !\n",
            "\n",
            "-\n",
            "Input sentence: Hop in.\n",
            "Decoded sentence: Prenez les miennes !\n",
            "\n",
            "-\n",
            "Input sentence: Hop in.\n",
            "Decoded sentence: Prenez les miennes !\n",
            "\n",
            "-\n",
            "Input sentence: Hug me.\n",
            "Decoded sentence: Viens-toi !\n",
            "\n",
            "-\n",
            "Input sentence: Hug me.\n",
            "Decoded sentence: Viens-toi !\n",
            "\n",
            "-\n",
            "Input sentence: I fell.\n",
            "Decoded sentence: Je le fait pas chanter.\n",
            "\n",
            "-\n",
            "Input sentence: I fell.\n",
            "Decoded sentence: Je le fait pas chanter.\n",
            "\n",
            "-\n",
            "Input sentence: I know.\n",
            "Decoded sentence: Je le fait pas chanter.\n",
            "\n",
            "-\n",
            "Input sentence: I left.\n",
            "Decoded sentence: Je le prouve.\n",
            "\n",
            "-\n",
            "Input sentence: I left.\n",
            "Decoded sentence: Je le prouve.\n",
            "\n",
            "-\n",
            "Input sentence: I lost.\n",
            "Decoded sentence: Je le prouve.\n",
            "\n",
            "-\n",
            "Input sentence: I paid.\n",
            "Decoded sentence: Je le fait pas chanter.\n",
            "\n",
            "-\n",
            "Input sentence: I'm 19.\n",
            "Decoded sentence: Je suis chanter.\n",
            "\n",
            "-\n",
            "Input sentence: I'm OK.\n",
            "Decoded sentence: Je suis chanter.\n",
            "\n",
            "-\n",
            "Input sentence: I'm OK.\n",
            "Decoded sentence: Je suis chanter.\n",
            "\n",
            "-\n",
            "Input sentence: Listen.\n",
            "Decoded sentence: Laissez-moi !\n",
            "\n",
            "-\n",
            "Input sentence: No way!\n",
            "Decoded sentence: Faisez-le !\n",
            "\n",
            "-\n",
            "Input sentence: No way!\n",
            "Decoded sentence: Faisez-le !\n",
            "\n",
            "-\n",
            "Input sentence: No way!\n",
            "Decoded sentence: Faisez-le !\n",
            "\n",
            "-\n",
            "Input sentence: No way!\n",
            "Decoded sentence: Faisez-le !\n",
            "\n",
            "-\n",
            "Input sentence: No way!\n",
            "Decoded sentence: Faisez-le !\n",
            "\n",
            "-\n",
            "Input sentence: No way!\n",
            "Decoded sentence: Faisez-le !\n",
            "\n",
            "-\n",
            "Input sentence: No way!\n",
            "Decoded sentence: Faisez-le !\n",
            "\n",
            "-\n",
            "Input sentence: No way!\n",
            "Decoded sentence: Faisez-le !\n",
            "\n",
            "-\n",
            "Input sentence: No way!\n",
            "Decoded sentence: Faisez-le !\n",
            "\n",
            "-\n",
            "Input sentence: Really?\n",
            "Decoded sentence: Suillez-vous !\n",
            "\n",
            "-\n",
            "Input sentence: Really?\n",
            "Decoded sentence: Suillez-vous !\n",
            "\n",
            "-\n",
            "Input sentence: Really?\n",
            "Decoded sentence: Suillez-vous !\n",
            "\n",
            "-\n",
            "Input sentence: Thanks.\n",
            "Decoded sentence: Colez !\n",
            "\n",
            "-\n",
            "Input sentence: We try.\n",
            "Decoded sentence: Nous avons séchéeux.\n",
            "\n",
            "-\n",
            "Input sentence: We won.\n",
            "Decoded sentence: Nous avons séchéeux.\n",
            "\n",
            "-\n",
            "Input sentence: We won.\n",
            "Decoded sentence: Nous avons séchéeux.\n",
            "\n",
            "-\n",
            "Input sentence: We won.\n",
            "Decoded sentence: Nous avons séchéeux.\n",
            "\n",
            "-\n",
            "Input sentence: We won.\n",
            "Decoded sentence: Nous avons séchéeux.\n",
            "\n",
            "-\n",
            "Input sentence: Ask Tom.\n",
            "Decoded sentence: Restez la miensen !\n",
            "\n",
            "-\n",
            "Input sentence: Awesome!\n",
            "Decoded sentence: Restez la moi !\n",
            "\n",
            "-\n",
            "Input sentence: Be calm.\n",
            "Decoded sentence: Soyez crémentes !\n",
            "\n",
            "-\n",
            "Input sentence: Be calm.\n",
            "Decoded sentence: Soyez crémentes !\n",
            "\n",
            "-\n",
            "Input sentence: Be calm.\n",
            "Decoded sentence: Soyez crémentes !\n",
            "\n",
            "-\n",
            "Input sentence: Be cool.\n",
            "Decoded sentence: Soyez crémentes !\n",
            "\n",
            "-\n",
            "Input sentence: Be fair.\n",
            "Decoded sentence: Soyez crémentes !\n",
            "\n",
            "-\n",
            "Input sentence: Be fair.\n",
            "Decoded sentence: Soyez crémentes !\n",
            "\n",
            "-\n",
            "Input sentence: Be fair.\n",
            "Decoded sentence: Soyez crémentes !\n",
            "\n",
            "-\n",
            "Input sentence: Be fair.\n",
            "Decoded sentence: Soyez crémentes !\n",
            "\n",
            "-\n",
            "Input sentence: Be fair.\n",
            "Decoded sentence: Soyez crémentes !\n",
            "\n",
            "-\n",
            "Input sentence: Be fair.\n",
            "Decoded sentence: Soyez crémentes !\n",
            "\n",
            "-\n",
            "Input sentence: Be kind.\n",
            "Decoded sentence: Soyez prudente !\n",
            "\n",
            "-\n",
            "Input sentence: Be nice.\n",
            "Decoded sentence: Soyez crécintes !\n",
            "\n",
            "-\n",
            "Input sentence: Be nice.\n",
            "Decoded sentence: Soyez crécintes !\n",
            "\n",
            "-\n",
            "Input sentence: Be nice.\n",
            "Decoded sentence: Soyez crécintes !\n",
            "\n",
            "-\n",
            "Input sentence: Be nice.\n",
            "Decoded sentence: Soyez crécintes !\n",
            "\n",
            "-\n",
            "Input sentence: Be nice.\n",
            "Decoded sentence: Soyez crécintes !\n",
            "\n",
            "-\n",
            "Input sentence: Be nice.\n",
            "Decoded sentence: Soyez crécintes !\n",
            "\n",
            "-\n",
            "Input sentence: Beat it.\n",
            "Decoded sentence: Allez !\n",
            "\n",
            "-\n",
            "Input sentence: Call me.\n",
            "Decoded sentence: Aitendez Tom.\n",
            "\n",
            "-\n",
            "Input sentence: Call me.\n",
            "Decoded sentence: Aitendez Tom.\n",
            "\n",
            "-\n",
            "Input sentence: Call us.\n",
            "Decoded sentence: Arrêtez Tom.\n",
            "\n",
            "-\n",
            "Input sentence: Call us.\n",
            "Decoded sentence: Arrêtez Tom.\n",
            "\n",
            "-\n",
            "Input sentence: Come in.\n",
            "Decoded sentence: Venez le coure !\n",
            "\n",
            "-\n",
            "Input sentence: Come in.\n",
            "Decoded sentence: Venez le coure !\n",
            "\n"
          ],
          "name": "stdout"
        }
      ]
    },
    {
      "cell_type": "markdown",
      "metadata": {
        "id": "ACE5Ecwah05h",
        "colab_type": "text"
      },
      "source": [
        "# 3.イメージキャプショニング\n",
        "他の活用例としてイメージキャプショニングがあります。画像に対する説明の文章を推定するタスクです。これは画像を入力し、系列データを出力する Image to Sequence の手法によって行えます。\n",
        "\n",
        "pytorch-tutorial image_captioning ： https://github.com/yunjey/pytorch-tutorial/tree/master/tutorials/03-advanced/image_captioning                      \n",
        "\n",
        "イメージキャプショニングは学習に多くの時間がかかるため、ここでは学習済みの重みが公開されている実装を動かすことにします。Kerasには平易に扱える実装が公開されていないため、今回はPyTorchによる実装を扱います。\n",
        "\n",
        "# 【問題2】イメージキャプショニングの学習済みモデルの実行\n",
        "上記実装において **5. Test the model** の項目を実行してください。また、自身で用意した画像に対しても文章を生成してください。これらに対してどういった文章が出力されたかを記録して提出してください。\n",
        "\n",
        "データセットからの学習は行わず、学習済みの重みをダウンロードして利用します。\n",
        "\n",
        "注意点として、デフォルトで設定されている重みのファイル名と、ダウンロードできる重みのファイル名は異なっています。ここは書き換える必要があります。\n",
        "\n"
      ]
    },
    {
      "cell_type": "code",
      "metadata": {
        "id": "BxLnA7-lb3sF",
        "colab_type": "code",
        "outputId": "13ce53f2-544c-4f21-db3a-34ec79409a20",
        "colab": {
          "base_uri": "https://localhost:8080/",
          "height": 34
        }
      },
      "source": [
        "pwd"
      ],
      "execution_count": 1,
      "outputs": [
        {
          "output_type": "execute_result",
          "data": {
            "text/plain": [
              "'/content'"
            ]
          },
          "metadata": {
            "tags": []
          },
          "execution_count": 1
        }
      ]
    },
    {
      "cell_type": "code",
      "metadata": {
        "id": "gH_peZSWbsXD",
        "colab_type": "code",
        "outputId": "3c2b40df-9c76-425e-f1f3-a02c9f7b69b5",
        "colab": {
          "base_uri": "https://localhost:8080/",
          "height": 102
        }
      },
      "source": [
        "#pytorchチュートリアルから，イメージキャプショニングをクローン\n",
        "!git clone https://github.com/yunjey/pytorch-tutorial.git"
      ],
      "execution_count": 3,
      "outputs": [
        {
          "output_type": "stream",
          "text": [
            "Cloning into 'pytorch-tutorial'...\n",
            "remote: Enumerating objects: 816, done.\u001b[K\n",
            "remote: Total 816 (delta 0), reused 0 (delta 0), pack-reused 816\u001b[K\n",
            "Receiving objects: 100% (816/816), 12.78 MiB | 34.00 MiB/s, done.\n",
            "Resolving deltas: 100% (432/432), done.\n"
          ],
          "name": "stdout"
        }
      ]
    },
    {
      "cell_type": "code",
      "metadata": {
        "id": "R9KnUs8H14gI",
        "colab_type": "code",
        "colab": {
          "base_uri": "https://localhost:8080/",
          "height": 34
        },
        "outputId": "776553bb-6377-45c2-a44f-1bd15df773a1"
      },
      "source": [
        "%cd /content/pytorch-tutorial/tutorials/03-advanced/image_captioning"
      ],
      "execution_count": 11,
      "outputs": [
        {
          "output_type": "stream",
          "text": [
            "/content/pytorch-tutorial/tutorials/03-advanced/image_captioning\n"
          ],
          "name": "stdout"
        }
      ]
    },
    {
      "cell_type": "code",
      "metadata": {
        "id": "7Stgwi845gbB",
        "colab_type": "code",
        "colab": {
          "base_uri": "https://localhost:8080/",
          "height": 34
        },
        "outputId": "4e2dcacd-931a-49ac-94fe-f496b7dfe82a"
      },
      "source": [
        "%cd /content/drive/My Drive/DIC"
      ],
      "execution_count": 19,
      "outputs": [
        {
          "output_type": "stream",
          "text": [
            "/content/drive/My Drive/DIC\n"
          ],
          "name": "stdout"
        }
      ]
    },
    {
      "cell_type": "code",
      "metadata": {
        "id": "BF4aMJW-3kiA",
        "colab_type": "code",
        "colab": {
          "base_uri": "https://localhost:8080/",
          "height": 68
        },
        "outputId": "7b8a62ac-0979-4061-a179-f2d9ab40dd4c"
      },
      "source": [
        "#学習済みの重みを解凍\n",
        "!unzip ./pretrained_model.zip -d /content/pytorch-tutorial/tutorials/03-advanced/image_captioning/models/"
      ],
      "execution_count": 22,
      "outputs": [
        {
          "output_type": "stream",
          "text": [
            "Archive:  ./pretrained_model.zip\n",
            "  inflating: /content/pytorch-tutorial/tutorials/03-advanced/image_captioning/models/encoder-5-3000.pkl  \n",
            "  inflating: /content/pytorch-tutorial/tutorials/03-advanced/image_captioning/models/decoder-5-3000.pkl  \n"
          ],
          "name": "stdout"
        }
      ]
    },
    {
      "cell_type": "code",
      "metadata": {
        "id": "kNi0jn_M5uf3",
        "colab_type": "code",
        "colab": {
          "base_uri": "https://localhost:8080/",
          "height": 51
        },
        "outputId": "6991ee0f-3409-4f30-c899-9687ac58ebaf"
      },
      "source": [
        "!unzip ./vocap.zip -d /content/pytorch-tutorial/tutorials/03-advanced/image_captioning/data/"
      ],
      "execution_count": 23,
      "outputs": [
        {
          "output_type": "stream",
          "text": [
            "Archive:  ./vocap.zip\n",
            "  inflating: /content/pytorch-tutorial/tutorials/03-advanced/image_captioning/data/vocab.pkl  \n"
          ],
          "name": "stdout"
        }
      ]
    },
    {
      "cell_type": "code",
      "metadata": {
        "id": "w9nYZSPA8L2F",
        "colab_type": "code",
        "colab": {
          "base_uri": "https://localhost:8080/",
          "height": 34
        },
        "outputId": "6072afcf-a6b9-4401-c4fc-9f173af77081"
      },
      "source": [
        "%cd /content/pytorch-tutorial/tutorials/03-advanced/image_captioning"
      ],
      "execution_count": 27,
      "outputs": [
        {
          "output_type": "stream",
          "text": [
            "/content/pytorch-tutorial/tutorials/03-advanced/image_captioning\n"
          ],
          "name": "stdout"
        }
      ]
    },
    {
      "cell_type": "code",
      "metadata": {
        "id": "XFPDMD2m9U6_",
        "colab_type": "code",
        "colab": {
          "base_uri": "https://localhost:8080/",
          "height": 34
        },
        "outputId": "f76414c1-701a-4b33-98b1-0a5e93503647"
      },
      "source": [
        "pwd"
      ],
      "execution_count": 38,
      "outputs": [
        {
          "output_type": "execute_result",
          "data": {
            "text/plain": [
              "'/content/pytorch-tutorial/tutorials/03-advanced/image_captioning'"
            ]
          },
          "metadata": {
            "tags": []
          },
          "execution_count": 38
        }
      ]
    },
    {
      "cell_type": "code",
      "metadata": {
        "id": "Zve-ObxjEnYu",
        "colab_type": "code",
        "colab": {
          "base_uri": "https://localhost:8080/",
          "height": 1000
        },
        "outputId": "5c11e888-d6aa-4a23-de3d-af6d579f0d64"
      },
      "source": [
        "#encoder_pathとdencoder_pathを書き換え\n",
        "!cat sample.py"
      ],
      "execution_count": 39,
      "outputs": [
        {
          "output_type": "stream",
          "text": [
            "import torch\n",
            "import matplotlib.pyplot as plt\n",
            "import numpy as np \n",
            "import argparse\n",
            "import pickle \n",
            "import os\n",
            "from torchvision import transforms \n",
            "from build_vocab import Vocabulary\n",
            "from model import EncoderCNN, DecoderRNN\n",
            "from PIL import Image\n",
            "\n",
            "\n",
            "# Device configuration\n",
            "device = torch.device('cuda' if torch.cuda.is_available() else 'cpu')\n",
            "\n",
            "def load_image(image_path, transform=None):\n",
            "    image = Image.open(image_path)\n",
            "    image = image.resize([224, 224], Image.LANCZOS)\n",
            "    \n",
            "    if transform is not None:\n",
            "        image = transform(image).unsqueeze(0)\n",
            "    \n",
            "    return image\n",
            "\n",
            "def main(args):\n",
            "    # Image preprocessing\n",
            "    transform = transforms.Compose([\n",
            "        transforms.ToTensor(), \n",
            "        transforms.Normalize((0.485, 0.456, 0.406), \n",
            "                             (0.229, 0.224, 0.225))])\n",
            "    \n",
            "    # Load vocabulary wrapper\n",
            "    with open(args.vocab_path, 'rb') as f:\n",
            "        vocab = pickle.load(f)\n",
            "\n",
            "    # Build models\n",
            "    encoder = EncoderCNN(args.embed_size).eval()  # eval mode (batchnorm uses moving mean/variance)\n",
            "    decoder = DecoderRNN(args.embed_size, args.hidden_size, len(vocab), args.num_layers)\n",
            "    encoder = encoder.to(device)\n",
            "    decoder = decoder.to(device)\n",
            "\n",
            "    # Load the trained model parameters\n",
            "    encoder.load_state_dict(torch.load(args.encoder_path))\n",
            "    decoder.load_state_dict(torch.load(args.decoder_path))\n",
            "\n",
            "    # Prepare an image\n",
            "    image = load_image(args.image, transform)\n",
            "    image_tensor = image.to(device)\n",
            "    \n",
            "    # Generate an caption from the image\n",
            "    feature = encoder(image_tensor)\n",
            "    sampled_ids = decoder.sample(feature)\n",
            "    sampled_ids = sampled_ids[0].cpu().numpy()          # (1, max_seq_length) -> (max_seq_length)\n",
            "    \n",
            "    # Convert word_ids to words\n",
            "    sampled_caption = []\n",
            "    for word_id in sampled_ids:\n",
            "        word = vocab.idx2word[word_id]\n",
            "        sampled_caption.append(word)\n",
            "        if word == '<end>':\n",
            "            break\n",
            "    sentence = ' '.join(sampled_caption)\n",
            "    \n",
            "    # Print out the image and the generated caption\n",
            "    print (sentence)\n",
            "    image = Image.open(args.image)\n",
            "    plt.imshow(np.asarray(image))\n",
            "    \n",
            "if __name__ == '__main__':\n",
            "    parser = argparse.ArgumentParser()\n",
            "    parser.add_argument('--image', type=str, required=True, help='input image for generating caption')\n",
            "    parser.add_argument('--encoder_path', type=str, default='models/encoder-2-1000.ckpt', help='path for trained encoder')\n",
            "    parser.add_argument('--decoder_path', type=str, default='models/decoder-2-1000.ckpt', help='path for trained decoder')\n",
            "    parser.add_argument('--vocab_path', type=str, default='data/vocab.pkl', help='path for vocabulary wrapper')\n",
            "    \n",
            "    # Model parameters (should be same as paramters in train.py)\n",
            "    parser.add_argument('--embed_size', type=int , default=256, help='dimension of word embedding vectors')\n",
            "    parser.add_argument('--hidden_size', type=int , default=512, help='dimension of lstm hidden states')\n",
            "    parser.add_argument('--num_layers', type=int , default=1, help='number of layers in lstm')\n",
            "    args = parser.parse_args()\n",
            "    main(args)"
          ],
          "name": "stdout"
        }
      ]
    },
    {
      "cell_type": "code",
      "metadata": {
        "id": "XNW3_WfvEyXG",
        "colab_type": "code",
        "colab": {
          "base_uri": "https://localhost:8080/",
          "height": 34
        },
        "outputId": "2f747008-f10a-40da-b712-91a4f06522db"
      },
      "source": [
        "%%writefile sample.py\n",
        "import torch\n",
        "import matplotlib.pyplot as plt\n",
        "import numpy as np \n",
        "import argparse\n",
        "import pickle \n",
        "import os\n",
        "from torchvision import transforms \n",
        "from build_vocab import Vocabulary\n",
        "from model import EncoderCNN, DecoderRNN\n",
        "from PIL import Image\n",
        "\n",
        "\n",
        "# Device configuration\n",
        "device = torch.device('cuda' if torch.cuda.is_available() else 'cpu')\n",
        "\n",
        "def load_image(image_path, transform=None):\n",
        "    image = Image.open(image_path)\n",
        "    image = image.resize([224, 224], Image.LANCZOS)\n",
        "    \n",
        "    if transform is not None:\n",
        "        image = transform(image).unsqueeze(0)\n",
        "    \n",
        "    return image\n",
        "\n",
        "def main(args):\n",
        "    # Image preprocessing\n",
        "    transform = transforms.Compose([\n",
        "        transforms.ToTensor(), \n",
        "        transforms.Normalize((0.485, 0.456, 0.406), \n",
        "                             (0.229, 0.224, 0.225))])\n",
        "    \n",
        "    # Load vocabulary wrapper\n",
        "    with open(args.vocab_path, 'rb') as f:\n",
        "        vocab = pickle.load(f)\n",
        "\n",
        "    # Build models\n",
        "    encoder = EncoderCNN(args.embed_size).eval()  # eval mode (batchnorm uses moving mean/variance)\n",
        "    decoder = DecoderRNN(args.embed_size, args.hidden_size, len(vocab), args.num_layers)\n",
        "    encoder = encoder.to(device)\n",
        "    decoder = decoder.to(device)\n",
        "\n",
        "    # Load the trained model parameters\n",
        "    encoder.load_state_dict(torch.load(args.encoder_path))\n",
        "    decoder.load_state_dict(torch.load(args.decoder_path))\n",
        "\n",
        "    # Prepare an image\n",
        "    image = load_image(args.image, transform)\n",
        "    image_tensor = image.to(device)\n",
        "    \n",
        "    # Generate an caption from the image\n",
        "    feature = encoder(image_tensor)\n",
        "    sampled_ids = decoder.sample(feature)\n",
        "    sampled_ids = sampled_ids[0].cpu().numpy()          # (1, max_seq_length) -> (max_seq_length)\n",
        "    \n",
        "    # Convert word_ids to words\n",
        "    sampled_caption = []\n",
        "    for word_id in sampled_ids:\n",
        "        word = vocab.idx2word[word_id]\n",
        "        sampled_caption.append(word)\n",
        "        if word == '<end>':\n",
        "            break\n",
        "    sentence = ' '.join(sampled_caption)\n",
        "    \n",
        "    # Print out the image and the generated caption\n",
        "    print (sentence)\n",
        "    image = Image.open(args.image)\n",
        "    plt.imshow(np.asarray(image))\n",
        "    \n",
        "if __name__ == '__main__':\n",
        "    parser = argparse.ArgumentParser()\n",
        "    parser.add_argument('--image', type=str, required=True, help='input image for generating caption')\n",
        "    parser.add_argument('--encoder_path', type=str, default='models/encoder-5-3000.pkl', help='path for trained encoder')\n",
        "    parser.add_argument('--decoder_path', type=str, default='models/decoder-5-3000.pkl', help='path for trained decoder')\n",
        "    parser.add_argument('--vocab_path', type=str, default='data/vocab.pkl', help='path for vocabulary wrapper')\n",
        "    \n",
        "    # Model parameters (should be same as paramters in train.py)\n",
        "    parser.add_argument('--embed_size', type=int , default=256, help='dimension of word embedding vectors')\n",
        "    parser.add_argument('--hidden_size', type=int , default=512, help='dimension of lstm hidden states')\n",
        "    parser.add_argument('--num_layers', type=int , default=1, help='number of layers in lstm')\n",
        "    args = parser.parse_args()\n",
        "    main(args)"
      ],
      "execution_count": 40,
      "outputs": [
        {
          "output_type": "stream",
          "text": [
            "Overwriting sample.py\n"
          ],
          "name": "stdout"
        }
      ]
    },
    {
      "cell_type": "code",
      "metadata": {
        "id": "P1PYHtCB03ut",
        "colab_type": "code",
        "colab": {}
      },
      "source": [
        "import matplotlib.pyplot as plt\n",
        "from PIL import Image\n",
        "import numpy as np"
      ],
      "execution_count": 0,
      "outputs": []
    },
    {
      "cell_type": "code",
      "metadata": {
        "id": "46jm6NlM1l-E",
        "colab_type": "code",
        "colab": {
          "base_uri": "https://localhost:8080/",
          "height": 416
        },
        "outputId": "7d00c167-3815-4685-b4e1-70c21dc8b74b"
      },
      "source": [
        "img_path = \"/content/images.jpg\"\n",
        "im = Image.open(img_path)\n",
        "im_list = np.asarray(im)\n",
        "plt.figure(figsize=(10, 8))\n",
        "plt.imshow(im_list)\n",
        "plt.show()\n",
        "\n",
        "# 実行\n",
        "!python sample.py --image=\"/content/images.jpg\""
      ],
      "execution_count": 44,
      "outputs": [
        {
          "output_type": "display_data",
          "data": {
            "image/png": "[encoded data removed]",
            "text/plain": [
              "<Figure size 720x576 with 1 Axes>"
            ]
          },
          "metadata": {
            "tags": []
          }
        },
        {
          "output_type": "stream",
          "text": [
            "<start> a woman in a dress holding an umbrella . <end>\n"
          ],
          "name": "stdout"
        }
      ]
    },
    {
      "cell_type": "markdown",
      "metadata": {
        "colab_type": "text",
        "id": "iRsIJQSwdx_B"
      },
      "source": [
        "# 【問題3】Kerasで動かしたい場合はどうするかを調査\n",
        "PyTorchによる実装を動かしましたが、何らかの理由からKerasで動かしたい状況が考えられます。どういった手順を踏むことになるか調査し、できるだけ詳しく説明してください。\n",
        "\n",
        "特に今回はPyTorchのための学習済みの重みをKerasで使えるようにしたいので、その点については必ず触れてください。\n",
        "\n",
        "## MMdnnを利用する\n",
        "MMdnnとは，Microsoft Researchにより開発が進められているオープンソースの深層学習モデルの変換と可視化を行うツール．Caffe、Keras、Tensorflow、CNTK、MXNet、PyTorch、CoreMLなどのフレームワークが相互運用可能になる．\n",
        "## 使い方（簡単に）\n",
        "* pip install mmdnnでインストールできる\n",
        "* mmdownload -f keras -n inception_v3 -o ./          \n",
        "といった具合に，学習済みの重みもダウンロードできる\n",
        ">参考記事 : https://qiita.com/koppe/items/7f85f5411539390c4499"
      ]
    },
    {
      "cell_type": "code",
      "metadata": {
        "id": "ZJO5GmCOiYiJ",
        "colab_type": "code",
        "colab": {}
      },
      "source": [
        ""
      ],
      "execution_count": 0,
      "outputs": []
    },
    {
      "cell_type": "markdown",
      "metadata": {
        "id": "ppzduHBHiZfO",
        "colab_type": "text"
      },
      "source": [
        "# 【問題4】（アドバンス課題）コードリーディングと書き換え\n",
        "モデル部分はmodel.pyに書かれていますが、Kerasではこのモデルがどのように記述できるかを考え、コーディングしてください。その際機械翻訳のサンプルコードが参考になります。\n",
        "\n",
        "# 【問題5】（アドバンス課題）発展的調査\n",
        "《他の言語の翻訳を行う場合は？》\n",
        "\n",
        "問題1の実装を使い日本語と英語の翻訳を行いたい場合はどのような手順を踏むか考えてみましょう。\n",
        "\n",
        "### 《機械翻訳の発展的手法にはどのようなものがある？》\n",
        "\n",
        "機械翻訳のための発展的手法にはどういったものがあるか調査してみましょう。\n",
        "\n",
        "### 《文章から画像生成するには？》\n",
        "\n",
        "イメージキャプショニングとは逆に文章から画像を生成する手法もあります。どういったものがあるか調査してみましょう。"
      ]
    },
    {
      "cell_type": "code",
      "metadata": {
        "id": "hdgtzn9QiguS",
        "colab_type": "code",
        "colab": {}
      },
      "source": [
        ""
      ],
      "execution_count": 0,
      "outputs": []
    }
  ]
}