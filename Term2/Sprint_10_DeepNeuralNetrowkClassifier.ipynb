{
 "cells": [
  {
   "cell_type": "markdown",
   "metadata": {},
   "source": [
    "# Sprint 深層学習スクラッチ ディープニューラルネットワーク\n",
    "* 前回作成した3層のニューラルネットワークを任意の層数に拡張しやすいものに書き換える\n",
    "* その上で、活性化関数や初期値、最適化手法について発展的なものを扱えるようにする\n",
    "* 今後各種フレームワークを利用していくにあたり、内部の動きが想像できることを目指す\n",
    "* 名前は新しくScratchDeepNeuralNetrowkClassifierクラスとする\n",
    "* 万能近似定理より，中間層のノード数を増やすほど表現力は上がり，任意の関数に近づく（ただし，学習がうまくいくことを保証しているわけではない）"
   ]
  },
  {
   "cell_type": "code",
   "execution_count": 47,
   "metadata": {},
   "outputs": [],
   "source": [
    "import numpy as np\n",
    "import pandas as pd\n",
    "from sklearn.metrics import accuracy_score\n",
    "import tensorflow as tf\n",
    "import time\n",
    "import matplotlib.pyplot as plt"
   ]
  },
  {
   "cell_type": "code",
   "execution_count": 48,
   "metadata": {},
   "outputs": [
    {
     "name": "stdout",
     "output_type": "stream",
     "text": [
      "X_train_shape (48000, 784)\n",
      "X_val_shape (12000, 784)\n",
      "y_train_shape (48000,)\n",
      "y_test_shape (10000,)\n"
     ]
    }
   ],
   "source": [
    "# MNISTデータのダウンロード\n",
    "from keras.datasets import mnist\n",
    "(X_train, y_train), (X_test, y_test) = mnist.load_data()\n",
    "# 平滑化\n",
    "X_train = X_train.reshape(-1, 784)\n",
    "X_test = X_test.reshape(-1, 784)\n",
    "# 型の変換\n",
    "X_train = X_train.astype(np.float)\n",
    "X_test = X_test.astype(np.float)\n",
    "X_train /= 255\n",
    "X_test /= 255\n",
    "\n",
    "# trainデータをtrainとvalに分ける\n",
    "from sklearn.model_selection import train_test_split\n",
    "X_train, X_val, y_train, y_val = train_test_split(X_train, y_train, test_size=0.2)\n",
    "print('X_train_shape',X_train.shape)\n",
    "print('X_val_shape',X_val.shape)\n",
    "print('y_train_shape',y_train.shape)\n",
    "print('y_test_shape',y_test.shape)"
   ]
  },
  {
   "cell_type": "code",
   "execution_count": 49,
   "metadata": {},
   "outputs": [
    {
     "name": "stdout",
     "output_type": "stream",
     "text": [
      "y_train_shape (48000,)\n",
      "y_train_one_hot_shape (48000, 10)\n",
      "float64\n"
     ]
    }
   ],
   "source": [
    "# 正解データをOne-Hot表現に\n",
    "from sklearn.preprocessing import OneHotEncoder\n",
    "enc = OneHotEncoder(handle_unknown='ignore', sparse=False)\n",
    "y_train_one_hot = enc.fit_transform(y_train[:, np.newaxis])\n",
    "y_test_one_hot = enc.transform(y_test[:, np.newaxis])\n",
    "y_val_one_hot = enc.transform(y_val[:, np.newaxis])\n",
    "print('y_train_shape',y_train.shape) # (60000,)\n",
    "print('y_train_one_hot_shape',y_train_one_hot.shape) # (60000, 10)\n",
    "print(y_train_one_hot.dtype) # float64"
   ]
  },
  {
   "cell_type": "markdown",
   "metadata": {},
   "source": [
    "# ミニバッチ"
   ]
  },
  {
   "cell_type": "code",
   "execution_count": 50,
   "metadata": {},
   "outputs": [],
   "source": [
    "class GetMiniBatch:\n",
    "    \"\"\"\n",
    "    ミニバッチを取得するイテレータ\n",
    "\n",
    "    Parameters\n",
    "    ----------\n",
    "    X : 次の形のndarray, shape (n_samples, n_features)\n",
    "      訓練用データ\n",
    "    y : 次の形のndarray, shape (n_samples, 1)\n",
    "      正解値\n",
    "    batch_size : int\n",
    "      バッチサイズ\n",
    "    seed : int\n",
    "      NumPyの乱数のシード\n",
    "    \"\"\"\n",
    "    def __init__(self, X, y, batch_size = 20, seed=0):\n",
    "        self.batch_size = batch_size\n",
    "        np.random.seed(seed)\n",
    "        shuffle_index = np.random.permutation(np.arange(X.shape[0]))\n",
    "        self._X = X[shuffle_index]\n",
    "        self._y = y[shuffle_index]\n",
    "        self._stop = np.ceil(X.shape[0]/self.batch_size).astype(np.int)\n",
    "\n",
    "    def __len__(self):\n",
    "        return self._stop\n",
    "\n",
    "    def __getitem__(self,item):\n",
    "        p0 = item*self.batch_size\n",
    "        p1 = item*self.batch_size + self.batch_size\n",
    "        return self._X[p0:p1], self._y[p0:p1]        \n",
    "\n",
    "    def __iter__(self):\n",
    "        self._counter = 0\n",
    "        return self\n",
    "\n",
    "    def __next__(self):\n",
    "        if self._counter >= self._stop:\n",
    "            raise StopIteration()\n",
    "        p0 = self._counter*self.batch_size\n",
    "        p1 = self._counter*self.batch_size + self.batch_size\n",
    "        self._counter += 1\n",
    "        return self._X[p0:p1], self._y[p0:p1]"
   ]
  },
  {
   "cell_type": "markdown",
   "metadata": {},
   "source": [
    "# 【問題1】全結合層のクラス化\n",
    "* コンストラクタで重みやバイアスの初期化をして、あとはフォワードとバックワードのメソッドを用意する\n",
    "* 重みW、バイアスB、およびフォワード時の入力Xをインスタンス変数として保持しておくことで、煩雑な入出力は不要になる\n",
    "* インスタンスも引数として渡すことができる\n",
    "* そのため，初期化方法のインスタンスinitializerをコンストラクタで受け取れば、それにより初期化が行われる．\n",
    "* 渡すインスタンスを変えれば、初期化方法が変えられる\n",
    "* 引数として自身のインスタンスselfを渡すこともできる．\n",
    "* これを利用してself = self.optimizer.update(self)という風に層の重みの更新が可能\n",
    "* 更新に必要な値は複数あるが，**全て全結合層が持つインスタンス変数にすることができる**"
   ]
  },
  {
   "cell_type": "code",
   "execution_count": 51,
   "metadata": {},
   "outputs": [],
   "source": [
    "class FC:\n",
    "    \"\"\"\n",
    "    ノード数n_nodes1からn_nodes2への全結合層\n",
    "    Parameters\n",
    "    ----------\n",
    "    n_nodes1 : int\n",
    "      前の層のノード数\n",
    "    n_nodes2 : int\n",
    "      後の層のノード数\n",
    "    initializer : 初期化方法のインスタンス（ガウス分布とか）\n",
    "    optimizer : 最適化手法のインスタンス（確率的勾配降下とか）\n",
    "    \"\"\"\n",
    "    def __init__(self, n_nodes1, n_nodes2, initializer, optimizer):\n",
    "        self.optimizer = optimizer\n",
    "        # 初期化\n",
    "        # initializerのメソッドを使い、self.Wとself.Bを初期化する\n",
    "        self.W = initializer.W(n_nodes1,n_nodes2)\n",
    "        self.B = initializer.B(n_nodes2)\n",
    "        self.optimizer = optimizer\n",
    "        \n",
    "    def forward(self, X):\n",
    "        \"\"\"\n",
    "        フォワード\n",
    "        Parameters\n",
    "        ----------\n",
    "        X : 次の形のndarray, shape (batch_size, n_nodes1)\n",
    "            入力（最初はX,以降はZ）\n",
    "        Returns\n",
    "        ----------\n",
    "        A : 次の形のndarray, shape (batch_size, n_nodes2)\n",
    "            出力\n",
    "        \"\"\"\n",
    "        self.Z = X\n",
    "        A = np.dot(self.Z,self.W) + self.B\n",
    "        return A\n",
    "    \n",
    "    def backward(self, dA):\n",
    "        \"\"\"\n",
    "        バックワード\n",
    "        Parameters\n",
    "        ----------\n",
    "        dA : 次の形のndarray, shape (batch_size, n_nodes2)\n",
    "            後ろから流れてきた勾配\n",
    "        Returns\n",
    "        ----------\n",
    "        dZ : 次の形のndarray, shape (batch_size, n_nodes1)\n",
    "            前に流す勾配\n",
    "        \"\"\"\n",
    "        dZ = dA@self.W.T\n",
    "        self.dW = self.Z.T@dA\n",
    "        self.dB = np.sum(dA,axis=0)\n",
    "        \n",
    "        self.optimizer.update(self)\n",
    "        return dZ"
   ]
  },
  {
   "cell_type": "markdown",
   "metadata": {},
   "source": [
    "# 【問題2】初期化方法のクラス化\n",
    "* 全結合層のコンストラクタに初期化方法のインスタンスを渡せるようにする\n",
    "* 標準偏差の値（sigma）はコンストラクタで受け取るようにすることで、全結合層のクラス内にこの値（sigma）を渡さなくてすむようになる"
   ]
  },
  {
   "cell_type": "code",
   "execution_count": 52,
   "metadata": {},
   "outputs": [],
   "source": [
    "class SimpleInitializer:\n",
    "    \"\"\"\n",
    "    ガウス分布によるシンプルな初期化\n",
    "    Parameters\n",
    "    ----------\n",
    "    sigma : float\n",
    "      ガウス分布の標準偏差\n",
    "    \"\"\"\n",
    "        \n",
    "    def W(self, n_nodes1, n_nodes2):\n",
    "        \"\"\"\n",
    "        重みの初期化\n",
    "        Parameters\n",
    "        ----------\n",
    "        n_nodes1 : int\n",
    "          前の層のノード数\n",
    "        n_nodes2 : int\n",
    "          後の層のノード数\n",
    "\n",
    "        Returns\n",
    "        ----------\n",
    "        W : 次の形のndarray shape(n_nodes1,n_nodes2)\n",
    "        \"\"\"\n",
    "        self.sigma = 0.01\n",
    "        W = self.sigma * np.random.randn(n_nodes1,n_nodes2)\n",
    "        return W\n",
    "    \n",
    "    def B(self, n_nodes2):\n",
    "        \"\"\"\n",
    "        バイアスの初期化\n",
    "        Parameters\n",
    "        ----------\n",
    "        n_nodes2 : int\n",
    "          後の層のノード数\n",
    "\n",
    "        Returns\n",
    "        ----------\n",
    "        B : 次の形のaray shape(n_nodes2)\n",
    "        \"\"\"\n",
    "        B = self.sigma * np.random.randn(n_nodes2)\n",
    "        return B"
   ]
  },
  {
   "cell_type": "markdown",
   "metadata": {},
   "source": [
    "# 【問題3】最適化手法のクラス化\n",
    "* 最適化手法は全結合層にインスタンスとして渡す。\n",
    "* バックワードのときにself = self.optimizer.update(self)のように更新できるようにする。\n",
    "* これまで扱ってきた最適化手法はSGDクラス（Stochastic Gradient Descent、確率的勾配降下法）として作成する"
   ]
  },
  {
   "cell_type": "code",
   "execution_count": 53,
   "metadata": {},
   "outputs": [],
   "source": [
    "class SGD:\n",
    "    \"\"\"\n",
    "    確率的勾配降下法\n",
    "    Parameters\n",
    "    ----------\n",
    "    lr : 学習率\n",
    "    \"\"\"\n",
    "    def __init__(self, lr):\n",
    "        self.lr = lr\n",
    "    \n",
    "    \n",
    "    def update(self, layer):\n",
    "        \"\"\"\n",
    "        ある層の重みやバイアスの更新\n",
    "        Parameters\n",
    "        ----------\n",
    "        layer : 更新前の層のインスタンス\n",
    "\n",
    "        Returns\n",
    "        ----------\n",
    "        layer : 更新後の層のインスタンス\n",
    "        \"\"\"\n",
    "        layer.W = layer.W - self.lr*layer.dW\n",
    "        layer.B = layer.B - self.lr*layer.dB\n",
    "    \n",
    "        #return layer"
   ]
  },
  {
   "cell_type": "markdown",
   "metadata": {},
   "source": [
    "# 【問題4】活性化関数のクラス化"
   ]
  },
  {
   "cell_type": "markdown",
   "metadata": {},
   "source": [
    "## ハイパボリックタンジェント"
   ]
  },
  {
   "cell_type": "code",
   "execution_count": 54,
   "metadata": {},
   "outputs": [],
   "source": [
    "class Tanh:\n",
    "    \"\"\"\n",
    "    ハイパボリックタンジェント関数（活性化関数）\n",
    "    \"\"\"\n",
    "    \n",
    "    def forward(self,X):\n",
    "        \"\"\"\n",
    "        Parameters\n",
    "        ----------\n",
    "        X : 次の形のndarray shape(batch_size,n_nodes)\n",
    "\n",
    "        Returns\n",
    "        -------\n",
    "        Z : 次の形のndarray  shape (batch_size,n_nodes) \n",
    "        \"\"\"\n",
    "        self.A = X\n",
    "        Z = np.tanh(self.A)\n",
    "        return Z\n",
    "\n",
    "\n",
    "    def backward(self,dZ):\n",
    "        \"\"\"\n",
    "        Parameters\n",
    "        ----------\n",
    "        dZ : 次の形のndarray shape(batch_size,n_nodes)\n",
    "\n",
    "        Returns\n",
    "        -------\n",
    "        dA : 次の形のndarray  shape (batch_size,n_nodes) \n",
    "        \"\"\"\n",
    "        dA = dZ * (1 - np.tanh(self.A)**2)\n",
    "        return dA"
   ]
  },
  {
   "cell_type": "markdown",
   "metadata": {},
   "source": [
    "## シグモイド"
   ]
  },
  {
   "cell_type": "code",
   "execution_count": 55,
   "metadata": {},
   "outputs": [],
   "source": [
    "class Sigmoid:\n",
    "    \"\"\"\n",
    "    シグモイド関数レイヤ（活性化関数）\n",
    "    \"\"\"\n",
    "    \n",
    "    def _sigmoid(self,A):\n",
    "        \"\"\"\n",
    "        ０～１の間の値を返すシグモイド関数\n",
    "        \"\"\"\n",
    "        return 1/(1 + np.exp(-A))\n",
    "    \n",
    "    \n",
    "    def forward(self,X):\n",
    "        \"\"\" \n",
    "        Parameters\n",
    "        ----------\n",
    "        X : 次の形のndarray shape(batch_size,n_nodes)\n",
    "\n",
    "        Returns\n",
    "        -------\n",
    "        Z : 次の形のndarray  shape (batch_size,n_nodes) \n",
    "        \"\"\"\n",
    "        self.A = X\n",
    "        Z = self._sigmoid(self.A)\n",
    "        return Z\n",
    "\n",
    "\n",
    "    def backward(self,dZ):\n",
    "        \"\"\"\n",
    "        Parameters\n",
    "        ----------\n",
    "        dZ : 次の形のndarray shape(batch_size,n_nodes)\n",
    "\n",
    "        Returns\n",
    "        -------\n",
    "        dA : 次の形のndarray  shape (batch_size,n_nodes) \n",
    "        \"\"\"\n",
    "        dA = dZ * (1 - self._sigmoid(self.A))*self._sigmoid(self.A)\n",
    "        return dA"
   ]
  },
  {
   "cell_type": "markdown",
   "metadata": {},
   "source": [
    "## ソフトマックス\n",
    "ソフトマックス関数のバックプロパゲーションには交差エントロピー誤差の計算も含む実装を行うことで計算が簡略化される"
   ]
  },
  {
   "cell_type": "code",
   "execution_count": 56,
   "metadata": {},
   "outputs": [],
   "source": [
    "class Softmax:\n",
    "    \"\"\"\n",
    "    ソフトマックス関数\n",
    "    \n",
    "    \"\"\"\n",
    "    \n",
    "    def forward(self,A3):\n",
    "        exp_A = np.exp(A3)\n",
    "        sum_A = np.sum(exp_A,axis=1).reshape(-1,1)\n",
    "        Z3 = exp_A/sum_A\n",
    "        return Z3\n",
    "    \n",
    "    def backward(self,Z3,Y):\n",
    "        batch_n = Y.shape[0]\n",
    "        # A3の勾配\n",
    "        dA3 = Z3 - Y\n",
    "        #print('soft_max_dA3',dA3.shape)\n",
    "        \n",
    "        # 交差エントロピー誤差\n",
    "        loss = -np.sum(Y*np.log(Z3+1e-7)) / batch_n\n",
    "             \n",
    "        return dA3,loss"
   ]
  },
  {
   "cell_type": "markdown",
   "metadata": {},
   "source": [
    "# 【問題5】ReLUクラスの作成"
   ]
  },
  {
   "cell_type": "code",
   "execution_count": 57,
   "metadata": {},
   "outputs": [],
   "source": [
    "class ReLU:\n",
    "    def forward(self,A):\n",
    "        self.A = A\n",
    "        Z = np.maximum(0,A)\n",
    "        return Z \n",
    "    \n",
    "    def backward(self,dZ):\n",
    "        #np.signでAを-1，0，1に変換\n",
    "        dA = dZ * (np.maximum(0,np.sign(self.A)))\n",
    "        return dA"
   ]
  },
  {
   "cell_type": "markdown",
   "metadata": {},
   "source": [
    "# 【問題6】重みの初期値 \n",
    "* ここまでは重みやバイアスの初期値は単純にガウス分布で、標準偏差をハイパーパラメータとして扱ってきた\n",
    "* シグモイド関数やハイパボリックタンジェント関数のときは Xavierの初期値 （またはGlorotの初期値）、ReLUのときは Heの初期値 が使われる（勾配消失問題に対応するため）\n",
    "* XavierInitializerクラスと、HeInitializerクラスを作成\n",
    "## Xavierの初期値\n",
    "初期値における標準偏差σ$$\\sigma=\\frac{1}{\\sqrt{n}}$$        　        \n",
    "n : 前の層のノード数                         \n",
    "http://proceedings.mlr.press/v9/glorot10a/glorot10a.pdf"
   ]
  },
  {
   "cell_type": "code",
   "execution_count": 58,
   "metadata": {},
   "outputs": [],
   "source": [
    "class XavierInitializer:\n",
    "    \"\"\"\n",
    "    シグモイドやハイパボリックタンジェントの時の重みの初期値\n",
    "\n",
    "    Parameters\n",
    "    ----------\n",
    "    A : 次の形のndarray shape(batch_size,n_nodes)\n",
    "\n",
    "    Returns\n",
    "    -------\n",
    "    次の形のndarray  shape (batch_size,n_nodes) \n",
    "    \"\"\"\n",
    "    def W(self, n_nodes1, n_nodes2):\n",
    "        \"\"\"\n",
    "        重みの初期化\n",
    "        Parameters\n",
    "        ----------\n",
    "        n_nodes1 : int\n",
    "          前の層のノード数\n",
    "        n_nodes2 : int\n",
    "          後の層のノード数\n",
    "\n",
    "        Returns\n",
    "        ----------\n",
    "        W : \n",
    "        \"\"\"\n",
    "        self.sigma = 1/np.sqrt(n_nodes1)\n",
    "        W = self.sigma * np.random.randn(n_nodes1,n_nodes2)\n",
    "        return W\n",
    "    \n",
    "    def B(self, n_nodes2):\n",
    "        \"\"\"\n",
    "        バイアスの初期化\n",
    "        Parameters\n",
    "        ----------\n",
    "        n_nodes2 : int\n",
    "          後の層のノード数\n",
    "\n",
    "        Returns\n",
    "        ----------\n",
    "        B : \n",
    "        \"\"\"\n",
    "        B = self.sigma * np.random.randn(n_nodes2)\n",
    "        return B"
   ]
  },
  {
   "cell_type": "markdown",
   "metadata": {},
   "source": [
    "## Heの初期値\n",
    "Heの初期値における標準偏差σ$$\\sigma=\\sqrt{\\frac{2}{n}}$$      \n",
    "n : 前のノード数                                      \n",
    "https://arxiv.org/pdf/1502.01852.pdf"
   ]
  },
  {
   "cell_type": "code",
   "execution_count": 59,
   "metadata": {},
   "outputs": [],
   "source": [
    "class HeInitializer:\n",
    "    \"\"\"\n",
    "    ReLUの時の重みの初期値\n",
    "    \"\"\"\n",
    "    def W(self, n_nodes1, n_nodes2):\n",
    "        \"\"\"\n",
    "        重みの初期化\n",
    "        Parameters\n",
    "        ----------\n",
    "        n_nodes1 : int\n",
    "          前の層のノード数\n",
    "        n_nodes2 : int\n",
    "          後の層のノード数\n",
    "\n",
    "        Returns\n",
    "        ----------\n",
    "        W : \n",
    "        \"\"\"\n",
    "        self.sigma = np.sqrt(2/n_nodes1)\n",
    "        W = self.sigma * np.random.randn(n_nodes1,n_nodes2)\n",
    "        return W\n",
    "    \n",
    "    def B(self, n_nodes2):\n",
    "        \"\"\"\n",
    "        バイアスの初期化\n",
    "        Parameters\n",
    "        ----------\n",
    "        n_nodes2 : int\n",
    "          後の層のノード数\n",
    "\n",
    "        Returns\n",
    "        ----------\n",
    "        B : \n",
    "        \"\"\"\n",
    "        B = self.sigma * np.random.randn(n_nodes2)\n",
    "        return B"
   ]
  },
  {
   "cell_type": "markdown",
   "metadata": {},
   "source": [
    "# 【問題7】最適化手法\n",
    "* 学習率は学習過程で変化させていく方法が一般的\n",
    "* 基本的な手法である **AdaGrad** のクラスを作成\n",
    "* AdaGradは，更新された分だけその重みに対する学習率を徐々に下げていき，イテレーションごとの勾配の二乗和Hを保存しておき、その分だけ学習率を小さくする\n",
    "* つまり，学習率は重み一つひとつに対して異なることになる\n",
    "$$H'_i=H_i+E(\\frac{\\partial L}{\\partial W_i})\\times E(\\frac{\\partial L}{\\partial W_i})\\\\\n",
    "W'_i=W_i-α\\frac{1}{\\sqrt{H'_i}}E(\\frac{\\partial L}{\\partial W_i})$$"
   ]
  },
  {
   "cell_type": "code",
   "execution_count": 60,
   "metadata": {},
   "outputs": [],
   "source": [
    "class AdaGrad:\n",
    "    def __init__(self, lr):\n",
    "        self.lr = lr\n",
    "        \n",
    "    def update(self, layer):\n",
    "        \"\"\"\n",
    "        ある層の重みやバイアスの更新\n",
    "        Parameters\n",
    "        ----------\n",
    "        layer : 更新前の層のインスタンス\n",
    "\n",
    "        Returns\n",
    "        ----------\n",
    "        layer : 更新後の層のインスタンス\n",
    "        \"\"\"\n",
    "        hW = 1\n",
    "        hB = 1\n",
    "        hW = hW + (layer.W**2)\n",
    "        hB = hB + (layer.B**2)\n",
    "        layer.W = layer.W - self.lr*(1/np.sqrt(hW))*layer.dW\n",
    "        layer.B = layer.B - self.lr*(1/np.sqrt(hB))*layer.dB\n",
    "    \n",
    "        return layer"
   ]
  },
  {
   "cell_type": "markdown",
   "metadata": {},
   "source": [
    "# 問題8】クラスの完成"
   ]
  },
  {
   "cell_type": "code",
   "execution_count": 61,
   "metadata": {},
   "outputs": [],
   "source": [
    "class ScratchDeepNeuralNetrowkClassifier:\n",
    "    def __init__(self, lr, epochs, batch_size, n_nodes1, n_nodes2, initializer, optimizer, activation, verbose):\n",
    "        self.lr = lr\n",
    "        self.epochs = epochs\n",
    "        self.batch_n = batch_size\n",
    "        self.n_nodes1 = n_nodes1\n",
    "        self.n_nodes2 = n_nodes2\n",
    "        self.initializer = initializer()     #重み・バイアスの初期化方法\n",
    "        self.optimizer = optimizer(self.lr)  #最適化手法のインスタンス\n",
    "        self.activation = activation         # 活性化関数\n",
    "        self.verbose = verbose               #学習過程\n",
    "        \n",
    "    # yにはエンコードしてないものを入れる    \n",
    "    def fit(self, X, y, X_val=None, y_val=None):\n",
    "        # lossを入れる箱\n",
    "        self.loss = []\n",
    "        self.val_loss = []\n",
    "        self.n_features = X.shape[1]\n",
    "        self.n_output = np.unique(y).size\n",
    "        \n",
    "        # 正解データをOne-Hot表現に\n",
    "        from sklearn.preprocessing import OneHotEncoder\n",
    "        enc = OneHotEncoder(handle_unknown='ignore', sparse=False)\n",
    "        y_one_hot = enc.fit_transform(y[:, np.newaxis])\n",
    "       \n",
    "        # １層目のインスタンス\n",
    "        self.FC1 = FC(self.n_features, self.n_nodes1, self.initializer, self.optimizer)\n",
    "        self.activation1 = self.activation()\n",
    "        # ２層目のインスタンス\n",
    "        self.FC2 = FC(self.n_nodes1, self.n_nodes2, self.initializer, self.optimizer)\n",
    "        self.activation2 = self.activation()\n",
    "        # ３層目のインスタンス\n",
    "        self.FC3 = FC(self.n_nodes2, self.n_output, self.initializer, self.optimizer)\n",
    "        self.activation3 = Softmax()\n",
    " \n",
    "        # epochs開始\n",
    "        for e in range(self.epochs):\n",
    "            # ミニバッチの取得\n",
    "            get_mini_batch = GetMiniBatch(X, y_one_hot, batch_size=self.batch_n)\n",
    "            # ミニバッチ開始\n",
    "            for mini_X_train, mini_y_train in get_mini_batch:\n",
    "                # フォワードプロパゲーション\n",
    "                A1 = self.FC1.forward(mini_X_train)\n",
    "                Z1 = self.activation1.forward(A1)\n",
    "                A2 = self.FC2.forward(Z1)\n",
    "                Z2 = self.activation2.forward(A2)\n",
    "                A3 = self.FC3.forward(Z2)\n",
    "                Z3 = self.activation3.forward(A3)\n",
    "                \n",
    "                #交差エントロピー\n",
    "                dA3,loss = self.activation3.backward(Z3, mini_y_train) # 交差エントロピー誤差とソフトマックスを合わせている\n",
    "                self.loss.append(loss)\n",
    "                # バックフォワード\n",
    "                dZ2 = self.FC3.backward(dA3)\n",
    "                dA2 = self.activation2.backward(dZ2)\n",
    "                dZ1 = self.FC2.backward(dA2)\n",
    "                dA1 = self.activation1.backward(dZ1)\n",
    "                dZ0 = self.FC1.backward(dA1) # dZ0は使用しない\n",
    "            \n",
    "            if X_val is not None:\n",
    "                y_one_hot_val = enc.fit_transform(y_val[:, np.newaxis])\n",
    "                get_mini_batch_v = GetMiniBatch(X_val, y_one_hot_val, batch_size=self.batch_n)\n",
    "                for mini_X_train_val, mini_y_train_val in get_mini_batch_v:\n",
    "                    # フォワードプロパゲーション\n",
    "                    A1_val = self.FC1.forward(mini_X_train_val)\n",
    "                    #print('A1',A1.shape)\n",
    "                    Z1_val = self.activation1.forward(A1_val)\n",
    "                    #print('Z1',Z1.shape)\n",
    "                    A2_val = self.FC2.forward(Z1_val)\n",
    "                    #print('A2',A2.shape)\n",
    "                    Z2_val = self.activation2.forward(A2_val)\n",
    "                    #print('Z2',Z2.shape)\n",
    "                    A3_val = self.FC3.forward(Z2_val)\n",
    "                    #print('A3',A3.shape)\n",
    "                    Z3_val = self.activation3.forward(A3_val)\n",
    "                    #print('Z3',Z3.shape)\n",
    "                    dA3_val,val_loss = self.activation3.backward(Z3_val,mini_y_train_val)\n",
    "                    self.val_loss.append(val_loss)\n",
    "            else:\n",
    "                pass              \n",
    "                \n",
    "            #verboseをTrueにした際は学習過程などを出力する\n",
    "            if self.verbose is True:\n",
    "                print('Train Data Loss epoch {0} : {1}'.format(e,loss))\n",
    "                print('Validation Loss epoch {0} : {1}'.format(e,val_loss))\n",
    "            else:\n",
    "                pass\n",
    "\n",
    "\n",
    "    def predict(self, X):\n",
    "        \"\"\"\n",
    "        ニューラルネットワーク分類器を使い推定する。\n",
    "\n",
    "        Parameters\n",
    "        ----------\n",
    "        X : 次の形のndarray, shape (n_samples, n_features)\n",
    "            サンプル\n",
    "\n",
    "        Returns\n",
    "        -------\n",
    "        pred : 次の形のndarray, shape (n_samples, 1)  推定結果\n",
    "        \"\"\"\n",
    "        A1 = self.FC1.forward(X)\n",
    "        Z1 = self.activation1.forward(A1)\n",
    "        A2 = self.FC2.forward(Z1)\n",
    "        Z2 = self.activation2.forward(A2)\n",
    "        A3 = self.FC3.forward(Z2)\n",
    "        Z3 = self.activation3.forward(A3)\n",
    "        pred = np.argmax(Z3,axis=1)\n",
    "        return pred"
   ]
  },
  {
   "cell_type": "code",
   "execution_count": 62,
   "metadata": {},
   "outputs": [],
   "source": [
    "# initializer=初期化(Simple,He,Xa)，optimizer=最適化手法(SGD or AdAdaGrad)，activation=活性化関数(Sigmoid,Tanh,ReLU)\n",
    "DNNC1 = ScratchDeepNeuralNetrowkClassifier(lr=0.001, epochs=10, batch_size=20, n_nodes1=400, n_nodes2=200,\n",
    "                                          initializer=XavierInitializer, optimizer=SGD, activation=Tanh, verbose=True)"
   ]
  },
  {
   "cell_type": "code",
   "execution_count": 63,
   "metadata": {},
   "outputs": [
    {
     "name": "stdout",
     "output_type": "stream",
     "text": [
      "Train Data Loss epoch 0 : 0.39040829796285903\n",
      "Validation Loss epoch 0 : 0.23907602165820235\n",
      "Train Data Loss epoch 1 : 0.2959907737463845\n",
      "Validation Loss epoch 1 : 0.170492079072544\n",
      "Train Data Loss epoch 2 : 0.23286712687082947\n",
      "Validation Loss epoch 2 : 0.14064656515462456\n",
      "Train Data Loss epoch 3 : 0.18913190564375118\n",
      "Validation Loss epoch 3 : 0.1261163828462685\n",
      "Train Data Loss epoch 4 : 0.1608937095575619\n",
      "Validation Loss epoch 4 : 0.11620443748989402\n",
      "Train Data Loss epoch 5 : 0.14124114106262803\n",
      "Validation Loss epoch 5 : 0.11070189915799247\n",
      "Train Data Loss epoch 6 : 0.1261072253364053\n",
      "Validation Loss epoch 6 : 0.10885372071771596\n",
      "Train Data Loss epoch 7 : 0.11341668124220468\n",
      "Validation Loss epoch 7 : 0.10910517211347966\n",
      "Train Data Loss epoch 8 : 0.10216698923832575\n",
      "Validation Loss epoch 8 : 0.11006668075350481\n",
      "Train Data Loss epoch 9 : 0.0917684333641858\n",
      "Validation Loss epoch 9 : 0.11081542034443045\n"
     ]
    }
   ],
   "source": [
    "DNNC1.fit(X_train,y_train,X_val,y_val)"
   ]
  },
  {
   "cell_type": "code",
   "execution_count": 64,
   "metadata": {},
   "outputs": [
    {
     "name": "stdout",
     "output_type": "stream",
     "text": [
      "accuracy_score 0.9686\n",
      "y_predの中身： (array([0, 1, 2, 3, 4, 5, 6, 7, 8, 9], dtype=int64), array([1001, 1145, 1004, 1028,  977,  873,  956, 1021,  976, 1019],\n",
      "      dtype=int64))\n"
     ]
    }
   ],
   "source": [
    "y_pred1 = DNNC1.predict(X_test)\n",
    "print('accuracy_score',accuracy_score(y_test, y_pred1))\n",
    "print('y_predの中身：',np.unique(y_pred1,return_counts=True))"
   ]
  },
  {
   "cell_type": "code",
   "execution_count": 65,
   "metadata": {
    "scrolled": true
   },
   "outputs": [
    {
     "data": {
      "image/png": "[encoded data removed]",
      "text/plain": [
       "<Figure size 432x288 with 1 Axes>"
      ]
     },
     "metadata": {
      "needs_background": "light"
     },
     "output_type": "display_data"
    }
   ],
   "source": [
    "# 可視化\n",
    "plt.plot(DNNC1.loss,label='loss')\n",
    "plt.plot(DNNC1.val_loss,label='val_loss')\n",
    "plt.xlabel('Epochs')\n",
    "plt.ylabel('Loss')\n",
    "plt.title('Cross Entropy Error')\n",
    "plt.legend()\n",
    "plt.show()"
   ]
  },
  {
   "cell_type": "code",
   "execution_count": 66,
   "metadata": {},
   "outputs": [],
   "source": [
    "# initializer=初期化(Simple,He,Xa)，optimizer=最適化手法(SGD or AdAdaGrad)，activation=活性化関数(Sigmoid,Tanh,ReLU)\n",
    "DNNC2 = ScratchDeepNeuralNetrowkClassifier(lr=0.001, epochs=10, batch_size=20, n_nodes1=400, n_nodes2=200,\n",
    "                                          initializer=XavierInitializer, optimizer=AdaGrad, activation=Sigmoid, verbose=True)"
   ]
  },
  {
   "cell_type": "code",
   "execution_count": 67,
   "metadata": {},
   "outputs": [
    {
     "name": "stdout",
     "output_type": "stream",
     "text": [
      "Train Data Loss epoch 0 : 1.1426707849800564\n",
      "Validation Loss epoch 0 : 1.2111558532113762\n",
      "Train Data Loss epoch 1 : 0.6695909578866357\n",
      "Validation Loss epoch 1 : 0.4847673043583562\n",
      "Train Data Loss epoch 2 : 0.5361914029356589\n",
      "Validation Loss epoch 2 : 0.32272878730673904\n",
      "Train Data Loss epoch 3 : 0.45658769620387546\n",
      "Validation Loss epoch 3 : 0.2618121780251276\n",
      "Train Data Loss epoch 4 : 0.41010347399065267\n",
      "Validation Loss epoch 4 : 0.23042365605801313\n",
      "Train Data Loss epoch 5 : 0.38126258968394044\n",
      "Validation Loss epoch 5 : 0.20953382701639772\n",
      "Train Data Loss epoch 6 : 0.36153842657759616\n",
      "Validation Loss epoch 6 : 0.19428220148365669\n",
      "Train Data Loss epoch 7 : 0.34644796088646956\n",
      "Validation Loss epoch 7 : 0.18324730393338545\n",
      "Train Data Loss epoch 8 : 0.3337228961287778\n",
      "Validation Loss epoch 8 : 0.1756930737901218\n",
      "Train Data Loss epoch 9 : 0.32229760885571945\n",
      "Validation Loss epoch 9 : 0.17093177267518259\n"
     ]
    }
   ],
   "source": [
    "DNNC2.fit(X_train,y_train,X_val,y_val)"
   ]
  },
  {
   "cell_type": "code",
   "execution_count": 68,
   "metadata": {},
   "outputs": [
    {
     "name": "stdout",
     "output_type": "stream",
     "text": [
      "accuracy_score 0.9181\n",
      "y_predの中身： (array([0, 1, 2, 3, 4, 5, 6, 7, 8, 9], dtype=int64), array([1032, 1142,  996,  992, 1004,  846,  965, 1030,  947, 1046],\n",
      "      dtype=int64))\n"
     ]
    }
   ],
   "source": [
    "y_pred2 = DNNC2.predict(X_test)\n",
    "print('accuracy_score',accuracy_score(y_test, y_pred2))\n",
    "print('y_predの中身：',np.unique(y_pred2,return_counts=True))"
   ]
  },
  {
   "cell_type": "code",
   "execution_count": 69,
   "metadata": {
    "scrolled": true
   },
   "outputs": [
    {
     "data": {
      "image/png": "[encoded data removed]",
      "text/plain": [
       "<Figure size 432x288 with 1 Axes>"
      ]
     },
     "metadata": {
      "needs_background": "light"
     },
     "output_type": "display_data"
    }
   ],
   "source": [
    "# 可視化\n",
    "plt.plot(DNNC2.loss,label='loss')\n",
    "plt.plot(DNNC2.val_loss,label='val_loss')\n",
    "plt.xlabel('Epochs')\n",
    "plt.ylabel('Loss')\n",
    "plt.title('Cross Entropy Error')\n",
    "plt.legend()\n",
    "plt.show()"
   ]
  },
  {
   "cell_type": "code",
   "execution_count": 70,
   "metadata": {},
   "outputs": [],
   "source": [
    "# initializer=初期化(Simple,He,Xa)，optimizer=最適化手法(SGD or AdAdaGrad)，activation=活性化関数(Sigmoid,Tanh,ReLU)\n",
    "DNNC3 = ScratchDeepNeuralNetrowkClassifier(lr=0.001, epochs=10, batch_size=20, n_nodes1=400, n_nodes2=200,\n",
    "                                          initializer=HeInitializer, optimizer=AdaGrad, activation=ReLU, verbose=True)"
   ]
  },
  {
   "cell_type": "code",
   "execution_count": 71,
   "metadata": {},
   "outputs": [
    {
     "name": "stdout",
     "output_type": "stream",
     "text": [
      "Train Data Loss epoch 0 : 0.2151307845974042\n",
      "Validation Loss epoch 0 : 0.188357196462673\n",
      "Train Data Loss epoch 1 : 0.13111285454737798\n",
      "Validation Loss epoch 1 : 0.12066612024284784\n",
      "Train Data Loss epoch 2 : 0.0927514970524083\n",
      "Validation Loss epoch 2 : 0.10084446884490565\n",
      "Train Data Loss epoch 3 : 0.06640664930552613\n",
      "Validation Loss epoch 3 : 0.10274920701675574\n",
      "Train Data Loss epoch 4 : 0.04765892153564598\n",
      "Validation Loss epoch 4 : 0.11242224911003981\n",
      "Train Data Loss epoch 5 : 0.03616910945855972\n",
      "Validation Loss epoch 5 : 0.1213714920130687\n",
      "Train Data Loss epoch 6 : 0.02962376807400826\n",
      "Validation Loss epoch 6 : 0.14081894839410328\n",
      "Train Data Loss epoch 7 : 0.02491618574795102\n",
      "Validation Loss epoch 7 : 0.15673457003052435\n",
      "Train Data Loss epoch 8 : 0.021850266703428423\n",
      "Validation Loss epoch 8 : 0.19053634757497295\n",
      "Train Data Loss epoch 9 : 0.019551901604465287\n",
      "Validation Loss epoch 9 : 0.22158247242062984\n"
     ]
    }
   ],
   "source": [
    "DNNC3.fit(X_train,y_train,X_val,y_val)"
   ]
  },
  {
   "cell_type": "code",
   "execution_count": 72,
   "metadata": {},
   "outputs": [
    {
     "name": "stdout",
     "output_type": "stream",
     "text": [
      "accuracy_score 0.9749\n",
      "y_predの中身： (array([0, 1, 2, 3, 4, 5, 6, 7, 8, 9], dtype=int64), array([ 987, 1145, 1002, 1036,  982,  870,  956, 1024,  971, 1027],\n",
      "      dtype=int64))\n"
     ]
    }
   ],
   "source": [
    "y_pred3 = DNNC3.predict(X_test)\n",
    "print('accuracy_score',accuracy_score(y_test, y_pred3))\n",
    "print('y_predの中身：',np.unique(y_pred3,return_counts=True))"
   ]
  },
  {
   "cell_type": "code",
   "execution_count": 73,
   "metadata": {},
   "outputs": [
    {
     "data": {
      "image/png": "[encoded data removed]",
      "text/plain": [
       "<Figure size 432x288 with 1 Axes>"
      ]
     },
     "metadata": {
      "needs_background": "light"
     },
     "output_type": "display_data"
    }
   ],
   "source": [
    "# 可視化\n",
    "plt.plot(DNNC3.loss,label='loss')\n",
    "plt.plot(DNNC3.val_loss,label='val_loss')\n",
    "plt.xlabel('Epochs')\n",
    "plt.ylabel('Loss')\n",
    "plt.title('Cross Entropy Error')\n",
    "plt.legend()\n",
    "plt.show()"
   ]
  },
  {
   "cell_type": "markdown",
   "metadata": {},
   "source": [
    "# Lossの計算位置を変えてみました．"
   ]
  },
  {
   "cell_type": "code",
   "execution_count": 74,
   "metadata": {},
   "outputs": [],
   "source": [
    "class ScratchDeepNeuralNetrowkClassifier2:\n",
    "    def __init__(self, lr, epochs, batch_size, n_nodes1, n_nodes2, initializer, optimizer, activation, verbose):\n",
    "        self.lr = lr\n",
    "        self.epochs = epochs\n",
    "        self.batch_n = batch_size\n",
    "        self.n_nodes1 = n_nodes1\n",
    "        self.n_nodes2 = n_nodes2\n",
    "        self.initializer = initializer()     #重み・バイアスの初期化方法\n",
    "        self.optimizer = optimizer(self.lr)  #最適化手法のインスタンス\n",
    "        self.activation = activation         # 活性化関数\n",
    "        self.verbose = verbose               #学習過程\n",
    "        \n",
    "    # yにはエンコードしてないものを入れる    \n",
    "    def fit(self, X, y, X_val=None, y_val=None):\n",
    "        # lossを入れる箱\n",
    "        self.loss = []\n",
    "        self.val_loss = []\n",
    "        self.n_features = X.shape[1]\n",
    "        self.n_output = np.unique(y).size\n",
    "        \n",
    "        # 正解データをOne-Hot表現に\n",
    "        from sklearn.preprocessing import OneHotEncoder\n",
    "        enc = OneHotEncoder(handle_unknown='ignore', sparse=False)\n",
    "        y_one_hot = enc.fit_transform(y[:, np.newaxis])\n",
    "       \n",
    "        # １層目のインスタンス\n",
    "        self.FC1 = FC(self.n_features, self.n_nodes1, self.initializer, self.optimizer)\n",
    "        self.activation1 = self.activation()\n",
    "        # ２層目のインスタンス\n",
    "        self.FC2 = FC(self.n_nodes1, self.n_nodes2, self.initializer, self.optimizer)\n",
    "        self.activation2 = self.activation()\n",
    "        # ３層目のインスタンス\n",
    "        self.FC3 = FC(self.n_nodes2, self.n_output, self.initializer, self.optimizer)\n",
    "        self.activation3 = Softmax()\n",
    " \n",
    "        # epochs開始\n",
    "        for e in range(self.epochs):\n",
    "            #lossの初期化\n",
    "            loss = 0\n",
    "            # ミニバッチの取得\n",
    "            get_mini_batch = GetMiniBatch(X, y_one_hot, batch_size=self.batch_n)\n",
    "            # ミニバッチ開始\n",
    "            for mini_X_train, mini_y_train in get_mini_batch:\n",
    "                # フォワードプロパゲーション\n",
    "                A1 = self.FC1.forward(mini_X_train)\n",
    "                Z1 = self.activation1.forward(A1)\n",
    "                A2 = self.FC2.forward(Z1)\n",
    "                Z2 = self.activation2.forward(A2)\n",
    "                A3 = self.FC3.forward(Z2)\n",
    "                Z3 = self.activation3.forward(A3)\n",
    "                \n",
    "                #softmax & 交差エントロピー\n",
    "                dA3,loss = self.activation3.backward(Z3, mini_y_train)\n",
    "                loss += loss\n",
    "                \n",
    "                # バックプロパゲーション\n",
    "                dZ2 = self.FC3.backward(dA3)\n",
    "                dA2 = self.activation2.backward(dZ2)\n",
    "                dZ1 = self.FC2.backward(dA2)\n",
    "                dA1 = self.activation1.backward(dZ1)\n",
    "                dZ0 = self.FC1.backward(dA1) # dZ0は使用しない\n",
    "            \n",
    "            #検証用データがある場合\n",
    "            if X_val is not None:\n",
    "                y_one_hot_val = enc.fit_transform(y_val[:, np.newaxis])\n",
    "                A1_val = self.FC1.forward(X_val)\n",
    "                Z1_val = self.activation1.forward(A1_val)\n",
    "                A2_val = self.FC2.forward(Z1_val)\n",
    "                Z2_val = self.activation2.forward(A2_val)\n",
    "                A3_val = self.FC3.forward(Z2_val)\n",
    "                Z3_val = self.activation3.forward(A3_val)\n",
    "                dA3_val,val_loss = self.activation3.backward(Z3_val,y_one_hot_val)\n",
    "            else:\n",
    "                pass\n",
    "            \n",
    "            #lossを記録\n",
    "            self.loss.append(loss/self.batch_n)\n",
    "            self.val_loss.append(val_loss)\n",
    "                \n",
    "            #verboseをTrueにした際は学習過程などを出力する\n",
    "            if self.verbose is True:\n",
    "                print('Train Data Loss epoch {0} : {1}'.format(e,self.loss[-1]))\n",
    "                print('Validation Loss epoch {0} : {1}'.format(e,self.val_loss[-1]))\n",
    "            else:\n",
    "                pass\n",
    "\n",
    "\n",
    "    def predict(self, X):\n",
    "        \"\"\"\n",
    "        ニューラルネットワーク分類器を使い推定する。\n",
    "\n",
    "        Parameters\n",
    "        ----------\n",
    "        X : 次の形のndarray, shape (n_samples, n_features)\n",
    "            サンプル\n",
    "\n",
    "        Returns\n",
    "        -------\n",
    "        pred : 次の形のndarray, shape (n_samples, 1)  推定結果\n",
    "        \"\"\"\n",
    "        A1 = self.FC1.forward(X)\n",
    "        Z1 = self.activation1.forward(A1)\n",
    "        A2 = self.FC2.forward(Z1)\n",
    "        Z2 = self.activation2.forward(A2)\n",
    "        A3 = self.FC3.forward(Z2)\n",
    "        Z3 = self.activation3.forward(A3)\n",
    "        pred = np.argmax(Z3,axis=1)\n",
    "        return pred"
   ]
  },
  {
   "cell_type": "code",
   "execution_count": 75,
   "metadata": {},
   "outputs": [],
   "source": [
    "# initializer=初期化(Simple,He,Xa)，optimizer=最適化手法(SGD or AdaGrad)，activation=活性化関数(Sigmoid,Tanh,ReLU)\n",
    "DNNC = ScratchDeepNeuralNetrowkClassifier2(lr=0.001, epochs=10, batch_size=20, n_nodes1=400, n_nodes2=200,\n",
    "                                          initializer=XavierInitializer, optimizer=SGD, activation=Tanh, verbose=True)"
   ]
  },
  {
   "cell_type": "code",
   "execution_count": 76,
   "metadata": {},
   "outputs": [
    {
     "name": "stdout",
     "output_type": "stream",
     "text": [
      "Train Data Loss epoch 0 : 0.03808021673277279\n",
      "Validation Loss epoch 0 : 0.2962751661688784\n",
      "Train Data Loss epoch 1 : 0.028586627708018852\n",
      "Validation Loss epoch 1 : 0.24727694464759667\n",
      "Train Data Loss epoch 2 : 0.02277014541910813\n",
      "Validation Loss epoch 2 : 0.21035800606512609\n",
      "Train Data Loss epoch 3 : 0.018961110875677676\n",
      "Validation Loss epoch 3 : 0.18275822675816172\n",
      "Train Data Loss epoch 4 : 0.016195633989309052\n",
      "Validation Loss epoch 4 : 0.16241150328143625\n",
      "Train Data Loss epoch 5 : 0.013967705151971224\n",
      "Validation Loss epoch 5 : 0.1468451811615928\n",
      "Train Data Loss epoch 6 : 0.012132812790169981\n",
      "Validation Loss epoch 6 : 0.13460920900055723\n",
      "Train Data Loss epoch 7 : 0.01062723540783586\n",
      "Validation Loss epoch 7 : 0.12483572918431256\n",
      "Train Data Loss epoch 8 : 0.00937516734740888\n",
      "Validation Loss epoch 8 : 0.11692465473682724\n",
      "Train Data Loss epoch 9 : 0.008307008585355942\n",
      "Validation Loss epoch 9 : 0.11043382053902086\n"
     ]
    }
   ],
   "source": [
    "DNNC.fit(X_train,y_train,X_val,y_val)"
   ]
  },
  {
   "cell_type": "code",
   "execution_count": 77,
   "metadata": {},
   "outputs": [
    {
     "name": "stdout",
     "output_type": "stream",
     "text": [
      "accuracy_score 0.9682\n",
      "y_predの中身： (array([0, 1, 2, 3, 4, 5, 6, 7, 8, 9], dtype=int64), array([1004, 1145, 1009, 1014,  984,  869,  957, 1019,  974, 1025],\n",
      "      dtype=int64))\n"
     ]
    }
   ],
   "source": [
    "y_pred = DNNC.predict(X_test)\n",
    "print('accuracy_score',accuracy_score(y_test, y_pred))\n",
    "print('y_predの中身：',np.unique(y_pred,return_counts=True))"
   ]
  },
  {
   "cell_type": "code",
   "execution_count": 78,
   "metadata": {},
   "outputs": [
    {
     "data": {
      "image/png": "[encoded data removed]",
      "text/plain": [
       "<Figure size 432x288 with 1 Axes>"
      ]
     },
     "metadata": {
      "needs_background": "light"
     },
     "output_type": "display_data"
    }
   ],
   "source": [
    "# 可視化\n",
    "plt.plot(DNNC.loss,label='loss')\n",
    "plt.plot(DNNC.val_loss,label='val_loss')\n",
    "plt.xlabel('Epochs')\n",
    "plt.ylabel('Loss')\n",
    "plt.title('Cross Entropy Error')\n",
    "plt.legend()\n",
    "plt.show()"
   ]
  },
  {
   "cell_type": "code",
   "execution_count": null,
   "metadata": {},
   "outputs": [],
   "source": []
  }
 ],
 "metadata": {
  "kernelspec": {
   "display_name": "Python 3",
   "language": "python",
   "name": "python3"
  },
  "language_info": {
   "codemirror_mode": {
    "name": "ipython",
    "version": 3
   },
   "file_extension": ".py",
   "mimetype": "text/x-python",
   "name": "python",
   "nbconvert_exporter": "python",
   "pygments_lexer": "ipython3",
   "version": "3.7.4"
  }
 },
 "nbformat": 4,
 "nbformat_minor": 2
}
