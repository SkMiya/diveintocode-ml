{
 "cells": [
  {
   "cell_type": "markdown",
   "metadata": {},
   "source": [
    " # Sprint 深層学習スクラッチ ニューラルネットワーク"
   ]
  },
  {
   "cell_type": "code",
   "execution_count": 374,
   "metadata": {},
   "outputs": [],
   "source": [
    "import numpy as np\n",
    "import pandas as pd\n",
    "from sklearn.metrics import accuracy_score\n",
    "import tensorflow as tf\n",
    "import time"
   ]
  },
  {
   "cell_type": "markdown",
   "metadata": {},
   "source": [
    "## MNISTデータセット"
   ]
  },
  {
   "cell_type": "code",
   "execution_count": 375,
   "metadata": {},
   "outputs": [],
   "source": [
    "from keras.datasets import mnist\n",
    "(X_train, y_train), (X_test, y_test) = mnist.load_data()"
   ]
  },
  {
   "cell_type": "code",
   "execution_count": 378,
   "metadata": {
    "scrolled": true
   },
   "outputs": [
    {
     "name": "stdout",
     "output_type": "stream",
     "text": [
      "(60000, 28, 28)\n",
      "(10000, 28, 28)\n",
      "uint8\n",
      "unique:\n",
      " [  0   1   2   3   4   5   6   7   8   9  10  11  12  13  14  15  16  17\n",
      "  18  19  20  21  22  23  24  25  26  27  28  29  30  31  32  33  34  35\n",
      "  36  37  38  39  40  41  42  43  44  45  46  47  48  49  50  51  52  53\n",
      "  54  55  56  57  58  59  60  61  62  63  64  65  66  67  68  69  70  71\n",
      "  72  73  74  75  76  77  78  79  80  81  82  83  84  85  86  87  88  89\n",
      "  90  91  92  93  94  95  96  97  98  99 100 101 102 103 104 105 106 107\n",
      " 108 109 110 111 112 113 114 115 116 117 118 119 120 121 122 123 124 125\n",
      " 126 127 128 129 130 131 132 133 134 135 136 137 138 139 140 141 142 143\n",
      " 144 145 146 147 148 149 150 151 152 153 154 155 156 157 158 159 160 161\n",
      " 162 163 164 165 166 167 168 169 170 171 172 173 174 175 176 177 178 179\n",
      " 180 181 182 183 184 185 186 187 188 189 190 191 192 193 194 195 196 197\n",
      " 198 199 200 201 202 203 204 205 206 207 208 209 210 211 212 213 214 215\n",
      " 216 217 218 219 220 221 222 223 224 225 226 227 228 229 230 231 232 233\n",
      " 234 235 236 237 238 239 240 241 242 243 244 245 246 247 248 249 250 251\n",
      " 252 253 254 255]\n"
     ]
    }
   ],
   "source": [
    "# サンプル数は60000，1個のサンプルが28×28個の特徴量を持っている\n",
    "print(X_train.shape) # (60000, 28, 28)\n",
    "print(X_test.shape) # (10000, 28, 28)\n",
    "print(X_train[0].dtype) # uint8\n",
    "#1個の特徴量は0～255の値が入っている\n",
    "print('unique:\\n',np.unique(X_train))"
   ]
  },
  {
   "cell_type": "markdown",
   "metadata": {},
   "source": [
    "## 平滑化\n",
    "* (1, 28, 28)の各画像を、(1, 784)に変換\n",
    "* 機械学習手法や、今回扱う全結合層のみのニューラルネットワークではこの形で扱う\n",
    "* 全てのピクセルが一列になっていることを、 平滑化（flatten） してあるという風に表現する                                \n",
    "**《補足》**                    \n",
    "* ここまで機械学習を学んでくる中で、特徴量の数を「次元」と呼んできた。その視点ではMNISTは784次元のデータ\n",
    "* 一方で、NumPyのshapeが(784,)の状態を1次元配列とも呼ぶ。\n",
    "* 画像としての縦横の情報を持つ（28, 28)の状態であれば、2次元配列。この視点では2次元のデータ\n",
    "* さらに、もしもカラー画像であれば(28, 28, 3)ということになり、3次元配列＝3次元データ\n",
    "* 白黒でもカラーでも平面画像であり、立体データではないという視点で、2次元のデータ\n",
    "* 画像データを扱う際にはこのように「次元」という言葉が複数の意味合いで使われることに注意してください。"
   ]
  },
  {
   "cell_type": "code",
   "execution_count": 379,
   "metadata": {},
   "outputs": [],
   "source": [
    "# 平滑化\n",
    "X_train = X_train.reshape(-1, 784)\n",
    "X_test = X_test.reshape(-1, 784)"
   ]
  },
  {
   "cell_type": "markdown",
   "metadata": {},
   "source": [
    "## 画像データの可視化"
   ]
  },
  {
   "cell_type": "code",
   "execution_count": 380,
   "metadata": {},
   "outputs": [
    {
     "data": {
      "image/png": "[encoded data removed]",
      "text/plain": [
       "<Figure size 432x288 with 1 Axes>"
      ]
     },
     "metadata": {
      "needs_background": "light"
     },
     "output_type": "display_data"
    }
   ],
   "source": [
    "import matplotlib.pyplot as plt\n",
    "%matplotlib inline\n",
    "index = 0\n",
    "image = X_train[index].reshape(28,28)\n",
    "# X_train[index]: (784,)\n",
    "# image: (28, 28)\n",
    "plt.imshow(image, 'gray')\n",
    "plt.title('label : {}'.format(y_train[index]))\n",
    "plt.show()"
   ]
  },
  {
   "cell_type": "markdown",
   "metadata": {},
   "source": [
    "### 《発展的話題》\n",
    "* 画像データは符号なし8ビット整数のuint8型で保持されることが一般的だが、plt.imshowはより自由な配列を画像として表示することが可能\n",
    "* 例えば、以下のようにマイナスの値を持ったfloat64型の浮動小数点であってもエラーにはならないし、先ほどと全く同じ風に表示される"
   ]
  },
  {
   "cell_type": "code",
   "execution_count": 382,
   "metadata": {},
   "outputs": [
    {
     "data": {
      "image/png": "[encoded data removed]",
      "text/plain": [
       "<Figure size 432x288 with 1 Axes>"
      ]
     },
     "metadata": {
      "needs_background": "light"
     },
     "output_type": "display_data"
    }
   ],
   "source": [
    "index = 0\n",
    "image = X_train[index].reshape(28,28)\n",
    "image = image.astype(np.float) # float型に変換\n",
    "image -= 105.35 # 意図的に負の小数値を作り出してみる\n",
    "plt.imshow(image, 'gray')\n",
    "plt.title('label : {}'.format(y_train[index]))\n",
    "plt.show()\n",
    "#print(image) # 値を確認"
   ]
  },
  {
   "cell_type": "markdown",
   "metadata": {},
   "source": [
    "* これは、自動的に値を0〜255の整数に変換して処理するように作られているから\n",
    "* uint8型であっても最小値が0、最大値が255でない場合には色合いがおかしくなる\n",
    "* それを防ぐためには次のように引数を入れる"
   ]
  },
  {
   "cell_type": "code",
   "execution_count": 383,
   "metadata": {},
   "outputs": [
    {
     "data": {
      "text/plain": [
       "<matplotlib.image.AxesImage at 0x288939f9308>"
      ]
     },
     "execution_count": 383,
     "metadata": {},
     "output_type": "execute_result"
    },
    {
     "data": {
      "image/png": "[encoded data removed]",
      "text/plain": [
       "<Figure size 432x288 with 1 Axes>"
      ]
     },
     "metadata": {
      "needs_background": "light"
     },
     "output_type": "display_data"
    }
   ],
   "source": [
    "plt.imshow(image, 'gray', vmin = 0, vmax = 255)"
   ]
  },
  {
   "cell_type": "markdown",
   "metadata": {},
   "source": [
    "画像関係のライブラリではこの自動的なスケーリングが思わぬ結果を生むことがあるので、新しいメソッドを使うときには確認しておく"
   ]
  },
  {
   "cell_type": "markdown",
   "metadata": {},
   "source": [
    "# 前処理\n",
    "### １．型の変換\n",
    "画像は0から255のuint8型で表されるが、機械学習をする上では0から1のfloat型で扱うことになる．以下のコードで変更可"
   ]
  },
  {
   "cell_type": "code",
   "execution_count": 384,
   "metadata": {},
   "outputs": [
    {
     "name": "stdout",
     "output_type": "stream",
     "text": [
      "1.0\n",
      "0.0\n",
      "X_train_shape (60000, 784)\n"
     ]
    }
   ],
   "source": [
    "X_train = X_train.astype(np.float)\n",
    "X_test = X_test.astype(np.float)\n",
    "X_train /= 255\n",
    "X_test /= 255\n",
    "print(X_train.max()) # 1.0\n",
    "print(X_train.min()) # 0.0\n",
    "print('X_train_shape',X_train.shape)"
   ]
  },
  {
   "cell_type": "markdown",
   "metadata": {},
   "source": [
    "### ２．one-hot表現\n",
    "* 正解ラベルは0から9の整数だが、ニューラルネットワークで多クラス分類を行う際にはone-hot表現に変換する\n",
    "* scikit-learnのOneHotEncoderを使用したコードが以下．このone-hot表現による値はそのラベルである確率を示していることになるため、float型で扱う"
   ]
  },
  {
   "cell_type": "code",
   "execution_count": 385,
   "metadata": {},
   "outputs": [
    {
     "name": "stdout",
     "output_type": "stream",
     "text": [
      "y_train_shape (60000,)\n",
      "y_train_one_hot_shape (60000, 10)\n",
      "float64\n"
     ]
    }
   ],
   "source": [
    "from sklearn.preprocessing import OneHotEncoder\n",
    "enc = OneHotEncoder(handle_unknown='ignore', sparse=False)\n",
    "y_train_one_hot = enc.fit_transform(y_train[:, np.newaxis])\n",
    "y_test_one_hot = enc.transform(y_test[:, np.newaxis])\n",
    "print('y_train_shape',y_train.shape) # (60000,)\n",
    "print('y_train_one_hot_shape',y_train_one_hot.shape) # (60000, 10)\n",
    "print(y_train_one_hot.dtype) # float64"
   ]
  },
  {
   "cell_type": "markdown",
   "metadata": {},
   "source": [
    "### ３．trainデータをtrainとバリデーションに分ける"
   ]
  },
  {
   "cell_type": "code",
   "execution_count": 386,
   "metadata": {},
   "outputs": [
    {
     "name": "stdout",
     "output_type": "stream",
     "text": [
      "(48000, 784)\n",
      "(12000, 784)\n",
      "(48000,)\n"
     ]
    }
   ],
   "source": [
    "from sklearn.model_selection import train_test_split\n",
    "X_train, X_val, y_train, y_val = train_test_split(X_train, y_train, test_size=0.2)\n",
    "print(X_train.shape) # (48000, 784)\n",
    "print(X_val.shape) # (12000, 784)\n",
    "print(y_train.shape)"
   ]
  },
  {
   "cell_type": "code",
   "execution_count": 387,
   "metadata": {},
   "outputs": [
    {
     "name": "stdout",
     "output_type": "stream",
     "text": [
      "(9600, 10)\n",
      "(48000, 10)\n"
     ]
    }
   ],
   "source": [
    "# 分けたデータのｙOne-Hot表現に\n",
    "y_val_one = enc.fit_transform(y_val[:, np.newaxis])\n",
    "print(y_val_one_hot.shape)\n",
    "y_train_one = enc.fit_transform(y_train[:, np.newaxis])\n",
    "print(y_train_one.shape)"
   ]
  },
  {
   "cell_type": "markdown",
   "metadata": {},
   "source": [
    "# ミニバッチ処理\n",
    "* これまでの機械学習スクラッチでは、全てのサンプルを一度に計算していたが，ニューラルネットワークではデータを分割して入力する**確率的勾配降下法**が一般的\n",
    "* 分割した際のひとかたまりを**ミニバッ**，そのサンプル数を**バッチサイズ**と呼ぶ\n",
    "* 今回はバッチサイズを20とする．今回使う訓練用データは48000枚なので、48000÷20で2400回の更新を繰り返すことになる\n",
    "* ニューラルネットワークではこれを2400回イテレーション（iteration） すると呼ぶ\n",
    "* 訓練用データを一度全て見ると1回の エポック（epoch） が終わったことになる．このエポックを複数回繰り返し、学習が完了"
   ]
  },
  {
   "cell_type": "code",
   "execution_count": 388,
   "metadata": {},
   "outputs": [],
   "source": [
    "class GetMiniBatch:\n",
    "    \"\"\"\n",
    "    ミニバッチを取得するイテレータ\n",
    "\n",
    "    Parameters\n",
    "    ----------\n",
    "    X : 次の形のndarray, shape (n_samples, n_features)\n",
    "      訓練用データ\n",
    "    y : 次の形のndarray, shape (n_samples, 1)\n",
    "      正解値\n",
    "    batch_size : int\n",
    "      バッチサイズ\n",
    "    seed : int\n",
    "      NumPyの乱数のシード\n",
    "    \"\"\"\n",
    "    def __init__(self, X, y, batch_size = 20, seed=0):\n",
    "        self.batch_size = batch_size\n",
    "        np.random.seed(seed)\n",
    "        shuffle_index = np.random.permutation(np.arange(X.shape[0]))\n",
    "        self._X = X[shuffle_index]\n",
    "        self._y = y[shuffle_index]\n",
    "        self._stop = np.ceil(X.shape[0]/self.batch_size).astype(np.int)\n",
    "\n",
    "    def __len__(self):\n",
    "        return self._stop\n",
    "\n",
    "    def __getitem__(self,item):\n",
    "        p0 = item*self.batch_size\n",
    "        p1 = item*self.batch_size + self.batch_size\n",
    "        return self._X[p0:p1], self._y[p0:p1]        \n",
    "\n",
    "    def __iter__(self):\n",
    "        self._counter = 0\n",
    "        return self\n",
    "\n",
    "    def __next__(self):\n",
    "        if self._counter >= self._stop:\n",
    "            raise StopIteration()\n",
    "        p0 = self._counter*self.batch_size\n",
    "        p1 = self._counter*self.batch_size + self.batch_size\n",
    "        self._counter += 1\n",
    "        return self._X[p0:p1], self._y[p0:p1]"
   ]
  },
  {
   "cell_type": "code",
   "execution_count": 389,
   "metadata": {},
   "outputs": [
    {
     "name": "stdout",
     "output_type": "stream",
     "text": [
      "ミニバッチの数： 2400\n"
     ]
    }
   ],
   "source": [
    "# 初期化\n",
    "get_mini_batch = GetMiniBatch(X_train, y_train_one_hot, batch_size=20)\n",
    "print('ミニバッチの数：',len(get_mini_batch)) # 2400\n",
    "#print(get_mini_batch[5]) # 5番目のミニバッチが取得できる\n",
    "for mini_X_train, mini_y_train in get_mini_batch:\n",
    "    # このfor文内でミニバッチが使える\n",
    "    pass"
   ]
  },
  {
   "cell_type": "markdown",
   "metadata": {},
   "source": [
    "# 【問題1】重みの初期値を決めるコードの作成\n",
    "* ニューラルネットワークの各層の重みの初期値を決めるコードを作成\n",
    "* 重みの初期値は様々な方法が提案されているが、今回はガウス分布による単純な初期化を行う．バイアスに関しても同様\n",
    "* 標準偏差の値sigmaはハイパーパラメータ．発展的な重みの初期化方法については次のSprintで扱う"
   ]
  },
  {
   "cell_type": "code",
   "execution_count": 390,
   "metadata": {},
   "outputs": [
    {
     "name": "stdout",
     "output_type": "stream",
     "text": [
      "仮バッチX： (20, 784)\n",
      "仮バッチy： (20, 10)\n"
     ]
    }
   ],
   "source": [
    "# 特徴量数\n",
    "n_features = 784\n",
    "# ノード数\n",
    "n_nodes1 = 400  # 1層目\n",
    "n_nodes2 = 200  # 2層目\n",
    "n_output = 10   # 最後のノードは出力のクラス数\n",
    "batch_size = 20\n",
    "\n",
    "# 仮データ作成\n",
    "X_batch = np.array([np.random.randint(0,256) for _ in range(batch_size*n_features)])\n",
    "X_batch = X_batch.reshape(batch_size,n_features)\n",
    "print('仮バッチX：',X_batch.shape)\n",
    "# 取り出したいndarryの全行を指定してそこから取り出したい個数を指定すれば前列をランダムに取ってくる\n",
    "y_batch = y_train_one_hot[np.random.choice(y_train_one_hot.shape[0],batch_size)]\n",
    "print('仮バッチy：',y_batch.shape)"
   ]
  },
  {
   "cell_type": "code",
   "execution_count": 391,
   "metadata": {},
   "outputs": [],
   "source": [
    "def _wheight_fanc(n,m):\n",
    "    sigma = 0.01  # ガウス分布の標準偏差\n",
    "    w = sigma * np.random.randn(n,m)\n",
    "    return w    "
   ]
  },
  {
   "cell_type": "code",
   "execution_count": 392,
   "metadata": {},
   "outputs": [
    {
     "name": "stdout",
     "output_type": "stream",
     "text": [
      "(784, 400)\n",
      "(400, 200)\n",
      "(200, 10)\n"
     ]
    }
   ],
   "source": [
    "W1 = _wheight_fanc(n_features, n_nodes1)\n",
    "W2 = _wheight_fanc(n_nodes1, n_nodes2)\n",
    "W3 = _wheight_fanc(n_nodes2, n_output)\n",
    "print(W1.shape)\n",
    "print(W2.shape)\n",
    "print(W3.shape)"
   ]
  },
  {
   "cell_type": "markdown",
   "metadata": {},
   "source": [
    "# 【問題2】フォワードプロパゲーションの実装\n",
    "入力層を出発点として，トレーニングデータのパターンを順方向に伝播させ，モデルの出力を生成する．\n",
    "* 三層のニューラルネットワークのフォワードプロパゲーションを作成\n",
    "* 以下ではノード数は1層目は400、2層目は200としますが、変更可\n",
    "* batch_size = 20 # バッチサイズ\n",
    "* n_features = 784 # 特徴量の数\n",
    "* n_nodes1 = 400 # 1層目のノード数\n",
    "* n_nodes2 = 200 # 2層目のノード数\n",
    "* n_outn_nodes1put = 10 # 出力のクラス数（3層目のノード数）"
   ]
  },
  {
   "cell_type": "code",
   "execution_count": 393,
   "metadata": {},
   "outputs": [],
   "source": [
    "# バイアスの初期化\n",
    "b1 = np.zeros(n_nodes1)\n",
    "b2 = np.zeros(n_nodes2)\n",
    "b3 = np.zeros(n_output)\n",
    "\n",
    "# バッチサイズ\n",
    "batch_size = 20"
   ]
  },
  {
   "cell_type": "markdown",
   "metadata": {},
   "source": [
    "## 活性化関数\n",
    "#### １．シグモイド関数"
   ]
  },
  {
   "cell_type": "code",
   "execution_count": 394,
   "metadata": {},
   "outputs": [],
   "source": [
    "# シグモイド\n",
    "def _sigmoid(A):\n",
    "    return 1/(1+np.exp(-A))"
   ]
  },
  {
   "cell_type": "markdown",
   "metadata": {},
   "source": [
    "#### ２．ハイパボリックタンジェント関数"
   ]
  },
  {
   "cell_type": "code",
   "execution_count": 395,
   "metadata": {},
   "outputs": [],
   "source": [
    "# ハイパボリックタンジェント関数\n",
    "def _hyperbolic_tan(A):\n",
    "    return np.tanh(A)"
   ]
  },
  {
   "cell_type": "markdown",
   "metadata": {},
   "source": [
    "#### ３．ソフトマックス関数\n",
    "* ソフトマックス関数を作成し、フォワードプロパゲーションの中で使用する．\n",
    "* 活性化関数の一種だが，多クラス分類の出力層で使われる特性上、区別して扱われることが多い\n",
    "* 分母は全てのクラスに相当する値を指数関数に通した上で足し合わせたもの\n",
    "* その中で、分子にk番目のクラスを持ってくることで、k番目のクラスである確率が求まる\n",
    "* これを10クラス分計算し、合わせたものがZ3\n",
    "* Z3：出力 (batch_size, n_output) 　各ラベル（0〜9）に対する確率の配列"
   ]
  },
  {
   "cell_type": "code",
   "execution_count": 396,
   "metadata": {},
   "outputs": [],
   "source": [
    "# softmax関数\n",
    "def _softmax(A3):\n",
    "    \"\"\"\n",
    "    Parameters\n",
    "    ----------\n",
    "    A3 : 次の形のndarray, shape (n_batch_size, 10)\n",
    "    　　 ニューラルネットワークの出力\n",
    "    Returns\n",
    "    -------\n",
    "    次の形のndarray, shape (n_batch_size, )\n",
    "    各ラベルに属する確率\n",
    "    \"\"\"\n",
    "    exp_A = np.exp(A3)\n",
    "    sum_A = np.sum(exp_A)\n",
    "    return exp_A/sum_A"
   ]
  },
  {
   "cell_type": "code",
   "execution_count": 397,
   "metadata": {},
   "outputs": [],
   "source": [
    "# フォーワードプロパゲーション\n",
    "def _forward(X,W1,W2,W3,b1,b2,b3):\n",
    "    \"\"\"\n",
    "    Parameters\n",
    "    ----------\n",
    "    X : 特徴量ベクトル ndarray, shape (n_batch_size,n_features)\n",
    "    W1 :\n",
    "    Returns\n",
    "    -------\n",
    "    A1,Z1,A2,Z2,A3,Z3\n",
    "    次の形のndarray, shape (n_batch_size, )\n",
    "    各ラベルに属する確率\n",
    "    \"\"\"\n",
    "    f = _hyperbolic_tan\n",
    "    A1 = np.dot(X,W1)+b1  #shape(batch_size, n_nodes1)\n",
    "    Z1 = f(A1)      #shape(batch_size, n_nodes1)\n",
    "    \n",
    "    A2 = np.dot(Z1,W2)+b2  #shape(batch_size, n_nodes2)\n",
    "    Z2 = f(A2)       #shape(batch_size, n_nodes2)\n",
    "    \n",
    "    A3 = np.dot(Z2,W3)+b3  #shape(batch_size, n_output)\n",
    "    Z3 = _softmax(A3)       #shape(batch_size, n_output)\n",
    "    return A1,Z1,A2,Z2,A3,Z3"
   ]
  },
  {
   "cell_type": "code",
   "execution_count": 398,
   "metadata": {},
   "outputs": [
    {
     "name": "stdout",
     "output_type": "stream",
     "text": [
      "A1 (20, 400)\n",
      "[[ -2.76491735 -28.77385427]] \n",
      "\n",
      "Z1 (20, 400)\n",
      "[[-0.99209805 -1.        ]] \n",
      "\n",
      "A2 (20, 200)\n",
      "[[ 0.14910351 -0.13013679]] \n",
      "\n",
      "Z2 (20, 200)\n",
      "[[ 0.1480083  -0.12940709]] \n",
      "\n",
      "A3 (20, 10)\n",
      "[[-0.0147114  -0.02491768]] \n",
      "\n",
      "Z3 (20, 10)\n",
      "[[0.00495018 0.00489992]] \n",
      "\n"
     ]
    }
   ],
   "source": [
    "# 仮データで確認\n",
    "A1,Z1,A2,Z2,A3,Z3=_forward(X_batch,W1,W2,W3,b1,b2,b3)\n",
    "print('A1',A1.shape)\n",
    "print(A1[0:1,0:2],'\\n')\n",
    "print('Z1',Z1.shape)\n",
    "print(Z1[0:1,0:2],'\\n')\n",
    "print('A2',A2.shape)\n",
    "print(A2[0:1,0:2],'\\n')\n",
    "print('Z2',Z2.shape)\n",
    "print(Z2[0:1,0:2],'\\n')\n",
    "print('A3',A3.shape)\n",
    "print(A3[0:1,0:2],'\\n')\n",
    "print('Z3',Z3.shape)\n",
    "print(Z3[0:1,0:2],'\\n')"
   ]
  },
  {
   "cell_type": "markdown",
   "metadata": {},
   "source": [
    "# 【問題3】交差エントロピー誤差の実装\n",
    "サンプル1つあたりの誤差が求まります。      \n",
    "メモ：０を対数変換できないので，あらかじめものすごい小さい値を足しておくといいらしい．"
   ]
  },
  {
   "cell_type": "code",
   "execution_count": 399,
   "metadata": {},
   "outputs": [],
   "source": [
    "def cross_entropy(y,Z3):\n",
    "    \"\"\"\n",
    "    Parameters\n",
    "    ----------\n",
    "    Z3 : 次の形のndarray, shape (n_batch_size, 10)\n",
    "    　　 ニューラルネットワークの出力\n",
    "    y : 次の形のndarray, shape (n_batch_size,10)\n",
    "    one-Hot表現にした正解値\n",
    "    Returns\n",
    "    -------\n",
    "    scaler\n",
    "    交差エントロピー誤差\n",
    "    \"\"\"\n",
    "    # １次元のものが入ってきたら，形をそろえる\n",
    "    if Z3.ndim == 1:\n",
    "        y = y.reshape(1,y.size)\n",
    "        Z3 = Z3.reshape(1,Z3.size)\n",
    "    n_b = Z3.shape[0]\n",
    "    # アダマール積の総和÷バッチサイズ\n",
    "    loss = -np.sum(y*np.log(Z3+1e-7))/n_b\n",
    "    return loss"
   ]
  },
  {
   "cell_type": "code",
   "execution_count": 400,
   "metadata": {},
   "outputs": [
    {
     "name": "stdout",
     "output_type": "stream",
     "text": [
      "5.2972845425030455\n"
     ]
    }
   ],
   "source": [
    "loss=cross_entropy(y_batch,Z3)\n",
    "print(loss)"
   ]
  },
  {
   "cell_type": "markdown",
   "metadata": {},
   "source": [
    "# 【問題4】バックプロパゲーションの実装\n",
    "* 三層のニューラルネットワークのバックプロパゲーションを作成\n",
    "* 確率的勾配降下法で，重みとバイアスを更新するフェーズ\n",
    "* ＝W１～３とB１～３を更新したものを求める\n",
    "* 各層の重みの shapeの考え方「前の層のノード数と現在のノード数」\n",
    "* 各層のバイアスのshapeの考え方「バイアスはベクトルで，Aの損失の平均」\n",
    "* メモ：{}の中はスカラーではなく，ベクトル（式のまま）　L_Z2とかけるのがアダマール積「×」マークはアダマール，「・」はドット積"
   ]
  },
  {
   "cell_type": "code",
   "execution_count": 403,
   "metadata": {},
   "outputs": [],
   "source": [
    "# 学習率\n",
    "alpha = 0.0001\n",
    "\n",
    "def back_propagation(batch_size,y,Z3,Z2,Z1,W3,W2,W1):\n",
    "    n_b = batch_size\n",
    "    ### 3層目 ###\n",
    "    print('node3')\n",
    "    L_A3 = (np.sum(Z3-y_batch,axis=0)/n_b).reshape(1,10)  #shape(1,10)\n",
    "    print('L_A3',L_A3.shape)\n",
    "    L_b3 = L_A3  #shape(1,10)\n",
    "    L_W3 = (np.sum(Z2.T,axis=1)/n_b).reshape(-1,1)*L_A3  #shape(n_node2,10)\n",
    "    print('L_W3',L_W3.shape)\n",
    "    L_Z2 = (L_A3@W3.T).T  #shape(n_node2,1)\n",
    "    print('L_Z2',L_Z2.shape)\n",
    "    # 重みの更新\n",
    "    new_W3 = W3 - alpha*L_W3\n",
    "    print('new_W3',new_W3.shape)\n",
    "    # バイアスの更新\n",
    "    new_b3 = b3 - alpha*L_b3\n",
    "    print('new_b3',new_b3.shape,'\\n')\n",
    "\n",
    "    \n",
    "    ### 2層目 ###\n",
    "    print('node2')\n",
    "    step1 = 1-(np.tanh(np.sum(A2,axis=0)/n_b)**2).reshape(-1,1)\n",
    "    print('{}の中のshape',step1.shape)\n",
    "    L_A2 = (L_Z2*step1).reshape(1,-1)\n",
    "    print('L_A2',L_A2.shape) #shape(1, n_nodes2)\n",
    "    L_b2 = L_A2\n",
    "    L_W2 = ((np.sum(Z1.T,axis=1)/n_b).reshape(-1,1))@L_A2\n",
    "    print('L_W2',L_W2.shape)#shape (n_nodes1, n_nodes2)\n",
    "    L_Z1 = (L_A2@W2.T).reshape(-1,1)\n",
    "    print('L_Z1',L_Z1.shape)#shape (n_nodes1, 1)\n",
    "    # 重みの更新\n",
    "    new_W2 = W2 - alpha*L_W2\n",
    "    print('new_W2',new_W2.shape)\n",
    "    # バイアスの更新\n",
    "    new_b2 = b2 - alpha*L_b2\n",
    "    print('new_b2',new_b2.shape,'\\n')\n",
    "\n",
    "\n",
    "    ###１層目####\n",
    "    print('node1')\n",
    "    L_A1 = (L_Z1 * (1 - np.tanh(np.sum(A2)/n_b)**2)).reshape(1,-1)\n",
    "    print('L_A1',L_A1.shape)\n",
    "    L_b1 = L_A1\n",
    "    L_W1 = (np.sum(X_batch.T,axis=1)/n_b).reshape(-1,1)@L_A1\n",
    "    print('L_W1',L_W1.shape)\n",
    "    # 重みの更新\n",
    "    new_W1 = W1 - alpha*L_W1\n",
    "    print('new_W1',new_W1.shape)\n",
    "    # バイアスの更新\n",
    "    new_b1 = b1 - alpha*L_b1\n",
    "    print('new_b1',new_b1.shape)\n",
    "    \n",
    "    return new_W3,new_W2,new_W1,new_b3,new_b2,new_b1"
   ]
  },
  {
   "cell_type": "code",
   "execution_count": 404,
   "metadata": {},
   "outputs": [
    {
     "name": "stdout",
     "output_type": "stream",
     "text": [
      "node3\n",
      "L_A3 (1, 10)\n",
      "L_W3 (200, 10)\n",
      "L_Z2 (200, 1)\n",
      "new_W3 (200, 10)\n",
      "new_b3 (1, 10) \n",
      "\n",
      "node2\n",
      "{}の中のshape (200, 1)\n",
      "L_A2 (1, 200)\n",
      "L_W2 (400, 200)\n",
      "L_Z1 (400, 1)\n",
      "new_W2 (400, 200)\n",
      "new_b2 (1, 200) \n",
      "\n",
      "node1\n",
      "L_A1 (1, 400)\n",
      "L_W1 (784, 400)\n",
      "new_W1 (784, 400)\n",
      "new_b1 (1, 400)\n"
     ]
    }
   ],
   "source": [
    "new_W3,new_W2,new_W1,new_b3,new_b2,new_b1 = back_propagation(batch_size,y_batch,Z3,Z2,Z1,W3,W2,W1)"
   ]
  },
  {
   "cell_type": "markdown",
   "metadata": {},
   "source": [
    "### 平均をとらずにバイアスを求める"
   ]
  },
  {
   "cell_type": "code",
   "execution_count": 405,
   "metadata": {},
   "outputs": [
    {
     "name": "stdout",
     "output_type": "stream",
     "text": [
      "node3\n",
      "L_A3 (20, 10)\n",
      "L_b3 (10,)\n",
      "L_W3 (200, 10)\n",
      "L_Z2 (20, 200)\n",
      "new_W3 (200, 10)\n",
      "new_b3 (10,) \n",
      "\n",
      "node2\n",
      "{}の中のshape (20, 200)\n",
      "L_A2 (20, 200)\n",
      "L_b2 (200,)\n",
      "L_W2 (400, 200)\n",
      "L_Z1 (20, 400)\n",
      "new_W2 (400, 200)\n",
      "new_b2 (200,) \n",
      "\n",
      "node1\n",
      "L_A1 (20, 400)\n",
      "L_b1 (400,)\n",
      "L_W1 (784, 400)\n",
      "new_W1 (784, 400)\n",
      "new_b1 (400,)\n"
     ]
    }
   ],
   "source": [
    "### 3層目 ###\n",
    "print('node3')\n",
    "L_A3 = Z3-y_batch  #shape(20,10)\n",
    "print('L_A3',L_A3.shape)\n",
    "L_b3 = np.sum(L_A3,axis=0)  #shape(10,)\n",
    "print('L_b3',L_b3.shape)\n",
    "L_W3 = Z2.T@L_A3  #shape(200,10)\n",
    "print('L_W3',L_W3.shape)\n",
    "L_Z2 = L_A3@W3.T  #shape(20,200)\n",
    "print('L_Z2',L_Z2.shape)\n",
    "# 重みの更新\n",
    "new_W3 = W3 - alpha*L_W3\n",
    "print('new_W3',new_W3.shape)\n",
    "# バイアスの更新\n",
    "new_b3 = b3 - alpha*L_b3\n",
    "print('new_b3',new_b3.shape,'\\n')\n",
    "\n",
    "### 2層目 ###\n",
    "print('node2')\n",
    "step1 = 1-(np.tanh(A2)**2)\n",
    "print('{}の中のshape',step1.shape)\n",
    "L_A2 = L_Z2*step1\n",
    "print('L_A2',L_A2.shape) #shape(1, n_nodes2)\n",
    "L_b2 = np.sum(L_A2,axis=0)\n",
    "print('L_b2',L_b2.shape)\n",
    "L_W2 = Z1.T@L_A2\n",
    "print('L_W2',L_W2.shape)#shape (n_nodes1, n_nodes2)\n",
    "L_Z1 = L_A2@W2.T\n",
    "print('L_Z1',L_Z1.shape)#shape (n_nodes1, 1)\n",
    "# 重みの更新\n",
    "new_W2 = W2 - alpha*L_W2\n",
    "print('new_W2',new_W2.shape)\n",
    "# バイアスの更新\n",
    "new_b2 = b2 - alpha*L_b2\n",
    "print('new_b2',new_b2.shape,'\\n')\n",
    "\n",
    "\n",
    "###１層目####\n",
    "print('node1')\n",
    "L_A1 = L_Z1 * (1 - np.tanh(A1)**2)\n",
    "print('L_A1',L_A1.shape)\n",
    "L_b1 = np.sum(L_A1,axis=0)\n",
    "print('L_b1',L_b1.shape)\n",
    "L_W1 = X_batch.T@L_A1\n",
    "print('L_W1',L_W1.shape)\n",
    "# 重みの更新\n",
    "new_W1 = W1 - alpha*L_W1\n",
    "print('new_W1',new_W1.shape)\n",
    "# バイアスの更新\n",
    "new_b1 = b1 - alpha*L_b1\n",
    "print('new_b1',new_b1.shape)"
   ]
  },
  {
   "cell_type": "markdown",
   "metadata": {},
   "source": [
    "# 【問題５】推定\n",
    "フォワードプロパゲーションによって出力された10個の確率の中で，最も高いものはどれか判定する"
   ]
  },
  {
   "cell_type": "code",
   "execution_count": 406,
   "metadata": {},
   "outputs": [],
   "source": [
    "# 更新した重みを使う．\n",
    "def predict(X):\n",
    "    A1,Z1,A2,Z2,A3,Z3 = _forward(X,new_W1,new_W2,new_W3,new_b1,new_b2,new_b3)\n",
    "    pred = np.argmax(Z3,axis=1)\n",
    "    return pred"
   ]
  },
  {
   "cell_type": "code",
   "execution_count": 407,
   "metadata": {},
   "outputs": [
    {
     "name": "stdout",
     "output_type": "stream",
     "text": [
      "y_pred_shape (20,)\n"
     ]
    },
    {
     "data": {
      "text/plain": [
       "array([2, 5, 2, 3, 5, 2, 3, 2, 3, 2, 6, 3, 3, 5, 2, 6, 8, 2, 2, 5],\n",
       "      dtype=int64)"
      ]
     },
     "execution_count": 407,
     "metadata": {},
     "output_type": "execute_result"
    }
   ],
   "source": [
    "y_pred = predict(X_batch)\n",
    "print('y_pred_shape',y_pred.shape)\n",
    "y_pred"
   ]
  },
  {
   "cell_type": "markdown",
   "metadata": {},
   "source": [
    "# classにする"
   ]
  },
  {
   "cell_type": "code",
   "execution_count": 408,
   "metadata": {},
   "outputs": [],
   "source": [
    "class ScratchSimpleNeuralNetrowkClassifier():\n",
    "    \"\"\"\n",
    "    シンプルな三層ニューラルネットワーク分類器\n",
    "\n",
    "    Parameters\n",
    "    ----------\n",
    "\n",
    "    Attributes\n",
    "    ----------\n",
    "    \"\"\"\n",
    "    \n",
    "    def __init__(self, verbose,n_nodes1,n_nodes2,n_output,batch_size,alpha,epoch):\n",
    "        self.verbose = verbose\n",
    "        self.n_nodes1 = n_nodes1\n",
    "        self.n_nodes2 = n_nodes2\n",
    "        self.n_output = n_output\n",
    "        self.n_b = batch_size\n",
    "        self.alpha = alpha\n",
    "        self.epoch = epoch\n",
    "        \n",
    "    \n",
    "    def _wheight_fanc(self,n,m):\n",
    "        \"\"\"\n",
    "        重みの初期値を作る\n",
    "        \n",
    "        Parameters\n",
    "        ----------\n",
    "        n : 重みのshape[0]\n",
    "        m : 重みのshape[1]\n",
    "        \n",
    "        Returns\n",
    "        -------\n",
    "        w : 次の形のndarray, shape (n,m)  各層の重みの初期値\n",
    "        \"\"\"\n",
    "        sigma = 0.01  # ガウス分布の標準偏差\n",
    "        w = sigma * np.random.randn(n,m)\n",
    "        return w\n",
    "    \n",
    "    \n",
    "    def _sigmoid(self,A):\n",
    "        \"\"\"\n",
    "        シグモイド関数（活性化関数）\n",
    "        \n",
    "        Parameters\n",
    "        ----------\n",
    "        A : 次の形のndarray shape(batch_size,n_nodes)\n",
    "        \n",
    "        Returns\n",
    "        -------\n",
    "        次の形のndarray  shape (batch_size,n_nodes) \n",
    "        \"\"\"\n",
    "        return 1/(1 + np.exp(-A))\n",
    "    \n",
    "    def _hyperbolic_tan(self,A):\n",
    "        \"\"\"\n",
    "        ハイパボリックタンジェント関数（活性化関数）\n",
    "        \n",
    "        Parameters\n",
    "        ----------\n",
    "        A : 次の形のndarray shape(batch_size,n_nodes)\n",
    "        \n",
    "        Returns\n",
    "        -------\n",
    "        次の形のndarray  shape (batch_size,n_nodes) \n",
    "        \"\"\"\n",
    "        return np.tanh(A)\n",
    "    \n",
    "    def _softmax(self,A3):\n",
    "        \"\"\"\n",
    "        Parameters\n",
    "        ----------\n",
    "        A3 : 次の形のndarray, shape (n_batch_size, 10)\n",
    "             ニューラルネットワークの出力\n",
    "        Returns\n",
    "        -------\n",
    "            次の形のndarray, shape (n_batch_size, ) 各ラベルに属する確率\n",
    "        \"\"\"\n",
    "        exp_A = np.exp(A3)\n",
    "        sum_A = np.sum(exp_A,axis=1).reshape(-1,1)\n",
    "        return exp_A/sum_A\n",
    "    \n",
    "    def _forward(self,X):\n",
    "        \"\"\"\n",
    "        フォワードプロパゲーション\n",
    "        Parameters\n",
    "        ----------\n",
    "        X : 特徴量ベクトル ndarray, shape (n_batch_size,n_features)\n",
    "        W : 重み行列　ndarray, shape (n,m)\n",
    "        b : バイアスベクトル　ndarray, shape (n_nodes,) \n",
    "        Returns\n",
    "        -------\n",
    "        A : 各ラベルに属する確率 ndarray, shape (n_batch_size, n_nodes)\n",
    "        Z : 各ラベルのフラグ　ndarray, shape (n_batch_size, n_nodes)\n",
    "        各ラベルに属する確率\n",
    "        \"\"\"\n",
    "        # 活性化関数がハイパボリックタンジェントの場合\n",
    "        A1 = np.dot(X,self.W1) + self.b1  #shape(batch_size, n_nodes1)\n",
    "        Z1 = self._hyperbolic_tan(A1)      #shape(batch_size, n_nodes1)\n",
    "\n",
    "        A2 = np.dot(Z1,self.W2) + self.b2  #shape(batch_size, n_nodes2)\n",
    "        Z2 = self._hyperbolic_tan(A2)       #shape(batch_size, n_nodes2)\n",
    "        \n",
    "        A3 = np.dot(Z2,self.W3) + self.b3  #shape(batch_size, n_output)\n",
    "        Z3 = self._softmax(A3)       #shape(batch_size, n_output)\n",
    "        return A1,Z1,A2,Z2,A3,Z3\n",
    "    \n",
    "    \n",
    "    def cross_entropy(self,y,Z3):\n",
    "        \"\"\"\n",
    "        Parameters\n",
    "        ----------\n",
    "        Z3 : ニューラルネットワークの出力 ndarray, shape (n_batch_size, 10)\n",
    "        y : one-Hot表現にした正解値 ndarray, shape (n_batch_size,10)\n",
    "        \n",
    "        Returns\n",
    "        -------\n",
    "        loss : 交差エントロピー誤差 scaler\n",
    "        \"\"\"\n",
    "        # １次元のものが入ってきたら，形をそろえる\n",
    "        if Z3.ndim == 1:\n",
    "            y = y.reshape(1,y.size)\n",
    "            Z3 = Z3.reshape(1,Z3.size)\n",
    "        # アダマール積の総和÷バッチサイズ\n",
    "        loss = (np.sum(y*np.log(Z3)))/-self.n_b\n",
    "        return loss\n",
    "    \n",
    "    \n",
    "    def _back_propagation(self,X,y,Z3,Z2,Z1,A2,A1):\n",
    "        ### 3層目 ###\n",
    "        L_A3 = (np.sum(Z3-y,axis=0)/self.n_b).reshape(1,10)  #shape(1,10)\n",
    "        L_b3 = L_A3  #shape(1,10)\n",
    "        L_W3 = (np.sum(Z2.T,axis=1)/self.n_b).reshape(-1,1)*L_A3  #shape(n_node2,10)\n",
    "        L_Z2 = (L_A3@self.W3.T).T  #shape(n_node2,1)\n",
    "        # 重みの更新\n",
    "        self.W3 = self.W3 - self.alpha*L_W3\n",
    "        # バイアスの更新\n",
    "        self.b3 = self.b3 - self.alpha*L_b3\n",
    "\n",
    "        ### 2層目 ###\n",
    "        step1 = 1-(np.tanh(np.sum(A2,axis=0)/n_b)**2).reshape(-1,1)\n",
    "        L_A2 = (L_Z2*step1).reshape(1,-1) #shape(1, n_nodes2)\n",
    "        L_b2 = L_A2\n",
    "        L_W2 = ((np.sum(Z1.T,axis=1)/self.n_b).reshape(-1,1))@L_A2  #shape (n_nodes1, n_nodes2)\n",
    "        L_Z1 = (L_A2@W2.T).reshape(-1,1)  #shape (n_nodes1, 1)\n",
    "        # 重みの更新\n",
    "        self.W2 = self.W2 - self.alpha*L_W2\n",
    "        # バイアスの更新\n",
    "        self._b2 = self.b2 - self.alpha*L_b2\n",
    "        \n",
    "        ###１層目####\n",
    "        L_A1 = (L_Z1 * (1 - np.tanh(np.sum(A1)/n_b)**2)).reshape(1,-1)\n",
    "        L_b1 = L_A1\n",
    "        L_W1 = (np.sum(X.T,axis=1)/self.n_b).reshape(-1,1)@L_A1\n",
    "        # 重みの更新\n",
    "        self.W1 = self.W1 - self.alpha*L_W1\n",
    "        # バイアスの更新\n",
    "        self.b1 = self.b1 - self.alpha*L_b1\n",
    "    \n",
    "    \n",
    "    def fit(self, X, y, X_val=None, y_val=None):\n",
    "        \"\"\"\n",
    "        ニューラルネットワーク分類器を学習する。\n",
    "\n",
    "        Parameters\n",
    "        ----------\n",
    "        X : 次の形のndarray, shape (n_samples, n_features)\n",
    "            訓練用データの特徴量\n",
    "        y : 次の形のndarray, shape (n_samples, )\n",
    "            訓練用データの正解値\n",
    "        X_val : 次の形のndarray, shape (n_samples, n_features)\n",
    "            検証用データの特徴量\n",
    "        y_val : 次の形のndarray, shape (n_samples, )\n",
    "            検証用データの正解値\n",
    "            \n",
    "        \"\"\"\n",
    "        self.n_features = X.shape[1]\n",
    "        self.loss = []\n",
    "        self.loss_val = []\n",
    "        \n",
    "        # 重み行列の初期化\n",
    "        self.W1 = self._wheight_fanc(self.n_features, self.n_nodes1)\n",
    "        self.W2 = self._wheight_fanc(self.n_nodes1, self.n_nodes2)\n",
    "        self.W3 = self._wheight_fanc(self.n_nodes2, self.n_output)\n",
    "        # バイアスベクトルの初期化\n",
    "        self.b1 = np.zeros(self.n_nodes1)\n",
    "        self.b2 = np.zeros(self.n_nodes2)\n",
    "        self.b3 = np.zeros(self.n_output)\n",
    "        \n",
    "        for e in range(self.epoch):\n",
    "            # ミニバッチの取得\n",
    "            get_mini_batch = GetMiniBatch(X, y, batch_size=self.n_b)\n",
    "            for mini_X_train, mini_y_train in get_mini_batch:\n",
    "                # フォワードプロパゲーションで出力を計算\n",
    "                A1,Z1,A2,Z2,A3,Z3 = self._forward(mini_X_train)\n",
    "                # バックプロパゲーションで重みの更新\n",
    "                self._back_propagation(mini_X_train,mini_y_train,Z3,Z2,Z1,A2,A1)\n",
    "            \n",
    "            # 交差エントロピー誤差\n",
    "            loss = self.cross_entropy(mini_y_train,Z3)\n",
    "            self.loss.append(loss)\n",
    "\n",
    "            #verboseをTrueにした際は学習過程などを出力する\n",
    "            if self.verbose is True:\n",
    "                print('Train Data Loss epoch{0}: {1}'.format(e,loss))\n",
    "            else:\n",
    "                pass\n",
    "        \n",
    "        # 検証用データがある場合\n",
    "        if X_val is not None:\n",
    "            # 重みの初期化\n",
    "            self.W1_val = self._wheight_fanc(self.n_features, self.n_nodes1)\n",
    "            self.W2_val = self._wheight_fanc(self.n_nodes1, self.n_nodes2)\n",
    "            self.W3_val = self._wheight_fanc(self.n_nodes2, self.n_output)\n",
    "            # バイアスの初期化\n",
    "            self.b1_val = np.zeros(self.n_nodes1)\n",
    "            self.b2_val = np.zeros(self.n_nodes2)\n",
    "            self.b3_val = np.zeros(self.n_output)\n",
    "            \n",
    "            for e in range(self.epoch):\n",
    "                # ミニバッチの取得\n",
    "                get_mini_batch_val = GetMiniBatch(X_val, y_val, batch_size=self.n_b)\n",
    "                for mini_X_train_val, mini_y_train_val in get_mini_batch_val:\n",
    "                    # フォワードプロパゲーションで出力を計算\n",
    "                    A1_val,Z1_val,A2_val,Z2_val,A3_val,Z3_val = self._forward(mini_X_train_val)\n",
    "                    # バックプロパゲーションで重みの更新\n",
    "                    self._back_propagation(mini_X_train_val,mini_y_train_val,Z3_val,Z2_val,Z1_val,A2_val,A1_val)\n",
    "                \n",
    "                # 交差エントロピー誤差\n",
    "                loss_val = self.cross_entropy(mini_y_train_val,Z3_val)\n",
    "                self.loss_val.append(loss_val)\n",
    "                #verboseをTrueにした際は学習過程などを出力する\n",
    "                if self.verbose is True:\n",
    "                    print('Test Data Loss epoch{0}: {1}'.format(e,loss_val))\n",
    "                else:\n",
    "                    pass\n",
    "            \n",
    "            \n",
    "            \n",
    "            \n",
    "    def predict(self, X):\n",
    "        \"\"\"\n",
    "        ニューラルネットワーク分類器を使い推定する。\n",
    "\n",
    "        Parameters\n",
    "        ----------\n",
    "        X : 次の形のndarray, shape (n_samples, n_features)   サンプル\n",
    "\n",
    "        Returns\n",
    "        -------\n",
    "        pred : 次の形のndarray, shape (n_samples, 1)  推定結果\n",
    "        \"\"\"\n",
    "        A1,Z1,A2,Z2,A3,Z3 = self._forward(X)\n",
    "        pred = np.argmax(Z3,axis=1)\n",
    "        return pred"
   ]
  },
  {
   "cell_type": "markdown",
   "metadata": {},
   "source": [
    "# 【問題6】学習と推定\n",
    "MNISTのデータを学習・推定し、Accuracyを計算する"
   ]
  },
  {
   "cell_type": "code",
   "execution_count": 367,
   "metadata": {},
   "outputs": [
    {
     "name": "stdout",
     "output_type": "stream",
     "text": [
      "Train Data Loss epoch0: 2.2737972348685105\n",
      "Train Data Loss epoch1: 2.16852702472134\n",
      "Train Data Loss epoch2: 1.8082976309453316\n",
      "Train Data Loss epoch3: 1.2897883100011103\n",
      "Train Data Loss epoch4: 0.9463505201897199\n",
      "Train Data Loss epoch5: 0.7533320620300618\n",
      "Train Data Loss epoch6: 0.6375636665769796\n",
      "Train Data Loss epoch7: 0.5635659067017715\n",
      "Train Data Loss epoch8: 0.5146202884077739\n",
      "Train Data Loss epoch9: 0.4816887676119742\n",
      "Train Data Loss epoch10: 0.45929197506039177\n",
      "Train Data Loss epoch11: 0.4439113574386592\n",
      "Train Data Loss epoch12: 0.4332425773389108\n",
      "Train Data Loss epoch13: 0.42576761262834995\n",
      "Train Data Loss epoch14: 0.4204817763319661\n",
      "Train Data Loss epoch15: 0.4167151405316448\n",
      "Train Data Loss epoch16: 0.4140159932304711\n",
      "Train Data Loss epoch17: 0.41207526869603867\n",
      "Train Data Loss epoch18: 0.41067784714764743\n",
      "Train Data Loss epoch19: 0.4096713123342444\n",
      "Train Data Loss epoch20: 0.40894591399558033\n",
      "Train Data Loss epoch21: 0.40842162363233625\n",
      "Train Data Loss epoch22: 0.40803963125588083\n",
      "Train Data Loss epoch23: 0.4077566129544451\n",
      "Train Data Loss epoch24: 0.40754074212111774\n",
      "Train Data Loss epoch25: 0.4073688236370132\n",
      "Train Data Loss epoch26: 0.4072241780991727\n",
      "Train Data Loss epoch27: 0.4070950493984684\n",
      "Train Data Loss epoch28: 0.40697339314809444\n",
      "Train Data Loss epoch29: 0.40685395151222553\n",
      "Test Data Loss epoch0: 0.4471676338467921\n",
      "Test Data Loss epoch1: 0.4311459502544749\n",
      "Test Data Loss epoch2: 0.417969667402695\n",
      "Test Data Loss epoch3: 0.40669758735462197\n",
      "Test Data Loss epoch4: 0.39681452090664654\n",
      "Test Data Loss epoch5: 0.3880035168544219\n",
      "Test Data Loss epoch6: 0.3800496936356256\n",
      "Test Data Loss epoch7: 0.37279686543783075\n",
      "Test Data Loss epoch8: 0.3661262694521561\n",
      "Test Data Loss epoch9: 0.359945039046779\n",
      "Test Data Loss epoch10: 0.3541792748995996\n",
      "Test Data Loss epoch11: 0.34876948068284375\n",
      "Test Data Loss epoch12: 0.34366734148654865\n",
      "Test Data Loss epoch13: 0.33883334279431254\n",
      "Test Data Loss epoch14: 0.33423495991280283\n",
      "Test Data Loss epoch15: 0.32984525745944826\n",
      "Test Data Loss epoch16: 0.325641794555496\n",
      "Test Data Loss epoch17: 0.32160576288169496\n",
      "Test Data Loss epoch18: 0.31772130432671436\n",
      "Test Data Loss epoch19: 0.31397496819209564\n",
      "Test Data Loss epoch20: 0.31035527741368263\n",
      "Test Data Loss epoch21: 0.30685238031938555\n",
      "Test Data Loss epoch22: 0.3034577697887788\n",
      "Test Data Loss epoch23: 0.3001640557615139\n",
      "Test Data Loss epoch24: 0.29696478016852734\n",
      "Test Data Loss epoch25: 0.29385426575957113\n",
      "Test Data Loss epoch26: 0.2908274921446612\n",
      "Test Data Loss epoch27: 0.2878799937872138\n",
      "Test Data Loss epoch28: 0.28500777578376973\n",
      "Test Data Loss epoch29: 0.2822072441162086\n"
     ]
    }
   ],
   "source": [
    "# 初期化，学習\n",
    "nnc = ScratchSimpleNeuralNetrowkClassifier(verbose=True,n_nodes1=400,n_nodes2=200,n_output=10,batch_size=20,alpha=0.1,epoch=30)\n",
    "nnc.fit(X_train,y_train_one,X_val,y_val_one)"
   ]
  },
  {
   "cell_type": "code",
   "execution_count": 368,
   "metadata": {},
   "outputs": [
    {
     "name": "stdout",
     "output_type": "stream",
     "text": [
      "accuracy_score： 0.8509\n",
      "y_predの中身： (array([0, 1, 2, 3, 4, 5, 6, 7, 8, 9], dtype=int64), array([ 985, 1238,  880, 1135,  939,  908,  979,  993,  886, 1057],\n",
      "      dtype=int64))\n"
     ]
    }
   ],
   "source": [
    "# 推定\n",
    "y_pred = nnc.predict(X_test)\n",
    "print('accuracy_score：',accuracy_score(y_test, y_pred))\n",
    "print('y_predの中身：',np.unique(y_pred,return_counts=True))"
   ]
  },
  {
   "cell_type": "markdown",
   "metadata": {},
   "source": [
    "# 【問題7】学習曲線のプロット\n",
    "* ニューラルネットワークは過学習が発生しやすいため、学習曲線の確認が重要\n",
    "* trainデータとvalデータに対するエポックごとの損失（交差エントロピー誤差）を記録できるようにする必要がある"
   ]
  },
  {
   "cell_type": "code",
   "execution_count": 369,
   "metadata": {},
   "outputs": [
    {
     "data": {
      "text/plain": [
       "<matplotlib.legend.Legend at 0x288addb8bc8>"
      ]
     },
     "execution_count": 369,
     "metadata": {},
     "output_type": "execute_result"
    },
    {
     "data": {
      "image/png": "[encoded data removed]",
      "text/plain": [
       "<Figure size 432x288 with 1 Axes>"
      ]
     },
     "metadata": {
      "needs_background": "light"
     },
     "output_type": "display_data"
    }
   ],
   "source": [
    "plt.plot(nnc.loss,label='loss')\n",
    "plt.plot(nnc.loss_val,label='val_loss')\n",
    "plt.xlabel('Epochs')\n",
    "plt.ylabel('Loss')\n",
    "plt.title('Cross Entropy Error')\n",
    "plt.legend()"
   ]
  },
  {
   "cell_type": "markdown",
   "metadata": {},
   "source": [
    "# バックプロパゲーションの方法を変える（バイアスは平均をとらない）"
   ]
  },
  {
   "cell_type": "code",
   "execution_count": 409,
   "metadata": {},
   "outputs": [],
   "source": [
    "class ScratchSimpleNeuralNetrowkClassifier2():\n",
    "    \"\"\"\n",
    "    シンプルな三層ニューラルネットワーク分類器\n",
    "\n",
    "    Parameters\n",
    "    ----------\n",
    "\n",
    "    Attributes\n",
    "    ----------\n",
    "    \"\"\"\n",
    "    \n",
    "    def __init__(self, verbose,n_nodes1,n_nodes2,n_output,batch_size,alpha,epoch):\n",
    "        self.verbose = verbose\n",
    "        self.n_nodes1 = n_nodes1\n",
    "        self.n_nodes2 = n_nodes2\n",
    "        self.n_output = n_output\n",
    "        self.n_b = batch_size\n",
    "        self.alpha = alpha\n",
    "        self.epoch = epoch\n",
    "        \n",
    "        \n",
    "    \n",
    "    def _wheight_fanc(self,n,m):\n",
    "        \"\"\"\n",
    "        重みの初期値を作る\n",
    "        \n",
    "        Parameters\n",
    "        ----------\n",
    "        n : 重みのshape[0]\n",
    "        m : 重みのshape[1]\n",
    "        \n",
    "        Returns\n",
    "        -------\n",
    "        w : 次の形のndarray, shape (n,m)  各層の重みの初期値\n",
    "        \"\"\"\n",
    "        sigma = 0.01  # ガウス分布の標準偏差\n",
    "        w = sigma * np.random.randn(n,m)\n",
    "        return w\n",
    "    \n",
    "    def _sigmoid(self,A):\n",
    "        \"\"\"\n",
    "        シグモイド関数（活性化関数）\n",
    "        \n",
    "        Parameters\n",
    "        ----------\n",
    "        A : 次の形のndarray shape(batch_size,n_nodes)\n",
    "        \n",
    "        Returns\n",
    "        -------\n",
    "        次の形のndarray  shape (batch_size,n_nodes) \n",
    "        \"\"\"\n",
    "        return 1/(1 + np.exp(-A))\n",
    "    \n",
    "    def _hyperbolic_tan(self,A):\n",
    "        \"\"\"\n",
    "        ハイパボリックタンジェント関数（活性化関数）\n",
    "        \n",
    "        Parameters\n",
    "        ----------\n",
    "        A : 次の形のndarray shape(batch_size,n_nodes)\n",
    "        \n",
    "        Returns\n",
    "        -------\n",
    "        次の形のndarray  shape (batch_size,n_nodes) \n",
    "        \"\"\"\n",
    "        return np.tanh(A)\n",
    "    \n",
    "    def _softmax(self,A3):\n",
    "        \"\"\"\n",
    "        Parameters\n",
    "        ----------\n",
    "        A3 : 次の形のndarray, shape (n_batch_size, 10)\n",
    "             ニューラルネットワークの出力\n",
    "        Returns\n",
    "        -------\n",
    "            次の形のndarray, shape (n_batch_size, ) 各ラベルに属する確率\n",
    "        \"\"\"\n",
    "        exp_A = np.exp(A3)\n",
    "        sum_A = np.sum(exp_A,axis=1).reshape(-1,1)\n",
    "        return exp_A/sum_A\n",
    "    \n",
    "    def _forward(self,X):\n",
    "        \"\"\"\n",
    "        フォワードプロパゲーション\n",
    "        Parameters\n",
    "        ----------\n",
    "        X : 特徴量ベクトル ndarray, shape (n_batch_size,n_features)\n",
    "        Returns\n",
    "        -------\n",
    "        A : 各ラベルに属する確率 ndarray, shape (n_batch_size, n_nodes)\n",
    "        Z : 各ラベルのフラグ　ndarray, shape (n_batch_size, n_nodes)\n",
    "        \"\"\"\n",
    "        # 活性化関数がハイパボリックタンジェントの場合\n",
    "        A1 = np.dot(X,self.W1) + self.b1  #shape(batch_size, n_nodes1)\n",
    "        Z1 = self._hyperbolic_tan(A1)      #shape(batch_size, n_nodes1)\n",
    "\n",
    "        A2 = np.dot(Z1,self.W2) + self.b2  #shape(batch_size, n_nodes2)\n",
    "        Z2 = self._hyperbolic_tan(A2)       #shape(batch_size, n_nodes2)\n",
    "        \n",
    "        A3 = np.dot(Z2,self.W3) + self.b3  #shape(batch_size, n_output)\n",
    "        Z3 = self._softmax(A3)       #shape(batch_size, n_output)\n",
    "        return A1,Z1,A2,Z2,A3,Z3\n",
    "    \n",
    "    def cross_entropy(self,y,Z3):\n",
    "        \"\"\"\n",
    "        Parameters\n",
    "        ----------\n",
    "        Z3 : ニューラルネットワークの出力 ndarray, shape (n_batch_size, 10)\n",
    "        y : one-Hot表現にした正解値 ndarray, shape (n_batch_size,10)\n",
    "        \n",
    "        Returns\n",
    "        -------\n",
    "        loss : 交差エントロピー誤差 scaler\n",
    "        \"\"\"\n",
    "        # １次元のものが入ってきたら，形をそろえる\n",
    "        if Z3.ndim == 1:\n",
    "            y = y.reshape(1,y.size)\n",
    "            Z3 = Z3.reshape(1,Z3.size)\n",
    "        # アダマール積の総和÷バッチサイズ\n",
    "        loss = (np.sum(y*np.log(Z3)))/-self.n_b\n",
    "        return loss\n",
    "    \n",
    "    def _back_propagation(self,X,y,Z3,Z2,Z1,A2,A1):\n",
    "        ### 3層目 ###\n",
    "        L_A3 = Z3-y  #shape(20,10)\n",
    "        L_b3 = np.sum(L_A3,axis=0)  #shape(10,)\n",
    "        L_W3 = Z2.T@L_A3  #shape(200,10)\n",
    "        L_Z2 = L_A3@self.W3.T  #shape(20,200)\n",
    "        # 重みの更新\n",
    "        self.W3 = self.W3 - self.alpha*L_W3\n",
    "        # バイアスの更新\n",
    "        self.b3 = self.b3 - self.alpha*L_b3\n",
    "\n",
    "        ### 2層目 ###\n",
    "        step1 = 1-(np.tanh(A2)**2)\n",
    "        L_A2 = L_Z2*step1\n",
    "        L_b2 = np.sum(L_A2,axis=0)\n",
    "        L_W2 = Z1.T@L_A2\n",
    "        L_Z1 = L_A2@self.W2.T\n",
    "        # 重みの更新\n",
    "        self.W2 = self.W2 - self.alpha*L_W2\n",
    "        # バイアスの更新\n",
    "        self.b2 = self.b2 - self.alpha*L_b2\n",
    "        \n",
    "        ###１層目####\n",
    "        L_A1 = L_Z1 * (1 - (np.tanh(A1)**2))\n",
    "        L_b1 = np.sum(L_A1,axis=0)\n",
    "        L_W1 = X.T@L_A1\n",
    "        # 重みの更新\n",
    "        self.W1 = self.W1 - self.alpha*L_W1\n",
    "        # バイアスの更新\n",
    "        self.b1 = self.b1 - self.alpha*L_b1\n",
    "        \n",
    "    \n",
    "    def fit(self, X, y, X_val=None, y_val=None):\n",
    "        \"\"\"\n",
    "        ニューラルネットワーク分類器を学習する。\n",
    "\n",
    "        Parameters\n",
    "        ----------\n",
    "        X : 次の形のndarray, shape (n_samples, n_features)\n",
    "            訓練用データの特徴量\n",
    "        y : 次の形のndarray, shape (n_samples, )\n",
    "            訓練用データの正解値\n",
    "        X_val : 次の形のndarray, shape (n_samples, n_features)\n",
    "            検証用データの特徴量\n",
    "        y_val : 次の形のndarray, shape (n_samples, )\n",
    "            検証用データの正解値\n",
    "            \n",
    "        \"\"\"\n",
    "        self.n_features = X.shape[1]\n",
    "        self.loss = []\n",
    "        self.loss_val = []\n",
    "        \n",
    "        # 重みの初期化\n",
    "        self.W1 = self._wheight_fanc(self.n_features, self.n_nodes1)\n",
    "        self.W2 = self._wheight_fanc(self.n_nodes1, self.n_nodes2)\n",
    "        self.W3 = self._wheight_fanc(self.n_nodes2, self.n_output)\n",
    "        \n",
    "        # バイアスの初期化\n",
    "        self.b1 = np.zeros(self.n_nodes1)\n",
    "        self.b2 = np.zeros(self.n_nodes2)\n",
    "        self.b3 = np.zeros(self.n_output)\n",
    "        \n",
    "        # epochs回学習する\n",
    "        for e in range(self.epoch):\n",
    "            # ミニバッチの取得\n",
    "            get_mini_batch = GetMiniBatch(X, y, batch_size=self.n_b)\n",
    "            for mini_X_train, mini_y_train in get_mini_batch:\n",
    "                # フォワードプロパゲーションで出力を計算\n",
    "                A1,Z1,A2,Z2,A3,Z3 = self._forward(mini_X_train)\n",
    "                # バックプロパゲーションで重みの更新\n",
    "                self._back_propagation(mini_X_train,mini_y_train,Z3,Z2,Z1,A2,A1)\n",
    "            \n",
    "            # 交差エントロピー誤差\n",
    "            loss = self.cross_entropy(mini_y_train,Z3)\n",
    "            self.loss.append(loss)\n",
    "        \n",
    "            #verboseをTrueにした際は学習過程などを出力する\n",
    "            if self.verbose is True:\n",
    "                print('Train Data Loss epoch{0}: {1}'.format(e,loss))\n",
    "            else:\n",
    "                pass\n",
    "        \n",
    "        # 検証用データがある場合\n",
    "        if X_val is not None:\n",
    "            # 重みの初期化\n",
    "            self.W1_val = self._wheight_fanc(self.n_features, self.n_nodes1)\n",
    "            self.W2_val = self._wheight_fanc(self.n_nodes1, self.n_nodes2)\n",
    "            self.W3_val = self._wheight_fanc(self.n_nodes2, self.n_output)\n",
    "            # バイアスの初期化\n",
    "            self.b1_val = np.zeros(self.n_nodes1)\n",
    "            self.b2_val = np.zeros(self.n_nodes2)\n",
    "            self.b3_val = np.zeros(self.n_output)\n",
    "            \n",
    "            # epochs回学習する\n",
    "            for e in range(self.epoch):\n",
    "                # ミニバッチの取得\n",
    "                get_mini_batch_val = GetMiniBatch(X_val, y_val, batch_size=self.n_b)\n",
    "                for mini_X_train_val, mini_y_train_val in get_mini_batch_val:\n",
    "                    # フォワードプロパゲーションで出力を計算\n",
    "                    A1_val,Z1_val,A2_val,Z2_val,A3_val,Z3_val = self._forward(mini_X_train_val)\n",
    "                    # バックプロパゲーションで重みの更新\n",
    "                    self._back_propagation(mini_X_train_val,mini_y_train_val,Z3_val,Z2_val,Z1_val,A2_val,A1_val)\n",
    "                \n",
    "                # 交差エントロピー誤差\n",
    "                loss_val = self.cross_entropy(mini_y_train_val,Z3_val)\n",
    "                self.loss_val.append(loss_val)\n",
    "                \n",
    "                #verboseをTrueにした際は学習過程などを出力する\n",
    "                if self.verbose is True:\n",
    "                    print('Test Data Loss epoch{0}: {1}'.format(e,loss_val))\n",
    "                else:\n",
    "                    pass\n",
    "            \n",
    "    def predict(self, X):\n",
    "        \"\"\"\n",
    "        ニューラルネットワーク分類器を使い推定する。\n",
    "\n",
    "        Parameters\n",
    "        ----------\n",
    "        X : 次の形のndarray, shape (n_samples, n_features)\n",
    "            サンプル\n",
    "\n",
    "        Returns\n",
    "        -------\n",
    "        pred : 次の形のndarray, shape (n_samples, 1)  推定結果\n",
    "        \"\"\"\n",
    "        A1,Z1,A2,Z2,A3,Z3 = self._forward(X)\n",
    "        pred = np.argmax(Z3,axis=1)\n",
    "        return pred"
   ]
  },
  {
   "cell_type": "code",
   "execution_count": 410,
   "metadata": {},
   "outputs": [
    {
     "name": "stdout",
     "output_type": "stream",
     "text": [
      "Train Data Loss epoch0: 0.40528931898185744\n",
      "Train Data Loss epoch1: 0.2805129299976083\n",
      "Train Data Loss epoch2: 0.25811620412899583\n",
      "Train Data Loss epoch3: 0.23731976015777517\n",
      "Train Data Loss epoch4: 0.21898757491526372\n",
      "Train Data Loss epoch5: 0.20298361269870532\n",
      "Train Data Loss epoch6: 0.18848810571167182\n",
      "Train Data Loss epoch7: 0.17568379480055762\n",
      "Train Data Loss epoch8: 0.163743817995407\n",
      "Train Data Loss epoch9: 0.15131971837964497\n",
      "Train Data Loss epoch10: 0.13802585609601467\n",
      "Train Data Loss epoch11: 0.1241148518223738\n",
      "Train Data Loss epoch12: 0.11007485165555506\n",
      "Train Data Loss epoch13: 0.09651170962858706\n",
      "Train Data Loss epoch14: 0.08408581190513272\n",
      "Train Data Loss epoch15: 0.07333477096040478\n",
      "Train Data Loss epoch16: 0.06439311129280763\n",
      "Train Data Loss epoch17: 0.05705179795002456\n",
      "Train Data Loss epoch18: 0.050994577018422374\n",
      "Train Data Loss epoch19: 0.04594643697747437\n",
      "Train Data Loss epoch20: 0.04171271601149965\n",
      "Train Data Loss epoch21: 0.038168414768894376\n",
      "Train Data Loss epoch22: 0.03522109387770576\n",
      "Train Data Loss epoch23: 0.03277284290020575\n",
      "Train Data Loss epoch24: 0.03070786246380806\n",
      "Train Data Loss epoch25: 0.028906330328492713\n",
      "Train Data Loss epoch26: 0.027265290871771264\n",
      "Train Data Loss epoch27: 0.025710724301221816\n",
      "Train Data Loss epoch28: 0.02419992069896871\n",
      "Train Data Loss epoch29: 0.022719704836228753\n",
      "Train Data Loss epoch30: 0.021278747599308857\n",
      "Train Data Loss epoch31: 0.019892256130304233\n",
      "Train Data Loss epoch32: 0.018568560165625497\n",
      "Train Data Loss epoch33: 0.017312572324728947\n",
      "Train Data Loss epoch34: 0.016136097127514622\n",
      "Train Data Loss epoch35: 0.015054153266454196\n",
      "Train Data Loss epoch36: 0.014074759425694184\n",
      "Train Data Loss epoch37: 0.013195441530329172\n",
      "Train Data Loss epoch38: 0.01240576389529659\n",
      "Train Data Loss epoch39: 0.011691446100334754\n",
      "Train Data Loss epoch40: 0.011038361606865495\n",
      "Train Data Loss epoch41: 0.010435523761378856\n",
      "Train Data Loss epoch42: 0.00987613093514671\n",
      "Train Data Loss epoch43: 0.009357065990752535\n",
      "Train Data Loss epoch44: 0.008877864762797453\n",
      "Train Data Loss epoch45: 0.008439450304372658\n",
      "Train Data Loss epoch46: 0.008042483477448603\n",
      "Train Data Loss epoch47: 0.007685888638332786\n",
      "Train Data Loss epoch48: 0.0073664942781259445\n",
      "Train Data Loss epoch49: 0.0070797121297234925\n",
      "Test Data Loss epoch0: 0.003845900259910597\n",
      "Test Data Loss epoch1: 0.01319210586621091\n",
      "Test Data Loss epoch2: 0.01678687371584389\n",
      "Test Data Loss epoch3: 0.011801660601617244\n",
      "Test Data Loss epoch4: 0.008358614652161488\n",
      "Test Data Loss epoch5: 0.007074369570781934\n",
      "Test Data Loss epoch6: 0.00646668925008113\n",
      "Test Data Loss epoch7: 0.005957825303026997\n",
      "Test Data Loss epoch8: 0.005529915584169667\n",
      "Test Data Loss epoch9: 0.005126922298610038\n",
      "Test Data Loss epoch10: 0.004688226114941522\n",
      "Test Data Loss epoch11: 0.004253557484645976\n",
      "Test Data Loss epoch12: 0.003880397871271669\n",
      "Test Data Loss epoch13: 0.0035703402346212235\n",
      "Test Data Loss epoch14: 0.0033071434733815213\n",
      "Test Data Loss epoch15: 0.003077544428064627\n",
      "Test Data Loss epoch16: 0.0028724254587899857\n",
      "Test Data Loss epoch17: 0.0026875137535661425\n",
      "Test Data Loss epoch18: 0.0025216572124944145\n",
      "Test Data Loss epoch19: 0.002375104750472241\n",
      "Test Data Loss epoch20: 0.0022494588536243203\n",
      "Test Data Loss epoch21: 0.002144441103106698\n",
      "Test Data Loss epoch22: 0.002054288176359287\n",
      "Test Data Loss epoch23: 0.001973007533069034\n",
      "Test Data Loss epoch24: 0.0018977724248843073\n",
      "Test Data Loss epoch25: 0.0018275759731794274\n",
      "Test Data Loss epoch26: 0.0017619958617243862\n",
      "Test Data Loss epoch27: 0.0017007435185957633\n",
      "Test Data Loss epoch28: 0.001643545223438706\n",
      "Test Data Loss epoch29: 0.0015901230087101014\n",
      "Test Data Loss epoch30: 0.0015401993650217486\n",
      "Test Data Loss epoch31: 0.0014935046439449227\n",
      "Test Data Loss epoch32: 0.0014497824514467861\n",
      "Test Data Loss epoch33: 0.0014087927031482066\n",
      "Test Data Loss epoch34: 0.0013703129306016399\n",
      "Test Data Loss epoch35: 0.0013341384466181185\n",
      "Test Data Loss epoch36: 0.001300081820717569\n",
      "Test Data Loss epoch37: 0.0012679719664765272\n",
      "Test Data Loss epoch38: 0.0012376530336880068\n",
      "Test Data Loss epoch39: 0.0012089832253971981\n",
      "Test Data Loss epoch40: 0.0011818336127469348\n",
      "Test Data Loss epoch41: 0.0011560869905106372\n",
      "Test Data Loss epoch42: 0.0011316367971497218\n",
      "Test Data Loss epoch43: 0.0011083861112372475\n",
      "Test Data Loss epoch44: 0.0010862467286052798\n",
      "Test Data Loss epoch45: 0.0010651383199816998\n",
      "Test Data Loss epoch46: 0.0010449876661434497\n",
      "Test Data Loss epoch47: 0.0010257279660794531\n",
      "Test Data Loss epoch48: 0.0010072982128835693\n",
      "Test Data Loss epoch49: 0.000989642631816087\n"
     ]
    }
   ],
   "source": [
    "# 初期化，学習\n",
    "nnc2 = ScratchSimpleNeuralNetrowkClassifier2(verbose=True,n_nodes1=400,n_nodes2=200,n_output=10,batch_size=20,alpha=0.001,epoch=50)\n",
    "nnc2.fit(X_train,y_train_one,X_val,y_val_one)"
   ]
  },
  {
   "cell_type": "code",
   "execution_count": 411,
   "metadata": {},
   "outputs": [
    {
     "name": "stdout",
     "output_type": "stream",
     "text": [
      "accuracy_score 0.9761\n",
      "y_predの中身： (array([0, 1, 2, 3, 4, 5, 6, 7, 8, 9], dtype=int64), array([ 987, 1137, 1028, 1022,  991,  880,  949, 1029,  980,  997],\n",
      "      dtype=int64))\n"
     ]
    }
   ],
   "source": [
    "# 推定\n",
    "y_pred2 = nnc2.predict(X_test)\n",
    "print('accuracy_score',accuracy_score(y_test, y_pred2))\n",
    "print('y_predの中身：',np.unique(y_pred2,return_counts=True))"
   ]
  },
  {
   "cell_type": "code",
   "execution_count": 413,
   "metadata": {},
   "outputs": [
    {
     "data": {
      "image/png": "[encoded data removed]",
      "text/plain": [
       "<Figure size 432x288 with 1 Axes>"
      ]
     },
     "metadata": {
      "needs_background": "light"
     },
     "output_type": "display_data"
    }
   ],
   "source": [
    "# 可視化\n",
    "plt.plot(nnc2.loss,label='loss')\n",
    "plt.plot(nnc2.loss_val,label='val_loss')\n",
    "plt.xlabel('Epochs')\n",
    "plt.ylabel('Loss')\n",
    "plt.title('Cross Entropy Error')\n",
    "plt.legend()\n",
    "plt.show()"
   ]
  },
  {
   "cell_type": "code",
   "execution_count": null,
   "metadata": {},
   "outputs": [],
   "source": []
  }
 ],
 "metadata": {
  "kernelspec": {
   "display_name": "Python 3",
   "language": "python",
   "name": "python3"
  },
  "language_info": {
   "codemirror_mode": {
    "name": "ipython",
    "version": 3
   },
   "file_extension": ".py",
   "mimetype": "text/x-python",
   "name": "python",
   "nbconvert_exporter": "python",
   "pygments_lexer": "ipython3",
   "version": "3.7.4"
  }
 },
 "nbformat": 4,
 "nbformat_minor": 2
}
