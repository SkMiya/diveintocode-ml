{
 "cells": [
  {
   "cell_type": "markdown",
   "metadata": {},
   "source": [
    "# Sprint 機械学習スクラッチ 決定木"
   ]
  },
  {
   "cell_type": "code",
   "execution_count": 1,
   "metadata": {},
   "outputs": [],
   "source": [
    "import numpy as np\n",
    "import pandas as pd\n",
    "from sklearn.model_selection import train_test_split\n",
    "from sklearn.preprocessing import StandardScaler\n",
    "# 評価\n",
    "from sklearn.metrics import classification_report\n",
    "from sklearn.metrics import accuracy_score\n",
    "# 可視化\n",
    "import matplotlib.pyplot as plt\n",
    "import japanize_matplotlib\n",
    "from matplotlib.colors import ListedColormap\n",
    "import matplotlib.patches as mpatches"
   ]
  },
  {
   "cell_type": "code",
   "execution_count": 9,
   "metadata": {},
   "outputs": [],
   "source": [
    "# データセットの作成\n",
    "X = np.array([[-0.44699 , -2.8073  ],[-1.4621  , -2.4586  ],\n",
    "       [ 0.10645 ,  1.9242  ],[-3.5944  , -4.0112  ],\n",
    "       [-0.9888  ,  4.5718  ],[-3.1625  , -3.9606  ],\n",
    "       [ 0.56421 ,  0.72888 ],[-0.60216 ,  8.4636  ],\n",
    "       [-0.61251 , -0.75345 ],[-0.73535 , -2.2718  ],\n",
    "       [-0.80647 , -2.2135  ],[ 0.86291 ,  2.3946  ],\n",
    "       [-3.1108  ,  0.15394 ],[-2.9362  ,  2.5462  ],\n",
    "       [-0.57242 , -2.9915  ],[ 1.4771  ,  3.4896  ],\n",
    "       [ 0.58619 ,  0.37158 ],[ 0.6017  ,  4.3439  ],\n",
    "       [-2.1086  ,  8.3428  ],[-4.1013  , -4.353   ],\n",
    "       [-1.9948  , -1.3927  ],[ 0.35084 , -0.031994],\n",
    "       [ 0.96765 ,  7.8929  ],[-1.281   , 15.6824  ],\n",
    "       [ 0.96765 , 10.083   ],[ 1.3763  ,  1.3347  ],\n",
    "       [-2.234   , -2.5323  ],[-2.9452  , -1.8219  ],\n",
    "       [ 0.14654 , -0.28733 ],[ 0.5461  ,  5.8245  ],\n",
    "       [-0.65259 ,  9.3444  ],[ 0.59912 ,  5.3524  ],\n",
    "       [ 0.50214 , -0.31818 ],[-3.0603  , -3.6461  ],\n",
    "       [-6.6797  ,  0.67661 ],[-2.353   , -0.72261 ],\n",
    "       [ 1.1319  ,  2.4023  ],[-0.12243 ,  9.0162  ],\n",
    "       [-2.5677  , 13.1779  ],[ 0.057313,  5.4681  ]])\n",
    "y = np.array([0, 0, 0, 0, 0, 0, 0, 0, 0, 0, 0, 0, 0, 0, 0, 0, 0, 0, 0, 0, 1, 1,\n",
    "       1, 1, 1, 1, 1, 1, 1, 1, 1, 1, 1, 1, 1, 1, 1, 1, 1, 1])"
   ]
  },
  {
   "cell_type": "code",
   "execution_count": 13,
   "metadata": {},
   "outputs": [
    {
     "name": "stdout",
     "output_type": "stream",
     "text": [
      "X_train_shape: (28, 2)\n",
      "y_train_shape: (28,)\n",
      "X_test_shape: (12, 2)\n",
      "y_test_shape: (12,)\n"
     ]
    }
   ],
   "source": [
    "# trainとtestに分ける\n",
    "X_train,X_test,y_train,y_test = train_test_split(X,y,random_state=0,test_size=0.3)\n",
    "print('X_train_shape:',X_train.shape)\n",
    "print('y_train_shape:',y_train.shape)\n",
    "print('X_test_shape:',X_test.shape)\n",
    "print('y_test_shape:',y_test.shape)"
   ]
  },
  {
   "cell_type": "code",
   "execution_count": 15,
   "metadata": {},
   "outputs": [
    {
     "name": "stdout",
     "output_type": "stream",
     "text": [
      "[15 13]\n",
      "左子ノードのラベル： 0\n"
     ]
    },
    {
     "data": {
      "text/plain": [
       "(array([0, 1]), array([15, 13], dtype=int64))"
      ]
     },
     "execution_count": 15,
     "metadata": {},
     "output_type": "execute_result"
    }
   ],
   "source": [
    "count_left = np.bincount(y_train)\n",
    "print(count_left)\n",
    "left = np.argmax(count_left)\n",
    "print('左子ノードのラベル：',left)\n",
    "np.unique(y_train, return_counts=True)"
   ]
  },
  {
   "cell_type": "markdown",
   "metadata": {},
   "source": [
    "# 【問題1】不純度を求める関数\n",
    "* ノード の ジニ不純度 を計算する関数を作成\n",
    "* クラスが混じり合っているほどジニ不純度は高くなる\n",
    "* メモ：np.unique(y, return_counts=True)とすると，ユニークな値とそれに含まれる要素数が返ってくる\n",
    "* メモ：np.count_nonzero(c == label)　条件を満たす要素の数が返る"
   ]
  },
  {
   "cell_type": "code",
   "execution_count": 54,
   "metadata": {},
   "outputs": [],
   "source": [
    "def gini(c):\n",
    "    # クラスラベル\n",
    "    n_class = np.unique(c)\n",
    "    # サンプル数\n",
    "    n_all = len(c)\n",
    "    # シグマの初期化\n",
    "    sigma = 0\n",
    "    # ひとつひとつのクラスラベルについて計算する\n",
    "    for label in n_class:\n",
    "        sigma += (np.count_nonzero(c == label)/len(c))**2\n",
    "    gini = 1 - sigma\n",
    "    return gini"
   ]
  },
  {
   "cell_type": "markdown",
   "metadata": {},
   "source": [
    "### 簡単なサンプルで検証．\n",
    "* （１）クラス1:サンプル数15, クラス2:サンプル数15 → ジニ不純度0.500\n",
    "* （２）クラス1:サンプル数15, クラス2:サンプル数15, クラス3:サンプル数15 → ジニ不純度0.667"
   ]
  },
  {
   "cell_type": "code",
   "execution_count": 56,
   "metadata": {},
   "outputs": [
    {
     "name": "stdout",
     "output_type": "stream",
     "text": [
      "（１）ab_shape: (30,) \n",
      " [0. 0. 0. 0. 0. 0. 0. 0. 0. 0. 0. 0. 0. 0. 0. 1. 1. 1. 1. 1. 1. 1. 1. 1.\n",
      " 1. 1. 1. 1. 1. 1.]\n",
      "\n",
      "（２）abc_shape: (45,) \n",
      " [0. 0. 0. 0. 0. 0. 0. 0. 0. 0. 0. 0. 0. 0. 0. 1. 1. 1. 1. 1. 1. 1. 1. 1.\n",
      " 1. 1. 1. 1. 1. 1. 2. 2. 2. 2. 2. 2. 2. 2. 2. 2. 2. 2. 2. 2. 2.]\n"
     ]
    }
   ],
   "source": [
    "a = np.zeros(15)\n",
    "b = np.ones(15)\n",
    "c = np.full(15, 2)\n",
    "# クラス1:サンプル数15, クラス2:サンプル数15 →ジニ不純度0.500\n",
    "ab = np.concatenate([a,b],axis=0)\n",
    "# クラス1:サンプル数15,クラス2:サンプル数15, クラス3:サンプル数15 → ジニ不純度0.667\n",
    "abc = np.concatenate([a,b,c],axis=0)\n",
    "print('（１）ab_shape:',ab.shape,'\\n',ab)\n",
    "print('\\n（２）abc_shape:',abc.shape,'\\n',abc)"
   ]
  },
  {
   "cell_type": "code",
   "execution_count": 57,
   "metadata": {},
   "outputs": [
    {
     "name": "stdout",
     "output_type": "stream",
     "text": [
      "(1) 0.5\n",
      "(2) 0.6666666666666667\n"
     ]
    }
   ],
   "source": [
    "print('(1)',gini(ab))\n",
    "print('(2)',gini(abc))"
   ]
  },
  {
   "cell_type": "markdown",
   "metadata": {},
   "source": [
    "# 【問題2】情報利得を求める関数"
   ]
  },
  {
   "cell_type": "code",
   "execution_count": 67,
   "metadata": {},
   "outputs": [],
   "source": [
    "def information_gain(N,left,right):\n",
    "    # 親ノードのジニ\n",
    "    Ip = gini(N)\n",
    "    print('IP:',Ip)\n",
    "    # 左子ノード\n",
    "    left = (len(left)/len(N))*gini(left)\n",
    "    print('left:',left)\n",
    "    # 右子ノード\n",
    "    right = (len(right)/len(N))*gini(right)\n",
    "    print('right:',right)\n",
    "    # 情報利得を計算\n",
    "    IG = Ip - left - right\n",
    "    print('情報利得:',IG)\n",
    "    return IG"
   ]
  },
  {
   "cell_type": "markdown",
   "metadata": {},
   "source": [
    "#### 簡単なサンプルで検証\n",
    "* 左ノードクラス1:サンプル数10, 左ノードクラス2:サンプル数30, \n",
    "* 右ノードクラス1:サンプル数20, 右ノードクラス2:サンプル数5             \n",
    "→ 情報利得0.143"
   ]
  },
  {
   "cell_type": "code",
   "execution_count": 68,
   "metadata": {},
   "outputs": [
    {
     "name": "stdout",
     "output_type": "stream",
     "text": [
      "N_left_shape (40,)\n",
      "N_right_shape (25,)\n",
      "N_all_shape (65,)\n"
     ]
    }
   ],
   "source": [
    "a = np.zeros(10)\n",
    "b = np.ones(30)\n",
    "N_left = np.concatenate([a,b],axis=0)\n",
    "print('N_left_shape',N_left.shape)\n",
    "c = np.zeros(20)\n",
    "d = np.ones(5)\n",
    "N_right = np.concatenate([c,d],axis=0)\n",
    "print('N_right_shape',N_right.shape)\n",
    "N_all = np.concatenate([N_left,N_right],axis=0)\n",
    "print('N_all_shape',N_all.shape)"
   ]
  },
  {
   "cell_type": "code",
   "execution_count": 70,
   "metadata": {},
   "outputs": [
    {
     "name": "stdout",
     "output_type": "stream",
     "text": [
      "IP: 0.4970414201183432\n",
      "left: 0.23076923076923078\n",
      "right: 0.12307692307692303\n",
      "情報利得: 0.14319526627218937\n"
     ]
    },
    {
     "data": {
      "text/plain": [
       "0.14319526627218937"
      ]
     },
     "execution_count": 70,
     "metadata": {},
     "output_type": "execute_result"
    }
   ],
   "source": [
    "information_gain(N_all,N_left,N_right)"
   ]
  },
  {
   "cell_type": "markdown",
   "metadata": {},
   "source": [
    "# 【問題3】学習"
   ]
  },
  {
   "cell_type": "code",
   "execution_count": 86,
   "metadata": {},
   "outputs": [],
   "source": [
    "class ScratchDecesionTreeClassifierDepth1():\n",
    "    \"\"\"\n",
    "    深さ1の決定木分類器のスクラッチ実装\n",
    "\n",
    "    Parameters\n",
    "    ----------\n",
    "    verbose : bool\n",
    "      学習過程を出力する場合はTrue\n",
    "    \"\"\"\n",
    "\n",
    "    def __init__(self, verbose=False):\n",
    "        # ハイパーパラメータを属性として記録\n",
    "        self.verbose = verbose\n",
    "\n",
    "    def gini_score(self,c):\n",
    "        \"\"\"\n",
    "        ジニ不純度を計算する\n",
    "        \n",
    "        Parameters\n",
    "        ----------\n",
    "        c : ndarray\n",
    "        \"\"\"\n",
    "        n_class = np.unique(c)\n",
    "        n_all = len(c)\n",
    "        sigma = 0\n",
    "        for label in n_class:\n",
    "            sigma += (np.count_nonzero(c == label)/len(c))**2\n",
    "        gini = 1 - sigma\n",
    "        return gini    \n",
    "    \n",
    "    def information_gain(self,N,left,right):\n",
    "        \"\"\"\n",
    "        情報利得を計算する．\n",
    "        \n",
    "        Parameters\n",
    "        ----------\n",
    "        N : ndarray (n_samples,n_features)\n",
    "        left : ndarray (n_sample,)\n",
    "        right: ndarray (n_samples,)\n",
    "        \"\"\"\n",
    "        Ip = self.gini_score(N)\n",
    "        left = (len(left)/len(N))*self.gini_score(left)\n",
    "        right = (len(right)/len(N))*self.gini_score(right)\n",
    "        IG = Ip - left - right\n",
    "        return IG\n",
    "    \n",
    "\n",
    "    def fit(self, X, y):\n",
    "        \"\"\"\n",
    "        決定木分類器を学習する\n",
    "        Parameters\n",
    "        ----------\n",
    "        X : 次の形のndarray, shape (n_samples, n_features)\n",
    "            学習用データの特徴量\n",
    "        y : 次の形のndarray, shape (n_samples, )\n",
    "            学習用データの正解値\n",
    "        \"\"\"\n",
    "        # 特徴量の数\n",
    "        num_features = X.shape[1]\n",
    "        # forの中でのX\n",
    "        split_points_list = []\n",
    "        # 特徴量ごとの情報利得\n",
    "        info_gain_list = []\n",
    "        # 特徴量の数だけ回まわして，Xを全部取り出す\n",
    "        for f in range(num_features):\n",
    "            # 重複するものは計算しない．\n",
    "            uniq_feature = np.unique(X[:, f])\n",
    "            # 情報利得\n",
    "            ig_list = []\n",
    "            # 取り出したXすべてでIGを計算していく．\n",
    "            for val in uniq_feature:\n",
    "                # x以上ならleft，以下ならright\n",
    "                n_l,n_r = [y[X[:, f] >= val], y[X[:, f] < val]]\n",
    "                ig = self.information_gain(y,n_l,n_r)\n",
    "                ig_list.append(ig)\n",
    "\n",
    "            # Xを特徴量ごとにリスト化\n",
    "            split_points_list.append(uniq_feature.tolist())\n",
    "            # 情報利得を特徴量ごとに保存\n",
    "            info_gain_list.append(ig_list)\n",
    "            \n",
    "        # 特徴量ごとに情報利得が最大なものを取り出す\n",
    "        for f in range(num_features):\n",
    "            x_atmax = split_points_list[f][np.where(info_gain_list[f] == np.max(info_gain_list[f]))[0].tolist()[0]]\n",
    "            y_atmax = np.max(info_gain_list[f])\n",
    "            max_info_gain = np.max(np.max(info_gain_list))\n",
    "                  \n",
    "            # 全特徴量の中から，情報利得が最大のものを記録\n",
    "            if y_atmax == max_info_gain:\n",
    "                # 情報利得が最大の列（特徴量）\n",
    "                self.feature = f\n",
    "                # その特徴量の値\n",
    "                self.threshold = x_atmax\n",
    "                \n",
    "                \n",
    "        # 閾値を超えた特徴量は左\n",
    "        idx_left = X[:, self.feature] >= self.threshold\n",
    "        idx_right = X[:, self.feature] < self.threshold\n",
    "        # 閾値を超えたｙは左\n",
    "        left = y[idx_left]\n",
    "        right = y[idx_right]\n",
    "        \n",
    "        # 多数決\n",
    "        count_left = np.bincount(left)\n",
    "        self.left = np.argmax(count_left)\n",
    "        print('左子ノードのラベル：',self.left)\n",
    "        count_right = np.bincount(right)\n",
    "        self.right = np.argmax(count_right)    \n",
    "        print('右子ノードのラベル',self.right)\n",
    "        \n",
    "        #if self.verbose:\n",
    "            #verboseをTrueにした際は学習過程を出力\n",
    "            #print()\n",
    "        #pass\n",
    "        \n",
    "    def predict(self,X):\n",
    "        \"\"\"\n",
    "        学習で得た閾値で推定する．\n",
    "\n",
    "        Parameters\n",
    "        ----------\n",
    "        X　: ndarray　shape(n_sample,n_feature)\n",
    "        \"\"\"\n",
    "        return np.where(X[:,self.feature] > self.threshold, self.left,self.right)"
   ]
  },
  {
   "cell_type": "code",
   "execution_count": 99,
   "metadata": {},
   "outputs": [
    {
     "name": "stdout",
     "output_type": "stream",
     "text": [
      "左子ノードのラベル： 1\n",
      "右子ノードのラベル 0\n",
      "[1 0 0 0 0 0 0 0 1 1]\n",
      "[1 1 1 0 0 0 1 0 0 1]\n"
     ]
    }
   ],
   "source": [
    "# 初期化，学習，推定\n",
    "tree = ScratchDecesionTreeClassifierDepth1()\n",
    "tree.fit(X_train,y_train)\n",
    "y_pred = tree.predict(X_test)\n",
    "print(y_pred)\n",
    "print(y_test)"
   ]
  },
  {
   "cell_type": "code",
   "execution_count": 100,
   "metadata": {},
   "outputs": [
    {
     "name": "stdout",
     "output_type": "stream",
     "text": [
      "accuracy: 0.6\n",
      "              precision    recall  f1-score   support\n",
      "\n",
      "           0       0.57      0.80      0.67         5\n",
      "           1       0.67      0.40      0.50         5\n",
      "\n",
      "   micro avg       0.60      0.60      0.60        10\n",
      "   macro avg       0.62      0.60      0.58        10\n",
      "weighted avg       0.62      0.60      0.58        10\n",
      "\n"
     ]
    }
   ],
   "source": [
    "# Accuracy，Precision，Recall\n",
    "from sklearn.metrics import accuracy_score\n",
    "print('accuracy:',accuracy_score(y_test,y_pred))\n",
    "print(classification_report(y_test,y_pred))"
   ]
  },
  {
   "cell_type": "markdown",
   "metadata": {},
   "source": [
    "# sklearn 決定木"
   ]
  },
  {
   "cell_type": "code",
   "execution_count": 102,
   "metadata": {},
   "outputs": [],
   "source": [
    "from sklearn.tree import DecisionTreeClassifier\n",
    "# 初期化，学習，推定\n",
    "model = DecisionTreeClassifier(criterion='gini',max_depth=1,random_state=0)\n",
    "model.fit(X_train,y_train)\n",
    "y_pred_sk = model.predict(X_test)"
   ]
  },
  {
   "cell_type": "code",
   "execution_count": 103,
   "metadata": {},
   "outputs": [
    {
     "name": "stdout",
     "output_type": "stream",
     "text": [
      "accuracy: 0.6\n",
      "              precision    recall  f1-score   support\n",
      "\n",
      "           0       0.57      0.80      0.67         5\n",
      "           1       0.67      0.40      0.50         5\n",
      "\n",
      "   micro avg       0.60      0.60      0.60        10\n",
      "   macro avg       0.62      0.60      0.58        10\n",
      "weighted avg       0.62      0.60      0.58        10\n",
      "\n"
     ]
    }
   ],
   "source": [
    "# Accuracy，Precision，Recall\n",
    "print('accuracy:',accuracy_score(y_test,y_pred_sk))\n",
    "print(classification_report(y_test,y_pred_sk))"
   ]
  },
  {
   "cell_type": "markdown",
   "metadata": {},
   "source": [
    "# 【問題6】決定領域の可視化"
   ]
  },
  {
   "cell_type": "code",
   "execution_count": 104,
   "metadata": {},
   "outputs": [],
   "source": [
    "from matplotlib.colors import ListedColormap\n",
    "import matplotlib.patches as mpatches\n",
    "\n",
    "def decision_region(X, y, model, step=0.01, title='Decision Region', xlabel='f0', ylabel='f1', target_names=['1', '-1']):\n",
    "    \"\"\"\n",
    "    2値分類を2次元の特徴量で学習したモデルの決定領域を描く。\n",
    "\n",
    "    Parameters\n",
    "    ----------------\n",
    "    X : ndarray, shape(n_samples, 2)\n",
    "        特徴量\n",
    "    y : ndarray, shape(n_samples,)\n",
    "        ラベル\n",
    "    model : object\n",
    "        学習したモデルのインスンタスを入れる\n",
    "    step : float, (default : 0.1)\n",
    "        推定値を計算する間隔を設定する\n",
    "    title : str\n",
    "        グラフのタイトルの文章を与える\n",
    "    xlabel, ylabel : str\n",
    "        軸ラベルの文章を与える\n",
    "    target_names= : list of str\n",
    "        凡例の一覧を与える\n",
    "    \"\"\"\n",
    "    # setting\n",
    "    scatter_color = ['red', 'blue']\n",
    "    contourf_color = ['pink', 'skyblue']\n",
    "    n_class = 2\n",
    "\n",
    "    # pred\n",
    "    mesh_f0, mesh_f1  = np.meshgrid(np.arange(np.min(X[:,0])-0.5, np.max(X[:,0])+0.5, step), np.arange(np.min(X[:,1])-0.5, np.max(X[:,1])+0.5, step))\n",
    "    mesh = np.c_[np.ravel(mesh_f0),np.ravel(mesh_f1)]\n",
    "    y_pred = model.predict(mesh).reshape(mesh_f0.shape)\n",
    "\n",
    "    # plot\n",
    "    plt.title(title)\n",
    "    plt.xlabel(xlabel)\n",
    "    plt.ylabel(ylabel)\n",
    "    plt.contourf(mesh_f0, mesh_f1, y_pred, n_class-1, cmap=ListedColormap(contourf_color))\n",
    "    plt.contour(mesh_f0, mesh_f1, y_pred, n_class-1, colors='y', linewidths=3, alpha=0.5)\n",
    "    for i, target in enumerate(set(y)):\n",
    "        plt.scatter(X[y==target][:, 0], X[y==target][:, 1], s=80, color=scatter_color[i], label=target_names[i], marker='o')\n",
    "    patches = [mpatches.Patch(color=scatter_color[i], label=target_names[i]) for i in range(n_class)]\n",
    "     \n",
    "    plt.legend(handles=patches)\n",
    "    plt.legend()\n",
    "    plt.show()"
   ]
  },
  {
   "cell_type": "markdown",
   "metadata": {},
   "source": [
    "## １．スクラッチ決定木"
   ]
  },
  {
   "cell_type": "code",
   "execution_count": 105,
   "metadata": {},
   "outputs": [
    {
     "data": {
      "image/png": "[encoded data removed]",
      "text/plain": [
       "<Figure size 432x288 with 1 Axes>"
      ]
     },
     "metadata": {
      "needs_background": "light"
     },
     "output_type": "display_data"
    }
   ],
   "source": [
    "decision_region(X=X_test, y=y_test, model=tree, step=0.01, title='Decision Region', xlabel='f0', ylabel='f1', target_names=['0', '1'])"
   ]
  },
  {
   "cell_type": "markdown",
   "metadata": {},
   "source": [
    "## ２．sklearn"
   ]
  },
  {
   "cell_type": "code",
   "execution_count": 106,
   "metadata": {},
   "outputs": [
    {
     "data": {
      "image/png": "[encoded data removed]",
      "text/plain": [
       "<Figure size 432x288 with 1 Axes>"
      ]
     },
     "metadata": {
      "needs_background": "light"
     },
     "output_type": "display_data"
    }
   ],
   "source": [
    "decision_region(X=X_test, y=y_test, model=model, step=0.01, title='Decision Region', xlabel='f0', ylabel='f1', target_names=['0', '1'])"
   ]
  },
  {
   "cell_type": "code",
   "execution_count": null,
   "metadata": {},
   "outputs": [],
   "source": []
  }
 ],
 "metadata": {
  "kernelspec": {
   "display_name": "Python 3",
   "language": "python",
   "name": "python3"
  },
  "language_info": {
   "codemirror_mode": {
    "name": "ipython",
    "version": 3
   },
   "file_extension": ".py",
   "mimetype": "text/x-python",
   "name": "python",
   "nbconvert_exporter": "python",
   "pygments_lexer": "ipython3",
   "version": "3.7.4"
  }
 },
 "nbformat": 4,
 "nbformat_minor": 2
}
