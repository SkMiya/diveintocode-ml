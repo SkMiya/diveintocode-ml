{
 "cells": [
  {
   "cell_type": "markdown",
   "metadata": {},
   "source": [
    "# Sprint課題 機械学習スクラッチ入門\n",
    "## スクラッチ\n",
    "このSprintでは機械学習手法のスクラッチ課題に取り組む準備を行います。scikit-learnを用いて分類・回帰問題を解くコードを書いておき、今後のSprintではそれと同じ動作をするクラスをスクラッチで作成していきます。\n",
    "\n",
    "### スクラッチの意義\n",
    "ここでのスクラッチとは、NumPyなどの基本的なライブラリを組み合わせることで、scikit-learnのような応用的なライブラリと同じ機能のクラス・関数を自作することを指します。\n",
    "\n",
    "スクラッチをすることでscikit-learnなどのライブラリを動かすだけでは掴みづらい、アルゴリズムの深い理解を目指します。コーディングのスキル向上も兼ねますが、それは主な目的ではありません。\n",
    "\n",
    "以下のような効果を狙っています。\n",
    "\n",
    "* 新たな手法に出会った時に理論・数式を理解しやすくする\n",
    "* ライブラリを使う上での曖昧さを減らす\n",
    "* 既存の実装を読みやすくする\n",
    "## データの準備"
   ]
  },
  {
   "cell_type": "code",
   "execution_count": 14,
   "metadata": {
    "ExecuteTime": {
     "end_time": "2019-10-03T14:30:51.559841Z",
     "start_time": "2019-10-03T14:30:51.555852Z"
    }
   },
   "outputs": [],
   "source": [
    "import numpy as np\n",
    "import pandas as pd\n",
    "import matplotlib.pyplot as plt"
   ]
  },
  {
   "cell_type": "code",
   "execution_count": 15,
   "metadata": {
    "ExecuteTime": {
     "end_time": "2019-10-03T14:30:52.365245Z",
     "start_time": "2019-10-03T14:30:52.356268Z"
    }
   },
   "outputs": [
    {
     "data": {
      "text/plain": [
       "(100, 4)"
      ]
     },
     "execution_count": 15,
     "metadata": {},
     "output_type": "execute_result"
    }
   ],
   "source": [
    "# データの読み込み\n",
    "from sklearn.datasets import load_iris\n",
    "iris = load_iris()\n",
    "feature_data = iris.data\n",
    "target_data = iris.target\n",
    "c = np.c_[feature_data,target_data]\n",
    "data = c[c[:,4] >= 1]\n",
    "X_iris = data[:,0:4]\n",
    "y_iris = data[:,4]\n",
    "y_iris.shape\n",
    "X_iris.shape"
   ]
  },
  {
   "cell_type": "code",
   "execution_count": 16,
   "metadata": {
    "ExecuteTime": {
     "end_time": "2019-10-03T14:30:52.916497Z",
     "start_time": "2019-10-03T14:30:52.902536Z"
    }
   },
   "outputs": [],
   "source": [
    "# データセットの作成①\n",
    "np.random.seed(seed=0)\n",
    "n_samples = 500\n",
    "f0 = [-1, 2]\n",
    "f1 = [2, -1]\n",
    "cov = [[1.0,0.8], [0.8, 1.0]]\n",
    "\n",
    "f0 = np.random.multivariate_normal(f0, cov, int(n_samples/2))\n",
    "f1 = np.random.multivariate_normal(f1, cov, int(n_samples/2))\n",
    "\n",
    "X = np.concatenate((f0, f1))\n",
    "y = np.concatenate((np.ones((int(n_samples/2))), np.ones((int(n_samples/2))) *(-1))).astype(np.int)\n",
    "\n",
    "random_index = np.random.permutation(np.arange(n_samples))\n",
    "X1 = X[random_index]\n",
    "y1 = y[random_index]"
   ]
  },
  {
   "cell_type": "code",
   "execution_count": 17,
   "metadata": {
    "ExecuteTime": {
     "end_time": "2019-10-03T14:30:53.584745Z",
     "start_time": "2019-10-03T14:30:53.572740Z"
    }
   },
   "outputs": [],
   "source": [
    "# データセットの作成②\n",
    "X2 = np.array([[-0.44699 , -2.8073  ],[-1.4621  , -2.4586  ],\n",
    "       [ 0.10645 ,  1.9242  ],[-3.5944  , -4.0112  ],\n",
    "       [-0.9888  ,  4.5718  ],[-3.1625  , -3.9606  ],\n",
    "       [ 0.56421 ,  0.72888 ],[-0.60216 ,  8.4636  ],\n",
    "       [-0.61251 , -0.75345 ],[-0.73535 , -2.2718  ],\n",
    "       [-0.80647 , -2.2135  ],[ 0.86291 ,  2.3946  ],\n",
    "       [-3.1108  ,  0.15394 ],[-2.9362  ,  2.5462  ],\n",
    "       [-0.57242 , -2.9915  ],[ 1.4771  ,  3.4896  ],\n",
    "       [ 0.58619 ,  0.37158 ],[ 0.6017  ,  4.3439  ],\n",
    "       [-2.1086  ,  8.3428  ],[-4.1013  , -4.353   ],\n",
    "       [-1.9948  , -1.3927  ],[ 0.35084 , -0.031994],\n",
    "       [ 0.96765 ,  7.8929  ],[-1.281   , 15.6824  ],\n",
    "       [ 0.96765 , 10.083   ],[ 1.3763  ,  1.3347  ],\n",
    "       [-2.234   , -2.5323  ],[-2.9452  , -1.8219  ],\n",
    "       [ 0.14654 , -0.28733 ],[ 0.5461  ,  5.8245  ],\n",
    "       [-0.65259 ,  9.3444  ],[ 0.59912 ,  5.3524  ],\n",
    "       [ 0.50214 , -0.31818 ],[-3.0603  , -3.6461  ],\n",
    "       [-6.6797  ,  0.67661 ],[-2.353   , -0.72261 ],\n",
    "       [ 1.1319  ,  2.4023  ],[-0.12243 ,  9.0162  ],\n",
    "       [-2.5677  , 13.1779  ],[ 0.057313,  5.4681  ]])\n",
    "y2 = np.array([0, 0, 0, 0, 0, 0, 0, 0, 0, 0, 0, 0, 0, 0, 0, 0, 0, 0, 0, 0, 1, 1,\n",
    "       1, 1, 1, 1, 1, 1, 1, 1, 1, 1, 1, 1, 1, 1, 1, 1, 1, 1])"
   ]
  },
  {
   "cell_type": "markdown",
   "metadata": {},
   "source": [
    "# 【問題1】train_test_splitのスクラッチ\n",
    "スクラッチの練習として、scikit-learnのtrain_test_splitを自作してみます．                  \n",
    "sklearn.model_selection.train_test_split：https://scikit-learn.org/stable/modules/generated/sklearn.model_selection.train_test_split.html\n",
    "\n",
    "なお、作成した関数がscikit-learnのtrain_test_splitと同じ動作をしているか必ず確認をするようにしましょう。"
   ]
  },
  {
   "cell_type": "code",
   "execution_count": 18,
   "metadata": {
    "ExecuteTime": {
     "end_time": "2019-10-03T14:31:05.313898Z",
     "start_time": "2019-10-03T14:31:05.307914Z"
    }
   },
   "outputs": [],
   "source": [
    "def scratch_train_test_split(X,y,train_size=0.8):\n",
    "    np.random.seed(seed=0)\n",
    "    # サンプル数と同じ数の0～１未満の乱数\n",
    "    arr_rand = np.random.rand(X.shape[0])\n",
    "    # train_size％に入る\n",
    "    split = arr_rand < np.percentile(arr_rand, 100*train_size)\n",
    "    \n",
    "    # Xをtrainとtestに分ける\n",
    "    X_train = X[split]\n",
    "    X_test =  X[~split]\n",
    "    # ｙをtrainとtestに分ける\n",
    "    y_train = y[split]\n",
    "    y_test = y[~split]\n",
    "    \n",
    "    return X_train,X_test,y_train,y_test"
   ]
  },
  {
   "cell_type": "markdown",
   "metadata": {},
   "source": [
    "### 検証①　iris"
   ]
  },
  {
   "cell_type": "code",
   "execution_count": 19,
   "metadata": {
    "ExecuteTime": {
     "end_time": "2019-10-03T14:31:05.902010Z",
     "start_time": "2019-10-03T14:31:05.895039Z"
    }
   },
   "outputs": [
    {
     "name": "stdout",
     "output_type": "stream",
     "text": [
      "scratch_train_test_split:\n",
      "分割前X: (100, 4)\n",
      "分割前ｙ: (100,)\n",
      "X_train: (80, 4)\n",
      "X_test: (20, 4)\n",
      "y_train: (80,)\n",
      "y_test: (20,)\n"
     ]
    }
   ],
   "source": [
    "# 自作\n",
    "X_train,X_test,y_train,y_test = scratch_train_test_split(X_iris,y_iris,train_size=0.8)\n",
    "print('scratch_train_test_split:')\n",
    "print('分割前X:',X_iris.shape)\n",
    "print('分割前ｙ:',y_iris.shape)\n",
    "print('X_train:',X_train.shape)\n",
    "print('X_test:',X_test.shape)\n",
    "print('y_train:',y_train.shape)\n",
    "print('y_test:',y_test.shape)"
   ]
  },
  {
   "cell_type": "code",
   "execution_count": 20,
   "metadata": {
    "ExecuteTime": {
     "end_time": "2019-10-03T14:31:06.312242Z",
     "start_time": "2019-10-03T14:31:06.306260Z"
    }
   },
   "outputs": [
    {
     "name": "stdout",
     "output_type": "stream",
     "text": [
      "sklearn train_test_split:\n",
      "分割前X: (100, 4)\n",
      "分割前ｙ: (100,)\n",
      "X_train: (80, 4)\n",
      "X_test: (20, 4)\n",
      "y_train: (80,)\n",
      "y_test: (20,)\n"
     ]
    }
   ],
   "source": [
    "# train_test_split\n",
    "from sklearn.model_selection import train_test_split\n",
    "X_train,X_test,y_train,y_test = train_test_split(X_iris,y_iris,test_size=0.2)\n",
    "print('sklearn train_test_split:')\n",
    "print('分割前X:',X_iris.shape)\n",
    "print('分割前ｙ:',y_iris.shape)\n",
    "print('X_train:',X_train.shape)\n",
    "print('X_test:',X_test.shape)\n",
    "print('y_train:',y_train.shape)\n",
    "print('y_test:',y_test.shape)"
   ]
  },
  {
   "cell_type": "markdown",
   "metadata": {},
   "source": [
    "### 検証② データセット１"
   ]
  },
  {
   "cell_type": "code",
   "execution_count": 21,
   "metadata": {
    "ExecuteTime": {
     "end_time": "2019-10-03T14:31:07.509078Z",
     "start_time": "2019-10-03T14:31:07.502066Z"
    }
   },
   "outputs": [
    {
     "name": "stdout",
     "output_type": "stream",
     "text": [
      "scratch_train_test_split:\n",
      "分割前X: (500, 2)\n",
      "分割前ｙ: (500,)\n",
      "X_train: (400, 2)\n",
      "X_test: (100, 2)\n",
      "y_train: (400,)\n",
      "y_test: (100,)\n"
     ]
    }
   ],
   "source": [
    "# 自作\n",
    "X_train,X_test,y_train,y_test = scratch_train_test_split(X1,y1,train_size=0.8)\n",
    "print('scratch_train_test_split:')\n",
    "print('分割前X:',X1.shape)\n",
    "print('分割前ｙ:',y1.shape)\n",
    "print('X_train:',X_train.shape)\n",
    "print('X_test:',X_test.shape)\n",
    "print('y_train:',y_train.shape)\n",
    "print('y_test:',y_test.shape)"
   ]
  },
  {
   "cell_type": "code",
   "execution_count": 22,
   "metadata": {
    "ExecuteTime": {
     "end_time": "2019-10-03T14:31:07.743421Z",
     "start_time": "2019-10-03T14:31:07.737435Z"
    }
   },
   "outputs": [
    {
     "name": "stdout",
     "output_type": "stream",
     "text": [
      "sklearn train_test_split:\n",
      "分割前X: (500, 2)\n",
      "分割前ｙ: (500,)\n",
      "X_train: (400, 2)\n",
      "X_test: (100, 2)\n",
      "y_train: (400,)\n",
      "y_test: (100,)\n"
     ]
    }
   ],
   "source": [
    "# train_test_split\n",
    "X_train,X_test,y_train,y_test = train_test_split(X1,y1,test_size=0.2)\n",
    "print('sklearn train_test_split:')\n",
    "print('分割前X:',X1.shape)\n",
    "print('分割前ｙ:',y1.shape)\n",
    "print('X_train:',X_train.shape)\n",
    "print('X_test:',X_test.shape)\n",
    "print('y_train:',y_train.shape)\n",
    "print('y_test:',y_test.shape)"
   ]
  },
  {
   "cell_type": "markdown",
   "metadata": {},
   "source": [
    "### 検証③　データセット２"
   ]
  },
  {
   "cell_type": "code",
   "execution_count": 23,
   "metadata": {
    "ExecuteTime": {
     "end_time": "2019-10-03T14:31:08.748790Z",
     "start_time": "2019-10-03T14:31:08.742806Z"
    }
   },
   "outputs": [
    {
     "name": "stdout",
     "output_type": "stream",
     "text": [
      "scratch_train_test_split:\n",
      "分割前X: (40, 2)\n",
      "分割前ｙ: (40,)\n",
      "X_train: (32, 2)\n",
      "X_test: (8, 2)\n",
      "y_train: (32,)\n",
      "y_test: (8,)\n"
     ]
    }
   ],
   "source": [
    "# 自作\n",
    "X_train,X_test,y_train,y_test = scratch_train_test_split(X2,y2,train_size=0.8)\n",
    "print('scratch_train_test_split:')\n",
    "print('分割前X:',X2.shape)\n",
    "print('分割前ｙ:',y2.shape)\n",
    "print('X_train:',X_train.shape)\n",
    "print('X_test:',X_test.shape)\n",
    "print('y_train:',y_train.shape)\n",
    "print('y_test:',y_test.shape)"
   ]
  },
  {
   "cell_type": "code",
   "execution_count": 24,
   "metadata": {
    "ExecuteTime": {
     "end_time": "2019-10-03T14:31:08.979876Z",
     "start_time": "2019-10-03T14:31:08.973887Z"
    }
   },
   "outputs": [
    {
     "name": "stdout",
     "output_type": "stream",
     "text": [
      "sklearn train_test_split:\n",
      "分割前X: (40, 2)\n",
      "分割前ｙ: (40,)\n",
      "X_train: (32, 2)\n",
      "X_test: (8, 2)\n",
      "y_train: (32,)\n",
      "y_test: (8,)\n"
     ]
    }
   ],
   "source": [
    "# train_test_split\n",
    "X_train,X_test,y_train,y_test = train_test_split(X2,y2,test_size=0.2)\n",
    "print('sklearn train_test_split:')\n",
    "print('分割前X:',X2.shape)\n",
    "print('分割前ｙ:',y2.shape)\n",
    "print('X_train:',X_train.shape)\n",
    "print('X_test:',X_test.shape)\n",
    "print('y_train:',y_train.shape)\n",
    "print('y_test:',y_test.shape)"
   ]
  },
  {
   "cell_type": "markdown",
   "metadata": {},
   "source": [
    "# 【問題2】 分類問題を解くコードの作成\n",
    "scikit-learnを使ったコードを作成していきます。\n",
    "検証用データの分割には問題1で作成した自作の関数を用いてください。クロスバリデーションではなくホールドアウト法で構いません。           \n",
    "                             \n",
    "データセットは3種類用意します。\n",
    "1つ目は事前学習期間同様にirisデータセットです。\n",
    "\n",
    "sklearn.datasets.load_iris — https://scikit-learn.org/stable/modules/generated/sklearn.datasets.load_iris.html\n",
    "\n",
    "2値分類としたいため、以下の2つの目的変数のみ利用します。特徴量は4種類全て使います。\n",
    "\n",
    "* virgicolorとvirginica            \n",
    "                            \n",
    "残り2つは特徴量が2つのデータセットを人工的に用意します。以下のコードで説明変数X,目的変数yが作成可能です。「シンプルデータセット1」「シンプルデータセット2」とします。特徴量が2つであるため可視化が容易です。\n",
    "## １．ロジスティック回帰\n",
    "ロジスティック回帰はscikit-learnにおいて**LogisticRegression**クラスと**SGDClassifier**クラスの2種類から使用できます。ここでは勾配降下法を用いて計算するSGDClassifierクラスを利用してください。引数で**loss=\"log\"**とすることでロジスティック回帰の計算になります。\n",
    "https://scikit-learn.org/stable/modules/generated/sklearn.linear_model.SGDClassifier.html#sklearn.linear_model.SGDClassifier"
   ]
  },
  {
   "cell_type": "code",
   "execution_count": 25,
   "metadata": {
    "ExecuteTime": {
     "end_time": "2019-10-03T14:32:20.237280Z",
     "start_time": "2019-10-03T14:32:20.150553Z"
    }
   },
   "outputs": [],
   "source": [
    "from sklearn import linear_model\n",
    "from sklearn.preprocessing import StandardScaler\n",
    "from sklearn.metrics import accuracy_score,precision_score,recall_score,f1_score\n",
    "\n",
    "def logi(X=X,y=y,train_size=0.7):\n",
    "    # trainデータとtestデータに分ける\n",
    "    X_train,X_test,y_train,y_test = scratch_train_test_split(X,y,train_size)\n",
    "    \n",
    "    # 標準化\n",
    "    sc = StandardScaler()\n",
    "    sc.fit(X_train)\n",
    "    X_train_std = sc.transform(X_train)\n",
    "    X_test_std = sc.transform(X_test)\n",
    "\n",
    "    # インスタンス化\n",
    "    clf = linear_model.SGDClassifier(loss='log',max_iter=5)\n",
    "    # 学習\n",
    "    clf.fit(X_train_std,y_train)\n",
    "    # 推定\n",
    "    y_pred = clf.predict(X_test_std)\n",
    "    \n",
    "    # 評価\n",
    "    print('accuracy:{}'.format(accuracy_score(y_test,y_pred)))\n",
    "    print('precision:{}'.format(precision_score(y_test,y_pred)))\n",
    "    print('recall:{}'.format(recall_score(y_test,y_pred)))\n",
    "    print('F値:{}'.format(f1_score(y_test,y_pred)))\n",
    "    \n",
    "    return y_pred"
   ]
  },
  {
   "cell_type": "code",
   "execution_count": 26,
   "metadata": {
    "ExecuteTime": {
     "end_time": "2019-10-03T14:32:20.868845Z",
     "start_time": "2019-10-03T14:32:20.839935Z"
    }
   },
   "outputs": [
    {
     "name": "stdout",
     "output_type": "stream",
     "text": [
      "accuracy:0.9333333333333333\n",
      "precision:0.9444444444444444\n",
      "recall:0.9444444444444444\n",
      "F値:0.9444444444444444\n"
     ]
    },
    {
     "name": "stderr",
     "output_type": "stream",
     "text": [
      "C:\\Users\\miyas\\Anaconda3\\envs\\test\\lib\\site-packages\\sklearn\\linear_model\\stochastic_gradient.py:561: ConvergenceWarning: Maximum number of iteration reached before convergence. Consider increasing max_iter to improve the fit.\n",
      "  ConvergenceWarning)\n"
     ]
    },
    {
     "data": {
      "text/plain": [
       "array([1., 1., 1., 1., 1., 1., 1., 1., 2., 1., 1., 1., 1., 1., 1., 1., 1.,\n",
       "       1., 2., 2., 2., 2., 2., 2., 2., 1., 2., 2., 2., 2.])"
      ]
     },
     "execution_count": 26,
     "metadata": {},
     "output_type": "execute_result"
    }
   ],
   "source": [
    "# iris\n",
    "log_pred_iris = logi(X=X_iris,y=y_iris,train_size=0.7)\n",
    "log_pred_iris"
   ]
  },
  {
   "cell_type": "code",
   "execution_count": 27,
   "metadata": {
    "ExecuteTime": {
     "end_time": "2019-10-03T14:32:22.531361Z",
     "start_time": "2019-10-03T14:32:22.521394Z"
    }
   },
   "outputs": [
    {
     "name": "stdout",
     "output_type": "stream",
     "text": [
      "accuracy:1.0\n",
      "precision:1.0\n",
      "recall:1.0\n",
      "F値:1.0\n"
     ]
    },
    {
     "name": "stderr",
     "output_type": "stream",
     "text": [
      "C:\\Users\\miyas\\Anaconda3\\envs\\test\\lib\\site-packages\\sklearn\\linear_model\\stochastic_gradient.py:561: ConvergenceWarning: Maximum number of iteration reached before convergence. Consider increasing max_iter to improve the fit.\n",
      "  ConvergenceWarning)\n"
     ]
    },
    {
     "data": {
      "text/plain": [
       "array([ 1, -1, -1, -1, -1, -1, -1,  1,  1,  1, -1, -1,  1, -1, -1,  1, -1,\n",
       "       -1, -1, -1,  1, -1, -1, -1,  1,  1, -1, -1, -1,  1,  1, -1,  1,  1,\n",
       "        1, -1, -1,  1,  1,  1,  1,  1, -1, -1,  1, -1,  1,  1,  1, -1, -1,\n",
       "       -1,  1, -1,  1,  1,  1, -1,  1, -1, -1, -1,  1,  1,  1, -1,  1, -1,\n",
       "       -1,  1, -1,  1, -1,  1,  1, -1,  1,  1, -1, -1,  1,  1,  1, -1, -1,\n",
       "        1,  1,  1, -1, -1,  1,  1,  1,  1,  1, -1,  1,  1,  1, -1, -1,  1,\n",
       "        1, -1, -1, -1, -1, -1,  1,  1,  1,  1, -1,  1, -1,  1, -1, -1,  1,\n",
       "        1, -1, -1,  1, -1, -1, -1, -1,  1,  1,  1, -1,  1,  1, -1, -1, -1,\n",
       "       -1,  1,  1,  1,  1, -1,  1,  1, -1,  1, -1, -1, -1, -1])"
      ]
     },
     "execution_count": 27,
     "metadata": {},
     "output_type": "execute_result"
    }
   ],
   "source": [
    "# データセット１\n",
    "log_pred_1 = logi(X=X1,y=y1,train_size=0.7)\n",
    "log_pred_1"
   ]
  },
  {
   "cell_type": "code",
   "execution_count": 28,
   "metadata": {
    "ExecuteTime": {
     "end_time": "2019-10-03T14:32:23.270645Z",
     "start_time": "2019-10-03T14:32:23.261688Z"
    }
   },
   "outputs": [
    {
     "name": "stdout",
     "output_type": "stream",
     "text": [
      "accuracy:0.5\n",
      "precision:0.4444444444444444\n",
      "recall:0.8\n",
      "F値:0.5714285714285714\n"
     ]
    },
    {
     "name": "stderr",
     "output_type": "stream",
     "text": [
      "C:\\Users\\miyas\\Anaconda3\\envs\\test\\lib\\site-packages\\sklearn\\linear_model\\stochastic_gradient.py:561: ConvergenceWarning: Maximum number of iteration reached before convergence. Consider increasing max_iter to improve the fit.\n",
      "  ConvergenceWarning)\n"
     ]
    },
    {
     "data": {
      "text/plain": [
       "array([1, 0, 0, 1, 1, 1, 1, 1, 0, 1, 1, 1])"
      ]
     },
     "execution_count": 28,
     "metadata": {},
     "output_type": "execute_result"
    }
   ],
   "source": [
    "# データセット２\n",
    "log_pred_2 = logi(X=X2,y=y2,train_size=0.7)\n",
    "log_pred_2"
   ]
  },
  {
   "cell_type": "markdown",
   "metadata": {},
   "source": [
    "## ２．SVM\n",
    "https://scikit-learn.org/stable/modules/generated/sklearn.svm.SVC.html#sklearn.svm.SVC"
   ]
  },
  {
   "cell_type": "code",
   "execution_count": 29,
   "metadata": {
    "ExecuteTime": {
     "end_time": "2019-10-03T14:32:25.810312Z",
     "start_time": "2019-10-03T14:32:25.804297Z"
    }
   },
   "outputs": [],
   "source": [
    "from sklearn.svm import LinearSVC\n",
    "\n",
    "def linear_svc(X=X,y=y,train_size=0.7):\n",
    "    # trainデータとtestデータに分ける\n",
    "    X_train,X_test,y_train,y_test = scratch_train_test_split(X,y,train_size)\n",
    "\n",
    "    # 標準化\n",
    "    sc = StandardScaler()\n",
    "    sc.fit(X_train)\n",
    "    X_train_std = sc.transform(X_train)\n",
    "    X_test_std = sc.transform(X_test)\n",
    "    \n",
    "    # 初期化，学習，推定\n",
    "    model = LinearSVC()\n",
    "    model.fit(X_train_std,y_train)\n",
    "    y_pred = model.predict(X_test_std)\n",
    "\n",
    "    # 評価\n",
    "    print('accuracy:{}'.format(accuracy_score(y_test,y_pred)))\n",
    "    print('precision:{}'.format(precision_score(y_test,y_pred)))\n",
    "    print('recall:{}'.format(recall_score(y_test,y_pred)))\n",
    "    print('F値:{}'.format(f1_score(y_test,y_pred)))\n",
    "\n",
    "    return y_pred"
   ]
  },
  {
   "cell_type": "code",
   "execution_count": 30,
   "metadata": {
    "ExecuteTime": {
     "end_time": "2019-10-03T14:32:26.370936Z",
     "start_time": "2019-10-03T14:32:26.356992Z"
    }
   },
   "outputs": [
    {
     "name": "stdout",
     "output_type": "stream",
     "text": [
      "accuracy:0.9\n",
      "precision:0.9411764705882353\n",
      "recall:0.8888888888888888\n",
      "F値:0.9142857142857143\n"
     ]
    },
    {
     "data": {
      "text/plain": [
       "array([1., 1., 1., 1., 1., 1., 1., 1., 2., 1., 1., 2., 1., 1., 1., 1., 1.,\n",
       "       1., 2., 2., 2., 2., 2., 2., 2., 1., 2., 2., 2., 2.])"
      ]
     },
     "execution_count": 30,
     "metadata": {},
     "output_type": "execute_result"
    }
   ],
   "source": [
    "# iris\n",
    "svm_pred_iris = linear_svc(X=X_iris,y=y_iris,train_size=0.7)\n",
    "svm_pred_iris"
   ]
  },
  {
   "cell_type": "code",
   "execution_count": 31,
   "metadata": {
    "ExecuteTime": {
     "end_time": "2019-10-03T14:32:26.913204Z",
     "start_time": "2019-10-03T14:32:26.902235Z"
    }
   },
   "outputs": [
    {
     "name": "stdout",
     "output_type": "stream",
     "text": [
      "accuracy:1.0\n",
      "precision:1.0\n",
      "recall:1.0\n",
      "F値:1.0\n"
     ]
    },
    {
     "data": {
      "text/plain": [
       "array([ 1, -1, -1, -1, -1, -1, -1,  1,  1,  1, -1, -1,  1, -1, -1,  1, -1,\n",
       "       -1, -1, -1,  1, -1, -1, -1,  1,  1, -1, -1, -1,  1,  1, -1,  1,  1,\n",
       "        1, -1, -1,  1,  1,  1,  1,  1, -1, -1,  1, -1,  1,  1,  1, -1, -1,\n",
       "       -1,  1, -1,  1,  1,  1, -1,  1, -1, -1, -1,  1,  1,  1, -1,  1, -1,\n",
       "       -1,  1, -1,  1, -1,  1,  1, -1,  1,  1, -1, -1,  1,  1,  1, -1, -1,\n",
       "        1,  1,  1, -1, -1,  1,  1,  1,  1,  1, -1,  1,  1,  1, -1, -1,  1,\n",
       "        1, -1, -1, -1, -1, -1,  1,  1,  1,  1, -1,  1, -1,  1, -1, -1,  1,\n",
       "        1, -1, -1,  1, -1, -1, -1, -1,  1,  1,  1, -1,  1,  1, -1, -1, -1,\n",
       "       -1,  1,  1,  1,  1, -1,  1,  1, -1,  1, -1, -1, -1, -1])"
      ]
     },
     "execution_count": 31,
     "metadata": {},
     "output_type": "execute_result"
    }
   ],
   "source": [
    "# データセット１\n",
    "svm_pred_X1 = linear_svc(X=X1,y=y1,train_size=0.7)\n",
    "svm_pred_X1"
   ]
  },
  {
   "cell_type": "code",
   "execution_count": 32,
   "metadata": {
    "ExecuteTime": {
     "end_time": "2019-10-03T14:32:27.437271Z",
     "start_time": "2019-10-03T14:32:27.428304Z"
    }
   },
   "outputs": [
    {
     "name": "stdout",
     "output_type": "stream",
     "text": [
      "accuracy:0.4166666666666667\n",
      "precision:0.3333333333333333\n",
      "recall:0.4\n",
      "F値:0.3636363636363636\n"
     ]
    },
    {
     "data": {
      "text/plain": [
       "array([1, 0, 0, 1, 1, 1, 0, 0, 0, 1, 0, 1])"
      ]
     },
     "execution_count": 32,
     "metadata": {},
     "output_type": "execute_result"
    }
   ],
   "source": [
    "# データセット２\n",
    "svm_pred_X2 = linear_svc(X=X2,y=y2,train_size=0.7)\n",
    "svm_pred_X2"
   ]
  },
  {
   "cell_type": "markdown",
   "metadata": {},
   "source": [
    "## ３．決定木\n",
    "https://scikit-learn.org/stable/modules/generated/sklearn.tree.DecisionTreeClassifier.html#sklearn.tree.DecisionTreeClassifier"
   ]
  },
  {
   "cell_type": "code",
   "execution_count": 33,
   "metadata": {
    "ExecuteTime": {
     "end_time": "2019-10-03T14:32:29.924447Z",
     "start_time": "2019-10-03T14:32:29.822486Z"
    }
   },
   "outputs": [],
   "source": [
    "from sklearn.tree import DecisionTreeClassifier\n",
    "\n",
    "def tree(X,y,train_size):\n",
    "    # trainデータとtestデータに分ける\n",
    "    X_train,X_test,y_train,y_test = scratch_train_test_split(X,y,train_size)\n",
    "\n",
    "    # インスタンス化\n",
    "    model = DecisionTreeClassifier(criterion='entropy',max_depth=5,random_state=0)\n",
    "    # 学習\n",
    "    model.fit(X_train,y_train)\n",
    "    # 推定\n",
    "    y_pred = model.predict(X_test)\n",
    "\n",
    "    # 評価\n",
    "    print('accuracy:{}'.format(accuracy_score(y_test,y_pred)))\n",
    "    print('precision:{}'.format(precision_score(y_test,y_pred)))\n",
    "    print('recall:{}'.format(recall_score(y_test,y_pred)))\n",
    "    print('F値:{}'.format(f1_score(y_test,y_pred)))\n",
    "    \n",
    "    return y_pred"
   ]
  },
  {
   "cell_type": "code",
   "execution_count": 34,
   "metadata": {
    "ExecuteTime": {
     "end_time": "2019-10-03T14:32:30.525156Z",
     "start_time": "2019-10-03T14:32:30.509198Z"
    }
   },
   "outputs": [
    {
     "name": "stdout",
     "output_type": "stream",
     "text": [
      "accuracy:0.9333333333333333\n",
      "precision:1.0\n",
      "recall:0.8888888888888888\n",
      "F値:0.9411764705882353\n"
     ]
    },
    {
     "data": {
      "text/plain": [
       "array([1., 1., 1., 1., 1., 1., 1., 1., 2., 1., 1., 2., 1., 1., 1., 1., 1.,\n",
       "       1., 2., 2., 2., 2., 2., 2., 2., 2., 2., 2., 2., 2.])"
      ]
     },
     "execution_count": 34,
     "metadata": {},
     "output_type": "execute_result"
    }
   ],
   "source": [
    "# iris\n",
    "tree_pred_iris = tree(X_iris,y_iris,0.7)\n",
    "tree_pred_iris"
   ]
  },
  {
   "cell_type": "code",
   "execution_count": 35,
   "metadata": {
    "ExecuteTime": {
     "end_time": "2019-10-03T14:32:31.094910Z",
     "start_time": "2019-10-03T14:32:31.084937Z"
    }
   },
   "outputs": [
    {
     "name": "stdout",
     "output_type": "stream",
     "text": [
      "accuracy:1.0\n",
      "precision:1.0\n",
      "recall:1.0\n",
      "F値:1.0\n"
     ]
    },
    {
     "data": {
      "text/plain": [
       "array([ 1, -1, -1, -1, -1, -1, -1,  1,  1,  1, -1, -1,  1, -1, -1,  1, -1,\n",
       "       -1, -1, -1,  1, -1, -1, -1,  1,  1, -1, -1, -1,  1,  1, -1,  1,  1,\n",
       "        1, -1, -1,  1,  1,  1,  1,  1, -1, -1,  1, -1,  1,  1,  1, -1, -1,\n",
       "       -1,  1, -1,  1,  1,  1, -1,  1, -1, -1, -1,  1,  1,  1, -1,  1, -1,\n",
       "       -1,  1, -1,  1, -1,  1,  1, -1,  1,  1, -1, -1,  1,  1,  1, -1, -1,\n",
       "        1,  1,  1, -1, -1,  1,  1,  1,  1,  1, -1,  1,  1,  1, -1, -1,  1,\n",
       "        1, -1, -1, -1, -1, -1,  1,  1,  1,  1, -1,  1, -1,  1, -1, -1,  1,\n",
       "        1, -1, -1,  1, -1, -1, -1, -1,  1,  1,  1, -1,  1,  1, -1, -1, -1,\n",
       "       -1,  1,  1,  1,  1, -1,  1,  1, -1,  1, -1, -1, -1, -1])"
      ]
     },
     "execution_count": 35,
     "metadata": {},
     "output_type": "execute_result"
    }
   ],
   "source": [
    "# データセット１\n",
    "tree_pred_X1 = tree(X1,y1,0.7)\n",
    "tree_pred_X1"
   ]
  },
  {
   "cell_type": "code",
   "execution_count": 36,
   "metadata": {
    "ExecuteTime": {
     "end_time": "2019-10-03T14:32:31.723871Z",
     "start_time": "2019-10-03T14:32:31.714900Z"
    }
   },
   "outputs": [
    {
     "name": "stdout",
     "output_type": "stream",
     "text": [
      "accuracy:0.75\n",
      "precision:0.625\n",
      "recall:1.0\n",
      "F値:0.7692307692307693\n"
     ]
    },
    {
     "data": {
      "text/plain": [
       "array([1, 0, 0, 1, 0, 1, 0, 1, 1, 1, 1, 1])"
      ]
     },
     "execution_count": 36,
     "metadata": {},
     "output_type": "execute_result"
    }
   ],
   "source": [
    "# データセット２\n",
    "y_pred = tree(X2,y2,0.7)\n",
    "y_pred"
   ]
  },
  {
   "cell_type": "markdown",
   "metadata": {},
   "source": [
    "# 【問題3】 回帰問題を解くコードの作成\n",
    "* 目的変数はSalePrice\n",
    "* 説明変数はGrLivAreaとYearBuilt\n",
    "* 勾配降下法を用いて計算するSGDRegressorクラスを利用\n",
    "* Xもｙも標準化すれば，標準偏回帰係数が得られる？ので２パターンでやってみた．"
   ]
  },
  {
   "cell_type": "code",
   "execution_count": 83,
   "metadata": {
    "ExecuteTime": {
     "end_time": "2019-10-03T14:52:52.872298Z",
     "start_time": "2019-10-03T14:52:52.847374Z"
    }
   },
   "outputs": [],
   "source": [
    "# データの読み込み\n",
    "df = pd.read_csv('C:/Users/miyas/kaggle/train.csv')\n",
    "X = df.loc[:,['GrLivArea','YearBuilt']].values\n",
    "y = df.SalePrice.values\n",
    "y = np.array(y).reshape(-1,)"
   ]
  },
  {
   "cell_type": "code",
   "execution_count": 84,
   "metadata": {
    "ExecuteTime": {
     "end_time": "2019-10-03T14:52:53.876198Z",
     "start_time": "2019-10-03T14:52:53.869182Z"
    }
   },
   "outputs": [],
   "source": [
    "# trainデータとtestデータに分ける\n",
    "X_train,X_test,y_train,y_test = scratch_train_test_split(X,y,train_size=0.7)\n",
    "\n",
    "# 標準化\n",
    "X_train_std = (X_train - X_train.mean()) / X_train.std()\n",
    "X_test_std = (X_test -X_test.mean()) / X_test.std()\n",
    "y_train_std = (y_train - y_train.mean()) / y_train.std()\n",
    "y_test_std = (y_test - y_test.mean()) / y_test.std()\n",
    "\n",
    "y_train_std = y_train_std.reshape(-1,)\n",
    "y_test_std = y_test_std.reshape(-1,)"
   ]
  },
  {
   "cell_type": "code",
   "execution_count": 85,
   "metadata": {
    "ExecuteTime": {
     "end_time": "2019-10-03T14:52:56.647770Z",
     "start_time": "2019-10-03T14:52:56.640763Z"
    }
   },
   "outputs": [
    {
     "name": "stdout",
     "output_type": "stream",
     "text": [
      "決定係数： 0.34831303137656644\n"
     ]
    }
   ],
   "source": [
    "# 初期化，学習，推定\n",
    "model = linear_model.SGDRegressor(max_iter=1000)\n",
    "model.fit(X_train_std, y_train_std)\n",
    "y_train_pred = clf.predict(X_train_std)\n",
    "y_test_pred = clf.predict(X_test_std)\n",
    "# 決定係数\n",
    "print('決定係数：',model.score(X_test_std,y_test_std))"
   ]
  },
  {
   "cell_type": "code",
   "execution_count": 86,
   "metadata": {
    "ExecuteTime": {
     "end_time": "2019-10-03T14:52:57.213391Z",
     "start_time": "2019-10-03T14:52:57.030357Z"
    }
   },
   "outputs": [
    {
     "data": {
      "image/png": "[encoded data removed]",
      "text/plain": [
       "<Figure size 432x288 with 1 Axes>"
      ]
     },
     "metadata": {
      "needs_background": "light"
     },
     "output_type": "display_data"
    }
   ],
   "source": [
    "#残差をプロット\n",
    "train = plt.scatter(y_train_pred,(y_train_pred-y_train_std))\n",
    "test = plt.scatter(y_test_pred,(y_test_pred-y_test_std))\n",
    "plt.hlines(y=0,xmin=-2,xmax=6)# y=0の水平な線を引く\n",
    "plt.legend((train,test),('Training','Test'),loc='best')\n",
    "plt.grid()"
   ]
  },
  {
   "cell_type": "markdown",
   "metadata": {},
   "source": [
    "### 説明変数のみ標準化"
   ]
  },
  {
   "cell_type": "code",
   "execution_count": 87,
   "metadata": {
    "ExecuteTime": {
     "end_time": "2019-10-03T14:53:01.171633Z",
     "start_time": "2019-10-03T14:53:01.164616Z"
    }
   },
   "outputs": [],
   "source": [
    "# trainデータとtestデータに分ける\n",
    "X_train,X_test,y_train,y_test = scratch_train_test_split(X,y,train_size=0.7)\n",
    "\n",
    "# 標準化\n",
    "sc = StandardScaler()\n",
    "sc.fit(X_train)\n",
    "X_train_std = sc.transform(X_train)\n",
    "X_test_std = sc.transform(X_test)"
   ]
  },
  {
   "cell_type": "code",
   "execution_count": 88,
   "metadata": {
    "ExecuteTime": {
     "end_time": "2019-10-03T14:53:01.809155Z",
     "start_time": "2019-10-03T14:53:01.802141Z"
    }
   },
   "outputs": [
    {
     "name": "stdout",
     "output_type": "stream",
     "text": [
      "決定係数： 0.5041898896105113\n"
     ]
    }
   ],
   "source": [
    "# 初期化，学習，推定\n",
    "model2 = linear_model.SGDRegressor(max_iter=1000, tol=1e-3)\n",
    "model2.fit(X_train_std,y_train)\n",
    "y_train_pred = model2.predict(X_train_std)\n",
    "y_test_pred = model2.predict(X_test_std)\n",
    "# 決定係数\n",
    "print('決定係数：',model2.score(X_test_std,y_test))"
   ]
  },
  {
   "cell_type": "code",
   "execution_count": 89,
   "metadata": {
    "ExecuteTime": {
     "end_time": "2019-10-03T14:53:04.001195Z",
     "start_time": "2019-10-03T14:53:03.996250Z"
    }
   },
   "outputs": [
    {
     "data": {
      "text/plain": [
       "((1022,), (1022,))"
      ]
     },
     "execution_count": 89,
     "metadata": {},
     "output_type": "execute_result"
    }
   ],
   "source": [
    "y_train_pred.shape,y_train.shape"
   ]
  },
  {
   "cell_type": "code",
   "execution_count": 94,
   "metadata": {
    "ExecuteTime": {
     "end_time": "2019-10-03T14:54:26.374046Z",
     "start_time": "2019-10-03T14:54:26.185006Z"
    }
   },
   "outputs": [
    {
     "data": {
      "text/plain": [
       "<matplotlib.legend.Legend at 0x228c20edc88>"
      ]
     },
     "execution_count": 94,
     "metadata": {},
     "output_type": "execute_result"
    },
    {
     "data": {
      "image/png": "[encoded data removed]",
      "text/plain": [
       "<Figure size 432x288 with 1 Axes>"
      ]
     },
     "metadata": {
      "needs_background": "light"
     },
     "output_type": "display_data"
    }
   ],
   "source": [
    "#残差をプロット\n",
    "train = plt.scatter(y_train_pred,(y_train_pred-y_train))\n",
    "test = plt.scatter(y_test_pred,(y_test_pred-y_test))\n",
    "plt.hlines(y=0,xmin=0,xmax=600000)\n",
    "plt.grid()\n",
    "plt.legend((train,test),('Training','Test'),loc='best')"
   ]
  },
  {
   "cell_type": "code",
   "execution_count": null,
   "metadata": {},
   "outputs": [],
   "source": []
  }
 ],
 "metadata": {
  "kernelspec": {
   "display_name": "Python 3",
   "language": "python",
   "name": "python3"
  },
  "language_info": {
   "codemirror_mode": {
    "name": "ipython",
    "version": 3
   },
   "file_extension": ".py",
   "mimetype": "text/x-python",
   "name": "python",
   "nbconvert_exporter": "python",
   "pygments_lexer": "ipython3",
   "version": "3.7.4"
  },
  "toc": {
   "base_numbering": 1,
   "nav_menu": {},
   "number_sections": true,
   "sideBar": true,
   "skip_h1_title": false,
   "title_cell": "Table of Contents",
   "title_sidebar": "Contents",
   "toc_cell": false,
   "toc_position": {},
   "toc_section_display": true,
   "toc_window_display": false
  },
  "varInspector": {
   "cols": {
    "lenName": 16,
    "lenType": 16,
    "lenVar": 40
   },
   "kernels_config": {
    "python": {
     "delete_cmd_postfix": "",
     "delete_cmd_prefix": "del ",
     "library": "var_list.py",
     "varRefreshCmd": "print(var_dic_list())"
    },
    "r": {
     "delete_cmd_postfix": ") ",
     "delete_cmd_prefix": "rm(",
     "library": "var_list.r",
     "varRefreshCmd": "cat(var_dic_list()) "
    }
   },
   "types_to_exclude": [
    "module",
    "function",
    "builtin_function_or_method",
    "instance",
    "_Feature"
   ],
   "window_display": false
  }
 },
 "nbformat": 4,
 "nbformat_minor": 2
}
