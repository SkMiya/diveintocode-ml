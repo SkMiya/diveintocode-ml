{
 "cells": [
  {
   "cell_type": "markdown",
   "metadata": {},
   "source": [
    "# Sprint 機械学習スクラッチ SVM"
   ]
  },
  {
   "cell_type": "code",
   "execution_count": 1,
   "metadata": {},
   "outputs": [],
   "source": [
    "import numpy as np\n",
    "import pandas as pd\n",
    "from sklearn.model_selection import train_test_split\n",
    "from sklearn.preprocessing import StandardScaler\n",
    "# 評価\n",
    "from sklearn.metrics import classification_report\n",
    "from sklearn.metrics import accuracy_score\n",
    "# 可視化\n",
    "import matplotlib.pyplot as plt\n",
    "import japanize_matplotlib\n",
    "from matplotlib.colors import ListedColormap\n",
    "import matplotlib.patches as mpatches"
   ]
  },
  {
   "cell_type": "code",
   "execution_count": 2,
   "metadata": {},
   "outputs": [],
   "source": [
    "# データ\n",
    "np.random.seed(seed=0)\n",
    "n_samples = 500\n",
    "f0 = [-1, 2]\n",
    "f1 = [2, -1]\n",
    "cov = [[1.0,0.8], [0.8, 1.0]]\n",
    "\n",
    "f0 = np.random.multivariate_normal(f0, cov, int(n_samples/2))\n",
    "f1 = np.random.multivariate_normal(f1, cov, int(n_samples/2))\n",
    "\n",
    "X = np.concatenate((f0, f1))\n",
    "y = np.concatenate((np.ones((int(n_samples/2))), np.ones((int(n_samples/2))) *(-1))).astype(np.int)\n",
    "\n",
    "random_index = np.random.permutation(np.arange(n_samples))\n",
    "X = X[random_index]\n",
    "y = y[random_index]\n",
    "\n",
    "# trainとtestに分ける\n",
    "X_train,X_test,y_train,y_test = train_test_split(X,y,random_state=0)"
   ]
  },
  {
   "cell_type": "code",
   "execution_count": 3,
   "metadata": {},
   "outputs": [
    {
     "data": {
      "text/plain": [
       "(375, 2)"
      ]
     },
     "execution_count": 3,
     "metadata": {},
     "output_type": "execute_result"
    }
   ],
   "source": [
    "X_train.shape"
   ]
  },
  {
   "cell_type": "markdown",
   "metadata": {},
   "source": [
    "# 【問題1】ラグランジュの未定乗数法による最急降下\n",
    "### １．カーネル関数"
   ]
  },
  {
   "cell_type": "code",
   "execution_count": 4,
   "metadata": {},
   "outputs": [],
   "source": [
    "# カーネル関数\n",
    "def kernel(X,i,j):\n",
    "    k = np.dot(X[i].T,X[j])\n",
    "    return k"
   ]
  },
  {
   "cell_type": "markdown",
   "metadata": {},
   "source": [
    "### ２．最急降下法"
   ]
  },
  {
   "cell_type": "code",
   "execution_count": 5,
   "metadata": {},
   "outputs": [],
   "source": [
    "# 仮のパラメータ\n",
    "# lamdaの初期値\n",
    "lamda = np.ones(len(X))\n",
    "# 学習率\n",
    "lr = 0.001\n",
    "# イテレーション\n",
    "iter = 3\n",
    "\n",
    "# ラグランジェ乗数　最急降下法\n",
    "# イテレーション回数分回す．\n",
    "for num in range(iter):\n",
    "    # イテレーションごとにλを初期化\n",
    "    lamda_old = np.zeros(lamda.shape)\n",
    "    for i in range(len(X)):\n",
    "        # 更新ごとにsigma内を初期化\n",
    "        sigma = 0\n",
    "        for j in range(len(X)):\n",
    "            sigma += lamda[j]*y[i]*y[j]*kernel(X,i,j)\n",
    "        \n",
    "        lamda_old[i] = lamda[i] + lr*(1-sigma)\n",
    "        # λが０以下なら0にする\n",
    "        if lamda_old[i] < 0:\n",
    "            lamda_old[i] = 0\n",
    "    \n",
    "    \n",
    "    # 初期化前に求めたλをコピーしとく\n",
    "    lamda = lamda_old.copy()"
   ]
  },
  {
   "cell_type": "markdown",
   "metadata": {},
   "source": [
    "# 【問題2】サポートベクターの決定\n",
    "#### メモ：np.where\n",
    "np.where(X < 0.5, 0, 1))・・・Xが0.5以下なら０，以上なら１                                \n",
    "np.where(lamda > 0.5)・・・・lamdaが0.5以下のインデックスを取得"
   ]
  },
  {
   "cell_type": "code",
   "execution_count": 6,
   "metadata": {},
   "outputs": [
    {
     "name": "stdout",
     "output_type": "stream",
     "text": [
      "サポートベクターの数： 4\n",
      "sv_shape: (4, 2)\n",
      "lamda_sv_shape: (4,)\n",
      "y_sv_shape: (4,)\n",
      "X_shape: (500, 2)\n",
      "\n",
      "SV_index:\n",
      " (array([121, 123, 162, 326], dtype=int64),)\n",
      "\n",
      "サポートベクター:\n",
      " [[-1.02829008  0.23898594]\n",
      " [-0.97854994  0.34188908]\n",
      " [-0.50179779  0.74466058]\n",
      " [ 0.67098941 -0.58384118]]\n"
     ]
    }
   ],
   "source": [
    "# 閾値\n",
    "threshold = 1e-3\n",
    "\n",
    "# サポートベクターのインデックスを取得\n",
    "sv_index = np.where(lamda > threshold)\n",
    "\n",
    "# sv_indexの特徴量\n",
    "sv = X[sv_index]\n",
    "# sv_indexのラグランジュ乗数\n",
    "lamda_sv = lamda[sv_index]\n",
    "# sv_indexのｙ\n",
    "y_sv = y[sv_index]\n",
    "\n",
    "\n",
    "print('サポートベクターの数：',sv.shape[0])\n",
    "print('sv_shape:',sv.shape)\n",
    "print('lamda_sv_shape:',lamda_sv.shape)\n",
    "print('y_sv_shape:',y_sv.shape)\n",
    "print('X_shape:',X.shape)\n",
    "print('\\nSV_index:\\n',sv_index)\n",
    "print('\\nサポートベクター:\\n',sv)"
   ]
  },
  {
   "cell_type": "markdown",
   "metadata": {},
   "source": [
    "# 【問題3】推定\n",
    "メモ：np.sign()・・・各要素について，正の場合1，負の場合-1，0の場合は0を返す"
   ]
  },
  {
   "cell_type": "code",
   "execution_count": 7,
   "metadata": {},
   "outputs": [],
   "source": [
    "def predict(X):\n",
    "    y_pred = [np.sum([lamda_j * y_j * np.dot(x_j, x)\n",
    "                      for (x_j, y_j, lamda_j) in zip(\n",
    "                        sv, y_sv, lamda_sv)])\n",
    "                   for x in X]\n",
    "    return np.array(np.sign(y_pred))"
   ]
  },
  {
   "cell_type": "markdown",
   "metadata": {},
   "source": [
    "# 【問題4】学習と推定\n",
    "## １．スクラッチSVM"
   ]
  },
  {
   "cell_type": "code",
   "execution_count": 9,
   "metadata": {},
   "outputs": [],
   "source": [
    "class ScratchSVMClassifier():\n",
    "    \"\"\"\n",
    "    SVM分類器のスクラッチ実装\n",
    "\n",
    "    Parameters\n",
    "    ----------\n",
    "    num_iter : int\n",
    "      イテレーション数\n",
    "    lr : float\n",
    "      学習率\n",
    "    kernel : str\n",
    "      カーネルの種類。線形カーネル（linear）か多項式カーネル（polly）\n",
    "    threshold : float\n",
    "      サポートベクターを選ぶための閾値\n",
    "    verbose : bool\n",
    "      学習過程を出力する場合はTrue\n",
    "\n",
    "    Attributes\n",
    "    ----------\n",
    "    self.n_support_vectors : int\n",
    "      サポートベクターの数\n",
    "    self.index_support_vectors : 次の形のndarray, shape (n_support_vectors,)\n",
    "      サポートベクターのインデックス\n",
    "    self.X_sv :  次の形のndarray, shape(n_support_vectors, n_features)\n",
    "      サポートベクターの特徴量\n",
    "    self.lam_sv :  次の形のndarray, shape(n_support_vectors, 1)\n",
    "      サポートベクターの未定乗数\n",
    "    self.y_sv :  次の形のndarray, shape(n_support_vectors, 1)\n",
    "      サポートベクターのラベル\n",
    "\n",
    "    \"\"\"\n",
    "\n",
    "    def __init__(self, num_iter, lr, threshold=1e-5, verbose=False):\n",
    "        # ハイパーパラメータを属性として記録\n",
    "        self.iter = num_iter\n",
    "        self.lr = lr\n",
    "        #self.kernel = kernel\n",
    "        self.threshold = threshold\n",
    "        self.verbose = verbose\n",
    "    \n",
    "    \n",
    "    # カーネル関数\n",
    "    def _kernel(self,X,i,j):\n",
    "        k = np.dot(X[i].T,X[j])\n",
    "        return k\n",
    "    \n",
    "    # ラグランジェ乗数　最急降下法\n",
    "    def _gradient_descent(self,X,y,lamda):\n",
    "        lamda_old = np.zeros(lamda.shape)\n",
    "        for i in range(len(X)):\n",
    "            sigma = 0\n",
    "            for j in range(len(X)):\n",
    "                sigma += lamda[j]*y[i]*y[j]*self._kernel(X,i,j)\n",
    "            lamda_old[i] = lamda[i] + self.lr*(1-sigma)\n",
    "            if lamda_old[i] < 0:\n",
    "                lamda_old[i] = 0\n",
    "        lamda = lamda_old.copy()\n",
    "        return lamda\n",
    "        \n",
    "        \n",
    "    def fit(self, X, y, X_val=None, y_val=None):\n",
    "        \"\"\"\n",
    "        SVM分類器を学習する。検証用データが入力された場合はそれに対する精度もイテレーションごとに計算する。\n",
    "\n",
    "        Parameters\n",
    "        ----------\n",
    "        X : 次の形のndarray, shape (n_samples, n_features)\n",
    "            学習用データの特徴量\n",
    "        y : 次の形のndarray, shape (n_samples, )\n",
    "            学習用データの正解値\n",
    "        X_val : 次の形のndarray, shape (n_samples, n_features)\n",
    "            検証用データの特徴量\n",
    "        y_val : 次の形のndarray, shape (n_samples, )\n",
    "            検証用データの正解値\n",
    "        \"\"\"\n",
    "\n",
    "        # λの初期化\n",
    "        lamda = np.zeros(len(X))\n",
    "        # イテレーションの数だけ学習\n",
    "        for num in range(self.iter):\n",
    "            lamda = self._gradient_descent(X,y,lamda)\n",
    "\n",
    "            # 学習過程の出力\n",
    "            if self.verbose is True:\n",
    "                map_result_lamda = map(str, lamda)\n",
    "                result_lamda = ',\\n'.join(map_result_lamda)\n",
    "                print('\\nTrain Data λ学習{0}回目 : \\n{1}'.format(num,result_lamda))\n",
    "            else:\n",
    "                pass\n",
    "        \n",
    "        self.index_support_vectors = np.where(lamda > self.threshold)\n",
    "        self.X_sv = X[self.index_support_vectors]\n",
    "        self.n_support_vectors = self.X_sv.shape[0]\n",
    "        self.lam_sv = lamda[self.index_support_vectors]\n",
    "        self.y_sv = y[self.index_support_vectors]\n",
    "        \n",
    "        \n",
    "        # テストデータがある場合\n",
    "        if X_val is not None:\n",
    "            #カーネル関数が線形なら\n",
    "            #if self.kernel == linear:\n",
    "            # λの初期化\n",
    "            lamda_val = np.zeros(len(X_val))\n",
    "            # イテレーションの数だけ学習\n",
    "            for num in range(self.iter):\n",
    "                lamda_val =  self._gradient_descent(X_val,y_val,lamda_val)\n",
    "                \n",
    "                # 学習過程の出力\n",
    "                if self.verbose is True:\n",
    "                    map_result_lamda_val = map(str, lamda_val)\n",
    "                    result_lamda_val = ',\\n'.join(map_result_lamda_val)\n",
    "                    print('\\nTest Data λ 学習{0}回目 : \\n{1}'.format(num,result_lamda_val))\n",
    "                else:\n",
    "                    pass\n",
    "\n",
    "            # サポートベクター\n",
    "            self.index_support_vectors_val = np.where(lamda_val > self.threshold)\n",
    "            self.X_sv_val = X_val[self.index_support_vectors_val]\n",
    "            self.lam_sv_val = lamda_val[self.index_support_vectors_val]\n",
    "            self.y_sv_val = y_val[self.index_support_vectors_val]\n",
    "    \n",
    "    \n",
    "    def predict(self, X):\n",
    "        \"\"\"\n",
    "        SVM分類器を使いラベルを推定する。\n",
    "\n",
    "        Parameters\n",
    "        ----------\n",
    "        X : 次の形のndarray, shape (n_samples, n_features)\n",
    "            サンプル\n",
    "\n",
    "        Returns\n",
    "        -------\n",
    "            次の形のndarray, shape (n_samples, 1)\n",
    "            SVM分類器による推定結果\n",
    "        \"\"\"\n",
    "        step1 = X@self.X_sv.T\n",
    "        y_pred = (self.lam_sv*self.y_sv)@step1.T\n",
    "        return np.sign(y_pred)"
   ]
  },
  {
   "cell_type": "code",
   "execution_count": 10,
   "metadata": {},
   "outputs": [],
   "source": [
    "# 初期化，学習，推定\n",
    "scratch_svm = ScratchSVMClassifier(num_iter=1000, lr=0.001, threshold=1e-5, verbose=False)\n",
    "scratch_svm.fit(X_train,y_train)\n",
    "y_pred = scratch_svm.predict(X_test)"
   ]
  },
  {
   "cell_type": "code",
   "execution_count": 11,
   "metadata": {},
   "outputs": [
    {
     "name": "stdout",
     "output_type": "stream",
     "text": [
      "Accuracy: 1.0\n",
      "\n",
      "               precision    recall  f1-score   support\n",
      "\n",
      "          -1       1.00      1.00      1.00        51\n",
      "           1       1.00      1.00      1.00        74\n",
      "\n",
      "   micro avg       1.00      1.00      1.00       125\n",
      "   macro avg       1.00      1.00      1.00       125\n",
      "weighted avg       1.00      1.00      1.00       125\n",
      "\n",
      "サポートベクターの数: 8\n"
     ]
    }
   ],
   "source": [
    "# Accuracy，Precision，Recall，f1\n",
    "print('Accuracy:',accuracy_score(y_test, y_pred))\n",
    "print('\\n',classification_report(y_test,y_pred))\n",
    "print('サポートベクターの数:',scratch_svm.n_support_vectors)"
   ]
  },
  {
   "cell_type": "markdown",
   "metadata": {},
   "source": [
    "## ２．sklearn"
   ]
  },
  {
   "cell_type": "code",
   "execution_count": 12,
   "metadata": {},
   "outputs": [
    {
     "name": "stdout",
     "output_type": "stream",
     "text": [
      "Accuracy: 1.0\n",
      "\n",
      "               precision    recall  f1-score   support\n",
      "\n",
      "          -1       1.00      1.00      1.00        51\n",
      "           1       1.00      1.00      1.00        74\n",
      "\n",
      "   micro avg       1.00      1.00      1.00       125\n",
      "   macro avg       1.00      1.00      1.00       125\n",
      "weighted avg       1.00      1.00      1.00       125\n",
      "\n"
     ]
    }
   ],
   "source": [
    "from sklearn import svm\n",
    "# 初期化，学習，推定\n",
    "clf = svm.SVC(C=1.0, kernel='linear')\n",
    "clf.fit(X_train, y_train)\n",
    "y_pred_sk = clf.predict(X_test)\n",
    "\n",
    "# Accuracy，Precision，Recall，f1\n",
    "print('Accuracy:',accuracy_score(y_test, y_pred_sk))\n",
    "print('\\n',classification_report(y_test,y_pred_sk))"
   ]
  },
  {
   "cell_type": "markdown",
   "metadata": {},
   "source": [
    "# 【問題5】決定領域の可視化"
   ]
  },
  {
   "cell_type": "code",
   "execution_count": 13,
   "metadata": {},
   "outputs": [],
   "source": [
    "from matplotlib.colors import ListedColormap\n",
    "import matplotlib.patches as mpatches\n",
    "\n",
    "def decision_region(X, y, model, step=0.01, title='Decision Region', xlabel='f0', ylabel='f1', target_names=['1', '-1']):\n",
    "    \"\"\"\n",
    "    2値分類を2次元の特徴量で学習したモデルの決定領域を描く。\n",
    "\n",
    "    Parameters\n",
    "    ----------------\n",
    "    X : ndarray, shape(n_samples, 2)\n",
    "        特徴量\n",
    "    y : ndarray, shape(n_samples,)\n",
    "        ラベル\n",
    "    model : object\n",
    "        学習したモデルのインスンタスを入れる\n",
    "    step : float, (default : 0.1)\n",
    "        推定値を計算する間隔を設定する\n",
    "    title : str\n",
    "        グラフのタイトルの文章を与える\n",
    "    xlabel, ylabel : str\n",
    "        軸ラベルの文章を与える\n",
    "    target_names= : list of str\n",
    "        凡例の一覧を与える\n",
    "    \"\"\"\n",
    "    # setting\n",
    "    scatter_color = ['red', 'blue']\n",
    "    contourf_color = ['pink', 'skyblue']\n",
    "    n_class = 2\n",
    "\n",
    "    # pred\n",
    "    mesh_f0, mesh_f1  = np.meshgrid(np.arange(np.min(X[:,0])-0.5, np.max(X[:,0])+0.5, step), np.arange(np.min(X[:,1])-0.5, np.max(X[:,1])+0.5, step))\n",
    "    mesh = np.c_[np.ravel(mesh_f0),np.ravel(mesh_f1)]\n",
    "    y_pred = model.predict(mesh).reshape(mesh_f0.shape)\n",
    "\n",
    "    # plot\n",
    "    plt.title(title)\n",
    "    plt.xlabel(xlabel)\n",
    "    plt.ylabel(ylabel)\n",
    "    plt.contourf(mesh_f0, mesh_f1, y_pred, n_class-1, cmap=ListedColormap(contourf_color))\n",
    "    plt.contour(mesh_f0, mesh_f1, y_pred, n_class-1, colors='y', linewidths=3, alpha=0.5)\n",
    "    for i, target in enumerate(set(y)):\n",
    "        plt.scatter(X[y==target][:, 0], X[y==target][:, 1], s=80, color=scatter_color[i], label=target_names[i], marker='o')\n",
    "    patches = [mpatches.Patch(color=scatter_color[i], label=target_names[i]) for i in range(n_class)]\n",
    "    \n",
    "    plt.scatter(model.X_sv[:,0], model.X_sv[:,1], s=80, color='y',marker='^',label='SV')\n",
    "    \n",
    "    plt.legend(handles=patches)\n",
    "    plt.legend()\n",
    "    plt.show()"
   ]
  },
  {
   "cell_type": "code",
   "execution_count": 14,
   "metadata": {},
   "outputs": [
    {
     "data": {
      "image/png": "[encoded data removed]",
      "text/plain": [
       "<Figure size 432x288 with 1 Axes>"
      ]
     },
     "metadata": {
      "needs_background": "light"
     },
     "output_type": "display_data"
    }
   ],
   "source": [
    "decision_region(X=X_train, y=y_train, model=scratch_svm, step=0.01, title='Decision Region', xlabel='f0', ylabel='f1', target_names=['1', '-1'])"
   ]
  },
  {
   "cell_type": "markdown",
   "metadata": {},
   "source": [
    "# 【問題6】（アドバンス課題）多項式カーネル関数の作成\n",
    " ### sklearn SVM 'poly'のハイパーパラメータ\n",
    "  #### gamma ： float（デフォルト= 'auto'）\n",
    "   * 「rbf」、「poly」、および「sigmoid」のカーネル係数。\n",
    "   * 現在のデフォルトは1 / n_featuresを使用する 'auto'\n",
    "   * gamma='scale'渡された場合、1 /（n_features * X.var（））\n",
    "   * 現在のgammaのデフォルト「auto」は、バージョン0.22で「scale」に変更される．\n",
    "#### coef0 ： float（デフォルト= 0.0）\n",
    "   θ0のこと\n",
    "#### degree ： int（デフォルト= 3）\n",
    "   多項式カーネル関数の次数"
   ]
  },
  {
   "cell_type": "code",
   "execution_count": 15,
   "metadata": {},
   "outputs": [],
   "source": [
    "# パラメータを設定\n",
    "gamma = 1/len(X)\n",
    "theta = 0.1\n",
    "degree = 3\n",
    "\n",
    "def _poly(X,i,j):\n",
    "    k = gamma*(X[i]@X[j] + theta)**degree\n",
    "    return k"
   ]
  },
  {
   "cell_type": "code",
   "execution_count": 16,
   "metadata": {},
   "outputs": [
    {
     "data": {
      "text/plain": [
       "0.019741768196832637"
      ]
     },
     "execution_count": 16,
     "metadata": {},
     "output_type": "execute_result"
    }
   ],
   "source": [
    "_poly(X,1,2)"
   ]
  },
  {
   "cell_type": "code",
   "execution_count": 17,
   "metadata": {},
   "outputs": [],
   "source": [
    "class ScratchSVMClassifier_poly():\n",
    "    \"\"\"\n",
    "    SVM分類器のスクラッチ実装\n",
    "\n",
    "    Parameters\n",
    "    ----------\n",
    "    num_iter : int\n",
    "      イテレーション数\n",
    "    lr : float\n",
    "      学習率\n",
    "    kernel : str\n",
    "      カーネルの種類。線形カーネル（linear）か多項式カーネル（poly）\n",
    "    threshold : float\n",
    "      サポートベクターを選ぶための閾値\n",
    "    verbose : bool\n",
    "      学習過程を出力する場合はTrue\n",
    "\n",
    "    Attributes\n",
    "    ----------\n",
    "    self.n_support_vectors : int\n",
    "      サポートベクターの数\n",
    "    self.index_support_vectors : 次の形のndarray, shape (n_support_vectors,)\n",
    "      サポートベクターのインデックス\n",
    "    self.X_sv :  次の形のndarray, shape(n_support_vectors, n_features)\n",
    "      サポートベクターの特徴量\n",
    "    self.lam_sv :  次の形のndarray, shape(n_support_vectors, 1)\n",
    "      サポートベクターの未定乗数\n",
    "    self.y_sv :  次の形のndarray, shape(n_support_vectors, 1)\n",
    "      サポートベクターのラベル\n",
    "\n",
    "    \"\"\"\n",
    "\n",
    "    def __init__(self, num_iter, lr, kernel='linear', threshold=1e-5, verbose=False,gamma=0.02,theta=0.1,degree=3):\n",
    "        # ハイパーパラメータを属性として記録\n",
    "        self.iter = num_iter\n",
    "        self.lr = lr\n",
    "        self.kernel = kernel\n",
    "        self.threshold = threshold\n",
    "        self.verbose = verbose\n",
    "        self.gamma = gamma\n",
    "        self.theta = theta\n",
    "        self.degree = degree\n",
    "    \n",
    "    \n",
    "    # 線形カーネル\n",
    "    def _linear(self,X,i,j):\n",
    "        k = np.dot(X[i].T,X[j])\n",
    "        return k\n",
    "    \n",
    "    \n",
    "    # 多項式カーネル\n",
    "    def _poly(self,X,i,j):\n",
    "        k = self.gamma*(X[i]@X[j] + self.theta)**self.degree\n",
    "        return k\n",
    "\n",
    "    \n",
    "    # ラグランジェ乗数　最急降下法\n",
    "    def _gradient_descent(self,X,y,lamda):\n",
    "        lamda_old = np.zeros(lamda.shape)\n",
    "        for i in range(len(X)):\n",
    "            sigma = 0\n",
    "            for j in range(len(X)):\n",
    "                sigma += lamda[j]*y[i]*y[j]*self._kernel_function(X,i,j)\n",
    "            lamda_old[i] = lamda[i] + self.lr*(1-sigma)\n",
    "            if lamda_old[i] < 0:\n",
    "                lamda_old[i] = 0\n",
    "        lamda = lamda_old.copy()\n",
    "        return lamda\n",
    "        \n",
    "        \n",
    "    def fit(self, X, y, X_val=None, y_val=None):\n",
    "        \"\"\"\n",
    "        SVM分類器を学習する。検証用データが入力された場合はそれに対する精度もイテレーションごとに計算する。\n",
    "\n",
    "        Parameters\n",
    "        ----------\n",
    "        X : 次の形のndarray, shape (n_samples, n_features)\n",
    "            学習用データの特徴量\n",
    "        y : 次の形のndarray, shape (n_samples, )\n",
    "            学習用データの正解値\n",
    "        X_val : 次の形のndarray, shape (n_samples, n_features)\n",
    "            検証用データの特徴量\n",
    "        y_val : 次の形のndarray, shape (n_samples, )\n",
    "            検証用データの正解値\n",
    "        \"\"\"\n",
    "        if self.kernel == 'linear':\n",
    "            self._kernel_function = self._linear\n",
    "        elif self.kernel == 'poly':\n",
    "            self._kernel_function = self._poly\n",
    "        else:\n",
    "            print('カーネル関数が正しくありません．')\n",
    "\n",
    "        # λの初期化\n",
    "        lamda = np.zeros(len(X))\n",
    "        # イテレーションの数だけ学習\n",
    "        for num in range(self.iter):\n",
    "            lamda = self._gradient_descent(X,y,lamda)\n",
    "\n",
    "            # 学習過程の出力\n",
    "            if self.verbose is True:\n",
    "                map_result_lamda = map(str, lamda)\n",
    "                result_lamda = ',\\n'.join(map_result_lamda)\n",
    "                print('\\nTrain Data λ学習{0}回目 : \\n{1}'.format(num,result_lamda))\n",
    "            else:\n",
    "                pass\n",
    "        \n",
    "        # サポートベクター\n",
    "        self.index_support_vectors = np.where(lamda > self.threshold)\n",
    "        self.X_sv = X[self.index_support_vectors]\n",
    "        self.n_support_vectors = self.X_sv.shape[0]\n",
    "        self.lam_sv = lamda[self.index_support_vectors]\n",
    "        self.y_sv = y[self.index_support_vectors]\n",
    "        \n",
    "        \n",
    "        # テストデータがある場合\n",
    "        if X_val is not None:\n",
    "            #カーネル関数が線形なら\n",
    "            #if self.kernel == linear:\n",
    "            # λの初期化\n",
    "            lamda_val = np.zeros(len(X_val))\n",
    "            # イテレーションの数だけ学習\n",
    "            for num in range(self.iter):\n",
    "                lamda_val =  self._gradient_descent(X_val,y_val,lamda_val)\n",
    "                \n",
    "                # 学習過程の出力\n",
    "                if self.verbose is True:\n",
    "                    map_result_lamda_val = map(str, lamda_val)\n",
    "                    result_lamda_val = ',\\n'.join(map_result_lamda_val)\n",
    "                    print('\\nTest Data λ 学習{0}回目 : \\n{1}'.format(num,result_lamda_val))\n",
    "                else:\n",
    "                    pass\n",
    "\n",
    "            # サポートベクター\n",
    "            self.index_support_vectors_val = np.where(lamda_val > self.threshold)\n",
    "            self.X_sv_val = X_val[self.index_support_vectors_val]\n",
    "            self.lam_sv_val = lamda_val[self.index_support_vectors_val]\n",
    "            self.y_sv_val = y_val[self.index_support_vectors_val]\n",
    "    \n",
    "    \n",
    "    def predict(self, X):\n",
    "        \"\"\"\n",
    "        SVM分類器を使いラベルを推定する。\n",
    "\n",
    "        Parameters\n",
    "        ----------\n",
    "        X : 次の形のndarray, shape (n_samples, n_features)\n",
    "            サンプル\n",
    "\n",
    "        Returns\n",
    "        -------\n",
    "            次の形のndarray, shape (n_samples, 1)\n",
    "            SVM分類器による推定結果\n",
    "        \"\"\"\n",
    "        step1 = X@self.X_sv.T\n",
    "        y_pred = (self.lam_sv*self.y_sv)@step1.T\n",
    "        return np.sign(y_pred)"
   ]
  },
  {
   "cell_type": "code",
   "execution_count": 18,
   "metadata": {},
   "outputs": [],
   "source": [
    "# 初期化，学習，推定\n",
    "scratch_svm_poly = ScratchSVMClassifier_poly(num_iter=1000, lr=0.001, kernel='poly', threshold=1e-5, verbose=False,gamma=0.02,theta=0.1,degree=3)\n",
    "scratch_svm_poly.fit(X_train,y_train,X_test,y_test)\n",
    "y_pred_poly = scratch_svm_poly.predict(X_test)"
   ]
  },
  {
   "cell_type": "code",
   "execution_count": 22,
   "metadata": {},
   "outputs": [
    {
     "name": "stdout",
     "output_type": "stream",
     "text": [
      "サポートベクターの数： 26\n"
     ]
    }
   ],
   "source": [
    "print('サポートベクターの数：',scratch_svm_poly.n_support_vectors)"
   ]
  },
  {
   "cell_type": "code",
   "execution_count": 20,
   "metadata": {},
   "outputs": [
    {
     "data": {
      "image/png": "[encoded data removed]",
      "text/plain": [
       "<Figure size 432x288 with 1 Axes>"
      ]
     },
     "metadata": {
      "needs_background": "light"
     },
     "output_type": "display_data"
    }
   ],
   "source": [
    "decision_region(X=X_train, y=y_train, model=scratch_svm_poly, step=0.01, title='decision region', xlabel='f0', ylabel='f1', target_names=['1', '-1'])"
   ]
  }
 ],
 "metadata": {
  "kernelspec": {
   "display_name": "Python 3",
   "language": "python",
   "name": "python3"
  },
  "language_info": {
   "codemirror_mode": {
    "name": "ipython",
    "version": 3
   },
   "file_extension": ".py",
   "mimetype": "text/x-python",
   "name": "python",
   "nbconvert_exporter": "python",
   "pygments_lexer": "ipython3",
   "version": "3.7.1"
  }
 },
 "nbformat": 4,
 "nbformat_minor": 2
}
