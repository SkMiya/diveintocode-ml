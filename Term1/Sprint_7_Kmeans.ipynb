{
 "cells": [
  {
   "cell_type": "markdown",
   "metadata": {},
   "source": [
    "# Sprint 機械学習スクラッチ クラスタリング"
   ]
  },
  {
   "cell_type": "code",
   "execution_count": 42,
   "metadata": {},
   "outputs": [],
   "source": [
    "import numpy as np\n",
    "import pandas as pd\n",
    "import random\n",
    "from sklearn.model_selection import train_test_split\n",
    "from sklearn.preprocessing import StandardScaler\n",
    "# 評価\n",
    "from sklearn.metrics import classification_report\n",
    "from sklearn.metrics import accuracy_score\n",
    "# 可視化\n",
    "import matplotlib.pyplot as plt\n",
    "import japanize_matplotlib\n",
    "from matplotlib.colors import ListedColormap\n",
    "import matplotlib.patches as mpatches"
   ]
  },
  {
   "cell_type": "code",
   "execution_count": 43,
   "metadata": {},
   "outputs": [],
   "source": [
    "# 人口データセットの作成\n",
    "from sklearn.datasets import make_blobs\n",
    "X, _ = make_blobs(n_samples=100, n_features=2, centers=4, cluster_std=0.5, shuffle=True, random_state=0)"
   ]
  },
  {
   "cell_type": "code",
   "execution_count": 44,
   "metadata": {},
   "outputs": [
    {
     "name": "stdout",
     "output_type": "stream",
     "text": [
      "サンプル数:100\n",
      "特徴量の数:2\n"
     ]
    }
   ],
   "source": [
    "# サンプル数\n",
    "m = X.shape[0]\n",
    "# 特徴量の数\n",
    "n = X.shape[1]\n",
    "print('サンプル数:{0}\\n特徴量の数:{1}'.format(m,n))"
   ]
  },
  {
   "cell_type": "code",
   "execution_count": 45,
   "metadata": {},
   "outputs": [
    {
     "name": "stdout",
     "output_type": "stream",
     "text": [
      "クラスラベル： (array([0, 1, 2, 3]), array([25, 25, 25, 25], dtype=int64))\n"
     ]
    }
   ],
   "source": [
    "# 正解ラベル\n",
    "print('クラスラベル：',np.unique(_, return_counts=True))"
   ]
  },
  {
   "cell_type": "markdown",
   "metadata": {},
   "source": [
    "# 【問題1】中心点の初期値を決める\n",
    "* 入力されたデータからK個の中心点μ1からμKの初期値を決めるコードを作成．\n",
    "* Kは指定したクラスタ数．\n",
    "\n",
    "* 最もシンプルな初期値の決定方法は、データ点Xnの中からランダムにK個選ぶこと(今回はこれも実装)\n",
    "\n",
    "* K-meansの学習結果は中心点μの初期値に影響を受ける．そのため、学習時には複数個の初期値で計算を行う．"
   ]
  },
  {
   "cell_type": "code",
   "execution_count": 46,
   "metadata": {},
   "outputs": [
    {
     "name": "stdout",
     "output_type": "stream",
     "text": [
      "49\n",
      "97\n",
      "53\n",
      "5\n"
     ]
    },
    {
     "data": {
      "text/plain": [
       "array([[ 0.5323772 ,  3.31338909],\n",
       "       [-1.56102482,  3.77455362],\n",
       "       [-1.74448079,  3.84251413],\n",
       "       [ 0.78260667,  4.15263595]])"
      ]
     },
     "execution_count": 46,
     "metadata": {},
     "output_type": "execute_result"
    }
   ],
   "source": [
    "# シードの固定\n",
    "random.seed(0)\n",
    "K = 4\n",
    "\n",
    "# 中心点を入れる空のarray\n",
    "centroids = np.array([]).reshape(0,n)\n",
    "for i in range(K):\n",
    "    rand = random.randint(0,len(X)-1)\n",
    "    print(rand)\n",
    "    centroids = np.vstack((centroids,X[rand]))\n",
    "centroids"
   ]
  },
  {
   "cell_type": "markdown",
   "metadata": {},
   "source": [
    "# 【問題2】SSEを求める関数の作成\n",
    "* クラスタ内誤差平方和（SSE, Sum of Squared Errors）を計算する関数の作成．\n",
    "* K-meansはこのSSEを最小化するrnkとμkを求めることが目的\n",
    "* 数個の初期値で計算したクラスタリング結果から、どれを最終的に採用するかを決める際にこのSSEを求める関数を使用する\n",
    "* メモ：アルゴリズムの出力は、キーとしてクラスター番号を持ち、値としてそのクラスターに属するデータポイントを持つ辞書でなければならない．らしい．"
   ]
  },
  {
   "cell_type": "code",
   "execution_count": 47,
   "metadata": {},
   "outputs": [],
   "source": [
    "def SSE(X=X,centroids=centroids,K=K):\n",
    "    # セントロイドとの距離を入れるarray\n",
    "    distance = np.array([]).reshape(X.shape[0],0)\n",
    "    for k in range(K):\n",
    "        tempDist = np.sum((X-centroids[k,:])**2,axis=1)\n",
    "        #print(tempDist)\n",
    "        #print(tempDist.shape)\n",
    "        distance = np.column_stack([distance,tempDist])\n",
    "        #print(distance.shape)   \n",
    "    #print(distance)\n",
    "    C = np.argmin(distance,axis=1)\n",
    "    \n",
    "    min_distance = np.zeros(len(X))\n",
    "    for num in range(len(X)):\n",
    "        # 一番小さい距離の値を足す．\n",
    "        min_distance[num] =  distance[num,C[num]]\n",
    "        sse = np.sum(min_distance)\n",
    "    return sse"
   ]
  },
  {
   "cell_type": "code",
   "execution_count": 48,
   "metadata": {},
   "outputs": [
    {
     "data": {
      "text/plain": [
       "629.071999954795"
      ]
     },
     "execution_count": 48,
     "metadata": {},
     "output_type": "execute_result"
    }
   ],
   "source": [
    "SSE(X,centroids,K)"
   ]
  },
  {
   "cell_type": "markdown",
   "metadata": {},
   "source": [
    "# 【問題3】クラスタへの割り当て\n",
    "* 全てのデータ点Xnを最も近い中心点μkに割り当てるコードを作成\n",
    "* K-menasにおける「近い」とは，点と点のユークリッド距離が小さくなること\n",
    "* ユークリッド距離とはピタゴラスの定理（三平方の定理）で求められる"
   ]
  },
  {
   "cell_type": "code",
   "execution_count": 49,
   "metadata": {},
   "outputs": [],
   "source": [
    "def _cluster(X,K,centroids):\n",
    "    norm_list = np.array([]).reshape(0,K)\n",
    "    for i in range(len(X)):\n",
    "        N = np.linalg.norm(X[i] - centroids, ord=2, axis=1)\n",
    "        norm_list = np.vstack((norm_list,N))\n",
    "    cluster = np.argmin(norm_list,axis=1)\n",
    "    return cluster"
   ]
  },
  {
   "cell_type": "code",
   "execution_count": 50,
   "metadata": {},
   "outputs": [
    {
     "data": {
      "text/plain": [
       "array([0, 2, 3, 3, 3, 3, 2, 3, 3, 2, 2, 2, 2, 2, 3, 0, 0, 0, 1, 0, 3, 2,\n",
       "       2, 0, 3, 1, 1, 3, 0, 0, 0, 2, 0, 0, 1, 3, 2, 0, 3, 1, 3, 1, 2, 2,\n",
       "       1, 2, 0, 1, 3, 0, 3, 0, 1, 2, 1, 2, 3, 0, 0, 3, 2, 0, 0, 3, 0, 3,\n",
       "       2, 1, 0, 3, 2, 0, 3, 2, 3, 3, 1, 1, 0, 0, 0, 2, 1, 3, 0, 1, 0, 0,\n",
       "       3, 3, 3, 1, 0, 1, 2, 2, 2, 1, 3, 3], dtype=int64)"
      ]
     },
     "execution_count": 50,
     "metadata": {},
     "output_type": "execute_result"
    }
   ],
   "source": [
    "_cluster(X,K,centroids)"
   ]
  },
  {
   "cell_type": "markdown",
   "metadata": {},
   "source": [
    "# 【問題4】中心点の移動\n",
    "* 中心点μkをk番目のクラスタに割り当てられる全てのデータ点Xnの平均値（重心）に移動するコードを作成\n",
    "* クラスタの割り当てrnkを固定した上でSSEを最小化していることになるが，SSE自体を求める必要はない．"
   ]
  },
  {
   "cell_type": "code",
   "execution_count": 51,
   "metadata": {},
   "outputs": [
    {
     "data": {
      "text/plain": [
       "array([[ 1.76436664,  1.3155527 ],\n",
       "       [-1.3663346 ,  3.0186171 ],\n",
       "       [-1.62477588,  6.58360811],\n",
       "       [ 0.57505158,  5.30311294]])"
      ]
     },
     "execution_count": 51,
     "metadata": {},
     "output_type": "execute_result"
    }
   ],
   "source": [
    "K = 4\n",
    "new_centroids = np.array([]).reshape(0,2)\n",
    "for k in range(K):\n",
    "    new = np.mean(X[_cluster(X,K,centroids)==k],axis=0)\n",
    "    new_centroids = np.vstack((new_centroids,new))\n",
    "new_centroids"
   ]
  },
  {
   "cell_type": "markdown",
   "metadata": {},
   "source": [
    "# 【問題5】繰り返し\n",
    "* クラスタへの割り当てと中心点の移動を繰り返すことで学習を行うコードを作成\n",
    "* 次のどれかの条件を満たしたらこれを止める\n",
    "\n",
    "* 繰り返しが指定した回数に到達する．（雛形では引数max_iter）\n",
    "* 中心点μkと重心の差が指定した許容値以下になる。（雛形では引数tol）"
   ]
  },
  {
   "cell_type": "markdown",
   "metadata": {},
   "source": [
    "# 【問題6】異なる初期値で計算\n",
    "* 問題5の繰り返しを、指定した回数初期値を変更して計算するコードを作成\n",
    "* 回数は雛形では引数n_initで指定\n",
    "* 複数計算した中でSSEが最小になったものが最終的な学習結果となるため、その時の中心点μkを保持しておく"
   ]
  },
  {
   "cell_type": "markdown",
   "metadata": {},
   "source": [
    "# 【問題7】推定\n",
    "* 新たなデータに対してどのクラスタに所属するかの推定の際は、学習時の1つ目のフェーズと同じことを行う\n",
    "* データ点Xnと学習で決まった中心点μkに対し，SSEを最小化するrnkを選ぶ．\n",
    "* データ点Xnを最も近いμkに割り当てる"
   ]
  },
  {
   "cell_type": "code",
   "execution_count": 52,
   "metadata": {},
   "outputs": [],
   "source": [
    "class ScratchKMeans():\n",
    "    \"\"\"\n",
    "    K-meansのスクラッチ実装\n",
    "\n",
    "    Parameters\n",
    "    ----------\n",
    "    n_clusters : int\n",
    "      クラスタ数\n",
    "    n_init : int\n",
    "      中心点の初期値を何回変えて計算するか\n",
    "    max_iter : int\n",
    "      1回の計算で最大何イテレーションするか\n",
    "    tol : float\n",
    "      イテレーションを終了する基準となる中心点と重心の許容誤差\n",
    "    verbose : bool\n",
    "      学習過程を出力する場合はTrue\n",
    "    \"\"\"\n",
    "\n",
    "    def __init__(self, n_clusters, n_init, max_iter, tol, verbose=False):\n",
    "        # ハイパーパラメータを属性として記録\n",
    "        self.n_clusters = n_clusters\n",
    "        self.n_init = n_init\n",
    "        self.max_iter = max_iter\n",
    "        self.tol = tol\n",
    "        self.verbose = verbose\n",
    "\n",
    "    def fit(self, X):\n",
    "        \"\"\"\n",
    "        K-meansによるクラスタリングを計算\n",
    "        Parameters\n",
    "        ----------\n",
    "        X : 次の形のndarray, shape (n_samples, n_features)\n",
    "            学習用データの特徴量\n",
    "        \"\"\"\n",
    "\n",
    "        new_sse = 0\n",
    "        \n",
    "        # n_initの回数中心点の初期値を変える\n",
    "        for a in range(self.n_init):\n",
    "            # 中心点の初期値\n",
    "            centroids = X[np.random.choice(X.shape[0],self.n_clusters,replace=False)]\n",
    "            # 移動前の中心点を入れるarray\n",
    "            old_centroids = centroids.copy()\n",
    "            \n",
    "            # nax_iterの回数，重心を移動\n",
    "            for i in range(self.max_iter):\n",
    "                # セントロイドとの距離を求めて，クラスタを決める\n",
    "                norm_list = np.array([]).reshape(0,self.n_clusters)\n",
    "                for n in range(len(X)):\n",
    "                    N = np.linalg.norm(X[n] - centroids, ord=2, axis=1)\n",
    "                    norm_list = np.vstack((norm_list,N))\n",
    "                # クラスタに割り当て\n",
    "                cluster = np.argmin(norm_list,axis=1)\n",
    "               \n",
    "                # 新しい重心へ移動\n",
    "                for k in range(self.n_clusters):\n",
    "                    centroids[k] = np.mean(X[np.where(cluster==k)], axis=0)\n",
    "                # 中心点の差がtol以下になったら学習終了\n",
    "                if np.linalg.norm(centroids - old_centroids) <= self.tol:\n",
    "                    break\n",
    "                else:\n",
    "                    #print('中心点と受信の差',np.linalg.norm(centroids - old_centroids))\n",
    "                    #print('old_centroids:\\n',old_centroids,'\\n')\n",
    "                    old_centroids = centroids.copy()\n",
    "            \n",
    "            # SSEを求める\n",
    "            sse = self.SSE(X,centroids)\n",
    "\n",
    "            #初回のSSE算出の時は\n",
    "            if new_sse == 0:\n",
    "                new_sse = sse\n",
    "            #ここまでの一番小さいsse以下だった場合、中心点とクラスターを保存しておく．\n",
    "            if sse <= new_sse:\n",
    "                self.centroids = centroids.copy()\n",
    "                #print('best_centroids',self.centroids)\n",
    "                self.cluster = cluster.copy()\n",
    "                #print('best_cluster',self.cluster)\n",
    "                new_sse = sse\n",
    "                #print(new_sse)\n",
    "            \n",
    "            #verboseをTrueにした際は学習過程を出力\n",
    "            if self.verbose:\n",
    "                print('{0}init SSE:\\n{1}'.format(a,sse))\n",
    "            else:\n",
    "                pass\n",
    "            \n",
    "    \n",
    "    def SSE(self,X,centroids):\n",
    "        \"\"\"\n",
    "        クラスタ内誤差平方和（SSE, Sum of Squared Errors）を計算する関数\n",
    "        Parameters\n",
    "        ----------\n",
    "        X : 次の形のndarray, shape (n_samples, n_features)\n",
    "            学習用データの特徴量\n",
    "        centrois : 次の形のndarray, shape(n_clusters,X.shape[1])\n",
    "        return\n",
    "        ----------\n",
    "        sse : スカラー\n",
    "        \"\"\"\n",
    "\n",
    "        # セントロイドとXとの差の二乗したものを入れるarray\n",
    "        distance_array = np.array([]).reshape(X.shape[0],0)\n",
    "        # 各クラスタとサンプルとの誤差の2乗の総和を計算する\n",
    "        for k in range(self.n_clusters):\n",
    "            d = np.sum((X-centroids[k,:])**2,axis=1)\n",
    "            distance_array = np.column_stack([distance_array,d])\n",
    "        # 最も誤差が小さかったクラスタに割り当て\n",
    "        C = np.argmin(distance_array,axis=1)\n",
    "        \n",
    "        # 割り当てられたクラスタでSSEを求める\n",
    "        min_distance = np.zeros(len(X))\n",
    "        for num in range(len(X)):\n",
    "            min_distance[num] =  distance_array[num,C[num]]\n",
    "            sse = np.sum(min_distance)\n",
    "        return sse\n",
    "    \n",
    "\n",
    "    def predict(self, X):\n",
    "        \"\"\"\n",
    "        入力されたデータがどのクラスタに属するかを計算\n",
    "        Parameters\n",
    "        ----------\n",
    "        X : 次の形のndarray, shape (n_samples, n_features)\n",
    "            学習用データの特徴量\n",
    "            \n",
    "        return\n",
    "        ----------\n",
    "        C : 次の形のndarray, shape (n_samples,)\n",
    "        \"\"\"\n",
    "        distance_array = np.array([]).reshape(X.shape[0],0)\n",
    "        for k in range(self.n_clusters):\n",
    "            tempdist=np.sum((X-self.centroids[k,:])**2,axis=1)\n",
    "            distance_array = np.column_stack([distance_array,tempdist])\n",
    "        C = np.argmin(distance_array,axis=1)\n",
    "        return C"
   ]
  },
  {
   "cell_type": "code",
   "execution_count": 53,
   "metadata": {},
   "outputs": [
    {
     "name": "stdout",
     "output_type": "stream",
     "text": [
      "0init SSE:\n",
      "134.3167746020285\n",
      "1init SSE:\n",
      "134.95838630944522\n",
      "2init SSE:\n",
      "134.85438853708433\n",
      "3init SSE:\n",
      "48.63378320706403\n",
      "4init SSE:\n",
      "48.63378320706403\n",
      "5init SSE:\n",
      "132.22875558038203\n",
      "6init SSE:\n",
      "48.63378320706403\n",
      "7init SSE:\n",
      "48.63378320706403\n",
      "8init SSE:\n",
      "48.63378320706403\n",
      "9init SSE:\n",
      "48.63378320706403\n"
     ]
    }
   ],
   "source": [
    "# 初期化，学習，推定\n",
    "skm = ScratchKMeans(n_clusters=4, n_init=10, max_iter=10, tol=1e-4, verbose=True)\n",
    "skm.fit(X)\n",
    "y_pred = skm.predict(X)"
   ]
  },
  {
   "cell_type": "markdown",
   "metadata": {},
   "source": [
    "# 【問題8】エルボー法の実装\n",
    "* K-meansにおいて中心点の個数kは人為的に決める必要があるが，その判断方法としてエルボー法がある．\n",
    "* エルボー法により中心点の個数kを検討するためのコードを作成\n",
    "* SSEを縦軸、クラスタ数kを横軸にした折れ線グラフを表示\n",
    "* このためにK-meansのインスタンスからはSSEを取得できるようにすること"
   ]
  },
  {
   "cell_type": "code",
   "execution_count": 54,
   "metadata": {},
   "outputs": [
    {
     "data": {
      "text/plain": [
       "Text(0, 0.5, 'SSE')"
      ]
     },
     "execution_count": 54,
     "metadata": {},
     "output_type": "execute_result"
    },
    {
     "data": {
      "image/png": "[encoded data removed]",
      "text/plain": [
       "<Figure size 432x288 with 1 Axes>"
      ]
     },
     "metadata": {
      "needs_background": "light"
     },
     "output_type": "display_data"
    }
   ],
   "source": [
    "# SSEを入れる空のリスト\n",
    "sse_list = []\n",
    "\n",
    "# クラスター数を１～10まで試してみる\n",
    "for i in range(1,10):\n",
    "    skm = ScratchKMeans(n_clusters=i, n_init=10, max_iter=10, tol=1e-4, verbose=False)\n",
    "    skm.fit(X)\n",
    "    sse = skm.SSE(X,skm.centroids)\n",
    "    sse_list.append(sse)\n",
    "    \n",
    "# ｘ軸は１～10のクラスタ、ｙ軸はSSE\n",
    "plt.plot(range(1,10),sse_list,marker='+')\n",
    "plt.xlabel('クラスター数')\n",
    "plt.ylabel('SSE')"
   ]
  },
  {
   "cell_type": "markdown",
   "metadata": {},
   "source": [
    "# クラスタ分析"
   ]
  },
  {
   "cell_type": "code",
   "execution_count": 55,
   "metadata": {},
   "outputs": [
    {
     "data": {
      "text/html": [
       "<div>\n",
       "<style scoped>\n",
       "    .dataframe tbody tr th:only-of-type {\n",
       "        vertical-align: middle;\n",
       "    }\n",
       "\n",
       "    .dataframe tbody tr th {\n",
       "        vertical-align: top;\n",
       "    }\n",
       "\n",
       "    .dataframe thead th {\n",
       "        text-align: right;\n",
       "    }\n",
       "</style>\n",
       "<table border=\"1\" class=\"dataframe\">\n",
       "  <thead>\n",
       "    <tr style=\"text-align: right;\">\n",
       "      <th></th>\n",
       "      <th>Channel</th>\n",
       "      <th>Region</th>\n",
       "      <th>Fresh</th>\n",
       "      <th>Milk</th>\n",
       "      <th>Grocery</th>\n",
       "      <th>Frozen</th>\n",
       "      <th>Detergents_Paper</th>\n",
       "      <th>Delicassen</th>\n",
       "    </tr>\n",
       "  </thead>\n",
       "  <tbody>\n",
       "    <tr>\n",
       "      <th>0</th>\n",
       "      <td>2</td>\n",
       "      <td>3</td>\n",
       "      <td>12669</td>\n",
       "      <td>9656</td>\n",
       "      <td>7561</td>\n",
       "      <td>214</td>\n",
       "      <td>2674</td>\n",
       "      <td>1338</td>\n",
       "    </tr>\n",
       "    <tr>\n",
       "      <th>1</th>\n",
       "      <td>2</td>\n",
       "      <td>3</td>\n",
       "      <td>7057</td>\n",
       "      <td>9810</td>\n",
       "      <td>9568</td>\n",
       "      <td>1762</td>\n",
       "      <td>3293</td>\n",
       "      <td>1776</td>\n",
       "    </tr>\n",
       "    <tr>\n",
       "      <th>2</th>\n",
       "      <td>2</td>\n",
       "      <td>3</td>\n",
       "      <td>6353</td>\n",
       "      <td>8808</td>\n",
       "      <td>7684</td>\n",
       "      <td>2405</td>\n",
       "      <td>3516</td>\n",
       "      <td>7844</td>\n",
       "    </tr>\n",
       "    <tr>\n",
       "      <th>3</th>\n",
       "      <td>1</td>\n",
       "      <td>3</td>\n",
       "      <td>13265</td>\n",
       "      <td>1196</td>\n",
       "      <td>4221</td>\n",
       "      <td>6404</td>\n",
       "      <td>507</td>\n",
       "      <td>1788</td>\n",
       "    </tr>\n",
       "    <tr>\n",
       "      <th>4</th>\n",
       "      <td>2</td>\n",
       "      <td>3</td>\n",
       "      <td>22615</td>\n",
       "      <td>5410</td>\n",
       "      <td>7198</td>\n",
       "      <td>3915</td>\n",
       "      <td>1777</td>\n",
       "      <td>5185</td>\n",
       "    </tr>\n",
       "  </tbody>\n",
       "</table>\n",
       "</div>"
      ],
      "text/plain": [
       "   Channel  Region  Fresh  Milk  Grocery  Frozen  Detergents_Paper  Delicassen\n",
       "0        2       3  12669  9656     7561     214              2674        1338\n",
       "1        2       3   7057  9810     9568    1762              3293        1776\n",
       "2        2       3   6353  8808     7684    2405              3516        7844\n",
       "3        1       3  13265  1196     4221    6404               507        1788\n",
       "4        2       3  22615  5410     7198    3915              1777        5185"
      ]
     },
     "execution_count": 55,
     "metadata": {},
     "output_type": "execute_result"
    }
   ],
   "source": [
    "# データの読み込み\n",
    "Wholesale = pd.read_csv('C:/Users/miyas/dive/diveintocode-ml/Wholesale customers data.csv')\n",
    "Wholesale.head()"
   ]
  },
  {
   "cell_type": "code",
   "execution_count": 56,
   "metadata": {},
   "outputs": [
    {
     "data": {
      "text/plain": [
       "Index(['Channel', 'Region', 'Fresh', 'Milk', 'Grocery', 'Frozen',\n",
       "       'Detergents_Paper', 'Delicassen'],\n",
       "      dtype='object')"
      ]
     },
     "execution_count": 56,
     "metadata": {},
     "output_type": "execute_result"
    }
   ],
   "source": [
    "# カラム名\n",
    "Wholesale.columns"
   ]
  },
  {
   "cell_type": "code",
   "execution_count": 57,
   "metadata": {},
   "outputs": [
    {
     "data": {
      "text/plain": [
       "array([[ 9.44691334,  9.17533476,  8.93075874,  5.36597602,  7.89133076,\n",
       "         7.19893124],\n",
       "       [ 8.86177531,  9.19115755,  9.16617948,  7.47420481,  8.09955428,\n",
       "         7.48211892],\n",
       "       [ 8.75668242,  9.08341568,  8.94689552,  7.78530518,  8.16507926,\n",
       "         8.96750419],\n",
       "       ...,\n",
       "       [ 9.58403958,  9.64782081, 10.31702003,  6.0799332 ,  9.6051489 ,\n",
       "         7.53208814],\n",
       "       [ 9.23892783,  7.59135705,  7.71065332,  6.94505106,  5.12396398,\n",
       "         7.66152708],\n",
       "       [ 7.93272103,  7.43720637,  7.82803803,  4.17438727,  6.16751649,\n",
       "         3.95124372]])"
      ]
     },
     "execution_count": 57,
     "metadata": {},
     "output_type": "execute_result"
    }
   ],
   "source": [
    "# 使用データのみを対数変換\n",
    "data = Wholesale.drop(['Channel','Region'],axis=1)\n",
    "data_log = np.log(data).values\n",
    "data_log"
   ]
  },
  {
   "cell_type": "code",
   "execution_count": 58,
   "metadata": {},
   "outputs": [
    {
     "name": "stdout",
     "output_type": "stream",
     "text": [
      "次元削減前 (440, 6)\n",
      "次元削減後： (440, 2)\n"
     ]
    }
   ],
   "source": [
    "# 次元削減\n",
    "print('次元削減前',data_log.shape)\n",
    "from sklearn.decomposition import PCA\n",
    "pca = PCA(n_components = 2)\n",
    "pca = pca.fit(data_log)\n",
    "data_pca = pca.transform(data_log)\n",
    "print('次元削減後：',data_pca.shape)"
   ]
  },
  {
   "cell_type": "code",
   "execution_count": 59,
   "metadata": {},
   "outputs": [
    {
     "name": "stdout",
     "output_type": "stream",
     "text": [
      "[0.44237417 0.71894523 0.83511865 0.93129585 0.97705265 1.        ]\n"
     ]
    },
    {
     "data": {
      "image/png": "[encoded data removed]",
      "text/plain": [
       "<Figure size 432x288 with 1 Axes>"
      ]
     },
     "metadata": {
      "needs_background": "light"
     },
     "output_type": "display_data"
    }
   ],
   "source": [
    "# PCAの分散説明率を表示\n",
    "pca = PCA(n_components=None)\n",
    "pca = pca.fit(data_log)\n",
    "var_exp = pca.explained_variance_ratio_\n",
    "cum_var_exp = np.cumsum(var_exp)\n",
    "print(cum_var_exp)\n",
    "plt.bar(range(1,7), var_exp, alpha=0.5, align='center', label='individual explained variance')\n",
    "plt.step(range(1,7), cum_var_exp, where='mid', label='cumulative expalined variance')\n",
    "plt.ylabel('Explained variance ratio')\n",
    "plt.xlabel('Principal components')\n",
    "plt.hlines(0.7, 0, 6,  \"blue\", linestyles='dashed')\n",
    "plt.legend(loc='best')\n",
    "plt.grid()\n",
    "plt.show()"
   ]
  },
  {
   "cell_type": "markdown",
   "metadata": {},
   "source": [
    "# 【問題10】クラスタ数kの選択\n",
    "* 最適だと思われるクラスタ数kを選択\n",
    "* エルボー法やシルエット図を活用する他、人間が後々どう利用したいのかも選択に関わってくる\n",
    "* 選択した上で、なぜそれを選んだか説明する"
   ]
  },
  {
   "cell_type": "code",
   "execution_count": 60,
   "metadata": {},
   "outputs": [
    {
     "data": {
      "text/plain": [
       "Text(0, 0.5, 'SSE')"
      ]
     },
     "execution_count": 60,
     "metadata": {},
     "output_type": "execute_result"
    },
    {
     "data": {
      "image/png": "[encoded data removed]",
      "text/plain": [
       "<Figure size 432x288 with 1 Axes>"
      ]
     },
     "metadata": {
      "needs_background": "light"
     },
     "output_type": "display_data"
    }
   ],
   "source": [
    "# SSEを入れる箱\n",
    "sse_list = []\n",
    "\n",
    "# クラスター数を１～７まで試してみる\n",
    "for i in range(1,7):\n",
    "    skm = ScratchKMeans(n_clusters=i, n_init=10, max_iter=10, tol=1e-4, verbose=False)\n",
    "    skm.fit(data_pca)\n",
    "    sse = skm.SSE(data_pca,skm.centroids)\n",
    "    sse_list.append(sse)\n",
    "    \n",
    "\n",
    "# ｘ軸は１～７、ｙ軸にはSSE\n",
    "plt.plot(range(1,7),sse_list,marker='+')\n",
    "plt.xlabel('クラスター数')\n",
    "plt.ylabel('SSE')"
   ]
  },
  {
   "cell_type": "markdown",
   "metadata": {},
   "source": [
    "### エルボー法より，クラスター数Ｋは２とする．"
   ]
  },
  {
   "cell_type": "markdown",
   "metadata": {},
   "source": [
    "# 【問題11】既知のグループとの比較\n",
    "* RegionとChannelはK-meansに使用しなかったが、これれらは既知のグループ\n",
    "* クラスタとこれら既知のグループがどう違うかを確認し、説明\n",
    "* まずはそれぞれを可視化"
   ]
  },
  {
   "cell_type": "code",
   "execution_count": 61,
   "metadata": {},
   "outputs": [
    {
     "name": "stdout",
     "output_type": "stream",
     "text": [
      "(array([0, 1], dtype=int64), array([262, 178], dtype=int64))\n"
     ]
    }
   ],
   "source": [
    "# 初期化，学習，推定\n",
    "skm = ScratchKMeans(n_clusters=2, n_init=10, max_iter=300, tol=1e-4, verbose=False)\n",
    "skm.fit(data_pca)\n",
    "y_pred = skm.predict(data_pca)\n",
    "print(np.unique(y_pred,return_counts=True))"
   ]
  },
  {
   "cell_type": "markdown",
   "metadata": {},
   "source": [
    "### クラスター０は178人，クラスター１は262人"
   ]
  },
  {
   "cell_type": "code",
   "execution_count": 62,
   "metadata": {},
   "outputs": [
    {
     "data": {
      "text/html": [
       "<div>\n",
       "<style scoped>\n",
       "    .dataframe tbody tr th:only-of-type {\n",
       "        vertical-align: middle;\n",
       "    }\n",
       "\n",
       "    .dataframe tbody tr th {\n",
       "        vertical-align: top;\n",
       "    }\n",
       "\n",
       "    .dataframe thead th {\n",
       "        text-align: right;\n",
       "    }\n",
       "</style>\n",
       "<table border=\"1\" class=\"dataframe\">\n",
       "  <thead>\n",
       "    <tr style=\"text-align: right;\">\n",
       "      <th></th>\n",
       "      <th>Channel</th>\n",
       "      <th>Region</th>\n",
       "      <th>Fresh</th>\n",
       "      <th>Milk</th>\n",
       "      <th>Grocery</th>\n",
       "      <th>Frozen</th>\n",
       "      <th>Detergents_Paper</th>\n",
       "      <th>Delicassen</th>\n",
       "      <th>cluster</th>\n",
       "    </tr>\n",
       "  </thead>\n",
       "  <tbody>\n",
       "    <tr>\n",
       "      <th>0</th>\n",
       "      <td>2</td>\n",
       "      <td>3</td>\n",
       "      <td>12669</td>\n",
       "      <td>9656</td>\n",
       "      <td>7561</td>\n",
       "      <td>214</td>\n",
       "      <td>2674</td>\n",
       "      <td>1338</td>\n",
       "      <td>1</td>\n",
       "    </tr>\n",
       "    <tr>\n",
       "      <th>1</th>\n",
       "      <td>2</td>\n",
       "      <td>3</td>\n",
       "      <td>7057</td>\n",
       "      <td>9810</td>\n",
       "      <td>9568</td>\n",
       "      <td>1762</td>\n",
       "      <td>3293</td>\n",
       "      <td>1776</td>\n",
       "      <td>1</td>\n",
       "    </tr>\n",
       "    <tr>\n",
       "      <th>2</th>\n",
       "      <td>2</td>\n",
       "      <td>3</td>\n",
       "      <td>6353</td>\n",
       "      <td>8808</td>\n",
       "      <td>7684</td>\n",
       "      <td>2405</td>\n",
       "      <td>3516</td>\n",
       "      <td>7844</td>\n",
       "      <td>1</td>\n",
       "    </tr>\n",
       "    <tr>\n",
       "      <th>3</th>\n",
       "      <td>1</td>\n",
       "      <td>3</td>\n",
       "      <td>13265</td>\n",
       "      <td>1196</td>\n",
       "      <td>4221</td>\n",
       "      <td>6404</td>\n",
       "      <td>507</td>\n",
       "      <td>1788</td>\n",
       "      <td>0</td>\n",
       "    </tr>\n",
       "    <tr>\n",
       "      <th>4</th>\n",
       "      <td>2</td>\n",
       "      <td>3</td>\n",
       "      <td>22615</td>\n",
       "      <td>5410</td>\n",
       "      <td>7198</td>\n",
       "      <td>3915</td>\n",
       "      <td>1777</td>\n",
       "      <td>5185</td>\n",
       "      <td>1</td>\n",
       "    </tr>\n",
       "  </tbody>\n",
       "</table>\n",
       "</div>"
      ],
      "text/plain": [
       "   Channel  Region  Fresh  Milk  Grocery  Frozen  Detergents_Paper  \\\n",
       "0        2       3  12669  9656     7561     214              2674   \n",
       "1        2       3   7057  9810     9568    1762              3293   \n",
       "2        2       3   6353  8808     7684    2405              3516   \n",
       "3        1       3  13265  1196     4221    6404               507   \n",
       "4        2       3  22615  5410     7198    3915              1777   \n",
       "\n",
       "   Delicassen  cluster  \n",
       "0        1338        1  \n",
       "1        1776        1  \n",
       "2        7844        1  \n",
       "3        1788        0  \n",
       "4        5185        1  "
      ]
     },
     "execution_count": 62,
     "metadata": {},
     "output_type": "execute_result"
    }
   ],
   "source": [
    "# dfにクラスターを追加\n",
    "Wholesale['cluster'] = y_pred\n",
    "Wholesale.head()"
   ]
  },
  {
   "cell_type": "code",
   "execution_count": 63,
   "metadata": {},
   "outputs": [
    {
     "data": {
      "text/html": [
       "<div>\n",
       "<style scoped>\n",
       "    .dataframe tbody tr th:only-of-type {\n",
       "        vertical-align: middle;\n",
       "    }\n",
       "\n",
       "    .dataframe tbody tr th {\n",
       "        vertical-align: top;\n",
       "    }\n",
       "\n",
       "    .dataframe thead th {\n",
       "        text-align: right;\n",
       "    }\n",
       "</style>\n",
       "<table border=\"1\" class=\"dataframe\">\n",
       "  <thead>\n",
       "    <tr style=\"text-align: right;\">\n",
       "      <th>cluster</th>\n",
       "      <th>0</th>\n",
       "      <th>1</th>\n",
       "    </tr>\n",
       "  </thead>\n",
       "  <tbody>\n",
       "    <tr>\n",
       "      <th>Channel</th>\n",
       "      <td>268</td>\n",
       "      <td>314</td>\n",
       "    </tr>\n",
       "  </tbody>\n",
       "</table>\n",
       "</div>"
      ],
      "text/plain": [
       "cluster    0    1\n",
       "Channel  268  314"
      ]
     },
     "execution_count": 63,
     "metadata": {},
     "output_type": "execute_result"
    }
   ],
   "source": [
    "# 各クラスターの人数\n",
    "Wholesale.pivot_table('Channel',columns='cluster',aggfunc=np.sum)"
   ]
  },
  {
   "cell_type": "code",
   "execution_count": 64,
   "metadata": {},
   "outputs": [
    {
     "data": {
      "text/plain": [
       "Text(0.5, 1.0, 'クラスター０')"
      ]
     },
     "execution_count": 64,
     "metadata": {},
     "output_type": "execute_result"
    },
    {
     "data": {
      "image/png": "[encoded data removed]",
      "text/plain": [
       "<Figure size 432x288 with 1 Axes>"
      ]
     },
     "metadata": {},
     "output_type": "display_data"
    }
   ],
   "source": [
    "# クラスター当たりのRegionの人数\n",
    "c0 = Wholesale.groupby(['cluster','Region']).count()['Channel'].iloc[:3]\n",
    "c1 = Wholesale.groupby(['cluster','Region']).count()['Channel'].iloc[3:]\n",
    "R_label = ['Region1','Region2','Region3']\n",
    "plt.pie(c0,labels=R_label,autopct='%1.1f%%')\n",
    "plt.title('クラスター０')"
   ]
  },
  {
   "cell_type": "code",
   "execution_count": 65,
   "metadata": {},
   "outputs": [
    {
     "data": {
      "text/plain": [
       "Text(0.5, 1.0, 'クラスター1')"
      ]
     },
     "execution_count": 65,
     "metadata": {},
     "output_type": "execute_result"
    },
    {
     "data": {
      "image/png": "[encoded data removed]",
      "text/plain": [
       "<Figure size 432x288 with 1 Axes>"
      ]
     },
     "metadata": {},
     "output_type": "display_data"
    }
   ],
   "source": [
    "R_label = ['Region1','Region2','Region3']\n",
    "plt.pie(c1,labels=R_label,autopct='%1.1f%%')\n",
    "plt.title('クラスター1')"
   ]
  },
  {
   "cell_type": "markdown",
   "metadata": {},
   "source": [
    "### クラスターごとのRegionの人数分布はあまり変わらない"
   ]
  },
  {
   "cell_type": "code",
   "execution_count": 66,
   "metadata": {},
   "outputs": [
    {
     "data": {
      "text/html": [
       "<div>\n",
       "<style scoped>\n",
       "    .dataframe tbody tr th:only-of-type {\n",
       "        vertical-align: middle;\n",
       "    }\n",
       "\n",
       "    .dataframe tbody tr th {\n",
       "        vertical-align: top;\n",
       "    }\n",
       "\n",
       "    .dataframe thead th {\n",
       "        text-align: right;\n",
       "    }\n",
       "</style>\n",
       "<table border=\"1\" class=\"dataframe\">\n",
       "  <thead>\n",
       "    <tr style=\"text-align: right;\">\n",
       "      <th></th>\n",
       "      <th></th>\n",
       "      <th></th>\n",
       "      <th>Fresh</th>\n",
       "      <th>Milk</th>\n",
       "      <th>Grocery</th>\n",
       "      <th>Frozen</th>\n",
       "      <th>Detergents_Paper</th>\n",
       "      <th>Delicassen</th>\n",
       "    </tr>\n",
       "    <tr>\n",
       "      <th>Channel</th>\n",
       "      <th>cluster</th>\n",
       "      <th>Region</th>\n",
       "      <th></th>\n",
       "      <th></th>\n",
       "      <th></th>\n",
       "      <th></th>\n",
       "      <th></th>\n",
       "      <th></th>\n",
       "    </tr>\n",
       "  </thead>\n",
       "  <tbody>\n",
       "    <tr>\n",
       "      <th rowspan=\"6\" valign=\"top\">1</th>\n",
       "      <th rowspan=\"3\" valign=\"top\">0</th>\n",
       "      <th>1</th>\n",
       "      <td>14753.0</td>\n",
       "      <td>2681.0</td>\n",
       "      <td>3145.0</td>\n",
       "      <td>3256.0</td>\n",
       "      <td>539.0</td>\n",
       "      <td>1115.0</td>\n",
       "    </tr>\n",
       "    <tr>\n",
       "      <th>2</th>\n",
       "      <td>12038.0</td>\n",
       "      <td>2275.0</td>\n",
       "      <td>4332.0</td>\n",
       "      <td>5922.0</td>\n",
       "      <td>470.0</td>\n",
       "      <td>1086.0</td>\n",
       "    </tr>\n",
       "    <tr>\n",
       "      <th>3</th>\n",
       "      <td>14430.0</td>\n",
       "      <td>3123.0</td>\n",
       "      <td>3095.0</td>\n",
       "      <td>3965.0</td>\n",
       "      <td>448.0</td>\n",
       "      <td>1448.0</td>\n",
       "    </tr>\n",
       "    <tr>\n",
       "      <th rowspan=\"3\" valign=\"top\">1</th>\n",
       "      <th>1</th>\n",
       "      <td>4826.0</td>\n",
       "      <td>9058.0</td>\n",
       "      <td>7873.0</td>\n",
       "      <td>2565.0</td>\n",
       "      <td>2747.0</td>\n",
       "      <td>1556.0</td>\n",
       "    </tr>\n",
       "    <tr>\n",
       "      <th>2</th>\n",
       "      <td>1182.0</td>\n",
       "      <td>3088.0</td>\n",
       "      <td>6114.0</td>\n",
       "      <td>978.0</td>\n",
       "      <td>821.0</td>\n",
       "      <td>1637.0</td>\n",
       "    </tr>\n",
       "    <tr>\n",
       "      <th>3</th>\n",
       "      <td>10551.0</td>\n",
       "      <td>5681.0</td>\n",
       "      <td>8661.0</td>\n",
       "      <td>1796.0</td>\n",
       "      <td>2832.0</td>\n",
       "      <td>1940.0</td>\n",
       "    </tr>\n",
       "    <tr>\n",
       "      <th rowspan=\"6\" valign=\"top\">2</th>\n",
       "      <th rowspan=\"3\" valign=\"top\">0</th>\n",
       "      <th>1</th>\n",
       "      <td>6931.0</td>\n",
       "      <td>4258.0</td>\n",
       "      <td>5440.0</td>\n",
       "      <td>6966.0</td>\n",
       "      <td>872.0</td>\n",
       "      <td>1748.0</td>\n",
       "    </tr>\n",
       "    <tr>\n",
       "      <th>2</th>\n",
       "      <td>16823.0</td>\n",
       "      <td>928.0</td>\n",
       "      <td>2743.0</td>\n",
       "      <td>11559.0</td>\n",
       "      <td>332.0</td>\n",
       "      <td>3486.0</td>\n",
       "    </tr>\n",
       "    <tr>\n",
       "      <th>3</th>\n",
       "      <td>24241.0</td>\n",
       "      <td>3467.0</td>\n",
       "      <td>6064.0</td>\n",
       "      <td>3639.0</td>\n",
       "      <td>612.0</td>\n",
       "      <td>1127.0</td>\n",
       "    </tr>\n",
       "    <tr>\n",
       "      <th rowspan=\"3\" valign=\"top\">1</th>\n",
       "      <th>1</th>\n",
       "      <td>4984.0</td>\n",
       "      <td>11600.0</td>\n",
       "      <td>20101.0</td>\n",
       "      <td>2036.0</td>\n",
       "      <td>9144.0</td>\n",
       "      <td>1887.0</td>\n",
       "    </tr>\n",
       "    <tr>\n",
       "      <th>2</th>\n",
       "      <td>6760.0</td>\n",
       "      <td>9650.0</td>\n",
       "      <td>17081.0</td>\n",
       "      <td>984.0</td>\n",
       "      <td>8859.0</td>\n",
       "      <td>1114.0</td>\n",
       "    </tr>\n",
       "    <tr>\n",
       "      <th>3</th>\n",
       "      <td>9408.0</td>\n",
       "      <td>11202.0</td>\n",
       "      <td>16245.0</td>\n",
       "      <td>1451.0</td>\n",
       "      <td>7084.0</td>\n",
       "      <td>1847.0</td>\n",
       "    </tr>\n",
       "  </tbody>\n",
       "</table>\n",
       "</div>"
      ],
      "text/plain": [
       "                          Fresh     Milk  Grocery   Frozen  Detergents_Paper  \\\n",
       "Channel cluster Region                                                         \n",
       "1       0       1       14753.0   2681.0   3145.0   3256.0             539.0   \n",
       "                2       12038.0   2275.0   4332.0   5922.0             470.0   \n",
       "                3       14430.0   3123.0   3095.0   3965.0             448.0   \n",
       "        1       1        4826.0   9058.0   7873.0   2565.0            2747.0   \n",
       "                2        1182.0   3088.0   6114.0    978.0             821.0   \n",
       "                3       10551.0   5681.0   8661.0   1796.0            2832.0   \n",
       "2       0       1        6931.0   4258.0   5440.0   6966.0             872.0   \n",
       "                2       16823.0    928.0   2743.0  11559.0             332.0   \n",
       "                3       24241.0   3467.0   6064.0   3639.0             612.0   \n",
       "        1       1        4984.0  11600.0  20101.0   2036.0            9144.0   \n",
       "                2        6760.0   9650.0  17081.0    984.0            8859.0   \n",
       "                3        9408.0  11202.0  16245.0   1451.0            7084.0   \n",
       "\n",
       "                        Delicassen  \n",
       "Channel cluster Region              \n",
       "1       0       1           1115.0  \n",
       "                2           1086.0  \n",
       "                3           1448.0  \n",
       "        1       1           1556.0  \n",
       "                2           1637.0  \n",
       "                3           1940.0  \n",
       "2       0       1           1748.0  \n",
       "                2           3486.0  \n",
       "                3           1127.0  \n",
       "        1       1           1887.0  \n",
       "                2           1114.0  \n",
       "                3           1847.0  "
      ]
     },
     "execution_count": 66,
     "metadata": {},
     "output_type": "execute_result"
    }
   ],
   "source": [
    "# 既知のデータと組み合わせて比較\n",
    "Wholesale_mean = Wholesale.groupby(['Channel','cluster','Region']).mean().round()\n",
    "Wholesale_mean"
   ]
  },
  {
   "cell_type": "code",
   "execution_count": 67,
   "metadata": {},
   "outputs": [
    {
     "data": {
      "text/plain": [
       "Fresh               24241.0\n",
       "Milk                11600.0\n",
       "Grocery             20101.0\n",
       "Frozen              11559.0\n",
       "Detergents_Paper     9144.0\n",
       "Delicassen           3486.0\n",
       "dtype: float64"
      ]
     },
     "execution_count": 67,
     "metadata": {},
     "output_type": "execute_result"
    }
   ],
   "source": [
    "Wholesale_mean.max()"
   ]
  },
  {
   "cell_type": "markdown",
   "metadata": {},
   "source": [
    "* Freshはcluster１の中のChannel２の中のRegion３の人たちが一番買ってる\n",
    "* Milkはcluster0の中の，Channel2の中の，Region1の人たちがが一番買ってる\n",
    "* Groceryは，cluster0の中の，Channel2の中の，Region1の人たちがが一番買ってる\n",
    "* Frozenは，cluster１の中の，Channel2の中の，Region1の人たちがが一番買ってる\n",
    "* Detergents_Papeは，cluster０の中の，Channel2の中の，Region1の人たちがが一番買ってる\n",
    "* Delicassenは，cluster１の中の，Channel2の中の，Region２の人たちがが一番買ってる"
   ]
  },
  {
   "cell_type": "markdown",
   "metadata": {},
   "source": [
    "# 【問題12】卸売業者にとって有益な情報"
   ]
  },
  {
   "cell_type": "code",
   "execution_count": 68,
   "metadata": {},
   "outputs": [
    {
     "data": {
      "text/html": [
       "<div>\n",
       "<style scoped>\n",
       "    .dataframe tbody tr th:only-of-type {\n",
       "        vertical-align: middle;\n",
       "    }\n",
       "\n",
       "    .dataframe tbody tr th {\n",
       "        vertical-align: top;\n",
       "    }\n",
       "\n",
       "    .dataframe thead th {\n",
       "        text-align: right;\n",
       "    }\n",
       "</style>\n",
       "<table border=\"1\" class=\"dataframe\">\n",
       "  <thead>\n",
       "    <tr style=\"text-align: right;\">\n",
       "      <th></th>\n",
       "      <th>Fresh</th>\n",
       "      <th>Milk</th>\n",
       "      <th>Grocery</th>\n",
       "      <th>Frozen</th>\n",
       "      <th>Detergents_Paper</th>\n",
       "      <th>Delicassen</th>\n",
       "      <th>cluster</th>\n",
       "    </tr>\n",
       "  </thead>\n",
       "  <tbody>\n",
       "    <tr>\n",
       "      <th>0</th>\n",
       "      <td>12669</td>\n",
       "      <td>9656</td>\n",
       "      <td>7561</td>\n",
       "      <td>214</td>\n",
       "      <td>2674</td>\n",
       "      <td>1338</td>\n",
       "      <td>1</td>\n",
       "    </tr>\n",
       "    <tr>\n",
       "      <th>1</th>\n",
       "      <td>7057</td>\n",
       "      <td>9810</td>\n",
       "      <td>9568</td>\n",
       "      <td>1762</td>\n",
       "      <td>3293</td>\n",
       "      <td>1776</td>\n",
       "      <td>1</td>\n",
       "    </tr>\n",
       "    <tr>\n",
       "      <th>2</th>\n",
       "      <td>6353</td>\n",
       "      <td>8808</td>\n",
       "      <td>7684</td>\n",
       "      <td>2405</td>\n",
       "      <td>3516</td>\n",
       "      <td>7844</td>\n",
       "      <td>1</td>\n",
       "    </tr>\n",
       "    <tr>\n",
       "      <th>3</th>\n",
       "      <td>13265</td>\n",
       "      <td>1196</td>\n",
       "      <td>4221</td>\n",
       "      <td>6404</td>\n",
       "      <td>507</td>\n",
       "      <td>1788</td>\n",
       "      <td>0</td>\n",
       "    </tr>\n",
       "    <tr>\n",
       "      <th>4</th>\n",
       "      <td>22615</td>\n",
       "      <td>5410</td>\n",
       "      <td>7198</td>\n",
       "      <td>3915</td>\n",
       "      <td>1777</td>\n",
       "      <td>5185</td>\n",
       "      <td>1</td>\n",
       "    </tr>\n",
       "  </tbody>\n",
       "</table>\n",
       "</div>"
      ],
      "text/plain": [
       "   Fresh  Milk  Grocery  Frozen  Detergents_Paper  Delicassen  cluster\n",
       "0  12669  9656     7561     214              2674        1338        1\n",
       "1   7057  9810     9568    1762              3293        1776        1\n",
       "2   6353  8808     7684    2405              3516        7844        1\n",
       "3  13265  1196     4221    6404               507        1788        0\n",
       "4  22615  5410     7198    3915              1777        5185        1"
      ]
     },
     "execution_count": 68,
     "metadata": {},
     "output_type": "execute_result"
    }
   ],
   "source": [
    "# Channel,Regionを抜いたデータにclusterを追加する\n",
    "data['cluster'] = y_pred\n",
    "data.head()"
   ]
  },
  {
   "cell_type": "code",
   "execution_count": 69,
   "metadata": {},
   "outputs": [
    {
     "data": {
      "text/plain": [
       "<matplotlib.legend.Legend at 0x1bbbcedfd30>"
      ]
     },
     "execution_count": 69,
     "metadata": {},
     "output_type": "execute_result"
    },
    {
     "data": {
      "image/png": "[encoded data removed]",
      "text/plain": [
       "<Figure size 432x288 with 1 Axes>"
      ]
     },
     "metadata": {
      "needs_background": "light"
     },
     "output_type": "display_data"
    }
   ],
   "source": [
    "# 可視化（積み上げ棒グラフ）\n",
    "clusterinfo = pd.DataFrame()\n",
    "for i in range(2):\n",
    "    clusterinfo['cluster' + str(i)] = data[data['cluster'] == i].sum()\n",
    "clusterinfo = clusterinfo.drop('cluster')\n",
    " \n",
    "my_plot = clusterinfo.T.plot(kind='bar', stacked=True)\n",
    "my_plot.set_xticklabels(my_plot.xaxis.get_majorticklabels(), rotation=0)\n",
    "#plt.legend(bbox_to_anchor=(1,0))\n",
    "plt.legend(bbox_to_anchor=(1.05, 1), loc='upper left', borderaxespad=0, fontsize=18)"
   ]
  },
  {
   "cell_type": "markdown",
   "metadata": {},
   "source": [
    "* メモ：plt.legend(bbox_to_anchor=(1,0))で，凡例の位置を色々いじれる\n",
    "* クラスター０の方が，人数が多い分，売り上げも若干高い．（が大差ない．）\n",
    "* クラスター０は，乾物をよく買うグループ\n",
    "* クラスター１は，生鮮食品をよく買うグループ"
   ]
  }
 ],
 "metadata": {
  "kernelspec": {
   "display_name": "Python 3",
   "language": "python",
   "name": "python3"
  },
  "language_info": {
   "codemirror_mode": {
    "name": "ipython",
    "version": 3
   },
   "file_extension": ".py",
   "mimetype": "text/x-python",
   "name": "python",
   "nbconvert_exporter": "python",
   "pygments_lexer": "ipython3",
   "version": "3.7.1"
  }
 },
 "nbformat": 4,
 "nbformat_minor": 2
}
