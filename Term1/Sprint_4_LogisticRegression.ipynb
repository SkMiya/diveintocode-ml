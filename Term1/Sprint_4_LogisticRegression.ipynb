{
 "cells": [
  {
   "cell_type": "markdown",
   "metadata": {},
   "source": [
    "# Sprint 機械学習 ロジスティック回帰"
   ]
  },
  {
   "cell_type": "code",
   "execution_count": 1,
   "metadata": {},
   "outputs": [],
   "source": [
    "import numpy as np\n",
    "import pandas as pd\n",
    "from sklearn.model_selection import train_test_split\n",
    "from sklearn.preprocessing import StandardScaler\n",
    "import matplotlib.pyplot as plt\n",
    "from sklearn.metrics import classification_report\n",
    "\n",
    "# データの読み込み\n",
    "from sklearn.datasets import load_iris\n",
    "iris = load_iris()\n",
    "X = pd.DataFrame(iris.data,columns=iris.feature_names)\n",
    "y = pd.DataFrame(iris.target,columns=['Species'])\n",
    "df = pd.concat([X,y],sort=False,axis=1)\n",
    "\n",
    "# virgicolorとvirginicaを取り出す\n",
    "df = df[df.Species>=1]\n",
    "X = df.iloc[:,:4].values\n",
    "y = df.Species.values\n",
    "\n",
    "# ０か１のデータにしておく\n",
    "y = y-1\n",
    "\n",
    "# trainとtestに分ける\n",
    "X_train,X_test,y_train,y_test = train_test_split(X,y,random_state=0)\n",
    "# 標準化\n",
    "sc = StandardScaler()\n",
    "sc.fit(X_train)\n",
    "X_train_std = sc.transform(X_train)\n",
    "X_test_std = sc.transform(X_test)"
   ]
  },
  {
   "cell_type": "code",
   "execution_count": 2,
   "metadata": {},
   "outputs": [
    {
     "name": "stdout",
     "output_type": "stream",
     "text": [
      "X_train_std (75, 4)\n",
      "y_train　　 (75,)\n",
      "X_test_std  (25, 4)\n",
      "y_test 　　 (25,)\n"
     ]
    }
   ],
   "source": [
    "# shapeを確認しておく\n",
    "print('X_train_std',X_train_std.shape)\n",
    "print('y_train　　',y_train.shape)\n",
    "print('X_test_std ',X_test_std.shape)\n",
    "print('y_test 　　',y_test.shape)"
   ]
  },
  {
   "cell_type": "markdown",
   "metadata": {},
   "source": [
    "#### 関数が動くか確認するために，仮のデータを作成"
   ]
  },
  {
   "cell_type": "code",
   "execution_count": 3,
   "metadata": {},
   "outputs": [
    {
     "name": "stdout",
     "output_type": "stream",
     "text": [
      "X_1shape: (75, 5)\n",
      "coef： 　 (5,)\n"
     ]
    }
   ],
   "source": [
    "# バイアス項の追加\n",
    "X_1 = np.insert(X_train_std, 0, 1, axis=1)\n",
    "# シータの初期値\n",
    "coef = np.random.rand(X_1.shape[1])\n",
    "# パラメータ\n",
    "lamda = 0.5\n",
    "lr = 0.001\n",
    "\n",
    "# shapeの確認\n",
    "print('X_1shape:',X_1.shape)\n",
    "print('coef： 　',coef.shape)"
   ]
  },
  {
   "cell_type": "markdown",
   "metadata": {},
   "source": [
    "# 【問題1】仮定関数"
   ]
  },
  {
   "cell_type": "code",
   "execution_count": 4,
   "metadata": {},
   "outputs": [],
   "source": [
    "def sigmoid(X,coef):\n",
    "    \"\"\"\n",
    "    仮定関数．線形回帰の仮定関数をシグモイドにかけている．\n",
    "\n",
    "    Parameters\n",
    "    ----------\n",
    "    X : 次の形のndarray, shape (n_samples, n_features)\n",
    "    データの特徴量\n",
    "    \"\"\"\n",
    "    z = np.dot(X,coef)\n",
    "    return 1/(1+np.exp(-z))"
   ]
  },
  {
   "cell_type": "markdown",
   "metadata": {},
   "source": [
    "#### 仮データで値とshapeを確認"
   ]
  },
  {
   "cell_type": "code",
   "execution_count": 5,
   "metadata": {},
   "outputs": [
    {
     "name": "stdout",
     "output_type": "stream",
     "text": [
      "hypothesis_shape： (75,) \n",
      "\n",
      "[0.04052918 0.73749668 0.65140053 0.80774825 0.56767324 0.85406556\n",
      " 0.88524363 0.92803036 0.94642571 0.51922555 0.73655603 0.17542761\n",
      " 0.16431794 0.4200233  0.93082073 0.65700703 0.65458215 0.15029106\n",
      " 0.48263623 0.49051936 0.61611991 0.14760577 0.15021875 0.29605497\n",
      " 0.27364721 0.90764618 0.98759646 0.74483576 0.37527581 0.43429693\n",
      " 0.95398994 0.4248382  0.71105017 0.33071627 0.91662613 0.01592805\n",
      " 0.05639718 0.78579073 0.8951071  0.84697974 0.96237473 0.17027537\n",
      " 0.41888462 0.20562527 0.89766244 0.09243577 0.08549092 0.23135714\n",
      " 0.80430911 0.9270869  0.19512031 0.70398989 0.9594369  0.93967672\n",
      " 0.65993172 0.54818498 0.16713843 0.99163327 0.2809434  0.11700698\n",
      " 0.90266252 0.64435354 0.0639601  0.62991721 0.94410114 0.80682118\n",
      " 0.6862171  0.27753232 0.52314217 0.14783491 0.49659004 0.99379071\n",
      " 0.72846586 0.37551871 0.1939855 ]\n"
     ]
    }
   ],
   "source": [
    "hypothesis = sigmoid(X_1,coef)\n",
    "print('hypothesis_shape：',hypothesis.shape,'\\n')\n",
    "print(hypothesis)"
   ]
  },
  {
   "cell_type": "markdown",
   "metadata": {},
   "source": [
    "# 【問題2】最急降下法"
   ]
  },
  {
   "cell_type": "code",
   "execution_count": 6,
   "metadata": {},
   "outputs": [],
   "source": [
    "def gradient_descent(X,error,lamda,lr,coef):\n",
    "    \"\"\"\n",
    "    最急降下法によるパラメータの更新．\n",
    "\n",
    "    Parameters\n",
    "    ----------\n",
    "    X : 次の形のndarray, shape (n_samples, n_features)\n",
    "    データの特徴量\n",
    "    error : 次の形のndarray, shape (n_samples,)\n",
    "    \"\"\"\n",
    "\n",
    "    # j = 0（切片）\n",
    "    j_0 = np.dot(X[:,0].T,error)/len(X)\n",
    "\n",
    "    #　重み\n",
    "    step1 = np.dot(X[:,1:].T,error)\n",
    "    step2 = step1/len(X)\n",
    "    step3 = step2+(lamda/len(X)*coef[1:])\n",
    "\n",
    "    # ベクトルを合わせる\n",
    "    t = np.append(j_0,step3)\n",
    "\n",
    "    # 学習率をかけて更新\n",
    "    coef = coef - (lr*t)\n",
    "    return coef"
   ]
  },
  {
   "cell_type": "markdown",
   "metadata": {},
   "source": [
    "#### 仮データで確認"
   ]
  },
  {
   "cell_type": "code",
   "execution_count": 7,
   "metadata": {},
   "outputs": [
    {
     "name": "stdout",
     "output_type": "stream",
     "text": [
      "error_shape (75,)\n"
     ]
    }
   ],
   "source": [
    "# 予測値と実測値の差\n",
    "error = (sigmoid(X_1,coef))-y_train\n",
    "print('error_shape',error.shape)"
   ]
  },
  {
   "cell_type": "code",
   "execution_count": 8,
   "metadata": {},
   "outputs": [
    {
     "name": "stdout",
     "output_type": "stream",
     "text": [
      "[0.38156437 0.49773249 0.70765924 0.46414811 0.59618069]\n",
      "[0.38151845 0.49773102 0.70755528 0.46427552 0.59631084]\n",
      "[0.38147252 0.49772954 0.70745131 0.46440292 0.59644099]\n",
      "[0.3814266  0.49772807 0.70734735 0.46453033 0.59657114]\n",
      "[0.38138068 0.49772659 0.70724338 0.46465773 0.59670129]\n",
      "[0.38133476 0.49772512 0.70713942 0.46478513 0.59683144]\n",
      "[0.38128883 0.49772365 0.70703546 0.46491253 0.59696159]\n",
      "[0.38124291 0.49772217 0.7069315  0.46503994 0.59709174]\n",
      "[0.38119699 0.4977207  0.70682754 0.46516734 0.59722188]\n",
      "[0.38115106 0.49771923 0.70672358 0.46529474 0.59735203]\n"
     ]
    }
   ],
   "source": [
    "# 10回更新してみる\n",
    "for i in range(10):\n",
    "    coef = gradient_descent(X_1,error,lamda,lr,coef)\n",
    "    print(coef)"
   ]
  },
  {
   "cell_type": "markdown",
   "metadata": {},
   "source": [
    "# 【問題3】推定\n",
    "### １．predict_proba\n",
    "predict_probaは仮定関数の返り値で，そのラベルになる確率が戻ってくるため，０～１の連続値になる"
   ]
  },
  {
   "cell_type": "code",
   "execution_count": 9,
   "metadata": {},
   "outputs": [],
   "source": [
    "def predict_proba(X,coef):\n",
    "    z = np.dot(X,coef)\n",
    "    y_proba = 1/(1+np.exp(-z))\n",
    "    return y_proba"
   ]
  },
  {
   "cell_type": "code",
   "execution_count": 10,
   "metadata": {},
   "outputs": [
    {
     "data": {
      "text/plain": [
       "array([0.04037472, 0.73706024, 0.6513756 , 0.80813351, 0.56767885,\n",
       "       0.854052  , 0.88547779, 0.92817647, 0.94669716, 0.51950081,\n",
       "       0.73644161, 0.17549147, 0.16434319, 0.42047655, 0.93087341,\n",
       "       0.65642749, 0.65489806, 0.14997884, 0.48210779, 0.49021552,\n",
       "       0.61547197, 0.1472024 , 0.14998605, 0.29539191, 0.27325622,\n",
       "       0.90773893, 0.98761792, 0.74434438, 0.37481946, 0.43388926,\n",
       "       0.95410048, 0.4242469 , 0.71046315, 0.33027889, 0.91678037,\n",
       "       0.01589656, 0.05624215, 0.78587373, 0.89529555, 0.84702172,\n",
       "       0.9624807 , 0.16986578, 0.41903736, 0.20502918, 0.89774998,\n",
       "       0.09221756, 0.08519188, 0.23089789, 0.8044109 , 0.92713301,\n",
       "       0.19531139, 0.70374527, 0.95951661, 0.93987667, 0.65983692,\n",
       "       0.54758165, 0.16705054, 0.99163376, 0.28039203, 0.11681788,\n",
       "       0.90276136, 0.64491589, 0.06384858, 0.62978333, 0.9441924 ,\n",
       "       0.80685151, 0.68579309, 0.27698181, 0.52303216, 0.14754884,\n",
       "       0.49697478, 0.99379774, 0.7289288 , 0.374912  , 0.19365311])"
      ]
     },
     "execution_count": 10,
     "metadata": {},
     "output_type": "execute_result"
    }
   ],
   "source": [
    "# 仮データで確認\n",
    "y_proba = predict_proba(X_1,coef)\n",
    "y_proba"
   ]
  },
  {
   "cell_type": "markdown",
   "metadata": {},
   "source": [
    "### ２．predict\n",
    "上の確率値を，0.5の閾値で１と０に分類した結果が返る．"
   ]
  },
  {
   "cell_type": "code",
   "execution_count": 11,
   "metadata": {},
   "outputs": [],
   "source": [
    "#0～１の結果\n",
    "def predict(X,coef):\n",
    "        \"\"\"\n",
    "        ロジスティック回帰を使い確率を推定する。\n",
    "\n",
    "        Parameters\n",
    "        ----------\n",
    "        X : 次の形のndarray, shape (n_samples, n_features)\n",
    "            サンプル\n",
    "\n",
    "        Returns\n",
    "        -------\n",
    "            次の形のndarray, shape (n_samples, 1)\n",
    "            ロジスティック回帰による推定結果\n",
    "        \"\"\"\n",
    "        z = np.dot(X,coef)\n",
    "        y_proba = 1/(1+np.exp(-z))\n",
    "        y_pred = np.where(y_proba < 0.5,0,1)\n",
    "        \n",
    "        return y_pred"
   ]
  },
  {
   "cell_type": "code",
   "execution_count": 12,
   "metadata": {},
   "outputs": [
    {
     "data": {
      "text/plain": [
       "array([0, 1, 1, 1, 1, 1, 1, 1, 1, 1, 1, 0, 0, 0, 1, 1, 1, 0, 0, 0, 1, 0,\n",
       "       0, 0, 0, 1, 1, 1, 0, 0, 1, 0, 1, 0, 1, 0, 0, 1, 1, 1, 1, 0, 0, 0,\n",
       "       1, 0, 0, 0, 1, 1, 0, 1, 1, 1, 1, 1, 0, 1, 0, 0, 1, 1, 0, 1, 1, 1,\n",
       "       1, 0, 1, 0, 0, 1, 1, 0, 0])"
      ]
     },
     "execution_count": 12,
     "metadata": {},
     "output_type": "execute_result"
    }
   ],
   "source": [
    "# 仮データで確認\n",
    "y_pred = predict(X_1,coef)\n",
    "y_pred"
   ]
  },
  {
   "cell_type": "markdown",
   "metadata": {},
   "source": [
    "# 【問題4】目的関数"
   ]
  },
  {
   "cell_type": "code",
   "execution_count": 13,
   "metadata": {},
   "outputs": [],
   "source": [
    "def loss(X,y,coef,lamda):\n",
    "    y_proba = sigmoid(X,coef)\n",
    "    m = len(X)\n",
    "\n",
    "    iner_sigma = -y*(np.log(y_proba))-(1-y)*(np.log(1-y_proba))\n",
    "    sigma = np.sum(iner_sigma)/m\n",
    "    lamda_add = lamda/(2*m)*np.sum(coef[1:]**2)\n",
    "    loss = sigma + lamda_add\n",
    "    return loss"
   ]
  },
  {
   "cell_type": "code",
   "execution_count": 14,
   "metadata": {},
   "outputs": [
    {
     "data": {
      "text/plain": [
       "0.41238127502439814"
      ]
     },
     "execution_count": 14,
     "metadata": {},
     "output_type": "execute_result"
    }
   ],
   "source": [
    "# 仮データで確認\n",
    "loss(X_1,y_train,coef,lamda)"
   ]
  },
  {
   "cell_type": "markdown",
   "metadata": {},
   "source": [
    "# 【問題6】学習と推定\n",
    "### １．スクラッチしたLogisticRegression"
   ]
  },
  {
   "cell_type": "code",
   "execution_count": 15,
   "metadata": {},
   "outputs": [],
   "source": [
    "class ScratchLogisticRegression():\n",
    "    \"\"\"\n",
    "    ロジスティック回帰のスクラッチ実装\n",
    "\n",
    "    Parameters\n",
    "    ----------\n",
    "    num_iter : int\n",
    "      イテレーション数\n",
    "    lr : float\n",
    "      学習率\n",
    "    lamda : float\n",
    "        正則化項の定数\n",
    "    no_bias : bool\n",
    "      バイアス項を入れない場合はTrue\n",
    "    verbose : bool\n",
    "      学習過程を出力する場合はTrue\n",
    "\n",
    "    Attributes\n",
    "    ----------\n",
    "    self.coef_ : 次の形のndarray, shape (n_features,)\n",
    "      パラメータ\n",
    "    self.loss : 次の形のndarray, shape (self.iter,)\n",
    "      学習用データに対する損失の記録\n",
    "    self.val_loss : 次の形のndarray, shape (self.iter,)\n",
    "      検証用データに対する損失の記録\n",
    "\n",
    "    \"\"\"\n",
    "\n",
    "    def __init__(self, num_iter, lr, lamda, bias ,verbose):\n",
    "        # ハイパーパラメータを属性として記bias録\n",
    "        self.iter = num_iter\n",
    "        self.lr = lr\n",
    "        self.lamda = lamda\n",
    "        self.bias = bias\n",
    "        self.verbose = verbose\n",
    "        # 損失を記録する配列を用意\n",
    "        self.loss = np.zeros(self.iter)\n",
    "        self.val_loss = np.zeros(self.iter)\n",
    "        \n",
    "\n",
    "    def fit(self, X, y, X_val=None, y_val=None):\n",
    "        \"\"\"\n",
    "        ロジスティック回帰を学習する。検証用データが入力された場合はそれに対する損失と精度もイテレーションごとに計算する。\n",
    "\n",
    "        Parameters\n",
    "        ----------\n",
    "        X : 次の形のndarray, shape (n_samples, n_features)\n",
    "            学習用データの特徴量\n",
    "        y : 次の形のndarray, shape (n_samples, )\n",
    "            学習用データの正解値\n",
    "        X_val : 次の形のndarray, shape (n_samples, n_features)\n",
    "            検証用データの特徴量\n",
    "        y_val : 次の形のndarray, shape (n_samples, )\n",
    "            検証用データの正解値\n",
    "        \"\"\"\n",
    "        \n",
    "        # trainデータ\n",
    "        #バイアス項を入れる場合はXの０列目に１を挿入する\n",
    "        if self.bias is False:\n",
    "            X_new = np.insert(X, 0, 1, axis=1)\n",
    "        #バイアス項を入れない場合はXの０列目に０を挿入する\n",
    "        else:\n",
    "            X_new = np.insert(X, 0, 0, axis=1)\n",
    "\n",
    "        # シータの初期化\n",
    "        self.coef_ = np.random.rand(X_new.shape[1])\n",
    "        \n",
    "        # num_iterの数だけ以下を更新\n",
    "        for i in range(self.iter):\n",
    "            # 仮定関数\n",
    "            hypothesis = self._sigmoid(X_new,self.coef_)\n",
    "            \n",
    "            # 予測と実測値との誤差\n",
    "            error = hypothesis - y\n",
    "            \n",
    "            # 最急降下法\n",
    "            self.coef_ = self._gradient_descent(X_new,error,self.coef_)\n",
    "            \n",
    "            # lossを記録\n",
    "            self.loss[i] = self._entropy(X_new,y,self.coef_)\n",
    "        \n",
    "            # 学習過程の出力\n",
    "            if self.verbose is True:\n",
    "                map_result = map(str, self.loss)\n",
    "                result = ',\\n'.join(map_result)                \n",
    "                print('Train Data Loss 学習{0}回目: \\n{1}'.format(i,result))\n",
    "            else:\n",
    "                pass\n",
    "        \n",
    "        \n",
    "        \n",
    "        # 検証用データがある場合\n",
    "        if X_val is not None:\n",
    "            #バイアス項を入れる場合はXの０列目に１を挿入する\n",
    "            if self.bias is False:\n",
    "                X_val_new = np.insert(X_val, 0, 1, axis=1)\n",
    "            #バイアス項を入れない場合、0を挿入する\n",
    "            else:\n",
    "                X_val_new = np.insert(X_val, 0, 0, axis=1)\n",
    "\n",
    "            # シータの初期化\n",
    "            self.coef_val_ = np.random.rand(X_val_new.shape[1])\n",
    "\n",
    "\n",
    "            # num_iterの数だけ更新\n",
    "            for i in range(self.iter):\n",
    "                # 仮定関数\n",
    "                hypothesis_val = self._sigmoid(X_val_new,self.coef_val_)\n",
    "\n",
    "                # 予測と実測値の誤差\n",
    "                error_val = hypothesis_val - y_val\n",
    "\n",
    "                # 最急降下法\n",
    "                self.coef_val_ = self._gradient_descent(X_val_new, error_val,self.coef_val_)\n",
    "\n",
    "                # lossを記録\n",
    "                self.val_loss[i] = self._entropy(X_val_new,y_val,self.coef_val_)\n",
    "                \n",
    "                # 学習過程の出力\n",
    "                if self.verbose is True:\n",
    "                    map_result_val = map(str, self.val_loss)\n",
    "                    result_val = ',\\n'.join(map_result_val)                \n",
    "                    print('\\nTest Data Loss 学習{0}回目: \\n{1}'.format(i,result_val))\n",
    "                else:\n",
    "                    pass\n",
    "\n",
    "\n",
    "    def _sigmoid(self,X,coef):\n",
    "        \"\"\"\n",
    "        　仮定関数．線形回帰の仮定関数をシグモイドにかけている．\n",
    "        \n",
    "        Parameters\n",
    "        ----------\n",
    "        X : 次の形のndarray, shape (n_samples, n_features)\n",
    "            データの特徴量\n",
    "        \"\"\"\n",
    "        z = np.dot(X,coef)\n",
    "        return 1/(1+np.exp(-z))   \n",
    "\n",
    "        \n",
    "            \n",
    "    def _gradient_descent(self,X,error,coef):\n",
    "        \"\"\"\n",
    "          最急降下法によるパラメータの更新．\n",
    "        \n",
    "        Parameters\n",
    "        ----------\n",
    "        X : 　　次の形のndarray, shape (n_samples, n_features)\n",
    "           　　 データの特徴量\n",
    "        error : 次の形のndarray, shape (n_samples,)\n",
    "        \"\"\"\n",
    "        \n",
    "        # j = 0（切片）\n",
    "        j_0 = np.dot(X[:,0].T,error)/len(X)\n",
    "       \n",
    "        # 重み\n",
    "        step1 = np.dot(X[:,1:].T,error)\n",
    "        step2 = step1/len(X)\n",
    "        step3 = step2 + ((self.lamda/len(X))*coef[1:])\n",
    "        \n",
    "        # ベクトルを合わせる\n",
    "        t = np.append(j_0,step3)\n",
    "\n",
    "        # 学習率をかけて更新\n",
    "        coef = coef - (self.lr*t)\n",
    "        \n",
    "        return coef\n",
    "        \n",
    "    \n",
    "    def _entropy(self,X,y,coef):\n",
    "        \"\"\"\n",
    "          損失関数の計算．\n",
    "        \n",
    "        Parameters\n",
    "        ----------\n",
    "        X : 次の形のndarray, shape (n_samples, n_features)\n",
    "            データの特徴量\n",
    "        y : 次の形のndarray, shape (n_samples, )\n",
    "            データの正解値\n",
    "        \n",
    "        error : 次の形のndarray, shape (n_samples,)\n",
    "        \"\"\"\n",
    "        y_proba = self._sigmoid(X,coef)\n",
    "        m = len(X)\n",
    "        iner_sigma = -y*(np.log(y_proba))-(1-y)*(np.log(1-y_proba))\n",
    "        sigma = np.sum(iner_sigma)/m\n",
    "        lamda_add = self.lamda/(2*m)*np.sum(coef[1:]**2)\n",
    "        loss = sigma + lamda_add\n",
    "        return loss\n",
    "\n",
    "     # ０か１の結果       \n",
    "    def predict(self, X):\n",
    "        \"\"\"\n",
    "        ロジスティック回帰を使いラベルを推定する。\n",
    "\n",
    "        Parameters\n",
    "        ----------\n",
    "        X : 次の形のndarray, shape (n_samples, n_features)\n",
    "            サンプル\n",
    "\n",
    "        Returns\n",
    "        -------\n",
    "            次の形のndarray, shape (n_samples, 1)\n",
    "            ロジスティック回帰による推定結果\n",
    "        \"\"\"\n",
    "\n",
    "        #バイアス項を入れる場合はXの０列目に１を挿入する\n",
    "        if self.bias is False:\n",
    "            X_add = np.insert(X, 0, 1, axis=1)\n",
    "        #バイアス項を入れない場合、0を挿入する\n",
    "        else:\n",
    "            X_add = np.insert(X, 0, 0, axis=1)\n",
    "        \n",
    "        z = np.dot(X_add,self.coef_)\n",
    "        y_proba = 1/(1+np.exp(-z))\n",
    "        # y_prpbaが0.5未満なら０，以上なら１\n",
    "        y_pred = np.where(y_proba < 0.5,0,1)\n",
    "        return y_pred\n",
    "\n",
    "    # ０～１の確率\n",
    "    def predict_proba(self, X):\n",
    "        \"\"\"\n",
    "        ロジスティック回帰を使い確率を推定する。\n",
    "\n",
    "        Parameters\n",
    "        ----------\n",
    "        X : 次の形のndarray, shape (n_samples, n_features)\n",
    "            サンプル\n",
    "\n",
    "        Returns\n",
    "        -------\n",
    "            次の形のndarray, shape (n_samples, 1)\n",
    "            ロジスティック回帰による推定結果\n",
    "        \"\"\"\n",
    "\n",
    "        #バイアス項を入れる場合はXの０列目に１を挿入する\n",
    "        if self.bias is False:\n",
    "            X_add = np.insert(X, 0, 1, axis=1)\n",
    "        #バイアス項を入れない場合、0を挿入する\n",
    "        else:\n",
    "            X_add = np.insert(X, 0, 0, axis=1)\n",
    "        \n",
    "        z = np.dot(X_add,self.coef_)\n",
    "        y_proba = 1/(1+np.exp(-z))\n",
    "        \n",
    "        return y_proba"
   ]
  },
  {
   "cell_type": "markdown",
   "metadata": {},
   "source": [
    "### 学習と推定"
   ]
  },
  {
   "cell_type": "code",
   "execution_count": 38,
   "metadata": {},
   "outputs": [],
   "source": [
    "slr = ScratchLogisticRegression(num_iter=5000, lr=0.01, lamda=0.5,bias=False ,verbose=False)\n",
    "slr.fit(X_train_std,y_train,X_test_std,y_test)"
   ]
  },
  {
   "cell_type": "code",
   "execution_count": 39,
   "metadata": {},
   "outputs": [
    {
     "name": "stdout",
     "output_type": "stream",
     "text": [
      "y_pred:\n",
      " [0 1 0 1 1 1 0 1 1 1 1 1 1 0 0 0 1 0 1 0 0 1 0 1 0] \n",
      "\n",
      "y_proba:\n",
      " [0.19803322 0.99225477 0.2258485  0.99872515 0.9600262  0.99578431\n",
      " 0.145565   0.77146694 0.99436247 0.97863108 0.94742413 0.92176504\n",
      " 0.98919753 0.16154071 0.00175325 0.01006538 0.53466021 0.03175422\n",
      " 0.71746103 0.0690067  0.00205624 0.97579574 0.05584398 0.90382252\n",
      " 0.01545455] \n",
      "\n",
      "              precision    recall  f1-score   support\n",
      "\n",
      "           0       1.00      0.85      0.92        13\n",
      "           1       0.86      1.00      0.92        12\n",
      "\n",
      "   micro avg       0.92      0.92      0.92        25\n",
      "   macro avg       0.93      0.92      0.92        25\n",
      "weighted avg       0.93      0.92      0.92        25\n",
      "\n"
     ]
    }
   ],
   "source": [
    "y_pred = slr.predict(X_test_std)\n",
    "y_proba = slr.predict_proba(X_test_std)\n",
    "print('y_pred:\\n',y_pred,'\\n')\n",
    "print('y_proba:\\n',y_proba,'\\n')\n",
    "\n",
    "# Accuracy，Precision，Recall\n",
    "print(classification_report(y_test,y_pred))"
   ]
  },
  {
   "cell_type": "code",
   "execution_count": 40,
   "metadata": {},
   "outputs": [
    {
     "name": "stdout",
     "output_type": "stream",
     "text": [
      "切片： 0.2622906509375027\n",
      "重み： [-0.22809826 -0.67086577  2.43699459  2.06518508]\n"
     ]
    }
   ],
   "source": [
    "print('切片：',slr.coef_[0])\n",
    "print('重み：',slr.coef_[1:])"
   ]
  },
  {
   "cell_type": "markdown",
   "metadata": {},
   "source": [
    "## ２．scikit-learnのLogisticRegression"
   ]
  },
  {
   "cell_type": "code",
   "execution_count": 41,
   "metadata": {},
   "outputs": [
    {
     "name": "stdout",
     "output_type": "stream",
     "text": [
      "y_pred:\n",
      " [0 1 0 1 1 1 0 1 1 1 1 1 1 0 0 0 1 0 1 0 0 1 0 1 0] \n",
      "\n",
      "y_proba:\n",
      " [[0.80361766 0.19638234]\n",
      " [0.01002104 0.98997896]\n",
      " [0.78063258 0.21936742]\n",
      " [0.00210047 0.99789953]\n",
      " [0.05475811 0.94524189]\n",
      " [0.00586772 0.99413228]\n",
      " [0.84662253 0.15337747]\n",
      " [0.23908503 0.76091497]\n",
      " [0.00762694 0.99237306]\n",
      " [0.02493299 0.97506701]\n",
      " [0.06549189 0.93450811]\n",
      " [0.08695882 0.91304118]\n",
      " [0.01383852 0.98616148]\n",
      " [0.83634644 0.16365356]\n",
      " [0.99742792 0.00257208]\n",
      " [0.98707756 0.01292244]\n",
      " [0.47656592 0.52343408]\n",
      " [0.96426509 0.03573491]\n",
      " [0.30299805 0.69700195]\n",
      " [0.92794091 0.07205909]\n",
      " [0.99698723 0.00301277]\n",
      " [0.03006349 0.96993651]\n",
      " [0.93323831 0.06676169]\n",
      " [0.10235031 0.89764969]\n",
      " [0.98202608 0.01797392]] \n",
      "\n",
      "              precision    recall  f1-score   support\n",
      "\n",
      "           0       1.00      0.85      0.92        13\n",
      "           1       0.86      1.00      0.92        12\n",
      "\n",
      "   micro avg       0.92      0.92      0.92        25\n",
      "   macro avg       0.93      0.92      0.92        25\n",
      "weighted avg       0.93      0.92      0.92        25\n",
      "\n"
     ]
    },
    {
     "name": "stderr",
     "output_type": "stream",
     "text": [
      "C:\\Users\\miyas\\Anaconda3\\lib\\site-packages\\sklearn\\linear_model\\logistic.py:433: FutureWarning: Default solver will be changed to 'lbfgs' in 0.22. Specify a solver to silence this warning.\n",
      "  FutureWarning)\n"
     ]
    }
   ],
   "source": [
    "from sklearn.linear_model import LogisticRegression\n",
    "# 初期化，学習，推定\n",
    "model = LogisticRegression()\n",
    "model.fit(X_train_std,y_train)\n",
    "y_pred_sk = model.predict(X_test_std)\n",
    "y_proba_sk = model.predict_proba(X_test_std)\n",
    "print('y_pred:\\n',y_pred_sk,'\\n')\n",
    "print('y_proba:\\n',y_proba_sk,'\\n')\n",
    "\n",
    "# Accuracy，Precision，Recall\n",
    "print(classification_report(y_test,y_pred_sk))"
   ]
  },
  {
   "cell_type": "markdown",
   "metadata": {},
   "source": [
    "# 【問題7】学習曲線のプロット"
   ]
  },
  {
   "cell_type": "code",
   "execution_count": 42,
   "metadata": {},
   "outputs": [
    {
     "data": {
      "text/plain": [
       "<function matplotlib.pyplot.show(*args, **kw)>"
      ]
     },
     "execution_count": 42,
     "metadata": {},
     "output_type": "execute_result"
    },
    {
     "data": {
      "image/png": "[encoded data removed]",
      "text/plain": [
       "<Figure size 432x288 with 1 Axes>"
      ]
     },
     "metadata": {
      "needs_background": "light"
     },
     "output_type": "display_data"
    }
   ],
   "source": [
    "plt.scatter(np.array(range(slr.iter)), slr.loss, label=\"loss\")\n",
    "plt.scatter(np.array(range(slr.iter)), slr.val_loss, label=\"val_loss\")\n",
    "\n",
    "plt.title(\"bias\")\n",
    "plt.xlabel(\"iter\")\n",
    "plt.ylabel(\"loss\")\n",
    "plt.legend()\n",
    "\n",
    "plt.show"
   ]
  },
  {
   "cell_type": "markdown",
   "metadata": {},
   "source": [
    "# 【問題8】決定領域の可視化\n",
    "今回はsepal lengthとpetal lengthで可視化"
   ]
  },
  {
   "cell_type": "code",
   "execution_count": 43,
   "metadata": {},
   "outputs": [],
   "source": [
    "# データの準備\n",
    "# versicolorとvirginicaのみを抜き出す\n",
    "iris_versicolor1 = df[df.Species==1]\n",
    "iris_virginica2 = df[df.Species==2]\n",
    "\n",
    "# sepal lengthとpetal lengthのみ抜き出す\n",
    "X_train_plot= X_train[:,[0,2]]\n",
    "X_test_plot = X_test[:,[0,2]]"
   ]
  },
  {
   "cell_type": "code",
   "execution_count": 44,
   "metadata": {},
   "outputs": [],
   "source": [
    "# ↑のデータで学習\n",
    "slr_p = ScratchLogisticRegression(num_iter=3000, lr=0.01, lamda=1,bias=False ,verbose=False)\n",
    "slr_p.fit(X_train_plot,y_train)"
   ]
  },
  {
   "cell_type": "code",
   "execution_count": 45,
   "metadata": {},
   "outputs": [],
   "source": [
    "# 回帰直線の式\n",
    "xrange = np.arange(4,9,0.1)\n",
    "by = -(slr_p.coef_[0]+slr_p.coef_[1]*xrange)/slr_p.coef_[2]"
   ]
  },
  {
   "cell_type": "code",
   "execution_count": 46,
   "metadata": {},
   "outputs": [
    {
     "data": {
      "image/png": "[encoded data removed]",
      "text/plain": [
       "<Figure size 432x288 with 1 Axes>"
      ]
     },
     "metadata": {
      "needs_background": "light"
     },
     "output_type": "display_data"
    }
   ],
   "source": [
    "# versicolor\n",
    "plt.scatter(iris_versicolor1['sepal length (cm)'],iris_versicolor1['petal length (cm)'],marker='x',c='b',s=50,label='versicolor')\n",
    "# virginica\n",
    "plt.scatter(iris_virginica2['sepal length (cm)'],iris_virginica2['petal length (cm)'],marker='o',c='r',s=50,label='virginica')\n",
    "# 決定境界\n",
    "plt.plot(xrange,by,c='k')\n",
    "\n",
    "plt.xlabel('sepal length')\n",
    "plt.ylabel('sepal width')\n",
    "plt.legend()\n",
    "plt.show()"
   ]
  }
 ],
 "metadata": {
  "kernelspec": {
   "display_name": "Python 3",
   "language": "python",
   "name": "python3"
  },
  "language_info": {
   "codemirror_mode": {
    "name": "ipython",
    "version": 3
   },
   "file_extension": ".py",
   "mimetype": "text/x-python",
   "name": "python",
   "nbconvert_exporter": "python",
   "pygments_lexer": "ipython3",
   "version": "3.7.1"
  }
 },
 "nbformat": 4,
 "nbformat_minor": 2
}
