{
 "cells": [
  {
   "cell_type": "markdown",
   "metadata": {},
   "source": [
    "# week1授業課題２　何回折ったら富士山を超えるか問題"
   ]
  },
  {
   "cell_type": "markdown",
   "metadata": {},
   "source": [
    "# 【問題１】富士山を超える最小の折る回数\n",
    "厚さが「富士山(3776m)」を超えるのは何回紙を折った時か計算するプログラムを作成してください。"
   ]
  },
  {
   "cell_type": "code",
   "execution_count": 23,
   "metadata": {},
   "outputs": [],
   "source": [
    "# 富士山の高さ\n",
    "fuji = 3776\n",
    "# 紙の厚さ\n",
    "thickness = 0.00008"
   ]
  },
  {
   "cell_type": "code",
   "execution_count": 24,
   "metadata": {},
   "outputs": [
    {
     "name": "stdout",
     "output_type": "stream",
     "text": [
      "富士山を超える最小の折る回数は26回です．\n"
     ]
    }
   ],
   "source": [
    "# 折る回数の初回\n",
    "n = 1\n",
    "# 折った回数を入れていく空のリスト\n",
    "num = []\n",
    "\n",
    "# 計算\n",
    "while True:\n",
    "    folder_thickness = thickness*(2**n)\n",
    "    num.append(n)\n",
    "    n += 1\n",
    "    if folder_thickness >= fuji:\n",
    "        break\n",
    "        \n",
    "# 最後の値を呼び出し\n",
    "print('富士山を超える最小の折る回数は{}回です．'.format(num[-1]))"
   ]
  },
  {
   "cell_type": "markdown",
   "metadata": {},
   "source": [
    "# 【問題2】任意の厚さに対応した関数を作成\n",
    "### １．最初の紙の厚さと，到達したい距離を入力すると何回折るべきか出力する関数"
   ]
  },
  {
   "cell_type": "code",
   "execution_count": 37,
   "metadata": {},
   "outputs": [],
   "source": [
    "def count_paper(thickness,distance):\n",
    "    # 折る回数の初回\n",
    "    n = 1\n",
    "    # 折った回数を入れていく空のリスト\n",
    "    num = []\n",
    "    # 計算\n",
    "    while True:\n",
    "        folder_thickness = thickness*(2**n)\n",
    "        num.append(n)\n",
    "        n += 1\n",
    "        if folder_thickness >= distance:\n",
    "            return num[-1]\n",
    "            break"
   ]
  },
  {
   "cell_type": "markdown",
   "metadata": {},
   "source": [
    "### ２．上の関数を利用して，最も近い太陽以外の恒星に到達するには，紙を何回折ればいいか\n",
    "* 最も近い太陽系以外の恒星・・・プロキシマ・ケンタウリ\n",
    "* 距離・・・4.243光年（１光年＝9,460,730,472,580,800 m）"
   ]
  },
  {
   "cell_type": "code",
   "execution_count": 38,
   "metadata": {},
   "outputs": [
    {
     "name": "stdout",
     "output_type": "stream",
     "text": [
      "69回折ると到達する\n"
     ]
    }
   ],
   "source": [
    "# プロキシマ・ケンタウリまでの距離（ｍ）\n",
    "proxima = 4.243*9460730472580800\n",
    "# 関数の呼び出し\n",
    "proxima_num = count_paper(thickness=0.00008,distance=proxima)\n",
    "print(\"{}回折ると到達する\".format(Proxima_num))"
   ]
  },
  {
   "cell_type": "markdown",
   "metadata": {},
   "source": [
    "# 【問題３】必要な紙の長さ\n",
    "### １．実際に紙を折り任意の厚さに到達するために必要な紙の長さを求める関数"
   ]
  },
  {
   "cell_type": "code",
   "execution_count": 50,
   "metadata": {},
   "outputs": [],
   "source": [
    "import math\n",
    "# 距離\n",
    "moon = 384400*1000\n",
    "fuji = 3776\n",
    "proxima = 4.243*9460730472580800\n",
    "t = 0.00008"
   ]
  },
  {
   "cell_type": "code",
   "execution_count": 51,
   "metadata": {},
   "outputs": [],
   "source": [
    "# 紙の長さを求める関数\n",
    "def paper_length(t,n):\n",
    "    length = (math.pi*t/6)*(2**n + 4)*(2**n -1)\n",
    "    return length"
   ]
  },
  {
   "cell_type": "code",
   "execution_count": 59,
   "metadata": {},
   "outputs": [
    {
     "name": "stdout",
     "output_type": "stream",
     "text": [
      "月に到達するために必要な紙の長さ：1.5010913339609933e+99メートル\n",
      "富士山に到達するために必要な紙の長さ：1.7231683429096088e+58メートル\n",
      "最も近い太陽系以外の恒星に到達するために必要な紙の長さ：6.175131577470457e+161メートル\n"
     ]
    }
   ],
   "source": [
    "# 実行\n",
    "moon_length = paper_length(t,count_paper(t,moon))\n",
    "fuji_length = paper_length(t,count_paper(t,fuji))\n",
    "proxima_length = paper_length(t,count_paper(t,proxima))\n",
    "print('月に到達するために必要な紙の長さ：{}メートル'.format(moon_length))\n",
    "\n",
    "print('富士山に到達するために必要な紙の長さ：{}メートル'.format(fuji_length))\n",
    "print('最も近い太陽系以外の恒星に到達するために必要な紙の長さ：{}メートル'.format(proxima_length))"
   ]
  }
 ],
 "metadata": {
  "kernelspec": {
   "display_name": "Python 3",
   "language": "python",
   "name": "python3"
  },
  "language_info": {
   "codemirror_mode": {
    "name": "ipython",
    "version": 3
   },
   "file_extension": ".py",
   "mimetype": "text/x-python",
   "name": "python",
   "nbconvert_exporter": "python",
   "pygments_lexer": "ipython3",
   "version": "3.7.1"
  }
 },
 "nbformat": 4,
 "nbformat_minor": 2
}
