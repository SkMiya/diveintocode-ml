{
 "cells": [
  {
   "cell_type": "markdown",
   "metadata": {},
   "source": [
    "# 栗まんじゅうが太陽系を覆う日\n",
    "* バイバインをかけた物体は５分ごとに倍になっていく．\n",
    "* 太陽系が饅頭で覆われるのは何分後かを求める関数を作成する．"
   ]
  },
  {
   "cell_type": "code",
   "execution_count": 95,
   "metadata": {},
   "outputs": [],
   "source": [
    "import math\n",
    "import matplotlib.pyplot as plt\n",
    "#日本語で書けるようになる魔法\n",
    "import japanize_matplotlib\n",
    "%matplotlib inline"
   ]
  },
  {
   "cell_type": "markdown",
   "metadata": {},
   "source": [
    "### １．体積の計算に必要な半径（単位は㎞に揃える）"
   ]
  },
  {
   "cell_type": "code",
   "execution_count": 96,
   "metadata": {},
   "outputs": [],
   "source": [
    "# 饅頭の半径は３cmとする\n",
    "r_manju = 3/100000\n",
    "# 太陽系の半径\n",
    "r_soler = 4500000000"
   ]
  },
  {
   "cell_type": "markdown",
   "metadata": {},
   "source": [
    "### ２．球体の体積を求める関数\n",
    "今回，饅頭も太陽系も球体と仮定した．"
   ]
  },
  {
   "cell_type": "code",
   "execution_count": 97,
   "metadata": {},
   "outputs": [],
   "source": [
    "def volume(r):\n",
    "    \"\"\"\n",
    "    球体の体積を求める関数\n",
    "\n",
    "    Parameters\n",
    "    ----------\n",
    "    r : 求めたい球体の半径　単位：㎞\n",
    "    \n",
    "    Return\n",
    "    v ：球体の体積　単位\n",
    "    \"\"\"\n",
    "    v = 4/3*math.pi*r**3\n",
    "    return v"
   ]
  },
  {
   "cell_type": "markdown",
   "metadata": {},
   "source": [
    "### ３．球体が空間を覆う時間を求める関数"
   ]
  },
  {
   "cell_type": "code",
   "execution_count": 98,
   "metadata": {},
   "outputs": [],
   "source": [
    "def space_min(v,space):\n",
    "    \"\"\"\n",
    "    球体が空間を覆う時間を求める関数\n",
    "\n",
    "    Parameters\n",
    "    ----------\n",
    "    v ：　　覆いつくす球体の体積\n",
    "    space : 覆いつくされる空間の体積\n",
    "    \n",
    "    Return\n",
    "    v_list ：minute分ごとの球体の体積\n",
    "    minute ：経過時間　（分）\n",
    "    \"\"\"\n",
    "    v_list = []\n",
    "    minute = 0\n",
    "    while v < space:\n",
    "        v = v*2\n",
    "        v_list.append(v)\n",
    "        minute = minute + 5\n",
    "    return v_list,minute"
   ]
  },
  {
   "cell_type": "code",
   "execution_count": 99,
   "metadata": {},
   "outputs": [
    {
     "name": "stdout",
     "output_type": "stream",
     "text": [
      "太陽系が栗饅頭で覆われるのは710分後です．\n"
     ]
    }
   ],
   "source": [
    "# 実行\n",
    "v_list,minute = space_min(volume(r_manju),volume(r_soler))\n",
    "print('太陽系が栗饅頭で覆われるのは{}分後です．'.format(minute))"
   ]
  },
  {
   "cell_type": "markdown",
   "metadata": {},
   "source": [
    "### ４．可視化"
   ]
  },
  {
   "cell_type": "code",
   "execution_count": 100,
   "metadata": {},
   "outputs": [
    {
     "data": {
      "text/plain": [
       "<matplotlib.legend.Legend at 0x17639715b00>"
      ]
     },
     "execution_count": 100,
     "metadata": {},
     "output_type": "execute_result"
    },
    {
     "data": {
      "image/png": "[encoded data removed]",
      "text/plain": [
       "<Figure size 432x288 with 1 Axes>"
      ]
     },
     "metadata": {
      "needs_background": "light"
     },
     "output_type": "display_data"
    }
   ],
   "source": [
    "plt.plot(v_list,label='栗饅頭')\n",
    "plt.axhline(volume(r_soler),ls='--',color='red',label='太陽系')\n",
    "\n",
    "plt.title('栗饅頭が太陽系を覆うまでの時間')\n",
    "plt.xlabel('時間')\n",
    "plt.ylabel('体積')\n",
    "plt.legend()"
   ]
  }
 ],
 "metadata": {
  "kernelspec": {
   "display_name": "Python 3",
   "language": "python",
   "name": "python3"
  },
  "language_info": {
   "codemirror_mode": {
    "name": "ipython",
    "version": 3
   },
   "file_extension": ".py",
   "mimetype": "text/x-python",
   "name": "python",
   "nbconvert_exporter": "python",
   "pygments_lexer": "ipython3",
   "version": "3.7.1"
  }
 },
 "nbformat": 4,
 "nbformat_minor": 2
}
