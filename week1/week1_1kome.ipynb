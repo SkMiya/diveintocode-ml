{
 "cells": [
  {
   "cell_type": "markdown",
   "metadata": {},
   "source": [
    "# week1授業課題曽呂利新左衛門問題"
   ]
  },
  {
   "cell_type": "markdown",
   "metadata": {},
   "source": [
    "# 【問題１】100日後の米粒の数"
   ]
  },
  {
   "cell_type": "code",
   "execution_count": 3,
   "metadata": {
    "ExecuteTime": {
     "end_time": "2019-10-03T14:10:58.888560Z",
     "start_time": "2019-10-03T14:10:58.883573Z"
    }
   },
   "outputs": [],
   "source": [
    "import matplotlib as mpl\n",
    "import matplotlib.pyplot as plt\n",
    "import pandas as pd\n",
    "import numpy as np\n",
    "#日本語で書けるようになる魔法\n",
    "#!pip install japanize-matplotlib\n",
    "import japanize_matplotlib\n",
    "\n",
    "%matplotlib inline"
   ]
  },
  {
   "cell_type": "code",
   "execution_count": 4,
   "metadata": {
    "ExecuteTime": {
     "end_time": "2019-10-03T14:10:59.148401Z",
     "start_time": "2019-10-03T14:10:58.890556Z"
    }
   },
   "outputs": [
    {
     "data": {
      "text/plain": [
       "Text(0, 0.5, '米粒の数')"
      ]
     },
     "execution_count": 4,
     "metadata": {},
     "output_type": "execute_result"
    },
    {
     "data": {
      "image/png": "[encoded data removed]",
      "text/plain": [
       "<Figure size 432x288 with 1 Axes>"
      ]
     },
     "metadata": {
      "needs_background": "light"
     },
     "output_type": "display_data"
    }
   ],
   "source": [
    "# 初日の米粒\n",
    "kome = 1\n",
    "# 米粒の累計を入れるリスト\n",
    "kome_list = []\n",
    "# 米をもらう日数\n",
    "kome_day = np.arange(1,101)\n",
    "\n",
    "# 計算してリストに追加していく\n",
    "for i in (kome_day):\n",
    "    kome = kome*2\n",
    "    kome_list.append(kome)\n",
    "\n",
    "# グラフ\n",
    "plt.plot(kome_list)\n",
    "plt.title('米粒の累計')\n",
    "plt.xlabel('日数')\n",
    "plt.ylabel('米粒の数')"
   ]
  },
  {
   "cell_type": "code",
   "execution_count": 5,
   "metadata": {
    "ExecuteTime": {
     "end_time": "2019-10-03T14:10:59.155408Z",
     "start_time": "2019-10-03T14:10:59.150395Z"
    }
   },
   "outputs": [
    {
     "data": {
      "text/plain": [
       "[2,\n",
       " 4,\n",
       " 8,\n",
       " 16,\n",
       " 32,\n",
       " 64,\n",
       " 128,\n",
       " 256,\n",
       " 512,\n",
       " 1024,\n",
       " 2048,\n",
       " 4096,\n",
       " 8192,\n",
       " 16384,\n",
       " 32768,\n",
       " 65536,\n",
       " 131072,\n",
       " 262144,\n",
       " 524288,\n",
       " 1048576,\n",
       " 2097152,\n",
       " 4194304,\n",
       " 8388608,\n",
       " 16777216,\n",
       " 33554432,\n",
       " 67108864,\n",
       " 134217728,\n",
       " 268435456,\n",
       " 536870912,\n",
       " 1073741824,\n",
       " 2147483648,\n",
       " 4294967296,\n",
       " 8589934592,\n",
       " 17179869184,\n",
       " 34359738368,\n",
       " 68719476736,\n",
       " 137438953472,\n",
       " 274877906944,\n",
       " 549755813888,\n",
       " 1099511627776,\n",
       " 2199023255552,\n",
       " 4398046511104,\n",
       " 8796093022208,\n",
       " 17592186044416,\n",
       " 35184372088832,\n",
       " 70368744177664,\n",
       " 140737488355328,\n",
       " 281474976710656,\n",
       " 562949953421312,\n",
       " 1125899906842624,\n",
       " 2251799813685248,\n",
       " 4503599627370496,\n",
       " 9007199254740992,\n",
       " 18014398509481984,\n",
       " 36028797018963968,\n",
       " 72057594037927936,\n",
       " 144115188075855872,\n",
       " 288230376151711744,\n",
       " 576460752303423488,\n",
       " 1152921504606846976,\n",
       " 2305843009213693952,\n",
       " 4611686018427387904,\n",
       " 9223372036854775808,\n",
       " 18446744073709551616,\n",
       " 36893488147419103232,\n",
       " 73786976294838206464,\n",
       " 147573952589676412928,\n",
       " 295147905179352825856,\n",
       " 590295810358705651712,\n",
       " 1180591620717411303424,\n",
       " 2361183241434822606848,\n",
       " 4722366482869645213696,\n",
       " 9444732965739290427392,\n",
       " 18889465931478580854784,\n",
       " 37778931862957161709568,\n",
       " 75557863725914323419136,\n",
       " 151115727451828646838272,\n",
       " 302231454903657293676544,\n",
       " 604462909807314587353088,\n",
       " 1208925819614629174706176,\n",
       " 2417851639229258349412352,\n",
       " 4835703278458516698824704,\n",
       " 9671406556917033397649408,\n",
       " 19342813113834066795298816,\n",
       " 38685626227668133590597632,\n",
       " 77371252455336267181195264,\n",
       " 154742504910672534362390528,\n",
       " 309485009821345068724781056,\n",
       " 618970019642690137449562112,\n",
       " 1237940039285380274899124224,\n",
       " 2475880078570760549798248448,\n",
       " 4951760157141521099596496896,\n",
       " 9903520314283042199192993792,\n",
       " 19807040628566084398385987584,\n",
       " 39614081257132168796771975168,\n",
       " 79228162514264337593543950336,\n",
       " 158456325028528675187087900672,\n",
       " 316912650057057350374175801344,\n",
       " 633825300114114700748351602688,\n",
       " 1267650600228229401496703205376]"
      ]
     },
     "execution_count": 5,
     "metadata": {},
     "output_type": "execute_result"
    }
   ],
   "source": [
    "kome_list"
   ]
  },
  {
   "cell_type": "code",
   "execution_count": 6,
   "metadata": {
    "ExecuteTime": {
     "end_time": "2019-10-03T14:10:59.196273Z",
     "start_time": "2019-10-03T14:10:59.156380Z"
    }
   },
   "outputs": [
    {
     "data": {
      "text/html": [
       "<div>\n",
       "<style scoped>\n",
       "    .dataframe tbody tr th:only-of-type {\n",
       "        vertical-align: middle;\n",
       "    }\n",
       "\n",
       "    .dataframe tbody tr th {\n",
       "        vertical-align: top;\n",
       "    }\n",
       "\n",
       "    .dataframe thead th {\n",
       "        text-align: right;\n",
       "    }\n",
       "</style>\n",
       "<table border=\"1\" class=\"dataframe\">\n",
       "  <thead>\n",
       "    <tr style=\"text-align: right;\">\n",
       "      <th></th>\n",
       "      <th>米粒の数</th>\n",
       "    </tr>\n",
       "  </thead>\n",
       "  <tbody>\n",
       "    <tr>\n",
       "      <td>1</td>\n",
       "      <td>2</td>\n",
       "    </tr>\n",
       "    <tr>\n",
       "      <td>2</td>\n",
       "      <td>4</td>\n",
       "    </tr>\n",
       "    <tr>\n",
       "      <td>3</td>\n",
       "      <td>8</td>\n",
       "    </tr>\n",
       "    <tr>\n",
       "      <td>4</td>\n",
       "      <td>16</td>\n",
       "    </tr>\n",
       "    <tr>\n",
       "      <td>5</td>\n",
       "      <td>32</td>\n",
       "    </tr>\n",
       "  </tbody>\n",
       "</table>\n",
       "</div>"
      ],
      "text/plain": [
       "  米粒の数\n",
       "1    2\n",
       "2    4\n",
       "3    8\n",
       "4   16\n",
       "5   32"
      ]
     },
     "execution_count": 6,
     "metadata": {},
     "output_type": "execute_result"
    }
   ],
   "source": [
    "# 累計米粒の表\n",
    "kome_df = pd.DataFrame(kome_list,kome_day,columns=['米粒の数'])\n",
    "kome_df.head()"
   ]
  },
  {
   "cell_type": "code",
   "execution_count": 7,
   "metadata": {
    "ExecuteTime": {
     "end_time": "2019-10-03T14:10:59.393767Z",
     "start_time": "2019-10-03T14:10:59.197270Z"
    }
   },
   "outputs": [
    {
     "data": {
      "text/plain": [
       "Text(0, 0.5, '米の数')"
      ]
     },
     "execution_count": 7,
     "metadata": {},
     "output_type": "execute_result"
    },
    {
     "data": {
      "text/plain": [
       "<Figure size 432x288 with 0 Axes>"
      ]
     },
     "metadata": {},
     "output_type": "display_data"
    },
    {
     "data": {
      "image/png": "[encoded data removed]",
      "text/plain": [
       "<Figure size 576x360 with 1 Axes>"
      ]
     },
     "metadata": {
      "needs_background": "light"
     },
     "output_type": "display_data"
    }
   ],
   "source": [
    "# 初日の米粒の数\n",
    "kome = 1\n",
    "# 米をもらう日数\n",
    "kome_day = 100\n",
    "# もらう米の累積値を入れるリスト\n",
    "kome_list = [1]\n",
    "\n",
    "# その日にもらう米の数をリストに入れていく\n",
    "for i in range(kome_day-1):\n",
    "    kome = kome*2\n",
    "    kome_list.append(kome)\n",
    "\n",
    "# インデックス\n",
    "day_num = np.arange(1,101)\n",
    "# データフレームにする\n",
    "kome_df = pd.DataFrame(kome_list,index=day_num,columns=['rice_num'])\n",
    "#rice_numがオブジェクトだったので、数値に変える\n",
    "kome_df = kome_df.assign(rice_num=pd.to_numeric(kome_df.rice_num))\n",
    "\n",
    "# グラフ描写\n",
    "plt.figure()\n",
    "kome_df.plot(figsize=(8,5))\n",
    "plt.xlabel('日数')\n",
    "plt.ylabel('米の数')"
   ]
  },
  {
   "cell_type": "code",
   "execution_count": 8,
   "metadata": {
    "ExecuteTime": {
     "end_time": "2019-10-03T14:10:59.401751Z",
     "start_time": "2019-10-03T14:10:59.394742Z"
    }
   },
   "outputs": [
    {
     "data": {
      "text/html": [
       "<div>\n",
       "<style scoped>\n",
       "    .dataframe tbody tr th:only-of-type {\n",
       "        vertical-align: middle;\n",
       "    }\n",
       "\n",
       "    .dataframe tbody tr th {\n",
       "        vertical-align: top;\n",
       "    }\n",
       "\n",
       "    .dataframe thead th {\n",
       "        text-align: right;\n",
       "    }\n",
       "</style>\n",
       "<table border=\"1\" class=\"dataframe\">\n",
       "  <thead>\n",
       "    <tr style=\"text-align: right;\">\n",
       "      <th></th>\n",
       "      <th>rice_num</th>\n",
       "    </tr>\n",
       "  </thead>\n",
       "  <tbody>\n",
       "    <tr>\n",
       "      <td>1</td>\n",
       "      <td>1.0</td>\n",
       "    </tr>\n",
       "    <tr>\n",
       "      <td>2</td>\n",
       "      <td>2.0</td>\n",
       "    </tr>\n",
       "    <tr>\n",
       "      <td>3</td>\n",
       "      <td>4.0</td>\n",
       "    </tr>\n",
       "    <tr>\n",
       "      <td>4</td>\n",
       "      <td>8.0</td>\n",
       "    </tr>\n",
       "    <tr>\n",
       "      <td>5</td>\n",
       "      <td>16.0</td>\n",
       "    </tr>\n",
       "  </tbody>\n",
       "</table>\n",
       "</div>"
      ],
      "text/plain": [
       "   rice_num\n",
       "1       1.0\n",
       "2       2.0\n",
       "3       4.0\n",
       "4       8.0\n",
       "5      16.0"
      ]
     },
     "execution_count": 8,
     "metadata": {},
     "output_type": "execute_result"
    }
   ],
   "source": [
    "kome_df.head()"
   ]
  },
  {
   "cell_type": "markdown",
   "metadata": {},
   "source": [
    "## 最終案"
   ]
  },
  {
   "cell_type": "code",
   "execution_count": 9,
   "metadata": {
    "ExecuteTime": {
     "end_time": "2019-10-03T14:10:59.582240Z",
     "start_time": "2019-10-03T14:10:59.402731Z"
    }
   },
   "outputs": [
    {
     "data": {
      "text/plain": [
       "Text(0.5, 1.0, 'その日にもらう米の数')"
      ]
     },
     "execution_count": 9,
     "metadata": {},
     "output_type": "execute_result"
    },
    {
     "data": {
      "text/plain": [
       "<Figure size 432x288 with 0 Axes>"
      ]
     },
     "metadata": {},
     "output_type": "display_data"
    },
    {
     "data": {
      "image/png": "[encoded data removed]",
      "text/plain": [
       "<Figure size 576x360 with 1 Axes>"
      ]
     },
     "metadata": {
      "needs_background": "light"
     },
     "output_type": "display_data"
    }
   ],
   "source": [
    "# 初日の米粒の数\n",
    "kome = 1\n",
    "# 米をもらう日数\n",
    "kome_day = 100\n",
    "# その日にもらう米の数を入れるリスト\n",
    "kome_list = [1]\n",
    "# その日までにもらった米の累積値を入れるリスト\n",
    "total_kome = [1]\n",
    "\n",
    "# その日にもらう米の数をリストに入れていく\n",
    "for i in range(kome_day-1):\n",
    "    kome = kome*2\n",
    "    kome_list.append(kome)\n",
    "    total = np.sum(kome_list)\n",
    "    total_kome.append(total)\n",
    "\n",
    "# インデックス\n",
    "day_num = np.arange(1,101)\n",
    "# データフレームにする\n",
    "kome_df = pd.DataFrame(kome_list,index=day_num,columns=['rice_num'])\n",
    "#rice_numがオブジェクトだったので、数値に変える\n",
    "kome_df = kome_df.assign(rice_num=pd.to_numeric(kome_df.rice_num))\n",
    "\n",
    "# グラフ描写\n",
    "plt.figure()\n",
    "kome_df.plot(figsize=(8,5))\n",
    "plt.xlabel('日数')\n",
    "plt.ylabel('米の数')\n",
    "plt.title('その日にもらう米の数')"
   ]
  },
  {
   "cell_type": "code",
   "execution_count": 10,
   "metadata": {
    "ExecuteTime": {
     "end_time": "2019-10-03T14:10:59.591217Z",
     "start_time": "2019-10-03T14:10:59.584237Z"
    }
   },
   "outputs": [
    {
     "data": {
      "text/html": [
       "<div>\n",
       "<style scoped>\n",
       "    .dataframe tbody tr th:only-of-type {\n",
       "        vertical-align: middle;\n",
       "    }\n",
       "\n",
       "    .dataframe tbody tr th {\n",
       "        vertical-align: top;\n",
       "    }\n",
       "\n",
       "    .dataframe thead th {\n",
       "        text-align: right;\n",
       "    }\n",
       "</style>\n",
       "<table border=\"1\" class=\"dataframe\">\n",
       "  <thead>\n",
       "    <tr style=\"text-align: right;\">\n",
       "      <th></th>\n",
       "      <th>rice_num</th>\n",
       "    </tr>\n",
       "  </thead>\n",
       "  <tbody>\n",
       "    <tr>\n",
       "      <td>96</td>\n",
       "      <td>3.961408e+28</td>\n",
       "    </tr>\n",
       "    <tr>\n",
       "      <td>97</td>\n",
       "      <td>7.922816e+28</td>\n",
       "    </tr>\n",
       "    <tr>\n",
       "      <td>98</td>\n",
       "      <td>1.584563e+29</td>\n",
       "    </tr>\n",
       "    <tr>\n",
       "      <td>99</td>\n",
       "      <td>3.169127e+29</td>\n",
       "    </tr>\n",
       "    <tr>\n",
       "      <td>100</td>\n",
       "      <td>6.338253e+29</td>\n",
       "    </tr>\n",
       "  </tbody>\n",
       "</table>\n",
       "</div>"
      ],
      "text/plain": [
       "         rice_num\n",
       "96   3.961408e+28\n",
       "97   7.922816e+28\n",
       "98   1.584563e+29\n",
       "99   3.169127e+29\n",
       "100  6.338253e+29"
      ]
     },
     "execution_count": 10,
     "metadata": {},
     "output_type": "execute_result"
    }
   ],
   "source": [
    "# その日にもらう米の数の表\n",
    "kome_df.tail()"
   ]
  },
  {
   "cell_type": "code",
   "execution_count": 11,
   "metadata": {
    "ExecuteTime": {
     "end_time": "2019-10-03T14:10:59.799691Z",
     "start_time": "2019-10-03T14:10:59.593212Z"
    }
   },
   "outputs": [
    {
     "data": {
      "text/plain": [
       "Text(0.5, 1.0, 'その日にまでにもらった累計の米の数')"
      ]
     },
     "execution_count": 11,
     "metadata": {},
     "output_type": "execute_result"
    },
    {
     "data": {
      "text/plain": [
       "<Figure size 432x288 with 0 Axes>"
      ]
     },
     "metadata": {},
     "output_type": "display_data"
    },
    {
     "data": {
      "image/png": "[encoded data removed]",
      "text/plain": [
       "<Figure size 576x360 with 1 Axes>"
      ]
     },
     "metadata": {
      "needs_background": "light"
     },
     "output_type": "display_data"
    }
   ],
   "source": [
    "# データフレームにする\n",
    "total_df = pd.DataFrame(total_kome,index=day_num,columns=['total_rice'])\n",
    "#rice_numがオブジェクトだったので、数値に変える\n",
    "total_df = total_df.assign(total_rice=pd.to_numeric(total_df.total_rice))\n",
    "\n",
    "# グラフ描写\n",
    "plt.figure()\n",
    "kome_df.plot(figsize=(8,5))\n",
    "plt.xlabel('日数')\n",
    "plt.ylabel('米の数')\n",
    "plt.title('その日にまでにもらった累計の米の数')"
   ]
  },
  {
   "cell_type": "code",
   "execution_count": 12,
   "metadata": {
    "ExecuteTime": {
     "end_time": "2019-10-03T14:10:59.807663Z",
     "start_time": "2019-10-03T14:10:59.800664Z"
    }
   },
   "outputs": [
    {
     "data": {
      "text/html": [
       "<div>\n",
       "<style scoped>\n",
       "    .dataframe tbody tr th:only-of-type {\n",
       "        vertical-align: middle;\n",
       "    }\n",
       "\n",
       "    .dataframe tbody tr th {\n",
       "        vertical-align: top;\n",
       "    }\n",
       "\n",
       "    .dataframe thead th {\n",
       "        text-align: right;\n",
       "    }\n",
       "</style>\n",
       "<table border=\"1\" class=\"dataframe\">\n",
       "  <thead>\n",
       "    <tr style=\"text-align: right;\">\n",
       "      <th></th>\n",
       "      <th>total_rice</th>\n",
       "    </tr>\n",
       "  </thead>\n",
       "  <tbody>\n",
       "    <tr>\n",
       "      <td>96</td>\n",
       "      <td>7.922816e+28</td>\n",
       "    </tr>\n",
       "    <tr>\n",
       "      <td>97</td>\n",
       "      <td>1.584563e+29</td>\n",
       "    </tr>\n",
       "    <tr>\n",
       "      <td>98</td>\n",
       "      <td>3.169127e+29</td>\n",
       "    </tr>\n",
       "    <tr>\n",
       "      <td>99</td>\n",
       "      <td>6.338253e+29</td>\n",
       "    </tr>\n",
       "    <tr>\n",
       "      <td>100</td>\n",
       "      <td>1.267651e+30</td>\n",
       "    </tr>\n",
       "  </tbody>\n",
       "</table>\n",
       "</div>"
      ],
      "text/plain": [
       "       total_rice\n",
       "96   7.922816e+28\n",
       "97   1.584563e+29\n",
       "98   3.169127e+29\n",
       "99   6.338253e+29\n",
       "100  1.267651e+30"
      ]
     },
     "execution_count": 12,
     "metadata": {},
     "output_type": "execute_result"
    }
   ],
   "source": [
    "# その日までにもらった米の数の累計\n",
    "total_df.tail()"
   ]
  },
  {
   "cell_type": "markdown",
   "metadata": {},
   "source": [
    "# 【問題２】100日後以外の米粒の数"
   ]
  },
  {
   "cell_type": "markdown",
   "metadata": {},
   "source": [
    "### 雛型"
   ]
  },
  {
   "cell_type": "code",
   "execution_count": 13,
   "metadata": {
    "ExecuteTime": {
     "end_time": "2019-10-03T14:10:59.999158Z",
     "start_time": "2019-10-03T14:10:59.808640Z"
    }
   },
   "outputs": [
    {
     "data": {
      "text/plain": [
       "<matplotlib.legend.Legend at 0x2c7dc129908>"
      ]
     },
     "execution_count": 13,
     "metadata": {},
     "output_type": "execute_result"
    },
    {
     "data": {
      "image/png": "[encoded data removed]",
      "text/plain": [
       "<Figure size 432x288 with 1 Axes>"
      ]
     },
     "metadata": {
      "needs_background": "light"
     },
     "output_type": "display_data"
    }
   ],
   "source": [
    "day = 5\n",
    "# 初日の米粒の数\n",
    "kome = 1\n",
    "# その日にもらう米の数を入れるリスト\n",
    "list_n_grains = [1]\n",
    "# その日までにもらった米の累積値を入れるリスト\n",
    "list_total_grains = [1]\n",
    "\n",
    "# その日にもらう米の数をリストに入れていく\n",
    "for i in range(day-1):\n",
    "    kome = kome*2\n",
    "    list_n_grains.append(kome)\n",
    "    total = np.sum(list_n_grains)\n",
    "    list_total_grains.append(total)\n",
    "x = np.arange(1,day+1)\n",
    "\n",
    "plt.plot(x,list_n_grains)\n",
    "plt.plot(x,list_total_grains)\n",
    "plt.xlabel('日数')\n",
    "plt.ylabel('米の数')\n",
    "plt.legend(['その日にもらう米の数','その日までにもらった米の数'])"
   ]
  },
  {
   "cell_type": "code",
   "execution_count": 14,
   "metadata": {
    "ExecuteTime": {
     "end_time": "2019-10-03T14:11:00.011094Z",
     "start_time": "2019-10-03T14:11:00.000124Z"
    }
   },
   "outputs": [],
   "source": [
    "# 関数の定義\n",
    "def compute_sorori_shinzaemon(day):\n",
    "    # 初日の米粒の数\n",
    "    kome = 1\n",
    "    # その日にもらう米の数を入れるリスト\n",
    "    list_n_grains = [1]\n",
    "    # その日までにもらった米の累積値を入れるリスト\n",
    "    list_total_grains = [1]\n",
    "\n",
    "    # 各リストに米の数を入れていく\n",
    "    for i in range(day-1):\n",
    "        kome = kome*2\n",
    "        list_n_grains.append(kome)\n",
    "        total = np.sum(list_n_grains)\n",
    "        list_total_grains.append(total)\n",
    "        \n",
    "    # ｘ軸の設定\n",
    "    x = np.arange(1,day+1)\n",
    "    # グラフ描写\n",
    "    plt.plot(x,list_n_grains)\n",
    "    plt.plot(x,list_total_grains)\n",
    "    plt.xlabel('日数')\n",
    "    plt.ylabel('米の数')\n",
    "    plt.legend(['その日にもらう米の数','その日までにもらった米の数'])\n",
    "    \n",
    "    return list_n_grains, list_total_grains,x"
   ]
  },
  {
   "cell_type": "code",
   "execution_count": 15,
   "metadata": {
    "ExecuteTime": {
     "end_time": "2019-10-03T14:11:00.192640Z",
     "start_time": "2019-10-03T14:11:00.013089Z"
    }
   },
   "outputs": [
    {
     "name": "stdout",
     "output_type": "stream",
     "text": [
      "10日間でもらえる米の累計値は1023粒\n"
     ]
    },
    {
     "data": {
      "image/png": "[encoded data removed]",
      "text/plain": [
       "<Figure size 432x288 with 1 Axes>"
      ]
     },
     "metadata": {
      "needs_background": "light"
     },
     "output_type": "display_data"
    }
   ],
   "source": [
    "# 関数の実行\n",
    "list_n_grains, list_total_grains,x = compute_sorori_shinzaemon(10)\n",
    "print('{}日間でもらえる米の累計値は{}粒'.format(x[-1],list_total_grains[-1]))"
   ]
  },
  {
   "cell_type": "markdown",
   "metadata": {},
   "source": [
    "# 【問題3】何人が何日生活できる米か"
   ]
  },
  {
   "cell_type": "markdown",
   "metadata": {},
   "source": [
    "* １日のエネルギー摂取は米からのみと仮定する\n",
    "* 身長＝165㎝，体重＝60kgで計算する．\n",
    "* 必要エネルギー量はBEE基礎代謝×AF活動係数×SF傷害係数\n",
    "* 基礎代謝量はハリスベネディクト=66.4730 + 13.7516w + 5.0033h - 6.7550a で算出\n",
    "* 活動係数は1.5（やや軽い労作）\n",
    "* 傷害係数は1.0（疾患による身体ストレスはないものとする）\n",
    "* 水稲精白米100g=356.1kcal， 米粒は１粒0,02g"
   ]
  },
  {
   "cell_type": "code",
   "execution_count": 16,
   "metadata": {
    "ExecuteTime": {
     "end_time": "2019-10-03T14:11:00.197629Z",
     "start_time": "2019-10-03T14:11:00.193606Z"
    }
   },
   "outputs": [],
   "source": [
    "# 基礎代謝量\n",
    "BEE = 66.4730 + 13.7516*65 + 5.0033*170 - 6.7550*30\n",
    "# エネルギー量\n",
    "AF = 1.5\n",
    "SF = 1.0\n",
    "energie = BEE*AF*SF\n",
    "# 1日の必要米量(グラム)\n",
    "kome_g = energie/3.561\n",
    "# 1日の必要量（粒数）\n",
    "kome_tubu = kome_g/0.02"
   ]
  },
  {
   "cell_type": "code",
   "execution_count": 17,
   "metadata": {
    "ExecuteTime": {
     "end_time": "2019-10-03T14:11:00.212581Z",
     "start_time": "2019-10-03T14:11:00.198593Z"
    }
   },
   "outputs": [],
   "source": [
    "def seizon(kometubu=33871,menber=14):\n",
    "    # 関数の実行\n",
    "    list_n_grains,list_total_grains,x = compute_sorori_shinzaemon(day=120)\n",
    "    total_kome = list_total_grains[-1]\n",
    "    print('{}日間でもらえる米の数は{}粒です．'.format(x[-1],total_kome))\n",
    "    alive = total_kome/(kome_tubu*menber)\n",
    "    print('生活できる日数：',alive)\n",
    "    return alive"
   ]
  },
  {
   "cell_type": "code",
   "execution_count": 18,
   "metadata": {
    "ExecuteTime": {
     "end_time": "2019-10-03T14:11:00.417820Z",
     "start_time": "2019-10-03T14:11:00.213553Z"
    }
   },
   "outputs": [
    {
     "name": "stdout",
     "output_type": "stream",
     "text": [
      "120日間でもらえる米の数は1329227995784915872903807060280344575粒です．\n",
      "生活できる日数： 2.803056390190818e+30\n"
     ]
    },
    {
     "data": {
      "image/png": "[encoded data removed]",
      "text/plain": [
       "<Figure size 432x288 with 1 Axes>"
      ]
     },
     "metadata": {
      "needs_background": "light"
     },
     "output_type": "display_data"
    }
   ],
   "source": [
    "alive=seizon(kometubu=33871,menber=14)"
   ]
  }
 ],
 "metadata": {
  "kernelspec": {
   "display_name": "Python 3",
   "language": "python",
   "name": "python3"
  },
  "language_info": {
   "codemirror_mode": {
    "name": "ipython",
    "version": 3
   },
   "file_extension": ".py",
   "mimetype": "text/x-python",
   "name": "python",
   "nbconvert_exporter": "python",
   "pygments_lexer": "ipython3",
   "version": "3.7.4"
  },
  "toc": {
   "base_numbering": 1,
   "nav_menu": {},
   "number_sections": true,
   "sideBar": true,
   "skip_h1_title": false,
   "title_cell": "Table of Contents",
   "title_sidebar": "Contents",
   "toc_cell": false,
   "toc_position": {},
   "toc_section_display": true,
   "toc_window_display": false
  },
  "varInspector": {
   "cols": {
    "lenName": 16,
    "lenType": 16,
    "lenVar": 40
   },
   "kernels_config": {
    "python": {
     "delete_cmd_postfix": "",
     "delete_cmd_prefix": "del ",
     "library": "var_list.py",
     "varRefreshCmd": "print(var_dic_list())"
    },
    "r": {
     "delete_cmd_postfix": ") ",
     "delete_cmd_prefix": "rm(",
     "library": "var_list.r",
     "varRefreshCmd": "cat(var_dic_list()) "
    }
   },
   "types_to_exclude": [
    "module",
    "function",
    "builtin_function_or_method",
    "instance",
    "_Feature"
   ],
   "window_display": false
  }
 },
 "nbformat": 4,
 "nbformat_minor": 2
}
