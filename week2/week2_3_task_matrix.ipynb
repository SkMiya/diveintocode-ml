{
 "cells": [
  {
   "cell_type": "markdown",
   "metadata": {},
   "source": [
    "# 行列積のスクラッチ"
   ]
  },
  {
   "cell_type": "code",
   "execution_count": 2,
   "metadata": {},
   "outputs": [],
   "source": [
    "import numpy as np"
   ]
  },
  {
   "cell_type": "markdown",
   "metadata": {},
   "source": [
    "# 【問題１】行列積を手計算する"
   ]
  },
  {
   "cell_type": "code",
   "execution_count": 3,
   "metadata": {},
   "outputs": [
    {
     "name": "stdout",
     "output_type": "stream",
     "text": [
      "A\n",
      " [[-1  2  3]\n",
      " [ 4 -5  6]\n",
      " [ 7  8 -9]] \n",
      "\n",
      "B\n",
      " [[ 0  2  1]\n",
      " [ 0  2 -8]\n",
      " [ 2  9 -1]]\n"
     ]
    }
   ],
   "source": [
    "a_ndarray = np.array([[-1, 2, 3], [4, -5, 6], [7, 8, -9]])\n",
    "b_ndarray = np.array([[0, 2, 1], [0, 2, -8], [2, 9, -1]])\n",
    "print('A\\n',a_ndarray,'\\n\\nB\\n',b_ndarray)"
   ]
  },
  {
   "cell_type": "markdown",
   "metadata": {},
   "source": [
    "* m×n行列とn×k行列の積はm×k行列になる\n",
    "* 行列AとBの積は３×３行列になり，仮に行列Cとする\n",
    "* 行列Aは行方向に，行列Bは列方向に見る\n",
    "* 行列Cの(1,1)成分は，行列Aの１行目の各要素と行列Bの１列目の各要素の積の総和\n",
    "* 行列C(1,1)要素 = (-1×0) + (2×0) + (3×2) = 6\n",
    "* 行列C(1,2)要素 = (-1×2) + (2×2) + (3×9) = 29\n",
    "* 行列C(1,3)要素 = (-1×1) + (2×-8) + (3×-1) = -20\n",
    "* 行列C(2,1)要素 = (4×0) + (-5×0) + (6×2) = 12\n",
    "* 行列C(2,2)要素 = (4×2) + (-5×2) + (6×9) = 52\n",
    "* 行列C(2,3)要素 = (4×1) + (-5×-8) + (6×-1) = 38\n",
    "* 行列C(3,1)要素 = (7×0) + (8×0) + (-9×2) = -18\n",
    "* 行列C(3,2)要素 = (7×2) + (8×2) + (-9×9) = -51\n",
    "* 行列C(3,3)要素 = (7×1) + (8×-8) + (-9×-1) = -48\n",
    "\n",
    "* **メモ：jupyterの検索置換はコマンドモードでF**"
   ]
  },
  {
   "cell_type": "markdown",
   "metadata": {},
   "source": [
    "# 【問題２】numpy関数による計算"
   ]
  },
  {
   "cell_type": "code",
   "execution_count": 4,
   "metadata": {},
   "outputs": [
    {
     "data": {
      "text/plain": [
       "array([[  6,  29, -20],\n",
       "       [ 12,  52,  38],\n",
       "       [-18, -51, -48]])"
      ]
     },
     "execution_count": 4,
     "metadata": {},
     "output_type": "execute_result"
    }
   ],
   "source": [
    "# np.matmul()\n",
    "np.matmul(a_ndarray,b_ndarray)"
   ]
  },
  {
   "cell_type": "code",
   "execution_count": 5,
   "metadata": {},
   "outputs": [
    {
     "data": {
      "text/plain": [
       "array([[  6,  29, -20],\n",
       "       [ 12,  52,  38],\n",
       "       [-18, -51, -48]])"
      ]
     },
     "execution_count": 5,
     "metadata": {},
     "output_type": "execute_result"
    }
   ],
   "source": [
    "# np.dot()\n",
    "np.dot(a_ndarray,b_ndarray)"
   ]
  },
  {
   "cell_type": "code",
   "execution_count": 6,
   "metadata": {},
   "outputs": [
    {
     "data": {
      "text/plain": [
       "array([[  6,  29, -20],\n",
       "       [ 12,  52,  38],\n",
       "       [-18, -51, -48]])"
      ]
     },
     "execution_count": 6,
     "metadata": {},
     "output_type": "execute_result"
    }
   ],
   "source": [
    "a_ndarray @ b_ndarray"
   ]
  },
  {
   "cell_type": "markdown",
   "metadata": {},
   "source": [
    "# 【問題３】ある要素の計算実装"
   ]
  },
  {
   "cell_type": "code",
   "execution_count": 7,
   "metadata": {},
   "outputs": [
    {
     "name": "stdout",
     "output_type": "stream",
     "text": [
      "[[  6  29 -20]\n",
      " [ 12  52  38]\n",
      " [-18 -51 -48]]\n"
     ]
    }
   ],
   "source": [
    "# 計算結果を入れるndarray\n",
    "c_ndarray = np.zeros((a_ndarray.shape[0],b_ndarray.shape[1]),dtype=a_ndarray.dtype)\n",
    "\n",
    "for i in range(a_ndarray.shape[0]):\n",
    "    for j in range(b_ndarray.shape[1]):\n",
    "        for k in range(a_ndarray.shape[1]):\n",
    "            c_ndarray[i, j] += a_ndarray[i, k] * b_ndarray[k, j]\n",
    "print(c_ndarray)"
   ]
  },
  {
   "cell_type": "markdown",
   "metadata": {},
   "source": [
    "# 【問題４】行列積を行う関数の作成"
   ]
  },
  {
   "cell_type": "code",
   "execution_count": 11,
   "metadata": {},
   "outputs": [],
   "source": [
    "def matrix_dot(A,B):\n",
    "    \"\"\"\n",
    "    行列積を行う関数\n",
    "    \n",
    "    Parameters\n",
    "        ----------\n",
    "    A : ndarray, shape (m,k)\n",
    "    B : ndarray, shape (k,n)\n",
    "    \n",
    "    Returns\n",
    "    -------\n",
    "    C : ndarray ,shape(m,n)\n",
    "    \"\"\"\n",
    "    \n",
    "    C = np.zeros((A.shape[0],B.shape[1]),dtype=A.dtype)\n",
    "    for i in range(A.shape[0]):\n",
    "        for j in range(B.shape[1]):\n",
    "            for k in range(A.shape[1]):\n",
    "                C[i, j] += A[i, k] * B[k, j]\n",
    "    return C"
   ]
  },
  {
   "cell_type": "code",
   "execution_count": 12,
   "metadata": {},
   "outputs": [
    {
     "data": {
      "text/plain": [
       "array([[  6,  29, -20],\n",
       "       [ 12,  52,  38],\n",
       "       [-18, -51, -48]])"
      ]
     },
     "execution_count": 12,
     "metadata": {},
     "output_type": "execute_result"
    }
   ],
   "source": [
    "matrix_dot(a_ndarray,b_ndarray)"
   ]
  },
  {
   "cell_type": "markdown",
   "metadata": {},
   "source": [
    "# 【問題５】計算が定義されない入力を判定する"
   ]
  },
  {
   "cell_type": "code",
   "execution_count": 16,
   "metadata": {},
   "outputs": [
    {
     "name": "stdout",
     "output_type": "stream",
     "text": [
      "d_ndarray_shape: (2, 3)\n",
      "e_ndarray_shape: (2, 3)\n"
     ]
    }
   ],
   "source": [
    "d_ndarray = np.array([[-1, 2, 3], [4, -5, 6]])\n",
    "e_ndarray = np.array([[-9, 8, 7], [6, -5, 4]])\n",
    "print('d_ndarray_shape:',d_ndarray.shape)\n",
    "print('e_ndarray_shape:',e_ndarray.shape)"
   ]
  },
  {
   "cell_type": "code",
   "execution_count": 29,
   "metadata": {},
   "outputs": [],
   "source": [
    "def matrix_dot_error(A,B):\n",
    "    \"\"\"\n",
    "    行列積を行う関数\n",
    "    \n",
    "    Parameters\n",
    "        ----------\n",
    "    A : ndarray\n",
    "    B : ndarray\n",
    "    \n",
    "    Returns\n",
    "    -------\n",
    "    C : ndarray \n",
    "    \"\"\"\n",
    "    A_shape = A.shape[1]\n",
    "    B_shape = B.shape[0]\n",
    "    if A_shape != B_shape:\n",
    "        print ('左の行列の列数と右の行列の行数が等しくない')\n",
    "    else:\n",
    "        C = np.zeros((A.shape[0],B.shape[1]),dtype=A.dtype)\n",
    "        for i in range(A.shape[0]):\n",
    "            for j in range(B.shape[1]):\n",
    "                for k in range(A.shape[1]):\n",
    "                    C[i, j] += A[i, k] * B[k, j]\n",
    "        return C"
   ]
  },
  {
   "cell_type": "code",
   "execution_count": 30,
   "metadata": {},
   "outputs": [
    {
     "name": "stdout",
     "output_type": "stream",
     "text": [
      "左の行列の列数と右の行列の行数が等しくない\n"
     ]
    }
   ],
   "source": [
    "matrix_dot_error(d_ndarray,e_ndarray)"
   ]
  },
  {
   "cell_type": "markdown",
   "metadata": {},
   "source": [
    "# 【問題６】転置"
   ]
  },
  {
   "cell_type": "code",
   "execution_count": 34,
   "metadata": {},
   "outputs": [
    {
     "data": {
      "text/plain": [
       "array([[ 46,  -4],\n",
       "       [-34,  73]])"
      ]
     },
     "execution_count": 34,
     "metadata": {},
     "output_type": "execute_result"
    }
   ],
   "source": [
    "# .T\n",
    "matrix_dot_error(d_ndarray,e_ndarray.T)"
   ]
  },
  {
   "cell_type": "code",
   "execution_count": 35,
   "metadata": {},
   "outputs": [
    {
     "data": {
      "text/plain": [
       "array([[ 46,  -4],\n",
       "       [-34,  73]])"
      ]
     },
     "execution_count": 35,
     "metadata": {},
     "output_type": "execute_result"
    }
   ],
   "source": [
    "# np.transpose\n",
    "matrix_dot_error(d_ndarray,np.transpose(e_ndarray))"
   ]
  }
 ],
 "metadata": {
  "kernelspec": {
   "display_name": "Python 3",
   "language": "python",
   "name": "python3"
  },
  "language_info": {
   "codemirror_mode": {
    "name": "ipython",
    "version": 3
   },
   "file_extension": ".py",
   "mimetype": "text/x-python",
   "name": "python",
   "nbconvert_exporter": "python",
   "pygments_lexer": "ipython3",
   "version": "3.7.1"
  }
 },
 "nbformat": 4,
 "nbformat_minor": 2
}
