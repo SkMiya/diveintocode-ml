{
 "cells": [
  {
   "cell_type": "markdown",
   "metadata": {},
   "source": [
    "# week2授業前課題１ 小麦とチェス盤問題"
   ]
  },
  {
   "cell_type": "code",
   "execution_count": 1,
   "metadata": {},
   "outputs": [],
   "source": [
    "# 今回使うライブラリ\n",
    "import numpy as np\n",
    "import  matplotlib.pyplot as plt\n",
    "%matplotlib inline\n",
    "#日本語で書けるようになる魔法\n",
    "import japanize_matplotlib"
   ]
  },
  {
   "cell_type": "markdown",
   "metadata": {},
   "source": [
    "# 【問題１】２×２マスのチェス盤の小麦の数\n",
    "* 2×2マスのチェス盤をndarrayによって表現し、各マスの小麦の数を計算する．\n",
    "* サンプルコードで作成したndarrayのshapeの変形を行う"
   ]
  },
  {
   "cell_type": "code",
   "execution_count": 2,
   "metadata": {},
   "outputs": [
    {
     "name": "stdout",
     "output_type": "stream",
     "text": [
      "各マスの小麦の数は\n",
      "[[1 2]\n",
      " [4 8]]です．\n"
     ]
    }
   ],
   "source": [
    "# マス目の数\n",
    "n_squares = 4\n",
    "# 小麦の数を入れるリスト（１マス目は１）\n",
    "small_bord_list = [1]\n",
    "\n",
    "# 計算してリストに追加\n",
    "for _ in range(n_squares - 1):\n",
    "    small_bord_list.append(2*small_bord_list[-1])\n",
    "\n",
    "# ２×２の行列にする\n",
    "small_bord_ndarray = np.array(small_bord_list).reshape(2,2)\n",
    "\n",
    "print('各マスの小麦の数は\\n{}です．'.format(small_bord_ndarray))"
   ]
  },
  {
   "cell_type": "markdown",
   "metadata": {},
   "source": [
    "# 【問題２】ｎ×ｍへの拡張\n",
    "* n×mのチェス盤の小麦の数を記したndarrayを返す関数の作成\n",
    "* その関数を使用して８×８のチェス盤の小麦の数を求める"
   ]
  },
  {
   "cell_type": "code",
   "execution_count": 41,
   "metadata": {},
   "outputs": [],
   "source": [
    "def chess(n,m):\n",
    "    \"\"\"\n",
    "    n×mのチェス盤の小麦の数を記したndarrayを返す関数\n",
    "\n",
    "    Parameters\n",
    "    ----------\n",
    "    n,m : チェス盤のマス目\n",
    "    \n",
    "    Return\n",
    "    small_bord_ndarray ：各マス目の小麦の数\n",
    "    \"\"\"\n",
    "    # マス目の数\n",
    "    n_squares = n*m\n",
    "    \n",
    "    # 小麦の数を入れるリスト（１マス目は１）\n",
    "    small_bord_list = [1]\n",
    "\n",
    "    # 計算してリストに追加\n",
    "    for _ in range(n_squares - 1):\n",
    "        small_bord_list.append(2*small_bord_list[-1])\n",
    "        \n",
    "    # n×mの行列にする\n",
    "    small_bord_ndarray = np.array(small_bord_list).reshape(n,m)\n",
    "    return small_bord_ndarray"
   ]
  },
  {
   "cell_type": "code",
   "execution_count": 42,
   "metadata": {},
   "outputs": [
    {
     "data": {
      "text/plain": [
       "array([[1.00000000e+00, 2.00000000e+00, 4.00000000e+00, 8.00000000e+00,\n",
       "        1.60000000e+01, 3.20000000e+01, 6.40000000e+01, 1.28000000e+02],\n",
       "       [2.56000000e+02, 5.12000000e+02, 1.02400000e+03, 2.04800000e+03,\n",
       "        4.09600000e+03, 8.19200000e+03, 1.63840000e+04, 3.27680000e+04],\n",
       "       [6.55360000e+04, 1.31072000e+05, 2.62144000e+05, 5.24288000e+05,\n",
       "        1.04857600e+06, 2.09715200e+06, 4.19430400e+06, 8.38860800e+06],\n",
       "       [1.67772160e+07, 3.35544320e+07, 6.71088640e+07, 1.34217728e+08,\n",
       "        2.68435456e+08, 5.36870912e+08, 1.07374182e+09, 2.14748365e+09],\n",
       "       [4.29496730e+09, 8.58993459e+09, 1.71798692e+10, 3.43597384e+10,\n",
       "        6.87194767e+10, 1.37438953e+11, 2.74877907e+11, 5.49755814e+11],\n",
       "       [1.09951163e+12, 2.19902326e+12, 4.39804651e+12, 8.79609302e+12,\n",
       "        1.75921860e+13, 3.51843721e+13, 7.03687442e+13, 1.40737488e+14],\n",
       "       [2.81474977e+14, 5.62949953e+14, 1.12589991e+15, 2.25179981e+15,\n",
       "        4.50359963e+15, 9.00719925e+15, 1.80143985e+16, 3.60287970e+16],\n",
       "       [7.20575940e+16, 1.44115188e+17, 2.88230376e+17, 5.76460752e+17,\n",
       "        1.15292150e+18, 2.30584301e+18, 4.61168602e+18, 9.22337204e+18]])"
      ]
     },
     "execution_count": 42,
     "metadata": {},
     "output_type": "execute_result"
    }
   ],
   "source": [
    "# 関数の呼び出し（８×８）\n",
    "chess(8,8)"
   ]
  },
  {
   "cell_type": "markdown",
   "metadata": {},
   "source": [
    "# 【問題３】小麦の数の合計\n",
    "### １．8×8のチェス盤の小麦の数の合計と各列の平均"
   ]
  },
  {
   "cell_type": "code",
   "execution_count": 29,
   "metadata": {},
   "outputs": [
    {
     "name": "stdout",
     "output_type": "stream",
     "text": [
      "各列の平均：\n",
      " [9.04252160e+15 1.80850432e+16 3.61700864e+16 7.23401728e+16\n",
      " 1.44680346e+17 2.89360691e+17 5.78721383e+17 1.15744277e+18]\n"
     ]
    }
   ],
   "source": [
    "# 問２の関数を呼び出す\n",
    "bord_ndarray = chess(8,8)\n",
    "# 各列の平均を求める\n",
    "bord_mean = np.array([bord_ndarray[:,i].mean() for i in range(8)])\n",
    "print('各列の平均：\\n',bord_mean)"
   ]
  },
  {
   "cell_type": "markdown",
   "metadata": {},
   "source": [
    "### ２．棒グラフ"
   ]
  },
  {
   "cell_type": "code",
   "execution_count": 30,
   "metadata": {},
   "outputs": [
    {
     "data": {
      "text/plain": [
       "Text(0.5, 1.0, '各列の平均小麦数')"
      ]
     },
     "execution_count": 30,
     "metadata": {},
     "output_type": "execute_result"
    },
    {
     "data": {
      "image/png": "[encoded data removed]",
      "text/plain": [
       "<Figure size 432x288 with 1 Axes>"
      ]
     },
     "metadata": {
      "needs_background": "light"
     },
     "output_type": "display_data"
    }
   ],
   "source": [
    "plt.bar(np.arange(1,9),bord_mean)\n",
    "plt.xlabel('列')\n",
    "plt.ylabel('小麦の平均')\n",
    "plt.title('各列の平均小麦数')"
   ]
  },
  {
   "cell_type": "markdown",
   "metadata": {},
   "source": [
    "# 【問題４】小麦数のヒートマップ"
   ]
  },
  {
   "cell_type": "code",
   "execution_count": 31,
   "metadata": {},
   "outputs": [
    {
     "data": {
      "text/plain": [
       "Text(0.5, 1.0, 'heatmap')"
      ]
     },
     "execution_count": 31,
     "metadata": {},
     "output_type": "execute_result"
    },
    {
     "data": {
      "image/png": "[encoded data removed]",
      "text/plain": [
       "<Figure size 432x288 with 1 Axes>"
      ]
     },
     "metadata": {
      "needs_background": "light"
     },
     "output_type": "display_data"
    }
   ],
   "source": [
    "plt.pcolor(bord_ndarray)\n",
    "plt.xlabel(\"column\")\n",
    "plt.ylabel(\"row\")\n",
    "plt.title(\"heatmap\")"
   ]
  },
  {
   "cell_type": "markdown",
   "metadata": {},
   "source": [
    "# 【問題５】後半は前半の何倍か\n",
    "* チェス盤の後半にある小麦の数は前半にある小麦の数の何倍か\n",
    "* 前半とは０～３行目，後半は４～７行目"
   ]
  },
  {
   "cell_type": "code",
   "execution_count": 33,
   "metadata": {},
   "outputs": [
    {
     "name": "stdout",
     "output_type": "stream",
     "text": [
      "後半は前半の 4294967296.0 倍です\n"
     ]
    }
   ],
   "source": [
    "bord_ndarray=chess(8,8)\n",
    "first_bord = bord_ndarray[0:3,:].sum()\n",
    "later_bord = bord_ndarray[4:7,:].sum()\n",
    "nanbai = later_bord/first_bord\n",
    "print('後半は前半の',nanbai,'倍です')"
   ]
  },
  {
   "cell_type": "markdown",
   "metadata": {},
   "source": [
    "# 他の計算方法"
   ]
  },
  {
   "cell_type": "markdown",
   "metadata": {},
   "source": [
    "## np.append(追加される配列，追加する要素又は配列)"
   ]
  },
  {
   "cell_type": "code",
   "execution_count": 9,
   "metadata": {},
   "outputs": [
    {
     "data": {
      "text/plain": [
       "array([1, 2, 4, 8])"
      ]
     },
     "execution_count": 9,
     "metadata": {},
     "output_type": "execute_result"
    }
   ],
   "source": [
    "# マス目の数\n",
    "n_squares = 4\n",
    "# 最初の麦の数が入ったndarray\n",
    "small_bord_ndarray = np.array([1])\n",
    "\n",
    "# small_bord_ndarrayの最後の値に２をかけたものを追加していく\n",
    "for _ in range(n_squares - 1):\n",
    "    small_bord_ndarray = np.append(small_bord_ndarray,2*small_bord_ndarray[-1])\n",
    "small_bord_ndarray"
   ]
  },
  {
   "cell_type": "code",
   "execution_count": 10,
   "metadata": {},
   "outputs": [
    {
     "name": "stderr",
     "output_type": "stream",
     "text": [
      "C:\\Users\\miyas\\Anaconda3\\lib\\site-packages\\ipykernel_launcher.py:4: RuntimeWarning: overflow encountered in long_scalars\n",
      "  after removing the cwd from sys.path.\n"
     ]
    },
    {
     "data": {
      "text/plain": [
       "array([          1,           2,           4,           8,          16,\n",
       "                32,          64,         128,         256,         512,\n",
       "              1024,        2048,        4096,        8192,       16384,\n",
       "             32768,       65536,      131072,      262144,      524288,\n",
       "           1048576,     2097152,     4194304,     8388608,    16777216,\n",
       "          33554432,    67108864,   134217728,   268435456,   536870912,\n",
       "        1073741824, -2147483648,           0,           0,           0,\n",
       "                 0,           0,           0,           0,           0,\n",
       "                 0,           0,           0,           0,           0,\n",
       "                 0,           0,           0,           0,           0,\n",
       "                 0,           0,           0,           0,           0,\n",
       "                 0,           0,           0,           0,           0,\n",
       "                 0,           0,           0,           0])"
      ]
     },
     "execution_count": 10,
     "metadata": {},
     "output_type": "execute_result"
    }
   ],
   "source": [
    "n_squares = 64\n",
    "small_bord_ndarray = np.array([1])\n",
    "for _ in range(n_squares - 1):\n",
    "    small_bord_ndarray = np.append(small_bord_ndarray,2*small_bord_ndarray[-1])\n",
    "small_bord_ndarray"
   ]
  },
  {
   "cell_type": "markdown",
   "metadata": {},
   "source": [
    "## ブロードキャスト\n",
    "メモ：ｎの０乗は１"
   ]
  },
  {
   "cell_type": "code",
   "execution_count": 11,
   "metadata": {},
   "outputs": [
    {
     "data": {
      "text/plain": [
       "array([1, 2, 4, 8], dtype=int32)"
      ]
     },
     "execution_count": 11,
     "metadata": {},
     "output_type": "execute_result"
    }
   ],
   "source": [
    "n_squares = 4\n",
    "indices_of_squares = np.arange(n_squares)\n",
    "small_bord_ndarray = 2**indices_of_squares\n",
    "small_bord_ndarray"
   ]
  },
  {
   "cell_type": "markdown",
   "metadata": {},
   "source": [
    "### int32の範囲内の整数値しか扱えなので，以下のようになる"
   ]
  },
  {
   "cell_type": "code",
   "execution_count": 12,
   "metadata": {},
   "outputs": [
    {
     "data": {
      "text/plain": [
       "array([          1,           2,           4,           8,          16,\n",
       "                32,          64,         128,         256,         512,\n",
       "              1024,        2048,        4096,        8192,       16384,\n",
       "             32768,       65536,      131072,      262144,      524288,\n",
       "           1048576,     2097152,     4194304,     8388608,    16777216,\n",
       "          33554432,    67108864,   134217728,   268435456,   536870912,\n",
       "        1073741824, -2147483648,           0,           0,           0,\n",
       "                 0,           0,           0,           0,           0,\n",
       "                 0,           0,           0,           0,           0,\n",
       "                 0,           0,           0,           0,           0,\n",
       "                 0,           0,           0,           0,           0,\n",
       "                 0,           0,           0,           0,           0,\n",
       "                 0,           0,           0,           0], dtype=int32)"
      ]
     },
     "execution_count": 12,
     "metadata": {},
     "output_type": "execute_result"
    }
   ],
   "source": [
    "n_squares = 64\n",
    "indices_of_squares = np.arange(n_squares)\n",
    "small_bord_ndarray = 2**indices_of_squares\n",
    "small_bord_ndarray"
   ]
  },
  {
   "cell_type": "markdown",
   "metadata": {},
   "source": [
    "### astypeメソッドで型を変換する"
   ]
  },
  {
   "cell_type": "code",
   "execution_count": 13,
   "metadata": {},
   "outputs": [
    {
     "data": {
      "text/plain": [
       "array([                  1,                   2,                   4,\n",
       "                         8,                  16,                  32,\n",
       "                        64,                 128,                 256,\n",
       "                       512,                1024,                2048,\n",
       "                      4096,                8192,               16384,\n",
       "                     32768,               65536,              131072,\n",
       "                    262144,              524288,             1048576,\n",
       "                   2097152,             4194304,             8388608,\n",
       "                  16777216,            33554432,            67108864,\n",
       "                 134217728,           268435456,           536870912,\n",
       "                1073741824,          2147483648,          4294967296,\n",
       "                8589934592,         17179869184,         34359738368,\n",
       "               68719476736,        137438953472,        274877906944,\n",
       "              549755813888,       1099511627776,       2199023255552,\n",
       "             4398046511104,       8796093022208,      17592186044416,\n",
       "            35184372088832,      70368744177664,     140737488355328,\n",
       "           281474976710656,     562949953421312,    1125899906842624,\n",
       "          2251799813685248,    4503599627370496,    9007199254740992,\n",
       "         18014398509481984,   36028797018963968,   72057594037927936,\n",
       "        144115188075855872,  288230376151711744,  576460752303423488,\n",
       "       1152921504606846976, 2305843009213693952, 4611686018427387904,\n",
       "       9223372036854775808], dtype=uint64)"
      ]
     },
     "execution_count": 13,
     "metadata": {},
     "output_type": "execute_result"
    }
   ],
   "source": [
    "n_squares = 64\n",
    "indices_of_squares = np.arange(n_squares).astype(np.uint64)\n",
    "bord_ndarray = 2**indices_of_squares\n",
    "bord_ndarray"
   ]
  },
  {
   "cell_type": "markdown",
   "metadata": {},
   "source": [
    "# 【問題６】他の計算方法によるｎ×ｍマスへの拡張\n",
    "* np.append()，ブロードキャストの２パターンで\n",
    "* ８×８マスのチェス盤の小麦の数を求める\n",
    "### １．np.append"
   ]
  },
  {
   "cell_type": "code",
   "execution_count": 48,
   "metadata": {},
   "outputs": [],
   "source": [
    "def chess_a(n,m):\n",
    "    \"\"\"\n",
    "    np.appendで\n",
    "    n×mのチェス盤の小麦の数を記したndarrayを返す関数\n",
    "\n",
    "    Parameters\n",
    "    ----------\n",
    "    n,m : チェス盤のマス目\n",
    "    \n",
    "    Return\n",
    "    ----------\n",
    "    append_bord_ndarray ：各マス目の小麦の数\n",
    "    \"\"\"\n",
    "    n_squares = n*m\n",
    "    append_bord_ndarray = np.array([1])\n",
    "    for _ in range(n_squares - 1):\n",
    "        append_bord_ndarray = np.append(append_bord_ndarray,2*append_bord_ndarray[-1]).astype(np.uint64)\n",
    "    return append_bord_ndarray"
   ]
  },
  {
   "cell_type": "code",
   "execution_count": 49,
   "metadata": {},
   "outputs": [
    {
     "data": {
      "text/plain": [
       "array([                  1,                   2,                   4,\n",
       "                         8,                  16,                  32,\n",
       "                        64,                 128,                 256,\n",
       "                       512,                1024,                2048,\n",
       "                      4096,                8192,               16384,\n",
       "                     32768,               65536,              131072,\n",
       "                    262144,              524288,             1048576,\n",
       "                   2097152,             4194304,             8388608,\n",
       "                  16777216,            33554432,            67108864,\n",
       "                 134217728,           268435456,           536870912,\n",
       "                1073741824,          2147483648,          4294967296,\n",
       "                8589934592,         17179869184,         34359738368,\n",
       "               68719476736,        137438953472,        274877906944,\n",
       "              549755813888,       1099511627776,       2199023255552,\n",
       "             4398046511104,       8796093022208,      17592186044416,\n",
       "            35184372088832,      70368744177664,     140737488355328,\n",
       "           281474976710656,     562949953421312,    1125899906842624,\n",
       "          2251799813685248,    4503599627370496,    9007199254740992,\n",
       "         18014398509481984,   36028797018963968,   72057594037927936,\n",
       "        144115188075855872,  288230376151711744,  576460752303423488,\n",
       "       1152921504606846976, 2305843009213693952, 4611686018427387904,\n",
       "       9223372036854775808], dtype=uint64)"
      ]
     },
     "execution_count": 49,
     "metadata": {},
     "output_type": "execute_result"
    }
   ],
   "source": [
    "chess_a(8,8)"
   ]
  },
  {
   "cell_type": "markdown",
   "metadata": {},
   "source": [
    "### ２．ブロードキャスト"
   ]
  },
  {
   "cell_type": "code",
   "execution_count": 55,
   "metadata": {},
   "outputs": [],
   "source": [
    "# ブロードキャスト\n",
    "def chess_b(n,m):\n",
    "    \"\"\"\n",
    "    ブロードキャストで\n",
    "    n×mのチェス盤の小麦の数を記したndarrayを返す関数\n",
    "\n",
    "    Parameters\n",
    "    ----------\n",
    "    n,m : チェス盤のマス目\n",
    "    \n",
    "    Return\n",
    "    ----------\n",
    "    bord_ndarray ：各マス目の小麦の数\n",
    "    \"\"\"\n",
    "    n_squares = n*m\n",
    "    indices_of_squares = np.arange(n_squares).astype(np.uint64)\n",
    "    bord_ndarray = 2**indices_of_squares\n",
    "    return bord_ndarray"
   ]
  },
  {
   "cell_type": "code",
   "execution_count": 56,
   "metadata": {},
   "outputs": [
    {
     "data": {
      "text/plain": [
       "array([                  1,                   2,                   4,\n",
       "                         8,                  16,                  32,\n",
       "                        64,                 128,                 256,\n",
       "                       512,                1024,                2048,\n",
       "                      4096,                8192,               16384,\n",
       "                     32768,               65536,              131072,\n",
       "                    262144,              524288,             1048576,\n",
       "                   2097152,             4194304,             8388608,\n",
       "                  16777216,            33554432,            67108864,\n",
       "                 134217728,           268435456,           536870912,\n",
       "                1073741824,          2147483648,          4294967296,\n",
       "                8589934592,         17179869184,         34359738368,\n",
       "               68719476736,        137438953472,        274877906944,\n",
       "              549755813888,       1099511627776,       2199023255552,\n",
       "             4398046511104,       8796093022208,      17592186044416,\n",
       "            35184372088832,      70368744177664,     140737488355328,\n",
       "           281474976710656,     562949953421312,    1125899906842624,\n",
       "          2251799813685248,    4503599627370496,    9007199254740992,\n",
       "         18014398509481984,   36028797018963968,   72057594037927936,\n",
       "        144115188075855872,  288230376151711744,  576460752303423488,\n",
       "       1152921504606846976, 2305843009213693952, 4611686018427387904,\n",
       "       9223372036854775808], dtype=uint64)"
      ]
     },
     "execution_count": 56,
     "metadata": {},
     "output_type": "execute_result"
    }
   ],
   "source": [
    "chess_b(8,8)"
   ]
  },
  {
   "cell_type": "markdown",
   "metadata": {},
   "source": [
    "# 【問題７】計算時間の比較\n",
    "%%timeit・・・セル全体の処理時間を計測"
   ]
  },
  {
   "cell_type": "code",
   "execution_count": 57,
   "metadata": {},
   "outputs": [],
   "source": [
    "def chess_f(n,m):\n",
    "    \"\"\"\n",
    "    for文で\n",
    "    n×mのチェス盤の小麦の数を記したndarrayを返す関数\n",
    "\n",
    "    Parameters\n",
    "    ----------\n",
    "    n,m : チェス盤のマス目\n",
    "    \n",
    "    Return\n",
    "    ----------\n",
    "    small_bord_ndarray ：各マス目の小麦の数\n",
    "    \"\"\"\n",
    "    n_squares = n*m\n",
    "    small_bord_list = [1]\n",
    "    for _ in range(n_squares - 1):\n",
    "        small_bord_list.append(2*small_bord_list[-1])\n",
    "    small_bord_ndarray = np.array(small_bord_list).reshape(n,m)\n",
    "    \n",
    "    return small_bord_ndarray"
   ]
  },
  {
   "cell_type": "markdown",
   "metadata": {},
   "source": [
    "### １．for文の計算時間"
   ]
  },
  {
   "cell_type": "code",
   "execution_count": 58,
   "metadata": {},
   "outputs": [
    {
     "name": "stdout",
     "output_type": "stream",
     "text": [
      "14.7 µs ± 2.25 µs per loop (mean ± std. dev. of 7 runs, 100000 loops each)\n"
     ]
    }
   ],
   "source": [
    "%%timeit\n",
    "chess_f(8,8)"
   ]
  },
  {
   "cell_type": "markdown",
   "metadata": {},
   "source": [
    "### ２．np.appendの計算時間"
   ]
  },
  {
   "cell_type": "code",
   "execution_count": 59,
   "metadata": {},
   "outputs": [
    {
     "name": "stdout",
     "output_type": "stream",
     "text": [
      "389 µs ± 46.7 µs per loop (mean ± std. dev. of 7 runs, 1000 loops each)\n"
     ]
    }
   ],
   "source": [
    "%%timeit\n",
    "chess_a(8,8)"
   ]
  },
  {
   "cell_type": "markdown",
   "metadata": {},
   "source": [
    "### ３．ブロードキャストの計算時間"
   ]
  },
  {
   "cell_type": "code",
   "execution_count": 60,
   "metadata": {},
   "outputs": [
    {
     "name": "stdout",
     "output_type": "stream",
     "text": [
      "2.46 µs ± 35 ns per loop (mean ± std. dev. of 7 runs, 100000 loops each)\n"
     ]
    }
   ],
   "source": [
    "%%timeit\n",
    "chess_b(8,8)"
   ]
  },
  {
   "cell_type": "markdown",
   "metadata": {},
   "source": [
    "### 考察：ブロードキャストが早い．思ったよりnp.appendが遅い"
   ]
  }
 ],
 "metadata": {
  "kernelspec": {
   "display_name": "Python 3",
   "language": "python",
   "name": "python3"
  },
  "language_info": {
   "codemirror_mode": {
    "name": "ipython",
    "version": 3
   },
   "file_extension": ".py",
   "mimetype": "text/x-python",
   "name": "python",
   "nbconvert_exporter": "python",
   "pygments_lexer": "ipython3",
   "version": "3.7.1"
  }
 },
 "nbformat": 4,
 "nbformat_minor": 2
}
