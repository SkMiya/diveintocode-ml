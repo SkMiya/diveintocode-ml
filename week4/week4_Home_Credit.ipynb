{
 "cells": [
  {
   "cell_type": "markdown",
   "metadata": {},
   "source": [
    "# week4 授業課題 信用情報の学習\n",
    "# 【問題1】コンペティション内容の確認\n",
    "* 顧客の返済能力の予測\n",
    "* 予測するのは，お金を貸した顧客がちゃんと返すか，返さないのか\n",
    "* 返す顧客の方が圧倒的に多い夫君項データなので，評価はAUCで行う．"
   ]
  },
  {
   "cell_type": "markdown",
   "metadata": {},
   "source": [
    "# ベースラインモデルの作成\n",
    "まずは単純な方法による ベースラインモデル　を作成します。精度の基準となるモデルです。                 \n",
    "精度を高くする必要はありません。エラーなく実行でき、Kaggle側に推定値を提出できることを目指します。                     \n",
    "# 【問題2】学習と検証\n",
    "データを簡単に分析、前処理し、学習、検証するまでの一連の流れを作成・実行してください。                          \n",
    "検証にはこのコンペティションで使用される評価指標を用いるようにしてください。学習に用いる手法は指定しません。\n",
    "# 【問題3】テストデータに対する推定  \n",
    "テストデータ（application_test.csv）に対して推定を行い、Kaggleに提出を行ってください。                     \n",
    "正しく提出が行えていれば、精度は低くても構いません。"
   ]
  },
  {
   "cell_type": "code",
   "execution_count": 3,
   "metadata": {},
   "outputs": [],
   "source": [
    "import pandas as pd\n",
    "import numpy as np\n",
    "import matplotlib.pyplot as plt\n",
    "import sklearn\n",
    "import seaborn as sns"
   ]
  },
  {
   "cell_type": "code",
   "execution_count": 4,
   "metadata": {},
   "outputs": [],
   "source": [
    "#データを用意\n",
    "train_data = pd.read_csv('C:/Users/miyas/kaggle/application_train.csv')\n",
    "test_data = pd.read_csv('C:/Users/miyas/kaggle/application_test.csv')"
   ]
  },
  {
   "cell_type": "code",
   "execution_count": 6,
   "metadata": {},
   "outputs": [
    {
     "name": "stdout",
     "output_type": "stream",
     "text": [
      "train欠損値：\n",
      " SK_ID_CURR                        0\n",
      "TARGET                            0\n",
      "NAME_CONTRACT_TYPE                0\n",
      "CODE_GENDER                       0\n",
      "FLAG_OWN_CAR                      0\n",
      "                              ...  \n",
      "AMT_REQ_CREDIT_BUREAU_DAY     41519\n",
      "AMT_REQ_CREDIT_BUREAU_WEEK    41519\n",
      "AMT_REQ_CREDIT_BUREAU_MON     41519\n",
      "AMT_REQ_CREDIT_BUREAU_QRT     41519\n",
      "AMT_REQ_CREDIT_BUREAU_YEAR    41519\n",
      "Length: 122, dtype: int64\n",
      "test欠損値：\n",
      " SK_ID_CURR                       0\n",
      "NAME_CONTRACT_TYPE               0\n",
      "CODE_GENDER                      0\n",
      "FLAG_OWN_CAR                     0\n",
      "FLAG_OWN_REALTY                  0\n",
      "                              ... \n",
      "AMT_REQ_CREDIT_BUREAU_DAY     6049\n",
      "AMT_REQ_CREDIT_BUREAU_WEEK    6049\n",
      "AMT_REQ_CREDIT_BUREAU_MON     6049\n",
      "AMT_REQ_CREDIT_BUREAU_QRT     6049\n",
      "AMT_REQ_CREDIT_BUREAU_YEAR    6049\n",
      "Length: 121, dtype: int64\n"
     ]
    }
   ],
   "source": [
    "# 欠損値の確認\n",
    "print('train欠損値：\\n',train_data.isnull().sum())\n",
    "print('test欠損値：\\n',test_data.isnull().sum())"
   ]
  },
  {
   "cell_type": "code",
   "execution_count": 13,
   "metadata": {},
   "outputs": [
    {
     "name": "stdout",
     "output_type": "stream",
     "text": [
      "<class 'pandas.core.frame.DataFrame'>\n",
      "Int64Index: 356255 entries, 0 to 48743\n",
      "Columns: 122 entries, SK_ID_CURR to train_test\n",
      "dtypes: float64(65), int64(41), object(16)\n",
      "memory usage: 334.3+ MB\n"
     ]
    }
   ],
   "source": [
    "# データを特徴用と目的変数に分ける\n",
    "X = train_data.drop('TARGET',axis=1)\n",
    "y = train_data.TARGET\n",
    "\n",
    "#trainデータとtestデータの前処理を同じにするため，一度データを結合する\n",
    "X['train_test'] = 0\n",
    "test_data['train_test'] = 1\n",
    "A = pd.concat([X,test_data])\n",
    "A = pd.DataFrame(A)\n",
    "A.info()"
   ]
  },
  {
   "cell_type": "code",
   "execution_count": 14,
   "metadata": {},
   "outputs": [],
   "source": [
    "#今回は時間の関係上，欠損値のある特徴量は削除する\n",
    "A2 = A.dropna(axis=1,how='any')\n",
    "A3 = A2.dropna(how='any')\n",
    "X = A3[A3['train_test'] == 0]\n",
    "test = A3[A3['train_test'] == 1]\n",
    "X = X.drop('train_test',axis=1)\n",
    "test = test.drop('train_test',axis=1)"
   ]
  },
  {
   "cell_type": "code",
   "execution_count": 15,
   "metadata": {},
   "outputs": [
    {
     "name": "stdout",
     "output_type": "stream",
     "text": [
      "X: (307511, 54)\n",
      "test: (48744, 54)\n"
     ]
    }
   ],
   "source": [
    "#shapeを確認する\n",
    "print('X:',X.shape)\n",
    "print('test:',test.shape)"
   ]
  },
  {
   "cell_type": "code",
   "execution_count": 16,
   "metadata": {},
   "outputs": [
    {
     "data": {
      "text/plain": [
       "NAME_CONTRACT_TYPE             2\n",
       "CODE_GENDER                    3\n",
       "FLAG_OWN_CAR                   2\n",
       "FLAG_OWN_REALTY                2\n",
       "NAME_INCOME_TYPE               8\n",
       "NAME_EDUCATION_TYPE            5\n",
       "NAME_FAMILY_STATUS             6\n",
       "NAME_HOUSING_TYPE              6\n",
       "WEEKDAY_APPR_PROCESS_START     7\n",
       "ORGANIZATION_TYPE             58\n",
       "dtype: int64"
      ]
     },
     "execution_count": 16,
     "metadata": {},
     "output_type": "execute_result"
    }
   ],
   "source": [
    "#object型の変数の数を数える\n",
    "X.select_dtypes('object').apply(pd.Series.nunique, axis = 0)"
   ]
  },
  {
   "cell_type": "code",
   "execution_count": 17,
   "metadata": {},
   "outputs": [
    {
     "name": "stdout",
     "output_type": "stream",
     "text": [
      "3 columns were label encoded.\n",
      "Training Features shape:  (307511, 54)\n",
      "Testing Features shape:  (48744, 54)\n"
     ]
    }
   ],
   "source": [
    "from sklearn.preprocessing import LabelEncoder\n",
    "#ラベルエンコーダーをインスタンス化\n",
    "le = LabelEncoder()\n",
    "le_count = 0\n",
    "\n",
    "# object型の変数でユニーク値が２以下のものはラベルエンコーダーする\n",
    "for col in X:\n",
    "    if X[col].dtype == 'object':\n",
    "        # If 2 or fewer unique categories\n",
    "        if len(list(X[col].unique())) <= 2:\n",
    "            le.fit(X[col])\n",
    "            # トレーニングデータとテストデータの両方を変換する\n",
    "            X[col] = le.transform(X[col])\n",
    "            test[col] = le.transform(test[col])\n",
    "            \n",
    "            le_count += 1\n",
    "            \n",
    "print('%d columns were label encoded.' % le_count)\n",
    "\n",
    "\n",
    "print('Training Features shape: ', X.shape)\n",
    "print('Testing Features shape: ', test.shape)"
   ]
  },
  {
   "cell_type": "code",
   "execution_count": 18,
   "metadata": {},
   "outputs": [
    {
     "name": "stdout",
     "output_type": "stream",
     "text": [
      "Training Features shape:  (307511, 140)\n",
      "Testing Features shape:  (48744, 137)\n"
     ]
    }
   ],
   "source": [
    "# ユニーク値が３以上のものはone-hot encoding\n",
    "X = pd.get_dummies(X)\n",
    "test = pd.get_dummies(test)\n",
    "\n",
    "print('Training Features shape: ', X.shape)\n",
    "print('Testing Features shape: ', test.shape)"
   ]
  },
  {
   "cell_type": "code",
   "execution_count": 19,
   "metadata": {},
   "outputs": [
    {
     "name": "stdout",
     "output_type": "stream",
     "text": [
      "Training Features shape:  (307511, 137)\n",
      "Testing Features shape:  (48744, 137)\n"
     ]
    }
   ],
   "source": [
    "# トレーニングデータとテストデータを調整し、両方のデータフレームに列のみを保持する\n",
    "X, test = X.align(test, join = 'inner', axis = 1)\n",
    "\n",
    "print('Training Features shape: ', X.shape)\n",
    "print('Testing Features shape: ', test.shape)"
   ]
  },
  {
   "cell_type": "code",
   "execution_count": 20,
   "metadata": {},
   "outputs": [
    {
     "data": {
      "text/plain": [
       "Series([], dtype: float64)"
      ]
     },
     "execution_count": 20,
     "metadata": {},
     "output_type": "execute_result"
    }
   ],
   "source": [
    "X.select_dtypes('object').apply(pd.Series.nunique, axis = 0)"
   ]
  },
  {
   "cell_type": "code",
   "execution_count": 21,
   "metadata": {},
   "outputs": [
    {
     "name": "stderr",
     "output_type": "stream",
     "text": [
      "C:\\Users\\miyas\\Anaconda3\\lib\\site-packages\\sklearn\\linear_model\\logistic.py:432: FutureWarning: Default solver will be changed to 'lbfgs' in 0.22. Specify a solver to silence this warning.\n",
      "  FutureWarning)\n"
     ]
    }
   ],
   "source": [
    "#ロジスティック回帰モデル\n",
    "from sklearn.linear_model import LogisticRegression\n",
    "#訓練データとテストデータに分ける\n",
    "from sklearn.model_selection import train_test_split\n",
    "X_train,X_test,y_train,y_test = train_test_split(X,y,test_size=0.3,random_state=0)\n",
    "\n",
    "# インスタンス化\n",
    "lr = LogisticRegression()\n",
    "# 学習\n",
    "lr.fit(X_train,y_train)\n",
    "\n",
    "# 推定\n",
    "y_pred = lr.predict(X_test)"
   ]
  },
  {
   "cell_type": "code",
   "execution_count": 23,
   "metadata": {},
   "outputs": [
    {
     "name": "stdout",
     "output_type": "stream",
     "text": [
      "accuracy_score: 0.9204370542198712\n",
      "precision_score: 0.0\n",
      "recall_score: 0.0\n",
      "F値: 0.0\n"
     ]
    }
   ],
   "source": [
    "#評価\n",
    "from sklearn.metrics import confusion_matrix, accuracy_score, precision_score, recall_score, f1_score\n",
    "print('accuracy_score:',accuracy_score(y_test,y_pred))\n",
    "print('precision_score:',precision_score(y_true=y_test, y_pred=y_pred))\n",
    "print('recall_score:',recall_score(y_true=y_test, y_pred=y_pred))\n",
    "print('F値:',f1_score(y_true=y_test, y_pred=y_pred))"
   ]
  },
  {
   "cell_type": "code",
   "execution_count": 25,
   "metadata": {},
   "outputs": [
    {
     "data": {
      "text/plain": [
       "array([0, 0, 0, ..., 0, 0, 0], dtype=int64)"
      ]
     },
     "execution_count": 25,
     "metadata": {},
     "output_type": "execute_result"
    }
   ],
   "source": [
    "#推定値の中身\n",
    "y_pred"
   ]
  },
  {
   "cell_type": "code",
   "execution_count": 26,
   "metadata": {},
   "outputs": [
    {
     "data": {
      "image/png": "[encoded data removed]",
      "text/plain": [
       "<Figure size 1080x288 with 1 Axes>"
      ]
     },
     "metadata": {
      "needs_background": "light"
     },
     "output_type": "display_data"
    }
   ],
   "source": [
    "# AUCとROCを求める\n",
    "from sklearn.metrics import roc_curve, auc\n",
    "\n",
    "# テストデータが「１」に属する確率\n",
    "Y_score = lr.predict_proba(X_test)[:, 1]\n",
    "# ROCを求める\n",
    "fpr, tpr, thresholds = roc_curve(y_true=y_test, y_score=Y_score)\n",
    "\n",
    "#グラフサイズ\n",
    "plt.figure(figsize=(15,4))\n",
    "\n",
    "# ROC曲線を描く（X軸がFPR、Y軸がTPR　※auc(fpr, tpr)でauc値を求めている\n",
    "plt.plot(fpr, tpr, label='roc curve (area = %0.3f)' % auc(fpr, tpr))\n",
    "#あてずっぽうの線\n",
    "plt.plot([0, 1], [0, 1], linestyle='--', label='random')\n",
    "#AUCが１の場合の線\n",
    "plt.plot([0, 0, 1], [0, 1, 1], linestyle='--', label='ideal')\n",
    "\n",
    "# 凡例\n",
    "plt.legend()\n",
    "# 軸の名前\n",
    "plt.xlabel('false positive rate')\n",
    "plt.ylabel('true positive rate')\n",
    "plt.show()"
   ]
  },
  {
   "cell_type": "code",
   "execution_count": 28,
   "metadata": {},
   "outputs": [
    {
     "name": "stdout",
     "output_type": "stream",
     "text": [
      "AUCロジスティック 0.5897319207848634\n"
     ]
    }
   ],
   "source": [
    "print('AUCロジスティック',auc(fpr, tpr))"
   ]
  },
  {
   "cell_type": "markdown",
   "metadata": {},
   "source": [
    "# 4.特徴量エンジニアリング\n",
    "ベースラインモデルを元に、入力する特徴量に様々な工夫を行い精度を向上させていきます。                  \n",
    "# 【問題4】特徴量エンジニアリング\n",
    "精度を上げるために以下のような観点で 特徴量エンジニアリング（Feature Engineering） を行ってください。                        \n",
    "* どの特徴量を使うか\n",
    "* どう前処理をするか\n",
    "何をした時に検証データに対する評価指標がどのようになったかをまとめてください。最低5パターンの学習・検証を行ってください。            \n",
    "精度が高かったものに関してはテストデータに対しても推定を行い、Kaggleに提出を行ってください。\n",
    "\n",
    "## 試したこと\n",
    "* ユニーク値が２以下の変数はラベルエンコーダーで０，１の値にし，ユニーク値がそれ以上のものはOneHotEncodingした．                 \n",
    "理由：ユニーク値が多いものをラベルエンコーダーしてしまうと数字の大小に意味を持ってしまうから\n",
    "* データの標準化"
   ]
  },
  {
   "cell_type": "code",
   "execution_count": 29,
   "metadata": {},
   "outputs": [],
   "source": [
    "# 標準化\n",
    "from sklearn.preprocessing import StandardScaler\n",
    "\n",
    "# 標準化処理\n",
    "sc = StandardScaler()\n",
    "# 訓練データの平均と標準偏差を計算\n",
    "sc.fit(X_train)     ### Point!!! 訓練データの平均と標準偏差を使って標準化すること ###\n",
    "X_train_std = sc.transform(X_train) #訓練でデータの説明変数を上で求めた平均と標準偏差を使って標準化している\n",
    "X_test_std = sc.transform(X_test)   #テストデータの説明変数を標準化"
   ]
  },
  {
   "cell_type": "code",
   "execution_count": 30,
   "metadata": {},
   "outputs": [
    {
     "name": "stderr",
     "output_type": "stream",
     "text": [
      "C:\\Users\\miyas\\Anaconda3\\lib\\site-packages\\sklearn\\linear_model\\logistic.py:432: FutureWarning: Default solver will be changed to 'lbfgs' in 0.22. Specify a solver to silence this warning.\n",
      "  FutureWarning)\n"
     ]
    }
   ],
   "source": [
    "# 学習\n",
    "lr.fit(X_train_std,y_train)\n",
    "\n",
    "# 推定\n",
    "y_pred = lr.predict(X_test_std)"
   ]
  },
  {
   "cell_type": "code",
   "execution_count": 31,
   "metadata": {},
   "outputs": [
    {
     "name": "stdout",
     "output_type": "stream",
     "text": [
      "accuracy_score: 0.9204370542198712\n",
      "precision_score: 0.0\n",
      "recall_score: 0.0\n",
      "F値: 0.0\n"
     ]
    },
    {
     "name": "stderr",
     "output_type": "stream",
     "text": [
      "C:\\Users\\miyas\\Anaconda3\\lib\\site-packages\\sklearn\\metrics\\classification.py:1437: UndefinedMetricWarning: Precision is ill-defined and being set to 0.0 due to no predicted samples.\n",
      "  'precision', 'predicted', average, warn_for)\n",
      "C:\\Users\\miyas\\Anaconda3\\lib\\site-packages\\sklearn\\metrics\\classification.py:1437: UndefinedMetricWarning: F-score is ill-defined and being set to 0.0 due to no predicted samples.\n",
      "  'precision', 'predicted', average, warn_for)\n"
     ]
    }
   ],
   "source": [
    "print('accuracy_score:',accuracy_score(y_test,y_pred))\n",
    "print('precision_score:',precision_score(y_true=y_test, y_pred=y_pred))\n",
    "print('recall_score:',recall_score(y_true=y_test, y_pred=y_pred))\n",
    "print('F値:',f1_score(y_true=y_test, y_pred=y_pred))"
   ]
  },
  {
   "cell_type": "code",
   "execution_count": 32,
   "metadata": {},
   "outputs": [
    {
     "data": {
      "image/png": "[encoded data removed]",
      "text/plain": [
       "<Figure size 1080x288 with 1 Axes>"
      ]
     },
     "metadata": {
      "needs_background": "light"
     },
     "output_type": "display_data"
    }
   ],
   "source": [
    "# テストデータが「１」に属する確率\n",
    "Y_score = lr.predict_proba(X_test_std)[:, 1]\n",
    "# ROCを求める\n",
    "fpr, tpr, thresholds = roc_curve(y_true=y_test, y_score=Y_score)\n",
    "\n",
    "#グラフサイズ\n",
    "plt.figure(figsize=(15,4))\n",
    "\n",
    "# ROC曲線を描く（X軸がFPR、Y軸がTPR　※auc(fpr, tpr)でauc値を求めている\n",
    "plt.plot(fpr, tpr, label='roc curve (area = %0.3f)' % auc(fpr, tpr))\n",
    "#あてずっぽうの線\n",
    "plt.plot([0, 1], [0, 1], linestyle='--', label='random')\n",
    "#AUCが１の場合の線\n",
    "plt.plot([0, 0, 1], [0, 1, 1], linestyle='--', label='ideal')\n",
    "\n",
    "# 凡例\n",
    "plt.legend()\n",
    "# 軸の名前\n",
    "plt.xlabel('false positive rate')\n",
    "plt.ylabel('true positive rate')\n",
    "plt.show()"
   ]
  },
  {
   "cell_type": "code",
   "execution_count": 33,
   "metadata": {},
   "outputs": [
    {
     "name": "stdout",
     "output_type": "stream",
     "text": [
      "0.6656498057114237\n"
     ]
    }
   ],
   "source": [
    "print(auc(fpr, tpr))"
   ]
  },
  {
   "cell_type": "markdown",
   "metadata": {},
   "source": [
    "## モデルを決定木にしてみる"
   ]
  },
  {
   "cell_type": "code",
   "execution_count": 34,
   "metadata": {},
   "outputs": [],
   "source": [
    "from sklearn.tree import DecisionTreeClassifier\n",
    "\n",
    "# 決定木クラスの初期化\n",
    "dc = DecisionTreeClassifier(criterion='entropy',max_depth=5,random_state=0)\n",
    "# 学習\n",
    "dc.fit(X_train_std,y_train)\n",
    "\n",
    "# 推定\n",
    "y_pred = dc.predict(X_test_std)"
   ]
  },
  {
   "cell_type": "code",
   "execution_count": 35,
   "metadata": {},
   "outputs": [
    {
     "name": "stdout",
     "output_type": "stream",
     "text": [
      "accuracy_score: 0.9204370542198712\n",
      "precision_score: 0.0\n",
      "recall_score: 0.0\n",
      "F値: 0.0\n"
     ]
    },
    {
     "name": "stderr",
     "output_type": "stream",
     "text": [
      "C:\\Users\\miyas\\Anaconda3\\lib\\site-packages\\sklearn\\metrics\\classification.py:1437: UndefinedMetricWarning: Precision is ill-defined and being set to 0.0 due to no predicted samples.\n",
      "  'precision', 'predicted', average, warn_for)\n",
      "C:\\Users\\miyas\\Anaconda3\\lib\\site-packages\\sklearn\\metrics\\classification.py:1437: UndefinedMetricWarning: F-score is ill-defined and being set to 0.0 due to no predicted samples.\n",
      "  'precision', 'predicted', average, warn_for)\n"
     ]
    }
   ],
   "source": [
    "print('accuracy_score:',accuracy_score(y_test,y_pred))\n",
    "print('precision_score:',precision_score(y_true=y_test, y_pred=y_pred))\n",
    "print('recall_score:',recall_score(y_true=y_test, y_pred=y_pred))\n",
    "print('F値:',f1_score(y_true=y_test, y_pred=y_pred))"
   ]
  },
  {
   "cell_type": "code",
   "execution_count": 36,
   "metadata": {},
   "outputs": [
    {
     "data": {
      "image/png": "[encoded data removed]",
      "text/plain": [
       "<Figure size 1080x288 with 1 Axes>"
      ]
     },
     "metadata": {
      "needs_background": "light"
     },
     "output_type": "display_data"
    }
   ],
   "source": [
    "# テストデータが「１」に属する確率\n",
    "Y_score = dc.predict_proba(X_test_std)[:, 1]\n",
    "# ROCを求める\n",
    "fpr, tpr, thresholds = roc_curve(y_true=y_test, y_score=Y_score)\n",
    "\n",
    "#グラフサイズ\n",
    "plt.figure(figsize=(15,4))\n",
    "\n",
    "# ROC曲線を描く（X軸がFPR、Y軸がTPR　※auc(fpr, tpr)でauc値を求めている\n",
    "plt.plot(fpr, tpr, label='roc curve (area = %0.3f)' % auc(fpr, tpr))\n",
    "#あてずっぽうの線\n",
    "plt.plot([0, 1], [0, 1], linestyle='--', label='random')\n",
    "#AUCが１の場合の線\n",
    "plt.plot([0, 0, 1], [0, 1, 1], linestyle='--', label='ideal')\n",
    "\n",
    "# 凡例\n",
    "plt.legend()\n",
    "# 軸の名前\n",
    "plt.xlabel('false positive rate')\n",
    "plt.ylabel('true positive rate')\n",
    "plt.show()"
   ]
  },
  {
   "cell_type": "code",
   "execution_count": 37,
   "metadata": {},
   "outputs": [
    {
     "name": "stdout",
     "output_type": "stream",
     "text": [
      "決定木： 0.6343865140938557\n"
     ]
    }
   ],
   "source": [
    "print('決定木：',auc(fpr, tpr))"
   ]
  },
  {
   "cell_type": "markdown",
   "metadata": {},
   "source": [
    "欠損値のパターンを見る（ランダムなら無視するとか）"
   ]
  },
  {
   "cell_type": "markdown",
   "metadata": {},
   "source": [
    "メモ               \n",
    "* 1.連続値かカテゴリか                            　　　　　　　　　　\n",
    "* 　→カテゴリはエンコーディング                                   　　　　　　　　　　　　\n",
    "* 　→連続値は離散化する　ex)ビン分割する→新しい特徴量                            　　　　　　　　　　　　　　　　\n",
    "* ２．ほかの特徴量との相関&ターゲットとの相関→重要度                         　　\n",
    "* ３．正規分布かどうか→ロジスティックは正規分布\n",
    "* 　→正規分布じゃなければ対数変換\n",
    "* ４．標準化と正規化\n",
    "* 　標準化＝平均０分散１\n",
    "* 　正規化＝０～１などの範囲に収める"
   ]
  }
 ],
 "metadata": {
  "kernelspec": {
   "display_name": "Python 3",
   "language": "python",
   "name": "python3"
  },
  "language_info": {
   "codemirror_mode": {
    "name": "ipython",
    "version": 3
   },
   "file_extension": ".py",
   "mimetype": "text/x-python",
   "name": "python",
   "nbconvert_exporter": "python",
   "pygments_lexer": "ipython3",
   "version": "3.7.4"
  }
 },
 "nbformat": 4,
 "nbformat_minor": 2
}
